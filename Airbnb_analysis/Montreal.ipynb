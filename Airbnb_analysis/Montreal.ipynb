{
 "cells": [
  {
   "cell_type": "markdown",
   "id": "b9ebb0dc",
   "metadata": {},
   "source": [
    "# Montreal, Canada"
   ]
  },
  {
   "cell_type": "markdown",
   "id": "8514b1cc",
   "metadata": {},
   "source": [
    "<br> Importing necessary libraries"
   ]
  },
  {
   "cell_type": "code",
   "execution_count": 1,
   "id": "6cd3b747",
   "metadata": {},
   "outputs": [],
   "source": [
    "import numpy as np\n",
    "import pandas as pd\n",
    "import matplotlib.pyplot as plt\n",
    "import seaborn as sns\n",
    "%matplotlib inline"
   ]
  },
  {
   "cell_type": "markdown",
   "id": "b6d0ecdb",
   "metadata": {},
   "source": [
    "## The Data\n",
    "<br> Working with listing.csv file\n",
    "<br> The file has 74 columns\n",
    "<br> Here I start working on specific columns listed below and define them in: col_list_listings\n",
    "<br> In other words, I discard empty columns, url, names, etc."
   ]
  },
  {
   "cell_type": "code",
   "execution_count": 2,
   "id": "5a93fdcb",
   "metadata": {},
   "outputs": [],
   "source": [
    "col_list_listings = ['id', 'neighbourhood_cleansed', 'property_type', 'room_type', 'accommodates', 'bathrooms_text'\n",
    "                     , 'bedrooms', 'beds', 'price', 'minimum_nights', 'maximum_nights', 'has_availability'\n",
    "                     , 'availability_30', 'availability_60', 'availability_90', 'availability_365', 'number_of_reviews'\n",
    "                     , 'number_of_reviews_ltm', 'number_of_reviews_l30d', 'review_scores_rating', 'review_scores_accuracy'\n",
    "                     , 'review_scores_cleanliness', 'review_scores_checkin', 'review_scores_communication'\n",
    "                     , 'review_scores_location', 'review_scores_value', 'instant_bookable', 'reviews_per_month']"
   ]
  },
  {
   "cell_type": "markdown",
   "id": "e61310ae",
   "metadata": {},
   "source": [
    "## Load Data"
   ]
  },
  {
   "cell_type": "code",
   "execution_count": 3,
   "id": "cbfb6abf",
   "metadata": {},
   "outputs": [],
   "source": [
    "city='Montreal'\n",
    "data_fldr='../Airbnb_data/'\n",
    "\n",
    "df=pd.read_csv(data_fldr + city +'/listings.csv', usecols=col_list_listings)"
   ]
  },
  {
   "cell_type": "code",
   "execution_count": 4,
   "id": "7950b4e1",
   "metadata": {},
   "outputs": [],
   "source": [
    "df.set_index('id');"
   ]
  },
  {
   "cell_type": "code",
   "execution_count": 5,
   "id": "cb743db8",
   "metadata": {
    "scrolled": false
   },
   "outputs": [
    {
     "name": "stdout",
     "output_type": "stream",
     "text": [
      "(12570, 28)\n"
     ]
    }
   ],
   "source": [
    "print(df.shape)"
   ]
  },
  {
   "cell_type": "code",
   "execution_count": 6,
   "id": "1c22a3db",
   "metadata": {},
   "outputs": [
    {
     "data": {
      "text/html": [
       "<div>\n",
       "<style scoped>\n",
       "    .dataframe tbody tr th:only-of-type {\n",
       "        vertical-align: middle;\n",
       "    }\n",
       "\n",
       "    .dataframe tbody tr th {\n",
       "        vertical-align: top;\n",
       "    }\n",
       "\n",
       "    .dataframe thead th {\n",
       "        text-align: right;\n",
       "    }\n",
       "</style>\n",
       "<table border=\"1\" class=\"dataframe\">\n",
       "  <thead>\n",
       "    <tr style=\"text-align: right;\">\n",
       "      <th></th>\n",
       "      <th>count</th>\n",
       "      <th>mean</th>\n",
       "      <th>std</th>\n",
       "      <th>min</th>\n",
       "      <th>25%</th>\n",
       "      <th>50%</th>\n",
       "      <th>75%</th>\n",
       "      <th>max</th>\n",
       "    </tr>\n",
       "  </thead>\n",
       "  <tbody>\n",
       "    <tr>\n",
       "      <th>id</th>\n",
       "      <td>12570.0</td>\n",
       "      <td>3.140353e+07</td>\n",
       "      <td>1.528913e+07</td>\n",
       "      <td>29059.00</td>\n",
       "      <td>19407019.00</td>\n",
       "      <td>31983052.00</td>\n",
       "      <td>45400657.00</td>\n",
       "      <td>53769997.00</td>\n",
       "    </tr>\n",
       "    <tr>\n",
       "      <th>accommodates</th>\n",
       "      <td>12570.0</td>\n",
       "      <td>3.347892e+00</td>\n",
       "      <td>2.228381e+00</td>\n",
       "      <td>0.00</td>\n",
       "      <td>2.00</td>\n",
       "      <td>2.00</td>\n",
       "      <td>4.00</td>\n",
       "      <td>16.00</td>\n",
       "    </tr>\n",
       "    <tr>\n",
       "      <th>bedrooms</th>\n",
       "      <td>11227.0</td>\n",
       "      <td>1.543689e+00</td>\n",
       "      <td>9.386736e-01</td>\n",
       "      <td>1.00</td>\n",
       "      <td>1.00</td>\n",
       "      <td>1.00</td>\n",
       "      <td>2.00</td>\n",
       "      <td>23.00</td>\n",
       "    </tr>\n",
       "    <tr>\n",
       "      <th>beds</th>\n",
       "      <td>11994.0</td>\n",
       "      <td>1.828831e+00</td>\n",
       "      <td>1.468806e+00</td>\n",
       "      <td>1.00</td>\n",
       "      <td>1.00</td>\n",
       "      <td>1.00</td>\n",
       "      <td>2.00</td>\n",
       "      <td>50.00</td>\n",
       "    </tr>\n",
       "    <tr>\n",
       "      <th>minimum_nights</th>\n",
       "      <td>12570.0</td>\n",
       "      <td>1.596110e+01</td>\n",
       "      <td>1.125509e+02</td>\n",
       "      <td>1.00</td>\n",
       "      <td>1.00</td>\n",
       "      <td>2.00</td>\n",
       "      <td>15.00</td>\n",
       "      <td>11684.00</td>\n",
       "    </tr>\n",
       "    <tr>\n",
       "      <th>maximum_nights</th>\n",
       "      <td>12570.0</td>\n",
       "      <td>6.880597e+02</td>\n",
       "      <td>1.047920e+03</td>\n",
       "      <td>1.00</td>\n",
       "      <td>90.00</td>\n",
       "      <td>1125.00</td>\n",
       "      <td>1125.00</td>\n",
       "      <td>99999.00</td>\n",
       "    </tr>\n",
       "    <tr>\n",
       "      <th>availability_30</th>\n",
       "      <td>12570.0</td>\n",
       "      <td>7.580191e+00</td>\n",
       "      <td>1.018638e+01</td>\n",
       "      <td>0.00</td>\n",
       "      <td>0.00</td>\n",
       "      <td>0.00</td>\n",
       "      <td>14.00</td>\n",
       "      <td>30.00</td>\n",
       "    </tr>\n",
       "    <tr>\n",
       "      <th>availability_60</th>\n",
       "      <td>12570.0</td>\n",
       "      <td>1.945625e+01</td>\n",
       "      <td>2.251146e+01</td>\n",
       "      <td>0.00</td>\n",
       "      <td>0.00</td>\n",
       "      <td>5.00</td>\n",
       "      <td>41.00</td>\n",
       "      <td>60.00</td>\n",
       "    </tr>\n",
       "    <tr>\n",
       "      <th>availability_90</th>\n",
       "      <td>12570.0</td>\n",
       "      <td>3.225601e+01</td>\n",
       "      <td>3.539829e+01</td>\n",
       "      <td>0.00</td>\n",
       "      <td>0.00</td>\n",
       "      <td>11.00</td>\n",
       "      <td>69.00</td>\n",
       "      <td>90.00</td>\n",
       "    </tr>\n",
       "    <tr>\n",
       "      <th>availability_365</th>\n",
       "      <td>12570.0</td>\n",
       "      <td>1.174673e+02</td>\n",
       "      <td>1.331925e+02</td>\n",
       "      <td>0.00</td>\n",
       "      <td>0.00</td>\n",
       "      <td>66.00</td>\n",
       "      <td>224.00</td>\n",
       "      <td>365.00</td>\n",
       "    </tr>\n",
       "    <tr>\n",
       "      <th>number_of_reviews</th>\n",
       "      <td>12570.0</td>\n",
       "      <td>2.144535e+01</td>\n",
       "      <td>4.630014e+01</td>\n",
       "      <td>0.00</td>\n",
       "      <td>1.00</td>\n",
       "      <td>5.00</td>\n",
       "      <td>20.00</td>\n",
       "      <td>638.00</td>\n",
       "    </tr>\n",
       "    <tr>\n",
       "      <th>number_of_reviews_ltm</th>\n",
       "      <td>12570.0</td>\n",
       "      <td>4.756325e+00</td>\n",
       "      <td>1.128127e+01</td>\n",
       "      <td>0.00</td>\n",
       "      <td>0.00</td>\n",
       "      <td>0.00</td>\n",
       "      <td>3.00</td>\n",
       "      <td>141.00</td>\n",
       "    </tr>\n",
       "    <tr>\n",
       "      <th>number_of_reviews_l30d</th>\n",
       "      <td>12570.0</td>\n",
       "      <td>5.258552e-01</td>\n",
       "      <td>1.394045e+00</td>\n",
       "      <td>0.00</td>\n",
       "      <td>0.00</td>\n",
       "      <td>0.00</td>\n",
       "      <td>0.00</td>\n",
       "      <td>23.00</td>\n",
       "    </tr>\n",
       "    <tr>\n",
       "      <th>review_scores_rating</th>\n",
       "      <td>9713.0</td>\n",
       "      <td>4.544285e+00</td>\n",
       "      <td>8.865466e-01</td>\n",
       "      <td>0.00</td>\n",
       "      <td>4.50</td>\n",
       "      <td>4.80</td>\n",
       "      <td>5.00</td>\n",
       "      <td>5.00</td>\n",
       "    </tr>\n",
       "    <tr>\n",
       "      <th>review_scores_accuracy</th>\n",
       "      <td>9468.0</td>\n",
       "      <td>4.734203e+00</td>\n",
       "      <td>4.961515e-01</td>\n",
       "      <td>0.00</td>\n",
       "      <td>4.69</td>\n",
       "      <td>4.89</td>\n",
       "      <td>5.00</td>\n",
       "      <td>5.00</td>\n",
       "    </tr>\n",
       "    <tr>\n",
       "      <th>review_scores_cleanliness</th>\n",
       "      <td>9470.0</td>\n",
       "      <td>4.609145e+00</td>\n",
       "      <td>5.816996e-01</td>\n",
       "      <td>0.00</td>\n",
       "      <td>4.50</td>\n",
       "      <td>4.80</td>\n",
       "      <td>5.00</td>\n",
       "      <td>5.00</td>\n",
       "    </tr>\n",
       "    <tr>\n",
       "      <th>review_scores_checkin</th>\n",
       "      <td>9465.0</td>\n",
       "      <td>4.807158e+00</td>\n",
       "      <td>4.458170e-01</td>\n",
       "      <td>0.00</td>\n",
       "      <td>4.80</td>\n",
       "      <td>4.95</td>\n",
       "      <td>5.00</td>\n",
       "      <td>5.00</td>\n",
       "    </tr>\n",
       "    <tr>\n",
       "      <th>review_scores_communication</th>\n",
       "      <td>9469.0</td>\n",
       "      <td>4.797165e+00</td>\n",
       "      <td>4.560579e-01</td>\n",
       "      <td>0.00</td>\n",
       "      <td>4.79</td>\n",
       "      <td>4.95</td>\n",
       "      <td>5.00</td>\n",
       "      <td>5.00</td>\n",
       "    </tr>\n",
       "    <tr>\n",
       "      <th>review_scores_location</th>\n",
       "      <td>9463.0</td>\n",
       "      <td>4.779813e+00</td>\n",
       "      <td>3.949277e-01</td>\n",
       "      <td>0.00</td>\n",
       "      <td>4.71</td>\n",
       "      <td>4.90</td>\n",
       "      <td>5.00</td>\n",
       "      <td>5.00</td>\n",
       "    </tr>\n",
       "    <tr>\n",
       "      <th>review_scores_value</th>\n",
       "      <td>9463.0</td>\n",
       "      <td>4.648119e+00</td>\n",
       "      <td>5.182180e-01</td>\n",
       "      <td>0.00</td>\n",
       "      <td>4.55</td>\n",
       "      <td>4.79</td>\n",
       "      <td>5.00</td>\n",
       "      <td>5.00</td>\n",
       "    </tr>\n",
       "    <tr>\n",
       "      <th>reviews_per_month</th>\n",
       "      <td>9713.0</td>\n",
       "      <td>1.034541e+00</td>\n",
       "      <td>1.480322e+00</td>\n",
       "      <td>0.01</td>\n",
       "      <td>0.11</td>\n",
       "      <td>0.40</td>\n",
       "      <td>1.35</td>\n",
       "      <td>12.83</td>\n",
       "    </tr>\n",
       "  </tbody>\n",
       "</table>\n",
       "</div>"
      ],
      "text/plain": [
       "                               count          mean           std       min  \\\n",
       "id                           12570.0  3.140353e+07  1.528913e+07  29059.00   \n",
       "accommodates                 12570.0  3.347892e+00  2.228381e+00      0.00   \n",
       "bedrooms                     11227.0  1.543689e+00  9.386736e-01      1.00   \n",
       "beds                         11994.0  1.828831e+00  1.468806e+00      1.00   \n",
       "minimum_nights               12570.0  1.596110e+01  1.125509e+02      1.00   \n",
       "maximum_nights               12570.0  6.880597e+02  1.047920e+03      1.00   \n",
       "availability_30              12570.0  7.580191e+00  1.018638e+01      0.00   \n",
       "availability_60              12570.0  1.945625e+01  2.251146e+01      0.00   \n",
       "availability_90              12570.0  3.225601e+01  3.539829e+01      0.00   \n",
       "availability_365             12570.0  1.174673e+02  1.331925e+02      0.00   \n",
       "number_of_reviews            12570.0  2.144535e+01  4.630014e+01      0.00   \n",
       "number_of_reviews_ltm        12570.0  4.756325e+00  1.128127e+01      0.00   \n",
       "number_of_reviews_l30d       12570.0  5.258552e-01  1.394045e+00      0.00   \n",
       "review_scores_rating          9713.0  4.544285e+00  8.865466e-01      0.00   \n",
       "review_scores_accuracy        9468.0  4.734203e+00  4.961515e-01      0.00   \n",
       "review_scores_cleanliness     9470.0  4.609145e+00  5.816996e-01      0.00   \n",
       "review_scores_checkin         9465.0  4.807158e+00  4.458170e-01      0.00   \n",
       "review_scores_communication   9469.0  4.797165e+00  4.560579e-01      0.00   \n",
       "review_scores_location        9463.0  4.779813e+00  3.949277e-01      0.00   \n",
       "review_scores_value           9463.0  4.648119e+00  5.182180e-01      0.00   \n",
       "reviews_per_month             9713.0  1.034541e+00  1.480322e+00      0.01   \n",
       "\n",
       "                                     25%          50%          75%  \\\n",
       "id                           19407019.00  31983052.00  45400657.00   \n",
       "accommodates                        2.00         2.00         4.00   \n",
       "bedrooms                            1.00         1.00         2.00   \n",
       "beds                                1.00         1.00         2.00   \n",
       "minimum_nights                      1.00         2.00        15.00   \n",
       "maximum_nights                     90.00      1125.00      1125.00   \n",
       "availability_30                     0.00         0.00        14.00   \n",
       "availability_60                     0.00         5.00        41.00   \n",
       "availability_90                     0.00        11.00        69.00   \n",
       "availability_365                    0.00        66.00       224.00   \n",
       "number_of_reviews                   1.00         5.00        20.00   \n",
       "number_of_reviews_ltm               0.00         0.00         3.00   \n",
       "number_of_reviews_l30d              0.00         0.00         0.00   \n",
       "review_scores_rating                4.50         4.80         5.00   \n",
       "review_scores_accuracy              4.69         4.89         5.00   \n",
       "review_scores_cleanliness           4.50         4.80         5.00   \n",
       "review_scores_checkin               4.80         4.95         5.00   \n",
       "review_scores_communication         4.79         4.95         5.00   \n",
       "review_scores_location              4.71         4.90         5.00   \n",
       "review_scores_value                 4.55         4.79         5.00   \n",
       "reviews_per_month                   0.11         0.40         1.35   \n",
       "\n",
       "                                     max  \n",
       "id                           53769997.00  \n",
       "accommodates                       16.00  \n",
       "bedrooms                           23.00  \n",
       "beds                               50.00  \n",
       "minimum_nights                  11684.00  \n",
       "maximum_nights                  99999.00  \n",
       "availability_30                    30.00  \n",
       "availability_60                    60.00  \n",
       "availability_90                    90.00  \n",
       "availability_365                  365.00  \n",
       "number_of_reviews                 638.00  \n",
       "number_of_reviews_ltm             141.00  \n",
       "number_of_reviews_l30d             23.00  \n",
       "review_scores_rating                5.00  \n",
       "review_scores_accuracy              5.00  \n",
       "review_scores_cleanliness           5.00  \n",
       "review_scores_checkin               5.00  \n",
       "review_scores_communication         5.00  \n",
       "review_scores_location              5.00  \n",
       "review_scores_value                 5.00  \n",
       "reviews_per_month                  12.83  "
      ]
     },
     "execution_count": 6,
     "metadata": {},
     "output_type": "execute_result"
    }
   ],
   "source": [
    "df.describe().T"
   ]
  },
  {
   "cell_type": "markdown",
   "id": "5a2c7ff3",
   "metadata": {},
   "source": [
    "## Exploratory Data Analysis\n",
    "<br> Analysing Important Columns\n",
    "<br> Making necessary changes or modifications in important columns"
   ]
  },
  {
   "cell_type": "markdown",
   "id": "89bd9413",
   "metadata": {},
   "source": [
    "### Price\n",
    "Column name = price"
   ]
  },
  {
   "cell_type": "code",
   "execution_count": 7,
   "id": "b89269a5",
   "metadata": {
    "scrolled": true
   },
   "outputs": [
    {
     "name": "stdout",
     "output_type": "stream",
     "text": [
      "object\n",
      "0    $152.00\n",
      "1    $242.00\n",
      "2     $50.00\n",
      "3    $160.00\n",
      "4    $130.00\n",
      "5     $50.00\n",
      "6     $63.00\n",
      "7     $85.00\n",
      "8    $110.00\n",
      "9    $150.00\n",
      "Name: price, dtype: object\n"
     ]
    }
   ],
   "source": [
    "print(df['price'].dtypes)\n",
    "print(df['price'][0:10])"
   ]
  },
  {
   "cell_type": "code",
   "execution_count": 8,
   "id": "9664b062",
   "metadata": {
    "scrolled": true
   },
   "outputs": [
    {
     "name": "stderr",
     "output_type": "stream",
     "text": [
      "C:\\Users\\siava\\AppData\\Local\\Temp/ipykernel_13232/14964403.py:3: FutureWarning: The default value of regex will change from True to False in a future version.\n",
      "  df.price = df.price.str.replace('\\$|,', '').astype('float64')\n"
     ]
    }
   ],
   "source": [
    "# removing '$' and '.' from df.price and converting it to numeric values\n",
    "# however, there should be a smarter approach for converting this column to numeric values\n",
    "df.price = df.price.str.replace('\\$|,', '').astype('float64')"
   ]
  },
  {
   "cell_type": "code",
   "execution_count": 9,
   "id": "30567d1a",
   "metadata": {
    "scrolled": true
   },
   "outputs": [
    {
     "data": {
      "text/plain": [
       "count    12570.000000\n",
       "mean       125.713922\n",
       "std        284.779526\n",
       "min          0.000000\n",
       "25%         51.000000\n",
       "50%         83.000000\n",
       "75%        128.000000\n",
       "max      13294.000000\n",
       "Name: price, dtype: float64"
      ]
     },
     "execution_count": 9,
     "metadata": {},
     "output_type": "execute_result"
    }
   ],
   "source": [
    "df.price.describe()"
   ]
  },
  {
   "cell_type": "code",
   "execution_count": 10,
   "id": "ce9fc397",
   "metadata": {},
   "outputs": [],
   "source": [
    "df.drop(df[df.price<=0].index,inplace=True)"
   ]
  },
  {
   "cell_type": "markdown",
   "id": "8e25d60c",
   "metadata": {},
   "source": [
    "#### \n",
    "Very few listings (count=10) have a price greater than $2,000"
   ]
  },
  {
   "cell_type": "code",
   "execution_count": 11,
   "id": "9fea537b",
   "metadata": {
    "scrolled": true
   },
   "outputs": [
    {
     "data": {
      "text/plain": [
       "29"
      ]
     },
     "execution_count": 11,
     "metadata": {},
     "output_type": "execute_result"
    }
   ],
   "source": [
    "df[df.price>2000].price.count()"
   ]
  },
  {
   "cell_type": "markdown",
   "id": "2ab107ae",
   "metadata": {},
   "source": [
    "#### Necessary Transformation for Price Data\n",
    "<br> Data for the price column has a log-normal distribution\n",
    "<br> I will use log10 and transform this column to convert it into a Gaussian distribution for modeling purposes\n",
    "<br> note that I am using log-scale on the x_axis for the histogram (axes[1]) \n",
    "<br> I used it for conveying the message and showing the necessity for a log transformation"
   ]
  },
  {
   "cell_type": "code",
   "execution_count": 12,
   "id": "bbcffd76",
   "metadata": {
    "scrolled": false
   },
   "outputs": [
    {
     "data": {
      "image/png": "[encoded data removed]",
      "text/plain": [
       "<Figure size 1080x360 with 2 Axes>"
      ]
     },
     "metadata": {
      "needs_background": "light"
     },
     "output_type": "display_data"
    }
   ],
   "source": [
    "fig , axes = plt.subplots(1, 2, figsize=(15,5))\n",
    "\n",
    "axes0 = sns.histplot(data=df, x=df['price'], bins=100, ax=axes[0])\n",
    "axes0.set_xlabel('Price')\n",
    "axes0.grid(), axes0.set(xlim=(0, 3500));\n",
    "\n",
    "axes1 = sns.histplot(data=df, x=np.log10(df['price']), bins=50, kde=True, ax=axes[1])\n",
    "axes1.set_xlabel('Price')\n",
    "axes1.set_xticks(range(1,5));\n",
    "axes1.set_xticklabels([10,100,1000,10000]);\n",
    "axes1.grid(), axes1.set(xlim=(1, 4));"
   ]
  },
  {
   "cell_type": "markdown",
   "id": "a1015e6f",
   "metadata": {},
   "source": [
    "### Room Type\n",
    "column name = room_type"
   ]
  },
  {
   "cell_type": "code",
   "execution_count": 13,
   "id": "8506a4f4",
   "metadata": {
    "scrolled": false
   },
   "outputs": [
    {
     "data": {
      "image/png": "[encoded data removed]",
      "text/plain": [
       "<Figure size 1080x360 with 2 Axes>"
      ]
     },
     "metadata": {
      "needs_background": "light"
     },
     "output_type": "display_data"
    }
   ],
   "source": [
    "fig , axes = plt.subplots(1, 2, figsize=(15,5))\n",
    "\n",
    "axes0 = sns.countplot(data=df, x=df.room_type, palette='Set1', ax=axes[0])\n",
    "for p in axes0.patches:\n",
    "    x=p.get_bbox().get_points()[:,0]\n",
    "    y=p.get_bbox().get_points()[1,1]\n",
    "    axes0.annotate('{:.2f}%'.format(100.*y/len(df)), (x.mean(), y), \n",
    "            ha='center', va='bottom')\n",
    "\n",
    "axes1 = sns.histplot(data=df, x=np.log10(df['price']), bins=50, kde=False, hue=df.room_type, multiple='stack'\n",
    "                     , palette='Set1', ax=axes[1])\n",
    "axes1.set_xlabel('Price')\n",
    "axes1.set_xticks(range(1,5));\n",
    "axes1.set_xticklabels([10,100,1000,10000]);\n",
    "axes1.grid()"
   ]
  },
  {
   "cell_type": "markdown",
   "id": "6f447e65",
   "metadata": {},
   "source": [
    "### Accommodates\n",
    "column name = accommodates"
   ]
  },
  {
   "cell_type": "code",
   "execution_count": 14,
   "id": "bcbb3347",
   "metadata": {},
   "outputs": [
    {
     "data": {
      "image/png": "[encoded data removed]",
      "text/plain": [
       "<Figure size 1080x360 with 2 Axes>"
      ]
     },
     "metadata": {
      "needs_background": "light"
     },
     "output_type": "display_data"
    }
   ],
   "source": [
    "fig, axes = plt.subplots(1, 2, figsize=(15, 5))\n",
    "# bar chart\n",
    "axes0 = sns.countplot(data=df, x=df.accommodates, palette='Set1', ax=axes[0])\n",
    "for p in axes0.patches:\n",
    "    x=p.get_bbox().get_points()[:,0]\n",
    "    y=p.get_bbox().get_points()[1,1]\n",
    "    axes0.annotate('{:.2f}%'.format(100.*y/len(df)), (x.mean(), y), \n",
    "            ha='center', va='bottom', rotation=0)\n",
    "# price histogram for different number of 'accommodates'\n",
    "# combining all accommodates=>7 into one category '7+' \n",
    "cutoff = 7\n",
    "axes1 = sns.histplot(data=df, x=np.log10(df['price']), bins=50, kde=False, multiple='stack', palette='Set1'\n",
    "                     , hue=df['accommodates'].where(df['accommodates'] <= 7, 7), ax=axes[1])\n",
    "# Modify legend, to add f'{cutoff}+'\n",
    "legend = axes1.get_legend()\n",
    "handles = legend.legendHandles\n",
    "legend.remove()\n",
    "axes1.set_xlabel('Price')\n",
    "axes1.legend(handles, list(range(1,cutoff,1)) + [f'{cutoff}+'], title='Accommodates')\n",
    "axes1.set_xticks(range(1,5));\n",
    "axes1.set_xticklabels([10,100,1000,10000]);\n",
    "axes1.grid()"
   ]
  },
  {
   "cell_type": "markdown",
   "id": "318d6e5f",
   "metadata": {},
   "source": [
    "<br> <I>accommodates</I> is an important feature in the dataset and later we see it is one the statistically significant features\n",
    "<br> in some data sets the accommodation is zero, and I drop the listings where accommodates==0"
   ]
  },
  {
   "cell_type": "code",
   "execution_count": 15,
   "id": "d6b0565d",
   "metadata": {},
   "outputs": [],
   "source": [
    "df.drop(df[df.accommodates==0].index,inplace=True)"
   ]
  },
  {
   "cell_type": "markdown",
   "id": "b1dc2042",
   "metadata": {},
   "source": [
    "### Beds and Bedrooms\n",
    "<br> Column name = bedrooms\n",
    "<br> Column name = beds"
   ]
  },
  {
   "cell_type": "code",
   "execution_count": 16,
   "id": "fad539df",
   "metadata": {},
   "outputs": [
    {
     "data": {
      "image/png": "[encoded data removed]",
      "text/plain": [
       "<Figure size 1080x360 with 2 Axes>"
      ]
     },
     "metadata": {
      "needs_background": "light"
     },
     "output_type": "display_data"
    }
   ],
   "source": [
    "fig, axes = plt.subplots(1, 2, figsize=(15, 5))\n",
    "\n",
    "axes0 = sns.countplot(data=df, x=df.bedrooms, palette='Set1', ax=axes[0])\n",
    "for p in axes0.patches:\n",
    "    x=p.get_bbox().get_points()[:,0]\n",
    "    y=p.get_bbox().get_points()[1,1]\n",
    "    axes0.annotate('{:.1f}%'.format(100.*y/len(df)), (x.mean(), y), \n",
    "            ha='center', va='bottom', rotation=0)\n",
    "cutoff = 5\n",
    "axes1 = sns.histplot(data=df, x=np.log10(df['price']), bins=50, kde=False, multiple='stack', palette='Set1'\n",
    "                     , hue=df['bedrooms'].where(df['bedrooms'] <= cutoff, cutoff), ax=axes[1])\n",
    "# Modify legend, to add f'{cutoff}+'\n",
    "legend = axes1.get_legend()\n",
    "handles = legend.legendHandles\n",
    "legend.remove()\n",
    "axes1.set_xlabel('Price')\n",
    "axes1.legend(handles, list(range(1,cutoff,1)) + [f'{cutoff}+'], title='Number of Bedrooms')\n",
    "axes1.set_xticks(range(1,5));\n",
    "axes1.set_xticklabels([10,100,1000,10000]);\n",
    "axes1.grid()"
   ]
  },
  {
   "cell_type": "code",
   "execution_count": 17,
   "id": "23c579c4",
   "metadata": {},
   "outputs": [
    {
     "data": {
      "image/png": "[encoded data removed]",
      "text/plain": [
       "<Figure size 1080x360 with 2 Axes>"
      ]
     },
     "metadata": {
      "needs_background": "light"
     },
     "output_type": "display_data"
    }
   ],
   "source": [
    "fig, axes = plt.subplots(1, 2, figsize=(15, 5))\n",
    "\n",
    "axes0 = sns.countplot(data=df, x=df.beds, palette='Set1', ax=axes[0])\n",
    "for p in axes0.patches:\n",
    "    x=p.get_bbox().get_points()[:,0]\n",
    "    y=p.get_bbox().get_points()[1,1]\n",
    "    axes0.annotate('{:.1f}%'.format(100.*y/len(df)), (x.mean(), y), \n",
    "            ha='center', va='bottom', rotation=0)\n",
    "axes0.set_xlabel('Number of Beds')\n",
    "cutoff = 5\n",
    "axes1 = sns.histplot(data=df, x=np.log10(df['price']), bins=50, kde=False, multiple='stack', palette='Set1'\n",
    "                     , hue=df['beds'].where(df['beds'] <= cutoff, cutoff), ax=axes[1])\n",
    "# Modify legend, to add f'{cutoff}+'\n",
    "legend = axes1.get_legend()\n",
    "handles = legend.legendHandles\n",
    "legend.remove()\n",
    "axes1.set_xlabel('Price')\n",
    "axes1.legend(handles, list(range(1,cutoff,1)) + [f'{cutoff}+'], title='Number of Beds')\n",
    "axes1.set_xticks(range(1,5));\n",
    "axes1.set_xticklabels([10,100,1000,10000]);\n",
    "axes1.grid()"
   ]
  },
  {
   "cell_type": "code",
   "execution_count": 18,
   "id": "92d2378a",
   "metadata": {},
   "outputs": [
    {
     "name": "stdout",
     "output_type": "stream",
     "text": [
      "Number of missing values in beds:  572\n",
      "Number of missing values in bedrooms:  1339\n"
     ]
    }
   ],
   "source": [
    "print('Number of missing values in beds: ', df.beds.isna().sum())\n",
    "print('Number of missing values in bedrooms: ', df.bedrooms.isna().sum())"
   ]
  },
  {
   "cell_type": "code",
   "execution_count": 19,
   "id": "74f412e4",
   "metadata": {},
   "outputs": [],
   "source": [
    "# filling missing values in: beds and bedrooms\n",
    "df['beds'].fillna(df.groupby(['accommodates','room_type'])['beds'].transform('mean').transform('round'), inplace=True)\n",
    "df['beds'].fillna((df['accommodates']/2).apply(np.ceil), inplace=True)\n",
    "df['bedrooms'].fillna(df.groupby(['beds','room_type'])['bedrooms'].transform('mean').transform('round'), inplace=True)\n",
    "df['bedrooms'].fillna((df['accommodates']/2).apply(np.ceil), inplace=True)"
   ]
  },
  {
   "cell_type": "markdown",
   "id": "b924365d",
   "metadata": {},
   "source": [
    "### Bathrooms\n",
    "<br> Column name = bathroom_text\n",
    "\n",
    "<br> bathroom_text has lots of unique items\n",
    "<br> will convert it to two columns: 1) if it is shared or private, and 2) the number of bathrooms for the property"
   ]
  },
  {
   "cell_type": "code",
   "execution_count": 20,
   "id": "d0c313b4",
   "metadata": {
    "scrolled": true
   },
   "outputs": [
    {
     "data": {
      "text/plain": [
       "array(['1 bath', '1 shared bath', nan, '2.5 baths', '2 baths',\n",
       "       '1.5 shared baths', '1 private bath', '1.5 baths', '0 baths',\n",
       "       '2 shared baths', '3 baths', '7.5 baths', '2.5 shared baths',\n",
       "       '3 shared baths', '3.5 baths', '6 baths', '5 baths', 'Half-bath',\n",
       "       '11.5 baths', '4 baths', '5.5 baths', '8 shared baths',\n",
       "       '4.5 baths', 'Private half-bath', '8 baths', '0 shared baths',\n",
       "       '5 shared baths', '4 shared baths', '16 baths', '23 shared baths',\n",
       "       '3.5 shared baths', '7 baths'], dtype=object)"
      ]
     },
     "execution_count": 20,
     "metadata": {},
     "output_type": "execute_result"
    }
   ],
   "source": [
    "df.bathrooms_text.unique()"
   ]
  },
  {
   "cell_type": "code",
   "execution_count": 21,
   "id": "843d3385",
   "metadata": {},
   "outputs": [
    {
     "data": {
      "text/plain": [
       "18"
      ]
     },
     "execution_count": 21,
     "metadata": {},
     "output_type": "execute_result"
    }
   ],
   "source": [
    "df.bathrooms_text.isna().sum()"
   ]
  },
  {
   "cell_type": "code",
   "execution_count": 22,
   "id": "22dd0943",
   "metadata": {
    "scrolled": false
   },
   "outputs": [
    {
     "name": "stdout",
     "output_type": "stream",
     "text": [
      "Number of listings with a shared bath:  2335\n"
     ]
    }
   ],
   "source": [
    "print('Number of listings with a shared bath: ', np.nansum(df.bathrooms_text.str.contains('shared')))"
   ]
  },
  {
   "cell_type": "code",
   "execution_count": 23,
   "id": "e6067041",
   "metadata": {},
   "outputs": [],
   "source": [
    "# creating a new column, 1: if bath is shared, 0: not shared or nan\n",
    "df['bath_is_shared'] = pd.get_dummies(df.bathrooms_text.str.contains('shared'), drop_first=True)\n",
    "# I use 0 for nan for simplicity, one could have used df.room_type to improve the estimations\n",
    "df['bath_is_shared'].fillna(0, inplace=True)"
   ]
  },
  {
   "cell_type": "code",
   "execution_count": 24,
   "id": "2d5bce0c",
   "metadata": {},
   "outputs": [
    {
     "data": {
      "text/plain": [
       "2335"
      ]
     },
     "execution_count": 24,
     "metadata": {},
     "output_type": "execute_result"
    }
   ],
   "source": [
    "sum(df['bath_is_shared'])"
   ]
  },
  {
   "cell_type": "code",
   "execution_count": 25,
   "id": "c8f42176",
   "metadata": {
    "scrolled": true
   },
   "outputs": [
    {
     "name": "stderr",
     "output_type": "stream",
     "text": [
      "C:\\Users\\siava\\AppData\\Local\\Temp/ipykernel_13232/110679144.py:5: SettingWithCopyWarning: \n",
      "A value is trying to be set on a copy of a slice from a DataFrame\n",
      "\n",
      "See the caveats in the documentation: https://pandas.pydata.org/pandas-docs/stable/user_guide/indexing.html#returning-a-view-versus-a-copy\n",
      "  df['bathroom_numbers'][df.bathrooms_text.str.contains('half', na=False, regex=False)]=0.5\n"
     ]
    }
   ],
   "source": [
    "# extracting the numerical values from bathrooms_text\n",
    "df['bathroom_numbers'] = df.bathrooms_text.str.extract('([0-9][,.]*[0-9]*)')\n",
    "\n",
    "# extracting 'half' from bathrooms_text and assigning 0.5\n",
    "df['bathroom_numbers'][df.bathrooms_text.str.contains('half', na=False, regex=False)]=0.5\n",
    "\n",
    "df['bathroom_numbers'] = pd.to_numeric(df['bathroom_numbers'])\n",
    "df.drop(columns=['bathrooms_text'], inplace=True)"
   ]
  },
  {
   "cell_type": "markdown",
   "id": "65b4fd85",
   "metadata": {},
   "source": [
    "<br> filling possibble missing values with 1 (a property should have a bathroom)"
   ]
  },
  {
   "cell_type": "code",
   "execution_count": 26,
   "id": "dd340cb1",
   "metadata": {},
   "outputs": [],
   "source": [
    "df['bathroom_numbers'].fillna(1, inplace=True)"
   ]
  },
  {
   "cell_type": "code",
   "execution_count": 27,
   "id": "7798b8d0",
   "metadata": {},
   "outputs": [
    {
     "data": {
      "image/png": "[encoded data removed]",
      "text/plain": [
       "<Figure size 1080x360 with 2 Axes>"
      ]
     },
     "metadata": {
      "needs_background": "light"
     },
     "output_type": "display_data"
    }
   ],
   "source": [
    "fig, axes = plt.subplots(1, 2, figsize=(15, 5))\n",
    "\n",
    "axes0 = sns.countplot(data=df, x=df.bathroom_numbers, palette='Set1', ax=axes[0])\n",
    "for p in axes0.patches:\n",
    "    x=p.get_bbox().get_points()[:,0]\n",
    "    y=p.get_bbox().get_points()[1,1]\n",
    "    axes0.annotate('{:.1f}%'.format(100.*y/len(df)), (x.mean(), y), \n",
    "            ha='center', va='bottom', rotation=0)\n",
    "axes0.set_xlabel('Number of Bathrooms')\n",
    "\n",
    "cutoff = 2.5\n",
    "axes1 = sns.histplot(data=df, x=np.log10(df['price']), bins=50, kde=False, multiple='stack', palette='Set1'\n",
    "                     , hue=df['bathroom_numbers'].where(df['bathroom_numbers'] <= cutoff, cutoff), ax=axes[1])\n",
    "# Modify legend, to add f'{cutoff}+'\n",
    "legend = axes1.get_legend()\n",
    "handles = legend.legendHandles\n",
    "legend.remove()\n",
    "axes1.set_xlabel('Price')\n",
    "axes1.legend(handles, list(np.arange(0,cutoff,0.5)) + [f'{cutoff}+'], title='Number of Baths')\n",
    "axes1.set_xticks(range(1,5));\n",
    "axes1.set_xticklabels([10,100,1000,10000]);\n",
    "axes1.grid()"
   ]
  },
  {
   "cell_type": "markdown",
   "id": "c80c7d23",
   "metadata": {},
   "source": [
    "### Neighbourhood"
   ]
  },
  {
   "cell_type": "code",
   "execution_count": 28,
   "id": "75e4f145",
   "metadata": {
    "scrolled": true
   },
   "outputs": [
    {
     "name": "stdout",
     "output_type": "stream",
     "text": [
      "['Ville-Marie' 'Le Sud-Ouest' 'Rosemont-La Petite-Patrie'\n",
      " 'Le Plateau-Mont-Royal' 'Côte-des-Neiges-Notre-Dame-de-Grâce'\n",
      " 'Montréal-Ouest' 'Villeray-Saint-Michel-Parc-Extension' \"Baie-d'Urfé\"\n",
      " 'Mercier-Hochelaga-Maisonneuve' 'LaSalle' 'Verdun' 'Outremont' 'Lachine'\n",
      " 'Côte-Saint-Luc' 'Ahuntsic-Cartierville' 'Saint-Laurent' 'Saint-Léonard'\n",
      " 'Westmount' 'Pierrefonds-Roxboro'\n",
      " 'Rivière-des-Prairies-Pointe-aux-Trembles' 'Anjou' 'Pointe-Claire'\n",
      " 'Mont-Royal' 'Dollard-des-Ormeaux' 'Hampstead' 'Dorval' 'Kirkland'\n",
      " \"L'Île-Bizard-Sainte-Geneviève\" 'Montréal-Nord' 'Beaconsfield'\n",
      " 'Sainte-Anne-de-Bellevue' 'Montréal-Est']\n",
      "0\n"
     ]
    }
   ],
   "source": [
    "print(df['neighbourhood_cleansed'].unique())\n",
    "print(df['neighbourhood_cleansed'].isna().sum())"
   ]
  },
  {
   "cell_type": "code",
   "execution_count": 29,
   "id": "bd0d5787",
   "metadata": {},
   "outputs": [
    {
     "data": {
      "text/plain": [
       "Text(0.5, 0, 'Neighbourhood')"
      ]
     },
     "execution_count": 29,
     "metadata": {},
     "output_type": "execute_result"
    },
    {
     "data": {
      "image/png": "[encoded data removed]",
      "text/plain": [
       "<Figure size 1080x360 with 1 Axes>"
      ]
     },
     "metadata": {
      "needs_background": "light"
     },
     "output_type": "display_data"
    }
   ],
   "source": [
    "plt.figure(figsize=(15,5))\n",
    "\n",
    "# use order to sort bars according to the average neghbourhood price\n",
    "order = df.groupby(['neighbourhood_cleansed'])['price'].mean().index \n",
    "axes0 = sns.countplot(data=df, x=df.neighbourhood_cleansed, palette='Set1', order=order)\n",
    "for p in axes0.patches:\n",
    "    x=p.get_bbox().get_points()[:,0]\n",
    "    y=p.get_bbox().get_points()[1,1]\n",
    "    axes0.annotate('{:.1f}%'.format(100.*y/len(df)), (x.mean(), y), \n",
    "            ha='center', va='bottom', rotation=0)\n",
    "axes0.set_xticklabels(axes0.get_xticklabels(),rotation = 90);\n",
    "axes0.set_xlabel('Neighbourhood')"
   ]
  },
  {
   "cell_type": "markdown",
   "id": "d4255cfa",
   "metadata": {},
   "source": [
    "### Property Type\n",
    "<br> Column name = property_type"
   ]
  },
  {
   "cell_type": "code",
   "execution_count": 30,
   "id": "4ba758d9",
   "metadata": {},
   "outputs": [
    {
     "name": "stdout",
     "output_type": "stream",
     "text": [
      "['Entire rental unit' 'Entire residential home'\n",
      " 'Private room in rental unit' 'Entire loft'\n",
      " 'Private room in residential home' 'Entire guest suite'\n",
      " 'Room in boutique hotel' 'Entire condominium (condo)'\n",
      " 'Private room in farm stay' 'Private room in condominium (condo)'\n",
      " 'Entire townhouse' 'Private room in bed and breakfast'\n",
      " 'Shared room in rental unit' 'Shared room in loft'\n",
      " 'Private room in townhouse' 'Entire serviced apartment' 'Entire cottage'\n",
      " 'Room in aparthotel' 'Private room in serviced apartment'\n",
      " 'Private room in loft' 'Private room in cottage' 'Entire bungalow'\n",
      " 'Entire villa' 'Private room in hostel' 'Private room in villa' 'Boat'\n",
      " 'Entire chalet' 'Entire guesthouse' 'Camper/RV'\n",
      " 'Private room in guesthouse' 'Shared room in condominium (condo)'\n",
      " 'Private room in cabin' 'Tiny house' 'Entire bed and breakfast'\n",
      " 'Entire place' 'Private room' 'Shared room in residential home'\n",
      " 'Entire home/apt' 'Private room in bungalow' 'Shared room in hostel'\n",
      " 'Room in hotel' 'Room in hostel' 'Private room in earth house'\n",
      " 'Room in bed and breakfast' 'Shared room in serviced apartment'\n",
      " 'Private room in nature lodge' 'Private room in guest suite'\n",
      " 'Shared room in bed and breakfast' 'Religious building'\n",
      " 'Private room in casa particular' 'Casa particular'\n",
      " 'Entire vacation home']\n",
      "0\n"
     ]
    }
   ],
   "source": [
    "print(df['property_type'].unique())\n",
    "print(df['property_type'].isna().sum())"
   ]
  },
  {
   "cell_type": "markdown",
   "id": "091ef65f",
   "metadata": {},
   "source": [
    "<br> property_type has lots of unique elements and room_type is descriptive enough.\n",
    "<br> drop it for now\n",
    "<br> property_type column may be useful for analysing outliers, etc."
   ]
  },
  {
   "cell_type": "code",
   "execution_count": 31,
   "id": "ce3d96fe",
   "metadata": {},
   "outputs": [],
   "source": [
    "df.drop(columns=['property_type'], inplace=True)"
   ]
  },
  {
   "cell_type": "markdown",
   "id": "f1debd86",
   "metadata": {},
   "source": [
    "### Number of Reviews and Scores\n",
    "<br> Column name = \n",
    "<br>&emsp;                    'number_of_reviews'\n",
    "<br>&emsp;                    'number_of_reviews_ltm'\n",
    "<br>&emsp;                    'number_of_reviews_l30d'\n",
    "<br>\n",
    "<br>&emsp;                    'review_scores_rating'\n",
    "<br>&emsp;                    'review_scores_accuracy'\n",
    "<br>&emsp;                    'review_scores_cleanliness'\n",
    "<br>&emsp;                    'review_scores_checkin'\n",
    "<br>&emsp;                    'review_scores_communication'\n",
    "<br>&emsp;                    'review_scores_location'\n",
    "<br>&emsp;                    'review_scores_value'"
   ]
  },
  {
   "cell_type": "code",
   "execution_count": 32,
   "id": "3c9870d8",
   "metadata": {},
   "outputs": [],
   "source": [
    "# if the number_of_reviews is zero the columns listed below in review_cols are NaN\n",
    "# fillna with 0 in review_cols, and MUST use/keep number_of_reviews to describe zero review_scores_*\n",
    "\n",
    "n_review_cols = ['number_of_reviews', 'number_of_reviews_ltm', 'number_of_reviews_l30d', 'reviews_per_month']\n",
    "\n",
    "review_score_cols = ['review_scores_rating', 'review_scores_accuracy', 'review_scores_cleanliness'\n",
    "                     , 'review_scores_checkin', 'review_scores_communication', 'review_scores_location'\n",
    "                     , 'review_scores_value']\n",
    "for col in review_score_cols:\n",
    "    df[col].fillna(0, inplace=True)\n",
    "\n",
    "df['reviews_per_month'].fillna(0, inplace=True)"
   ]
  },
  {
   "cell_type": "markdown",
   "id": "dfd74725",
   "metadata": {},
   "source": [
    "### Availability\n",
    "<br> Column name = has_availability"
   ]
  },
  {
   "cell_type": "code",
   "execution_count": 33,
   "id": "75d8e5bc",
   "metadata": {},
   "outputs": [
    {
     "name": "stdout",
     "output_type": "stream",
     "text": [
      "['t' 'f']\n",
      "0\n"
     ]
    }
   ],
   "source": [
    "print(df['has_availability'].unique())\n",
    "print(df['has_availability'].isna().sum())"
   ]
  },
  {
   "cell_type": "markdown",
   "id": "b13e3d51",
   "metadata": {},
   "source": [
    "### Bookable\n",
    "<br> Column name = instant_bookable"
   ]
  },
  {
   "cell_type": "code",
   "execution_count": 34,
   "id": "ff5031f7",
   "metadata": {},
   "outputs": [
    {
     "name": "stdout",
     "output_type": "stream",
     "text": [
      "['f' 't']\n",
      "0\n"
     ]
    }
   ],
   "source": [
    "print(df['instant_bookable'].unique())\n",
    "print(df['instant_bookable'].isna().sum())"
   ]
  },
  {
   "cell_type": "markdown",
   "id": "0ae09a0b",
   "metadata": {},
   "source": [
    "## Get Dummies"
   ]
  },
  {
   "cell_type": "code",
   "execution_count": 35,
   "id": "356a68eb",
   "metadata": {},
   "outputs": [],
   "source": [
    "df = pd.get_dummies(df, columns=['room_type'], prefix=['room_type'], prefix_sep='_',drop_first=False)"
   ]
  },
  {
   "cell_type": "code",
   "execution_count": 36,
   "id": "6112a762",
   "metadata": {},
   "outputs": [],
   "source": [
    "df = pd.get_dummies(df, columns=['neighbourhood_cleansed'], prefix=['neighbourhood'], prefix_sep='_',drop_first=False)"
   ]
  },
  {
   "cell_type": "code",
   "execution_count": 37,
   "id": "8d170994",
   "metadata": {},
   "outputs": [],
   "source": [
    "df = pd.get_dummies(df, columns=['has_availability'], prefix=['has_availability'], prefix_sep='_',drop_first=True)"
   ]
  },
  {
   "cell_type": "code",
   "execution_count": 38,
   "id": "bf15e2b4",
   "metadata": {},
   "outputs": [],
   "source": [
    "df = pd.get_dummies(df, columns=['instant_bookable'], prefix=['bookable'], prefix_sep='_',drop_first=True)"
   ]
  },
  {
   "cell_type": "markdown",
   "id": "60e35cf8",
   "metadata": {},
   "source": [
    "## Principal Component Analysis and Low Variance Filter"
   ]
  },
  {
   "cell_type": "markdown",
   "id": "f4f52179",
   "metadata": {},
   "source": [
    "### Room Type"
   ]
  },
  {
   "cell_type": "code",
   "execution_count": 39,
   "id": "ce4f4911",
   "metadata": {},
   "outputs": [],
   "source": [
    "room_type_cols = df.columns[df.columns.str.startswith('room_type')]"
   ]
  },
  {
   "cell_type": "code",
   "execution_count": 40,
   "id": "d827b29f",
   "metadata": {},
   "outputs": [
    {
     "name": "stdout",
     "output_type": "stream",
     "text": [
      "Number of room types in each category:\n",
      "room_type_Entire home/apt    9368\n",
      "room_type_Hotel room           41\n",
      "room_type_Private room       3050\n",
      "room_type_Shared room         107\n",
      "dtype: int64\n",
      "\n",
      "Variance:\n",
      "room_type_Entire home/apt    0.189743\n",
      "room_type_Hotel room         0.003252\n",
      "room_type_Private room       0.183821\n",
      "room_type_Shared room        0.008443\n",
      "dtype: float64\n"
     ]
    }
   ],
   "source": [
    "df_room_type = df[room_type_cols]\n",
    "\n",
    "print('Number of room types in each category:')\n",
    "print(df_room_type.sum())\n",
    "print()\n",
    "print('Variance:')\n",
    "print(df_room_type.var())"
   ]
  },
  {
   "cell_type": "markdown",
   "id": "30ac6a6d",
   "metadata": {},
   "source": [
    "<br> The above data show that two categories, <I>Hotel Room</I> and <I>Shared Room</I> have a variance less than 0.003.\n",
    "<br> Using sklearn.feature_selection, VarianceThreshold, we can drop these columns. In other words there is not enough data/information to study variations amoung these two room type categories. \n",
    "<br> Here we will implement Principal Component Analysis and use only one component to describe the <I>room type</I> data\n",
    "<br> Based on the data, this component is very close to defining if the property is an <i>Entire Home/apartment</i> or a <i>Room</i>"
   ]
  },
  {
   "cell_type": "code",
   "execution_count": 41,
   "id": "763ca507",
   "metadata": {},
   "outputs": [
    {
     "name": "stdout",
     "output_type": "stream",
     "text": [
      "Explained Variance Ratio: [0.9546767]\n",
      "Original number of columns:  4\n",
      "Principal Components =  1\n"
     ]
    }
   ],
   "source": [
    "from sklearn.decomposition import PCA\n",
    "\n",
    "pca = PCA(n_components=1)\n",
    "pca.fit(df_room_type)\n",
    "\n",
    "print('Explained Variance Ratio:', pca.explained_variance_ratio_)\n",
    "\n",
    "room_type_pca = pca.transform(df_room_type)\n",
    "print('Original number of columns: ', df_room_type.shape[1])\n",
    "print('Principal Components = ',room_type_pca.shape[1])"
   ]
  },
  {
   "cell_type": "code",
   "execution_count": 42,
   "id": "beec667d",
   "metadata": {},
   "outputs": [],
   "source": [
    "df.drop(columns=room_type_cols, inplace=True)\n",
    "df['room_type_pca'] = room_type_pca"
   ]
  },
  {
   "cell_type": "markdown",
   "id": "474f0ceb",
   "metadata": {},
   "source": [
    "### Number of Reviews and Review Scores"
   ]
  },
  {
   "cell_type": "code",
   "execution_count": 43,
   "id": "c87ba3d3",
   "metadata": {},
   "outputs": [],
   "source": [
    "# these two list of columns were defined before:\n",
    "\n",
    "# n_review_cols = ['number_of_reviews', 'number_of_reviews_ltm', 'number_of_reviews_l30d', 'reviews_per_month']\n",
    "\n",
    "# review_score_cols = ['review_scores_rating', 'review_scores_accuracy', 'review_scores_cleanliness'\n",
    "#                    , 'review_scores_checkin', 'review_scores_communication', 'review_scores_location'\n",
    "#                    , 'review_scores_value']"
   ]
  },
  {
   "cell_type": "markdown",
   "id": "6365205d",
   "metadata": {},
   "source": [
    "<br> first we scale the review data (both list of columns for the number of reviews and the review scores)\n",
    "<br> scaled data are implemented for calculating the correlation coefficients, and extracting the principal componenets"
   ]
  },
  {
   "cell_type": "code",
   "execution_count": 44,
   "id": "ec5a38aa",
   "metadata": {},
   "outputs": [],
   "source": [
    "from sklearn.preprocessing import MinMaxScaler\n",
    "\n",
    "scaler = MinMaxScaler()\n",
    "scaler.fit(df[n_review_cols])\n",
    "scaled_n_review_features = scaler.transform(df[n_review_cols])\n",
    "scaler.fit(df[review_score_cols])\n",
    "scaled_review_score_features = scaler.transform(df[review_score_cols])"
   ]
  },
  {
   "cell_type": "markdown",
   "id": "4cadf2d9",
   "metadata": {},
   "source": [
    "<br> The following graphs show the calculated pairwise correlation of columns using Pearson as the method\n",
    "<br>\n",
    "<br> The results highlight very high correlation between different review scores,\n",
    "<br> whereas, the correlation coefficient between the columns related to the number of reviews are not highly correlated (compared to review scores)."
   ]
  },
  {
   "cell_type": "code",
   "execution_count": 45,
   "id": "57d0b992",
   "metadata": {
    "scrolled": false
   },
   "outputs": [
    {
     "data": {
      "image/png": "[encoded data removed]",
      "text/plain": [
       "<Figure size 1080x360 with 4 Axes>"
      ]
     },
     "metadata": {
      "needs_background": "light"
     },
     "output_type": "display_data"
    }
   ],
   "source": [
    "fig, axes = plt.subplots(1, 2, figsize=(15, 5))\n",
    "\n",
    "n_review_corr = pd.DataFrame(scaled_n_review_features).corr()\n",
    "labels=['total', 'ltm', 'l30d', 'per_month']\n",
    "sns.heatmap(n_review_corr, annot=True, linewidths=.5, vmin=0, vmax=1, xticklabels=labels, yticklabels=labels, ax=axes[0])\n",
    "axes[0].title.set_text('Number of Reviews')\n",
    "\n",
    "review_score_corr = pd.DataFrame(scaled_review_score_features).corr()\n",
    "labels=[]\n",
    "for txt in review_score_cols:\n",
    "    labels.append(txt.replace('review_scores_', ''))\n",
    "sns.heatmap(review_score_corr, annot=True, linewidths=.5, vmin=0, vmax=1, xticklabels=labels, yticklabels=labels, ax=axes[1])\n",
    "axes[1].title.set_text('Review Scores')"
   ]
  },
  {
   "cell_type": "markdown",
   "id": "da9d56bf",
   "metadata": {},
   "source": [
    "<br> Here, Principal Component Analysis (PCA) is used to reduce the dimentionality\n",
    "<br> As we saw in the previous figure, different <i>Review Scores</i> are highly correlated and reducing the dimensionality is necessary to mitigate collinearity\n",
    "<br> i.e., different <i>Review Scores</i> columns are not independent from one another, and a single PCA component captures 99% of the variance"
   ]
  },
  {
   "cell_type": "code",
   "execution_count": 46,
   "id": "6916bc26",
   "metadata": {},
   "outputs": [
    {
     "name": "stdout",
     "output_type": "stream",
     "text": [
      "Explained Variance Ratio: [0.98757243]\n",
      "Original number of columns:  7\n",
      "Principal Components:  1\n"
     ]
    }
   ],
   "source": [
    "pca = PCA(n_components=1)\n",
    "# using scaled features (obtained from MinMaxScaler, not the raw review scores) as an input for PCA\n",
    "pca.fit(scaled_review_score_features)\n",
    "\n",
    "print('Explained Variance Ratio:', pca.explained_variance_ratio_)\n",
    "# print('Total Explained Variance Ratio:', pca.explained_variance_ratio_.sum())\n",
    "\n",
    "review_pca = pca.transform(scaled_review_score_features)\n",
    "print('Original number of columns: ', df[review_score_cols].shape[1])\n",
    "print('Principal Components: ', review_pca.shape[1])"
   ]
  },
  {
   "cell_type": "code",
   "execution_count": 47,
   "id": "82e3b3df",
   "metadata": {},
   "outputs": [],
   "source": [
    "df.drop(columns=review_score_cols, inplace=True)\n",
    "df['review_pca'] = review_pca"
   ]
  },
  {
   "cell_type": "markdown",
   "id": "6c5a0c76",
   "metadata": {},
   "source": [
    "## Scaling and Transforming the Data"
   ]
  },
  {
   "cell_type": "code",
   "execution_count": 48,
   "id": "cccf8112",
   "metadata": {},
   "outputs": [],
   "source": [
    "df.price = np.log10(df.price)"
   ]
  },
  {
   "cell_type": "code",
   "execution_count": 49,
   "id": "9a6eb8a7",
   "metadata": {},
   "outputs": [],
   "source": [
    "from sklearn.preprocessing import MinMaxScaler"
   ]
  },
  {
   "cell_type": "code",
   "execution_count": 50,
   "id": "de859af9",
   "metadata": {
    "scrolled": true
   },
   "outputs": [],
   "source": [
    "scaler = MinMaxScaler()\n",
    "scaler.fit(df)\n",
    "scaled_features = scaler.transform(df)\n",
    "df_feat = pd.DataFrame(scaled_features, columns=df.columns)"
   ]
  },
  {
   "cell_type": "code",
   "execution_count": 51,
   "id": "36227c49",
   "metadata": {},
   "outputs": [],
   "source": [
    "col_features = df.columns.drop('price')\n",
    "col_target = ['price']\n",
    "\n",
    "scaler_feat = MinMaxScaler()\n",
    "scaler_feat.fit(df[col_features])\n",
    "scaled_features = scaler_feat.transform(df[col_features])\n",
    "df_feat = pd.DataFrame(scaled_features, columns=col_features)\n",
    "\n",
    "scaler_target = MinMaxScaler()\n",
    "scaler_target.fit(df[col_target])\n",
    "scaled_target = scaler_target.transform(df[col_target])\n",
    "df_target = pd.DataFrame(scaled_target, columns=col_target)\n",
    "\n",
    "X = df_feat\n",
    "y = df_target"
   ]
  },
  {
   "cell_type": "markdown",
   "id": "ce0b96f8",
   "metadata": {},
   "source": [
    "## Linear Regression Analysis"
   ]
  },
  {
   "cell_type": "markdown",
   "id": "e74f9e26",
   "metadata": {},
   "source": [
    "<br> In this section, I use Linear Regression Analysis (Ordinary Least Squares, OLS)\n",
    "<br> The calculated p-values and coefficients point out the statistically significant relationships"
   ]
  },
  {
   "cell_type": "code",
   "execution_count": 52,
   "id": "b70a7bc4",
   "metadata": {},
   "outputs": [
    {
     "name": "stderr",
     "output_type": "stream",
     "text": [
      "C:\\Users\\siava\\anaconda3\\lib\\site-packages\\statsmodels\\tsa\\tsatools.py:142: FutureWarning: In a future version of pandas all arguments of concat except for the argument 'objs' will be keyword-only\n",
      "  x = pd.concat(x[::order], 1)\n"
     ]
    }
   ],
   "source": [
    "import statsmodels.api as sm\n",
    "from scipy import stats\n",
    "\n",
    "\n",
    "X2 = sm.add_constant(X)\n",
    "est = sm.OLS(y, X2)\n",
    "results = est.fit()\n",
    "# print(results.summary())"
   ]
  },
  {
   "cell_type": "markdown",
   "id": "9da4f014",
   "metadata": {},
   "source": [
    "<br> Creating a pandas DataFrame using Ordinary Least Squares (OLS) results"
   ]
  },
  {
   "cell_type": "code",
   "execution_count": 53,
   "id": "0a0d99bf",
   "metadata": {
    "scrolled": false
   },
   "outputs": [],
   "source": [
    "results_df = pd.DataFrame(data=list(zip(results.params.values,results.bse.values, results.tvalues.values\n",
    "                                        , results.pvalues.values, results.conf_int().values[:,0]\n",
    "                                        , results.conf_int().values[:,1])))\n",
    "results_df.index=results.params.index\n",
    "results_df.columns=['coef', 'std_err', 't_value', 'p_value', 'conf_int_0.25', 'conf_int_0.75']\n",
    "results_df.drop(index=['const', 'id'], axis=0, inplace=True)"
   ]
  },
  {
   "cell_type": "markdown",
   "id": "8442d09c",
   "metadata": {},
   "source": [
    "<br> highlighting statistically significant features using p_value<0.05"
   ]
  },
  {
   "cell_type": "code",
   "execution_count": 54,
   "id": "58665983",
   "metadata": {
    "scrolled": false
   },
   "outputs": [
    {
     "data": {
      "text/html": [
       "<style type=\"text/css\">\n",
       "#T_f6c5c_row0_col0 {\n",
       "  width: 10em;\n",
       "  height: 80%;\n",
       "  background: linear-gradient(90deg, transparent 50.0%, #5fba7d 50.0%, #5fba7d 100.0%, transparent 100.0%);\n",
       "}\n",
       "#T_f6c5c_row0_col3, #T_f6c5c_row1_col3, #T_f6c5c_row2_col3, #T_f6c5c_row4_col3, #T_f6c5c_row5_col3, #T_f6c5c_row6_col3, #T_f6c5c_row8_col3, #T_f6c5c_row9_col3, #T_f6c5c_row11_col3, #T_f6c5c_row12_col3, #T_f6c5c_row13_col3, #T_f6c5c_row15_col3, #T_f6c5c_row16_col3, #T_f6c5c_row17_col3, #T_f6c5c_row18_col3, #T_f6c5c_row21_col3, #T_f6c5c_row23_col3, #T_f6c5c_row26_col3, #T_f6c5c_row28_col3, #T_f6c5c_row31_col3, #T_f6c5c_row32_col3, #T_f6c5c_row40_col3, #T_f6c5c_row42_col3 {\n",
       "  background-color: #5fba7d;\n",
       "}\n",
       "#T_f6c5c_row1_col0 {\n",
       "  width: 10em;\n",
       "  height: 80%;\n",
       "  background: linear-gradient(90deg, transparent 50.0%, #5fba7d 50.0%, #5fba7d 89.8%, transparent 89.8%);\n",
       "}\n",
       "#T_f6c5c_row2_col0 {\n",
       "  width: 10em;\n",
       "  height: 80%;\n",
       "  background: linear-gradient(90deg, transparent 50.0%, #5fba7d 50.0%, #5fba7d 74.7%, transparent 74.7%);\n",
       "}\n",
       "#T_f6c5c_row3_col0 {\n",
       "  width: 10em;\n",
       "  height: 80%;\n",
       "  background: linear-gradient(90deg, transparent 33.2%, #d65f5f 33.2%, #d65f5f 50.0%, transparent 50.0%);\n",
       "}\n",
       "#T_f6c5c_row3_col3, #T_f6c5c_row7_col3, #T_f6c5c_row10_col3, #T_f6c5c_row14_col3, #T_f6c5c_row19_col3, #T_f6c5c_row20_col3, #T_f6c5c_row22_col3, #T_f6c5c_row24_col3, #T_f6c5c_row25_col3, #T_f6c5c_row27_col3, #T_f6c5c_row29_col3, #T_f6c5c_row30_col3, #T_f6c5c_row33_col3, #T_f6c5c_row34_col3, #T_f6c5c_row35_col3, #T_f6c5c_row36_col3, #T_f6c5c_row37_col3, #T_f6c5c_row38_col3, #T_f6c5c_row39_col3, #T_f6c5c_row41_col3, #T_f6c5c_row43_col3, #T_f6c5c_row44_col3, #T_f6c5c_row45_col3, #T_f6c5c_row46_col3, #T_f6c5c_row47_col3, #T_f6c5c_row48_col3, #T_f6c5c_row49_col3, #T_f6c5c_row50_col3 {\n",
       "  background-color: #d65f5f;\n",
       "}\n",
       "#T_f6c5c_row4_col0 {\n",
       "  width: 10em;\n",
       "  height: 80%;\n",
       "  background: linear-gradient(90deg, transparent 36.3%, #d65f5f 36.3%, #d65f5f 50.0%, transparent 50.0%);\n",
       "}\n",
       "#T_f6c5c_row5_col0 {\n",
       "  width: 10em;\n",
       "  height: 80%;\n",
       "  background: linear-gradient(90deg, transparent 50.0%, #5fba7d 50.0%, #5fba7d 57.7%, transparent 57.7%);\n",
       "}\n",
       "#T_f6c5c_row6_col0 {\n",
       "  width: 10em;\n",
       "  height: 80%;\n",
       "  background: linear-gradient(90deg, transparent 50.0%, #5fba7d 50.0%, #5fba7d 57.4%, transparent 57.4%);\n",
       "}\n",
       "#T_f6c5c_row7_col0 {\n",
       "  width: 10em;\n",
       "  height: 80%;\n",
       "  background: linear-gradient(90deg, transparent 50.0%, #5fba7d 50.0%, #5fba7d 56.3%, transparent 56.3%);\n",
       "}\n",
       "#T_f6c5c_row8_col0 {\n",
       "  width: 10em;\n",
       "  height: 80%;\n",
       "  background: linear-gradient(90deg, transparent 44.4%, #d65f5f 44.4%, #d65f5f 50.0%, transparent 50.0%);\n",
       "}\n",
       "#T_f6c5c_row9_col0 {\n",
       "  width: 10em;\n",
       "  height: 80%;\n",
       "  background: linear-gradient(90deg, transparent 50.0%, #5fba7d 50.0%, #5fba7d 55.6%, transparent 55.6%);\n",
       "}\n",
       "#T_f6c5c_row10_col0 {\n",
       "  width: 10em;\n",
       "  height: 80%;\n",
       "  background: linear-gradient(90deg, transparent 44.8%, #d65f5f 44.8%, #d65f5f 50.0%, transparent 50.0%);\n",
       "}\n",
       "#T_f6c5c_row11_col0 {\n",
       "  width: 10em;\n",
       "  height: 80%;\n",
       "  background: linear-gradient(90deg, transparent 50.0%, #5fba7d 50.0%, #5fba7d 55.0%, transparent 55.0%);\n",
       "}\n",
       "#T_f6c5c_row12_col0, #T_f6c5c_row13_col0 {\n",
       "  width: 10em;\n",
       "  height: 80%;\n",
       "  background: linear-gradient(90deg, transparent 45.0%, #d65f5f 45.0%, #d65f5f 50.0%, transparent 50.0%);\n",
       "}\n",
       "#T_f6c5c_row14_col0 {\n",
       "  width: 10em;\n",
       "  height: 80%;\n",
       "  background: linear-gradient(90deg, transparent 50.0%, #5fba7d 50.0%, #5fba7d 54.9%, transparent 54.9%);\n",
       "}\n",
       "#T_f6c5c_row15_col0 {\n",
       "  width: 10em;\n",
       "  height: 80%;\n",
       "  background: linear-gradient(90deg, transparent 45.1%, #d65f5f 45.1%, #d65f5f 50.0%, transparent 50.0%);\n",
       "}\n",
       "#T_f6c5c_row16_col0, #T_f6c5c_row17_col0 {\n",
       "  width: 10em;\n",
       "  height: 80%;\n",
       "  background: linear-gradient(90deg, transparent 50.0%, #5fba7d 50.0%, #5fba7d 54.3%, transparent 54.3%);\n",
       "}\n",
       "#T_f6c5c_row18_col0 {\n",
       "  width: 10em;\n",
       "  height: 80%;\n",
       "  background: linear-gradient(90deg, transparent 50.0%, #5fba7d 50.0%, #5fba7d 54.1%, transparent 54.1%);\n",
       "}\n",
       "#T_f6c5c_row19_col0 {\n",
       "  width: 10em;\n",
       "  height: 80%;\n",
       "  background: linear-gradient(90deg, transparent 46.3%, #d65f5f 46.3%, #d65f5f 50.0%, transparent 50.0%);\n",
       "}\n",
       "#T_f6c5c_row20_col0, #T_f6c5c_row21_col0, #T_f6c5c_row22_col0 {\n",
       "  width: 10em;\n",
       "  height: 80%;\n",
       "  background: linear-gradient(90deg, transparent 50.0%, #5fba7d 50.0%, #5fba7d 53.6%, transparent 53.6%);\n",
       "}\n",
       "#T_f6c5c_row23_col0 {\n",
       "  width: 10em;\n",
       "  height: 80%;\n",
       "  background: linear-gradient(90deg, transparent 50.0%, #5fba7d 50.0%, #5fba7d 53.0%, transparent 53.0%);\n",
       "}\n",
       "#T_f6c5c_row24_col0, #T_f6c5c_row26_col0 {\n",
       "  width: 10em;\n",
       "  height: 80%;\n",
       "  background: linear-gradient(90deg, transparent 50.0%, #5fba7d 50.0%, #5fba7d 52.9%, transparent 52.9%);\n",
       "}\n",
       "#T_f6c5c_row25_col0 {\n",
       "  width: 10em;\n",
       "  height: 80%;\n",
       "  background: linear-gradient(90deg, transparent 47.1%, #d65f5f 47.1%, #d65f5f 50.0%, transparent 50.0%);\n",
       "}\n",
       "#T_f6c5c_row27_col0 {\n",
       "  width: 10em;\n",
       "  height: 80%;\n",
       "  background: linear-gradient(90deg, transparent 47.4%, #d65f5f 47.4%, #d65f5f 50.0%, transparent 50.0%);\n",
       "}\n",
       "#T_f6c5c_row28_col0 {\n",
       "  width: 10em;\n",
       "  height: 80%;\n",
       "  background: linear-gradient(90deg, transparent 48.1%, #d65f5f 48.1%, #d65f5f 50.0%, transparent 50.0%);\n",
       "}\n",
       "#T_f6c5c_row29_col0 {\n",
       "  width: 10em;\n",
       "  height: 80%;\n",
       "  background: linear-gradient(90deg, transparent 50.0%, #5fba7d 50.0%, #5fba7d 51.9%, transparent 51.9%);\n",
       "}\n",
       "#T_f6c5c_row30_col0 {\n",
       "  width: 10em;\n",
       "  height: 80%;\n",
       "  background: linear-gradient(90deg, transparent 48.2%, #d65f5f 48.2%, #d65f5f 50.0%, transparent 50.0%);\n",
       "}\n",
       "#T_f6c5c_row31_col0 {\n",
       "  width: 10em;\n",
       "  height: 80%;\n",
       "  background: linear-gradient(90deg, transparent 50.0%, #5fba7d 50.0%, #5fba7d 51.6%, transparent 51.6%);\n",
       "}\n",
       "#T_f6c5c_row32_col0 {\n",
       "  width: 10em;\n",
       "  height: 80%;\n",
       "  background: linear-gradient(90deg, transparent 48.4%, #d65f5f 48.4%, #d65f5f 50.0%, transparent 50.0%);\n",
       "}\n",
       "#T_f6c5c_row33_col0 {\n",
       "  width: 10em;\n",
       "  height: 80%;\n",
       "  background: linear-gradient(90deg, transparent 50.0%, #5fba7d 50.0%, #5fba7d 51.5%, transparent 51.5%);\n",
       "}\n",
       "#T_f6c5c_row34_col0 {\n",
       "  width: 10em;\n",
       "  height: 80%;\n",
       "  background: linear-gradient(90deg, transparent 48.8%, #d65f5f 48.8%, #d65f5f 50.0%, transparent 50.0%);\n",
       "}\n",
       "#T_f6c5c_row35_col0, #T_f6c5c_row36_col0 {\n",
       "  width: 10em;\n",
       "  height: 80%;\n",
       "  background: linear-gradient(90deg, transparent 49.0%, #d65f5f 49.0%, #d65f5f 50.0%, transparent 50.0%);\n",
       "}\n",
       "#T_f6c5c_row37_col0 {\n",
       "  width: 10em;\n",
       "  height: 80%;\n",
       "  background: linear-gradient(90deg, transparent 49.1%, #d65f5f 49.1%, #d65f5f 50.0%, transparent 50.0%);\n",
       "}\n",
       "#T_f6c5c_row38_col0 {\n",
       "  width: 10em;\n",
       "  height: 80%;\n",
       "  background: linear-gradient(90deg, transparent 49.2%, #d65f5f 49.2%, #d65f5f 50.0%, transparent 50.0%);\n",
       "}\n",
       "#T_f6c5c_row39_col0 {\n",
       "  width: 10em;\n",
       "  height: 80%;\n",
       "  background: linear-gradient(90deg, transparent 49.3%, #d65f5f 49.3%, #d65f5f 50.0%, transparent 50.0%);\n",
       "}\n",
       "#T_f6c5c_row40_col0, #T_f6c5c_row41_col0, #T_f6c5c_row43_col0 {\n",
       "  width: 10em;\n",
       "  height: 80%;\n",
       "  background: linear-gradient(90deg, transparent 49.4%, #d65f5f 49.4%, #d65f5f 50.0%, transparent 50.0%);\n",
       "}\n",
       "#T_f6c5c_row42_col0 {\n",
       "  width: 10em;\n",
       "  height: 80%;\n",
       "  background: linear-gradient(90deg, transparent 50.0%, #5fba7d 50.0%, #5fba7d 50.6%, transparent 50.6%);\n",
       "}\n",
       "#T_f6c5c_row44_col0 {\n",
       "  width: 10em;\n",
       "  height: 80%;\n",
       "  background: linear-gradient(90deg, transparent 50.0%, #5fba7d 50.0%, #5fba7d 50.5%, transparent 50.5%);\n",
       "}\n",
       "#T_f6c5c_row45_col0 {\n",
       "  width: 10em;\n",
       "  height: 80%;\n",
       "  background: linear-gradient(90deg, transparent 50.0%, #5fba7d 50.0%, #5fba7d 50.3%, transparent 50.3%);\n",
       "}\n",
       "#T_f6c5c_row46_col0, #T_f6c5c_row47_col0, #T_f6c5c_row48_col0 {\n",
       "  width: 10em;\n",
       "  height: 80%;\n",
       "  background: linear-gradient(90deg, transparent 50.0%, #5fba7d 50.0%, #5fba7d 50.2%, transparent 50.2%);\n",
       "}\n",
       "#T_f6c5c_row49_col0 {\n",
       "  width: 10em;\n",
       "  height: 80%;\n",
       "  background: linear-gradient(90deg, transparent 49.8%, #d65f5f 49.8%, #d65f5f 50.0%, transparent 50.0%);\n",
       "}\n",
       "#T_f6c5c_row50_col0 {\n",
       "  width: 10em;\n",
       "  height: 80%;\n",
       "  background: linear-gradient(90deg, transparent 50.0%, #5fba7d 50.0%, #5fba7d 50.1%, transparent 50.1%);\n",
       "}\n",
       "</style>\n",
       "<table id=\"T_f6c5c_\">\n",
       "  <thead>\n",
       "    <tr>\n",
       "      <th class=\"blank level0\" >&nbsp;</th>\n",
       "      <th class=\"col_heading level0 col0\" >coef</th>\n",
       "      <th class=\"col_heading level0 col1\" >std_err</th>\n",
       "      <th class=\"col_heading level0 col2\" >t_value</th>\n",
       "      <th class=\"col_heading level0 col3\" >p_value</th>\n",
       "      <th class=\"col_heading level0 col4\" >conf_int_0.25</th>\n",
       "      <th class=\"col_heading level0 col5\" >conf_int_0.75</th>\n",
       "    </tr>\n",
       "  </thead>\n",
       "  <tbody>\n",
       "    <tr>\n",
       "      <th id=\"T_f6c5c_level0_row0\" class=\"row_heading level0 row0\" >bathroom_numbers</th>\n",
       "      <td id=\"T_f6c5c_row0_col0\" class=\"data row0 col0\" >0.422400</td>\n",
       "      <td id=\"T_f6c5c_row0_col1\" class=\"data row0 col1\" >0.037845</td>\n",
       "      <td id=\"T_f6c5c_row0_col2\" class=\"data row0 col2\" >11.161280</td>\n",
       "      <td id=\"T_f6c5c_row0_col3\" class=\"data row0 col3\" >0.000000</td>\n",
       "      <td id=\"T_f6c5c_row0_col4\" class=\"data row0 col4\" >0.348218</td>\n",
       "      <td id=\"T_f6c5c_row0_col5\" class=\"data row0 col5\" >0.496582</td>\n",
       "    </tr>\n",
       "    <tr>\n",
       "      <th id=\"T_f6c5c_level0_row1\" class=\"row_heading level0 row1\" >bedrooms</th>\n",
       "      <td id=\"T_f6c5c_row1_col0\" class=\"data row1 col0\" >0.336043</td>\n",
       "      <td id=\"T_f6c5c_row1_col1\" class=\"data row1 col1\" >0.030055</td>\n",
       "      <td id=\"T_f6c5c_row1_col2\" class=\"data row1 col2\" >11.180944</td>\n",
       "      <td id=\"T_f6c5c_row1_col3\" class=\"data row1 col3\" >0.000000</td>\n",
       "      <td id=\"T_f6c5c_row1_col4\" class=\"data row1 col4\" >0.277131</td>\n",
       "      <td id=\"T_f6c5c_row1_col5\" class=\"data row1 col5\" >0.394956</td>\n",
       "    </tr>\n",
       "    <tr>\n",
       "      <th id=\"T_f6c5c_level0_row2\" class=\"row_heading level0 row2\" >accommodates</th>\n",
       "      <td id=\"T_f6c5c_row2_col0\" class=\"data row2 col0\" >0.208410</td>\n",
       "      <td id=\"T_f6c5c_row2_col1\" class=\"data row2 col1\" >0.008696</td>\n",
       "      <td id=\"T_f6c5c_row2_col2\" class=\"data row2 col2\" >23.965980</td>\n",
       "      <td id=\"T_f6c5c_row2_col3\" class=\"data row2 col3\" >0.000000</td>\n",
       "      <td id=\"T_f6c5c_row2_col4\" class=\"data row2 col4\" >0.191364</td>\n",
       "      <td id=\"T_f6c5c_row2_col5\" class=\"data row2 col5\" >0.225456</td>\n",
       "    </tr>\n",
       "    <tr>\n",
       "      <th id=\"T_f6c5c_level0_row3\" class=\"row_heading level0 row3\" >minimum_nights</th>\n",
       "      <td id=\"T_f6c5c_row3_col0\" class=\"data row3 col0\" >-0.141795</td>\n",
       "      <td id=\"T_f6c5c_row3_col1\" class=\"data row3 col1\" >0.075415</td>\n",
       "      <td id=\"T_f6c5c_row3_col2\" class=\"data row3 col2\" >-1.880193</td>\n",
       "      <td id=\"T_f6c5c_row3_col3\" class=\"data row3 col3\" >0.060105</td>\n",
       "      <td id=\"T_f6c5c_row3_col4\" class=\"data row3 col4\" >-0.289620</td>\n",
       "      <td id=\"T_f6c5c_row3_col5\" class=\"data row3 col5\" >0.006030</td>\n",
       "    </tr>\n",
       "    <tr>\n",
       "      <th id=\"T_f6c5c_level0_row4\" class=\"row_heading level0 row4\" >beds</th>\n",
       "      <td id=\"T_f6c5c_row4_col0\" class=\"data row4 col0\" >-0.115430</td>\n",
       "      <td id=\"T_f6c5c_row4_col1\" class=\"data row4 col1\" >0.040516</td>\n",
       "      <td id=\"T_f6c5c_row4_col2\" class=\"data row4 col2\" >-2.848957</td>\n",
       "      <td id=\"T_f6c5c_row4_col3\" class=\"data row4 col3\" >0.004393</td>\n",
       "      <td id=\"T_f6c5c_row4_col4\" class=\"data row4 col4\" >-0.194848</td>\n",
       "      <td id=\"T_f6c5c_row4_col5\" class=\"data row4 col5\" >-0.036011</td>\n",
       "    </tr>\n",
       "    <tr>\n",
       "      <th id=\"T_f6c5c_level0_row5\" class=\"row_heading level0 row5\" >availability_30</th>\n",
       "      <td id=\"T_f6c5c_row5_col0\" class=\"data row5 col0\" >0.065165</td>\n",
       "      <td id=\"T_f6c5c_row5_col1\" class=\"data row5 col1\" >0.006605</td>\n",
       "      <td id=\"T_f6c5c_row5_col2\" class=\"data row5 col2\" >9.866050</td>\n",
       "      <td id=\"T_f6c5c_row5_col3\" class=\"data row5 col3\" >0.000000</td>\n",
       "      <td id=\"T_f6c5c_row5_col4\" class=\"data row5 col4\" >0.052219</td>\n",
       "      <td id=\"T_f6c5c_row5_col5\" class=\"data row5 col5\" >0.078112</td>\n",
       "    </tr>\n",
       "    <tr>\n",
       "      <th id=\"T_f6c5c_level0_row6\" class=\"row_heading level0 row6\" >number_of_reviews_l30d</th>\n",
       "      <td id=\"T_f6c5c_row6_col0\" class=\"data row6 col0\" >0.062781</td>\n",
       "      <td id=\"T_f6c5c_row6_col1\" class=\"data row6 col1\" >0.019811</td>\n",
       "      <td id=\"T_f6c5c_row6_col2\" class=\"data row6 col2\" >3.168957</td>\n",
       "      <td id=\"T_f6c5c_row6_col3\" class=\"data row6 col3\" >0.001534</td>\n",
       "      <td id=\"T_f6c5c_row6_col4\" class=\"data row6 col4\" >0.023948</td>\n",
       "      <td id=\"T_f6c5c_row6_col5\" class=\"data row6 col5\" >0.101614</td>\n",
       "    </tr>\n",
       "    <tr>\n",
       "      <th id=\"T_f6c5c_level0_row7\" class=\"row_heading level0 row7\" >neighbourhood_Montréal-Est</th>\n",
       "      <td id=\"T_f6c5c_row7_col0\" class=\"data row7 col0\" >0.052947</td>\n",
       "      <td id=\"T_f6c5c_row7_col1\" class=\"data row7 col1\" >0.077274</td>\n",
       "      <td id=\"T_f6c5c_row7_col2\" class=\"data row7 col2\" >0.685180</td>\n",
       "      <td id=\"T_f6c5c_row7_col3\" class=\"data row7 col3\" >0.493243</td>\n",
       "      <td id=\"T_f6c5c_row7_col4\" class=\"data row7 col4\" >-0.098522</td>\n",
       "      <td id=\"T_f6c5c_row7_col5\" class=\"data row7 col5\" >0.204415</td>\n",
       "    </tr>\n",
       "    <tr>\n",
       "      <th id=\"T_f6c5c_level0_row8\" class=\"row_heading level0 row8\" >room_type_pca</th>\n",
       "      <td id=\"T_f6c5c_row8_col0\" class=\"data row8 col0\" >-0.047491</td>\n",
       "      <td id=\"T_f6c5c_row8_col1\" class=\"data row8 col1\" >0.002943</td>\n",
       "      <td id=\"T_f6c5c_row8_col2\" class=\"data row8 col2\" >-16.139514</td>\n",
       "      <td id=\"T_f6c5c_row8_col3\" class=\"data row8 col3\" >0.000000</td>\n",
       "      <td id=\"T_f6c5c_row8_col4\" class=\"data row8 col4\" >-0.053258</td>\n",
       "      <td id=\"T_f6c5c_row8_col5\" class=\"data row8 col5\" >-0.041723</td>\n",
       "    </tr>\n",
       "    <tr>\n",
       "      <th id=\"T_f6c5c_level0_row9\" class=\"row_heading level0 row9\" >availability_90</th>\n",
       "      <td id=\"T_f6c5c_row9_col0\" class=\"data row9 col0\" >0.047214</td>\n",
       "      <td id=\"T_f6c5c_row9_col1\" class=\"data row9 col1\" >0.011091</td>\n",
       "      <td id=\"T_f6c5c_row9_col2\" class=\"data row9 col2\" >4.256972</td>\n",
       "      <td id=\"T_f6c5c_row9_col3\" class=\"data row9 col3\" >0.000021</td>\n",
       "      <td id=\"T_f6c5c_row9_col4\" class=\"data row9 col4\" >0.025474</td>\n",
       "      <td id=\"T_f6c5c_row9_col5\" class=\"data row9 col5\" >0.068954</td>\n",
       "    </tr>\n",
       "    <tr>\n",
       "      <th id=\"T_f6c5c_level0_row10\" class=\"row_heading level0 row10\" >neighbourhood_Sainte-Anne-de-Bellevue</th>\n",
       "      <td id=\"T_f6c5c_row10_col0\" class=\"data row10 col0\" >-0.044068</td>\n",
       "      <td id=\"T_f6c5c_row10_col1\" class=\"data row10 col1\" >0.029398</td>\n",
       "      <td id=\"T_f6c5c_row10_col2\" class=\"data row10 col2\" >-1.499000</td>\n",
       "      <td id=\"T_f6c5c_row10_col3\" class=\"data row10 col3\" >0.133899</td>\n",
       "      <td id=\"T_f6c5c_row10_col4\" class=\"data row10 col4\" >-0.101694</td>\n",
       "      <td id=\"T_f6c5c_row10_col5\" class=\"data row10 col5\" >0.013557</td>\n",
       "    </tr>\n",
       "    <tr>\n",
       "      <th id=\"T_f6c5c_level0_row11\" class=\"row_heading level0 row11\" >neighbourhood_Westmount</th>\n",
       "      <td id=\"T_f6c5c_row11_col0\" class=\"data row11 col0\" >0.042538</td>\n",
       "      <td id=\"T_f6c5c_row11_col1\" class=\"data row11 col1\" >0.010543</td>\n",
       "      <td id=\"T_f6c5c_row11_col2\" class=\"data row11 col2\" >4.034818</td>\n",
       "      <td id=\"T_f6c5c_row11_col3\" class=\"data row11 col3\" >0.000055</td>\n",
       "      <td id=\"T_f6c5c_row11_col4\" class=\"data row11 col4\" >0.021873</td>\n",
       "      <td id=\"T_f6c5c_row11_col5\" class=\"data row11 col5\" >0.063204</td>\n",
       "    </tr>\n",
       "    <tr>\n",
       "      <th id=\"T_f6c5c_level0_row12\" class=\"row_heading level0 row12\" >bath_is_shared</th>\n",
       "      <td id=\"T_f6c5c_row12_col0\" class=\"data row12 col0\" >-0.042093</td>\n",
       "      <td id=\"T_f6c5c_row12_col1\" class=\"data row12 col1\" >0.003154</td>\n",
       "      <td id=\"T_f6c5c_row12_col2\" class=\"data row12 col2\" >-13.344253</td>\n",
       "      <td id=\"T_f6c5c_row12_col3\" class=\"data row12 col3\" >0.000000</td>\n",
       "      <td id=\"T_f6c5c_row12_col4\" class=\"data row12 col4\" >-0.048276</td>\n",
       "      <td id=\"T_f6c5c_row12_col5\" class=\"data row12 col5\" >-0.035910</td>\n",
       "    </tr>\n",
       "    <tr>\n",
       "      <th id=\"T_f6c5c_level0_row13\" class=\"row_heading level0 row13\" >availability_60</th>\n",
       "      <td id=\"T_f6c5c_row13_col0\" class=\"data row13 col0\" >-0.041829</td>\n",
       "      <td id=\"T_f6c5c_row13_col1\" class=\"data row13 col1\" >0.014686</td>\n",
       "      <td id=\"T_f6c5c_row13_col2\" class=\"data row13 col2\" >-2.848200</td>\n",
       "      <td id=\"T_f6c5c_row13_col3\" class=\"data row13 col3\" >0.004404</td>\n",
       "      <td id=\"T_f6c5c_row13_col4\" class=\"data row13 col4\" >-0.070616</td>\n",
       "      <td id=\"T_f6c5c_row13_col5\" class=\"data row13 col5\" >-0.013042</td>\n",
       "    </tr>\n",
       "    <tr>\n",
       "      <th id=\"T_f6c5c_level0_row14\" class=\"row_heading level0 row14\" >neighbourhood_Hampstead</th>\n",
       "      <td id=\"T_f6c5c_row14_col0\" class=\"data row14 col0\" >0.041795</td>\n",
       "      <td id=\"T_f6c5c_row14_col1\" class=\"data row14 col1\" >0.027533</td>\n",
       "      <td id=\"T_f6c5c_row14_col2\" class=\"data row14 col2\" >1.517988</td>\n",
       "      <td id=\"T_f6c5c_row14_col3\" class=\"data row14 col3\" >0.129043</td>\n",
       "      <td id=\"T_f6c5c_row14_col4\" class=\"data row14 col4\" >-0.012174</td>\n",
       "      <td id=\"T_f6c5c_row14_col5\" class=\"data row14 col5\" >0.095764</td>\n",
       "    </tr>\n",
       "    <tr>\n",
       "      <th id=\"T_f6c5c_level0_row15\" class=\"row_heading level0 row15\" >number_of_reviews_ltm</th>\n",
       "      <td id=\"T_f6c5c_row15_col0\" class=\"data row15 col0\" >-0.041748</td>\n",
       "      <td id=\"T_f6c5c_row15_col1\" class=\"data row15 col1\" >0.015561</td>\n",
       "      <td id=\"T_f6c5c_row15_col2\" class=\"data row15 col2\" >-2.682928</td>\n",
       "      <td id=\"T_f6c5c_row15_col3\" class=\"data row15 col3\" >0.007308</td>\n",
       "      <td id=\"T_f6c5c_row15_col4\" class=\"data row15 col4\" >-0.072250</td>\n",
       "      <td id=\"T_f6c5c_row15_col5\" class=\"data row15 col5\" >-0.011247</td>\n",
       "    </tr>\n",
       "    <tr>\n",
       "      <th id=\"T_f6c5c_level0_row16\" class=\"row_heading level0 row16\" >neighbourhood_Pointe-Claire</th>\n",
       "      <td id=\"T_f6c5c_row16_col0\" class=\"data row16 col0\" >0.036349</td>\n",
       "      <td id=\"T_f6c5c_row16_col1\" class=\"data row16 col1\" >0.012333</td>\n",
       "      <td id=\"T_f6c5c_row16_col2\" class=\"data row16 col2\" >2.947316</td>\n",
       "      <td id=\"T_f6c5c_row16_col3\" class=\"data row16 col3\" >0.003211</td>\n",
       "      <td id=\"T_f6c5c_row16_col4\" class=\"data row16 col4\" >0.012175</td>\n",
       "      <td id=\"T_f6c5c_row16_col5\" class=\"data row16 col5\" >0.060524</td>\n",
       "    </tr>\n",
       "    <tr>\n",
       "      <th id=\"T_f6c5c_level0_row17\" class=\"row_heading level0 row17\" >neighbourhood_Dorval</th>\n",
       "      <td id=\"T_f6c5c_row17_col0\" class=\"data row17 col0\" >0.036072</td>\n",
       "      <td id=\"T_f6c5c_row17_col1\" class=\"data row17 col1\" >0.014805</td>\n",
       "      <td id=\"T_f6c5c_row17_col2\" class=\"data row17 col2\" >2.436533</td>\n",
       "      <td id=\"T_f6c5c_row17_col3\" class=\"data row17 col3\" >0.014843</td>\n",
       "      <td id=\"T_f6c5c_row17_col4\" class=\"data row17 col4\" >0.007053</td>\n",
       "      <td id=\"T_f6c5c_row17_col5\" class=\"data row17 col5\" >0.065092</td>\n",
       "    </tr>\n",
       "    <tr>\n",
       "      <th id=\"T_f6c5c_level0_row18\" class=\"row_heading level0 row18\" >neighbourhood_Ville-Marie</th>\n",
       "      <td id=\"T_f6c5c_row18_col0\" class=\"data row18 col0\" >0.034832</td>\n",
       "      <td id=\"T_f6c5c_row18_col1\" class=\"data row18 col1\" >0.003922</td>\n",
       "      <td id=\"T_f6c5c_row18_col2\" class=\"data row18 col2\" >8.880341</td>\n",
       "      <td id=\"T_f6c5c_row18_col3\" class=\"data row18 col3\" >0.000000</td>\n",
       "      <td id=\"T_f6c5c_row18_col4\" class=\"data row18 col4\" >0.027143</td>\n",
       "      <td id=\"T_f6c5c_row18_col5\" class=\"data row18 col5\" >0.042520</td>\n",
       "    </tr>\n",
       "    <tr>\n",
       "      <th id=\"T_f6c5c_level0_row19\" class=\"row_heading level0 row19\" >neighbourhood_Montréal-Ouest</th>\n",
       "      <td id=\"T_f6c5c_row19_col0\" class=\"data row19 col0\" >-0.031196</td>\n",
       "      <td id=\"T_f6c5c_row19_col1\" class=\"data row19 col1\" >0.029415</td>\n",
       "      <td id=\"T_f6c5c_row19_col2\" class=\"data row19 col2\" >-1.060558</td>\n",
       "      <td id=\"T_f6c5c_row19_col3\" class=\"data row19 col3\" >0.288911</td>\n",
       "      <td id=\"T_f6c5c_row19_col4\" class=\"data row19 col4\" >-0.088853</td>\n",
       "      <td id=\"T_f6c5c_row19_col5\" class=\"data row19 col5\" >0.026461</td>\n",
       "    </tr>\n",
       "    <tr>\n",
       "      <th id=\"T_f6c5c_level0_row20\" class=\"row_heading level0 row20\" >maximum_nights</th>\n",
       "      <td id=\"T_f6c5c_row20_col0\" class=\"data row20 col0\" >0.030417</td>\n",
       "      <td id=\"T_f6c5c_row20_col1\" class=\"data row20 col1\" >0.069456</td>\n",
       "      <td id=\"T_f6c5c_row20_col2\" class=\"data row20 col2\" >0.437937</td>\n",
       "      <td id=\"T_f6c5c_row20_col3\" class=\"data row20 col3\" >0.661439</td>\n",
       "      <td id=\"T_f6c5c_row20_col4\" class=\"data row20 col4\" >-0.105727</td>\n",
       "      <td id=\"T_f6c5c_row20_col5\" class=\"data row20 col5\" >0.166562</td>\n",
       "    </tr>\n",
       "    <tr>\n",
       "      <th id=\"T_f6c5c_level0_row21\" class=\"row_heading level0 row21\" >neighbourhood_Côte-Saint-Luc</th>\n",
       "      <td id=\"T_f6c5c_row21_col0\" class=\"data row21 col0\" >0.030217</td>\n",
       "      <td id=\"T_f6c5c_row21_col1\" class=\"data row21 col1\" >0.011319</td>\n",
       "      <td id=\"T_f6c5c_row21_col2\" class=\"data row21 col2\" >2.669636</td>\n",
       "      <td id=\"T_f6c5c_row21_col3\" class=\"data row21 col3\" >0.007603</td>\n",
       "      <td id=\"T_f6c5c_row21_col4\" class=\"data row21 col4\" >0.008030</td>\n",
       "      <td id=\"T_f6c5c_row21_col5\" class=\"data row21 col5\" >0.052403</td>\n",
       "    </tr>\n",
       "    <tr>\n",
       "      <th id=\"T_f6c5c_level0_row22\" class=\"row_heading level0 row22\" >neighbourhood_Kirkland</th>\n",
       "      <td id=\"T_f6c5c_row22_col0\" class=\"data row22 col0\" >0.030013</td>\n",
       "      <td id=\"T_f6c5c_row22_col1\" class=\"data row22 col1\" >0.029401</td>\n",
       "      <td id=\"T_f6c5c_row22_col2\" class=\"data row22 col2\" >1.020794</td>\n",
       "      <td id=\"T_f6c5c_row22_col3\" class=\"data row22 col3\" >0.307372</td>\n",
       "      <td id=\"T_f6c5c_row22_col4\" class=\"data row22 col4\" >-0.027618</td>\n",
       "      <td id=\"T_f6c5c_row22_col5\" class=\"data row22 col5\" >0.087643</td>\n",
       "    </tr>\n",
       "    <tr>\n",
       "      <th id=\"T_f6c5c_level0_row23\" class=\"row_heading level0 row23\" >neighbourhood_Outremont</th>\n",
       "      <td id=\"T_f6c5c_row23_col0\" class=\"data row23 col0\" >0.025752</td>\n",
       "      <td id=\"T_f6c5c_row23_col1\" class=\"data row23 col1\" >0.007736</td>\n",
       "      <td id=\"T_f6c5c_row23_col2\" class=\"data row23 col2\" >3.328966</td>\n",
       "      <td id=\"T_f6c5c_row23_col3\" class=\"data row23 col3\" >0.000874</td>\n",
       "      <td id=\"T_f6c5c_row23_col4\" class=\"data row23 col4\" >0.010589</td>\n",
       "      <td id=\"T_f6c5c_row23_col5\" class=\"data row23 col5\" >0.040916</td>\n",
       "    </tr>\n",
       "    <tr>\n",
       "      <th id=\"T_f6c5c_level0_row24\" class=\"row_heading level0 row24\" >number_of_reviews</th>\n",
       "      <td id=\"T_f6c5c_row24_col0\" class=\"data row24 col0\" >0.024495</td>\n",
       "      <td id=\"T_f6c5c_row24_col1\" class=\"data row24 col1\" >0.014372</td>\n",
       "      <td id=\"T_f6c5c_row24_col2\" class=\"data row24 col2\" >1.704364</td>\n",
       "      <td id=\"T_f6c5c_row24_col3\" class=\"data row24 col3\" >0.088338</td>\n",
       "      <td id=\"T_f6c5c_row24_col4\" class=\"data row24 col4\" >-0.003676</td>\n",
       "      <td id=\"T_f6c5c_row24_col5\" class=\"data row24 col5\" >0.052667</td>\n",
       "    </tr>\n",
       "    <tr>\n",
       "      <th id=\"T_f6c5c_level0_row25\" class=\"row_heading level0 row25\" >reviews_per_month</th>\n",
       "      <td id=\"T_f6c5c_row25_col0\" class=\"data row25 col0\" >-0.024436</td>\n",
       "      <td id=\"T_f6c5c_row25_col1\" class=\"data row25 col1\" >0.013543</td>\n",
       "      <td id=\"T_f6c5c_row25_col2\" class=\"data row25 col2\" >-1.804414</td>\n",
       "      <td id=\"T_f6c5c_row25_col3\" class=\"data row25 col3\" >0.071191</td>\n",
       "      <td id=\"T_f6c5c_row25_col4\" class=\"data row25 col4\" >-0.050982</td>\n",
       "      <td id=\"T_f6c5c_row25_col5\" class=\"data row25 col5\" >0.002109</td>\n",
       "    </tr>\n",
       "    <tr>\n",
       "      <th id=\"T_f6c5c_level0_row26\" class=\"row_heading level0 row26\" >neighbourhood_Le Plateau-Mont-Royal</th>\n",
       "      <td id=\"T_f6c5c_row26_col0\" class=\"data row26 col0\" >0.024225</td>\n",
       "      <td id=\"T_f6c5c_row26_col1\" class=\"data row26 col1\" >0.003948</td>\n",
       "      <td id=\"T_f6c5c_row26_col2\" class=\"data row26 col2\" >6.135748</td>\n",
       "      <td id=\"T_f6c5c_row26_col3\" class=\"data row26 col3\" >0.000000</td>\n",
       "      <td id=\"T_f6c5c_row26_col4\" class=\"data row26 col4\" >0.016486</td>\n",
       "      <td id=\"T_f6c5c_row26_col5\" class=\"data row26 col5\" >0.031964</td>\n",
       "    </tr>\n",
       "    <tr>\n",
       "      <th id=\"T_f6c5c_level0_row27\" class=\"row_heading level0 row27\" >neighbourhood_Anjou</th>\n",
       "      <td id=\"T_f6c5c_row27_col0\" class=\"data row27 col0\" >-0.021982</td>\n",
       "      <td id=\"T_f6c5c_row27_col1\" class=\"data row27 col1\" >0.012078</td>\n",
       "      <td id=\"T_f6c5c_row27_col2\" class=\"data row27 col2\" >-1.819908</td>\n",
       "      <td id=\"T_f6c5c_row27_col3\" class=\"data row27 col3\" >0.068797</td>\n",
       "      <td id=\"T_f6c5c_row27_col4\" class=\"data row27 col4\" >-0.045657</td>\n",
       "      <td id=\"T_f6c5c_row27_col5\" class=\"data row27 col5\" >0.001694</td>\n",
       "    </tr>\n",
       "    <tr>\n",
       "      <th id=\"T_f6c5c_level0_row28\" class=\"row_heading level0 row28\" >has_availability_t</th>\n",
       "      <td id=\"T_f6c5c_row28_col0\" class=\"data row28 col0\" >-0.015978</td>\n",
       "      <td id=\"T_f6c5c_row28_col1\" class=\"data row28 col1\" >0.003720</td>\n",
       "      <td id=\"T_f6c5c_row28_col2\" class=\"data row28 col2\" >-4.295549</td>\n",
       "      <td id=\"T_f6c5c_row28_col3\" class=\"data row28 col3\" >0.000018</td>\n",
       "      <td id=\"T_f6c5c_row28_col4\" class=\"data row28 col4\" >-0.023269</td>\n",
       "      <td id=\"T_f6c5c_row28_col5\" class=\"data row28 col5\" >-0.008687</td>\n",
       "    </tr>\n",
       "    <tr>\n",
       "      <th id=\"T_f6c5c_level0_row29\" class=\"row_heading level0 row29\" >neighbourhood_Pierrefonds-Roxboro</th>\n",
       "      <td id=\"T_f6c5c_row29_col0\" class=\"data row29 col0\" >0.015659</td>\n",
       "      <td id=\"T_f6c5c_row29_col1\" class=\"data row29 col1\" >0.011323</td>\n",
       "      <td id=\"T_f6c5c_row29_col2\" class=\"data row29 col2\" >1.382932</td>\n",
       "      <td id=\"T_f6c5c_row29_col3\" class=\"data row29 col3\" >0.166710</td>\n",
       "      <td id=\"T_f6c5c_row29_col4\" class=\"data row29 col4\" >-0.006536</td>\n",
       "      <td id=\"T_f6c5c_row29_col5\" class=\"data row29 col5\" >0.037853</td>\n",
       "    </tr>\n",
       "    <tr>\n",
       "      <th id=\"T_f6c5c_level0_row30\" class=\"row_heading level0 row30\" >neighbourhood_Beaconsfield</th>\n",
       "      <td id=\"T_f6c5c_row30_col0\" class=\"data row30 col0\" >-0.014819</td>\n",
       "      <td id=\"T_f6c5c_row30_col1\" class=\"data row30 col1\" >0.016525</td>\n",
       "      <td id=\"T_f6c5c_row30_col2\" class=\"data row30 col2\" >-0.896758</td>\n",
       "      <td id=\"T_f6c5c_row30_col3\" class=\"data row30 col3\" >0.369865</td>\n",
       "      <td id=\"T_f6c5c_row30_col4\" class=\"data row30 col4\" >-0.047211</td>\n",
       "      <td id=\"T_f6c5c_row30_col5\" class=\"data row30 col5\" >0.017573</td>\n",
       "    </tr>\n",
       "    <tr>\n",
       "      <th id=\"T_f6c5c_level0_row31\" class=\"row_heading level0 row31\" >neighbourhood_Le Sud-Ouest</th>\n",
       "      <td id=\"T_f6c5c_row31_col0\" class=\"data row31 col0\" >0.013694</td>\n",
       "      <td id=\"T_f6c5c_row31_col1\" class=\"data row31 col1\" >0.004490</td>\n",
       "      <td id=\"T_f6c5c_row31_col2\" class=\"data row31 col2\" >3.050017</td>\n",
       "      <td id=\"T_f6c5c_row31_col3\" class=\"data row31 col3\" >0.002293</td>\n",
       "      <td id=\"T_f6c5c_row31_col4\" class=\"data row31 col4\" >0.004893</td>\n",
       "      <td id=\"T_f6c5c_row31_col5\" class=\"data row31 col5\" >0.022495</td>\n",
       "    </tr>\n",
       "    <tr>\n",
       "      <th id=\"T_f6c5c_level0_row32\" class=\"row_heading level0 row32\" >neighbourhood_Ahuntsic-Cartierville</th>\n",
       "      <td id=\"T_f6c5c_row32_col0\" class=\"data row32 col0\" >-0.013294</td>\n",
       "      <td id=\"T_f6c5c_row32_col1\" class=\"data row32 col1\" >0.005941</td>\n",
       "      <td id=\"T_f6c5c_row32_col2\" class=\"data row32 col2\" >-2.237731</td>\n",
       "      <td id=\"T_f6c5c_row32_col3\" class=\"data row32 col3\" >0.025256</td>\n",
       "      <td id=\"T_f6c5c_row32_col4\" class=\"data row32 col4\" >-0.024939</td>\n",
       "      <td id=\"T_f6c5c_row32_col5\" class=\"data row32 col5\" >-0.001649</td>\n",
       "    </tr>\n",
       "    <tr>\n",
       "      <th id=\"T_f6c5c_level0_row33\" class=\"row_heading level0 row33\" >neighbourhood_L'Île-Bizard-Sainte-Geneviève</th>\n",
       "      <td id=\"T_f6c5c_row33_col0\" class=\"data row33 col0\" >0.012376</td>\n",
       "      <td id=\"T_f6c5c_row33_col1\" class=\"data row33 col1\" >0.023558</td>\n",
       "      <td id=\"T_f6c5c_row33_col2\" class=\"data row33 col2\" >0.525327</td>\n",
       "      <td id=\"T_f6c5c_row33_col3\" class=\"data row33 col3\" >0.599365</td>\n",
       "      <td id=\"T_f6c5c_row33_col4\" class=\"data row33 col4\" >-0.033802</td>\n",
       "      <td id=\"T_f6c5c_row33_col5\" class=\"data row33 col5\" >0.058553</td>\n",
       "    </tr>\n",
       "    <tr>\n",
       "      <th id=\"T_f6c5c_level0_row34\" class=\"row_heading level0 row34\" >neighbourhood_Rivière-des-Prairies-Pointe-aux-Trembles</th>\n",
       "      <td id=\"T_f6c5c_row34_col0\" class=\"data row34 col0\" >-0.010400</td>\n",
       "      <td id=\"T_f6c5c_row34_col1\" class=\"data row34 col1\" >0.010544</td>\n",
       "      <td id=\"T_f6c5c_row34_col2\" class=\"data row34 col2\" >-0.986330</td>\n",
       "      <td id=\"T_f6c5c_row34_col3\" class=\"data row34 col3\" >0.323990</td>\n",
       "      <td id=\"T_f6c5c_row34_col4\" class=\"data row34 col4\" >-0.031069</td>\n",
       "      <td id=\"T_f6c5c_row34_col5\" class=\"data row34 col5\" >0.010268</td>\n",
       "    </tr>\n",
       "    <tr>\n",
       "      <th id=\"T_f6c5c_level0_row35\" class=\"row_heading level0 row35\" >neighbourhood_LaSalle</th>\n",
       "      <td id=\"T_f6c5c_row35_col0\" class=\"data row35 col0\" >-0.008715</td>\n",
       "      <td id=\"T_f6c5c_row35_col1\" class=\"data row35 col1\" >0.008313</td>\n",
       "      <td id=\"T_f6c5c_row35_col2\" class=\"data row35 col2\" >-1.048348</td>\n",
       "      <td id=\"T_f6c5c_row35_col3\" class=\"data row35 col3\" >0.294499</td>\n",
       "      <td id=\"T_f6c5c_row35_col4\" class=\"data row35 col4\" >-0.025011</td>\n",
       "      <td id=\"T_f6c5c_row35_col5\" class=\"data row35 col5\" >0.007580</td>\n",
       "    </tr>\n",
       "    <tr>\n",
       "      <th id=\"T_f6c5c_level0_row36\" class=\"row_heading level0 row36\" >neighbourhood_Montréal-Nord</th>\n",
       "      <td id=\"T_f6c5c_row36_col0\" class=\"data row36 col0\" >-0.008533</td>\n",
       "      <td id=\"T_f6c5c_row36_col1\" class=\"data row36 col1\" >0.010481</td>\n",
       "      <td id=\"T_f6c5c_row36_col2\" class=\"data row36 col2\" >-0.814145</td>\n",
       "      <td id=\"T_f6c5c_row36_col3\" class=\"data row36 col3\" >0.415577</td>\n",
       "      <td id=\"T_f6c5c_row36_col4\" class=\"data row36 col4\" >-0.029078</td>\n",
       "      <td id=\"T_f6c5c_row36_col5\" class=\"data row36 col5\" >0.012012</td>\n",
       "    </tr>\n",
       "    <tr>\n",
       "      <th id=\"T_f6c5c_level0_row37\" class=\"row_heading level0 row37\" >neighbourhood_Villeray-Saint-Michel-Parc-Extension</th>\n",
       "      <td id=\"T_f6c5c_row37_col0\" class=\"data row37 col0\" >-0.007384</td>\n",
       "      <td id=\"T_f6c5c_row37_col1\" class=\"data row37 col1\" >0.004817</td>\n",
       "      <td id=\"T_f6c5c_row37_col2\" class=\"data row37 col2\" >-1.532807</td>\n",
       "      <td id=\"T_f6c5c_row37_col3\" class=\"data row37 col3\" >0.125349</td>\n",
       "      <td id=\"T_f6c5c_row37_col4\" class=\"data row37 col4\" >-0.016827</td>\n",
       "      <td id=\"T_f6c5c_row37_col5\" class=\"data row37 col5\" >0.002059</td>\n",
       "    </tr>\n",
       "    <tr>\n",
       "      <th id=\"T_f6c5c_level0_row38\" class=\"row_heading level0 row38\" >neighbourhood_Côte-des-Neiges-Notre-Dame-de-Grâce</th>\n",
       "      <td id=\"T_f6c5c_row38_col0\" class=\"data row38 col0\" >-0.006655</td>\n",
       "      <td id=\"T_f6c5c_row38_col1\" class=\"data row38 col1\" >0.004448</td>\n",
       "      <td id=\"T_f6c5c_row38_col2\" class=\"data row38 col2\" >-1.495943</td>\n",
       "      <td id=\"T_f6c5c_row38_col3\" class=\"data row38 col3\" >0.134694</td>\n",
       "      <td id=\"T_f6c5c_row38_col4\" class=\"data row38 col4\" >-0.015374</td>\n",
       "      <td id=\"T_f6c5c_row38_col5\" class=\"data row38 col5\" >0.002065</td>\n",
       "    </tr>\n",
       "    <tr>\n",
       "      <th id=\"T_f6c5c_level0_row39\" class=\"row_heading level0 row39\" >neighbourhood_Dollard-des-Ormeaux</th>\n",
       "      <td id=\"T_f6c5c_row39_col0\" class=\"data row39 col0\" >-0.006269</td>\n",
       "      <td id=\"T_f6c5c_row39_col1\" class=\"data row39 col1\" >0.014140</td>\n",
       "      <td id=\"T_f6c5c_row39_col2\" class=\"data row39 col2\" >-0.443303</td>\n",
       "      <td id=\"T_f6c5c_row39_col3\" class=\"data row39 col3\" >0.657554</td>\n",
       "      <td id=\"T_f6c5c_row39_col4\" class=\"data row39 col4\" >-0.033986</td>\n",
       "      <td id=\"T_f6c5c_row39_col5\" class=\"data row39 col5\" >0.021449</td>\n",
       "    </tr>\n",
       "    <tr>\n",
       "      <th id=\"T_f6c5c_level0_row40\" class=\"row_heading level0 row40\" >bookable_t</th>\n",
       "      <td id=\"T_f6c5c_row40_col0\" class=\"data row40 col0\" >-0.005362</td>\n",
       "      <td id=\"T_f6c5c_row40_col1\" class=\"data row40 col1\" >0.001545</td>\n",
       "      <td id=\"T_f6c5c_row40_col2\" class=\"data row40 col2\" >-3.469753</td>\n",
       "      <td id=\"T_f6c5c_row40_col3\" class=\"data row40 col3\" >0.000523</td>\n",
       "      <td id=\"T_f6c5c_row40_col4\" class=\"data row40 col4\" >-0.008392</td>\n",
       "      <td id=\"T_f6c5c_row40_col5\" class=\"data row40 col5\" >-0.002333</td>\n",
       "    </tr>\n",
       "    <tr>\n",
       "      <th id=\"T_f6c5c_level0_row41\" class=\"row_heading level0 row41\" >neighbourhood_Mercier-Hochelaga-Maisonneuve</th>\n",
       "      <td id=\"T_f6c5c_row41_col0\" class=\"data row41 col0\" >-0.005146</td>\n",
       "      <td id=\"T_f6c5c_row41_col1\" class=\"data row41 col1\" >0.004750</td>\n",
       "      <td id=\"T_f6c5c_row41_col2\" class=\"data row41 col2\" >-1.083387</td>\n",
       "      <td id=\"T_f6c5c_row41_col3\" class=\"data row41 col3\" >0.278657</td>\n",
       "      <td id=\"T_f6c5c_row41_col4\" class=\"data row41 col4\" >-0.014457</td>\n",
       "      <td id=\"T_f6c5c_row41_col5\" class=\"data row41 col5\" >0.004165</td>\n",
       "    </tr>\n",
       "    <tr>\n",
       "      <th id=\"T_f6c5c_level0_row42\" class=\"row_heading level0 row42\" >review_pca</th>\n",
       "      <td id=\"T_f6c5c_row42_col0\" class=\"data row42 col0\" >0.005063</td>\n",
       "      <td id=\"T_f6c5c_row42_col1\" class=\"data row42 col1\" >0.001968</td>\n",
       "      <td id=\"T_f6c5c_row42_col2\" class=\"data row42 col2\" >2.572645</td>\n",
       "      <td id=\"T_f6c5c_row42_col3\" class=\"data row42 col3\" >0.010104</td>\n",
       "      <td id=\"T_f6c5c_row42_col4\" class=\"data row42 col4\" >0.001205</td>\n",
       "      <td id=\"T_f6c5c_row42_col5\" class=\"data row42 col5\" >0.008921</td>\n",
       "    </tr>\n",
       "    <tr>\n",
       "      <th id=\"T_f6c5c_level0_row43\" class=\"row_heading level0 row43\" >neighbourhood_Verdun</th>\n",
       "      <td id=\"T_f6c5c_row43_col0\" class=\"data row43 col0\" >-0.004649</td>\n",
       "      <td id=\"T_f6c5c_row43_col1\" class=\"data row43 col1\" >0.005878</td>\n",
       "      <td id=\"T_f6c5c_row43_col2\" class=\"data row43 col2\" >-0.790850</td>\n",
       "      <td id=\"T_f6c5c_row43_col3\" class=\"data row43 col3\" >0.429047</td>\n",
       "      <td id=\"T_f6c5c_row43_col4\" class=\"data row43 col4\" >-0.016170</td>\n",
       "      <td id=\"T_f6c5c_row43_col5\" class=\"data row43 col5\" >0.006873</td>\n",
       "    </tr>\n",
       "    <tr>\n",
       "      <th id=\"T_f6c5c_level0_row44\" class=\"row_heading level0 row44\" >neighbourhood_Rosemont-La Petite-Patrie</th>\n",
       "      <td id=\"T_f6c5c_row44_col0\" class=\"data row44 col0\" >0.004565</td>\n",
       "      <td id=\"T_f6c5c_row44_col1\" class=\"data row44 col1\" >0.004390</td>\n",
       "      <td id=\"T_f6c5c_row44_col2\" class=\"data row44 col2\" >1.039966</td>\n",
       "      <td id=\"T_f6c5c_row44_col3\" class=\"data row44 col3\" >0.298376</td>\n",
       "      <td id=\"T_f6c5c_row44_col4\" class=\"data row44 col4\" >-0.004040</td>\n",
       "      <td id=\"T_f6c5c_row44_col5\" class=\"data row44 col5\" >0.013170</td>\n",
       "    </tr>\n",
       "    <tr>\n",
       "      <th id=\"T_f6c5c_level0_row45\" class=\"row_heading level0 row45\" >neighbourhood_Saint-Laurent</th>\n",
       "      <td id=\"T_f6c5c_row45_col0\" class=\"data row45 col0\" >0.002401</td>\n",
       "      <td id=\"T_f6c5c_row45_col1\" class=\"data row45 col1\" >0.007139</td>\n",
       "      <td id=\"T_f6c5c_row45_col2\" class=\"data row45 col2\" >0.336287</td>\n",
       "      <td id=\"T_f6c5c_row45_col3\" class=\"data row45 col3\" >0.736660</td>\n",
       "      <td id=\"T_f6c5c_row45_col4\" class=\"data row45 col4\" >-0.011593</td>\n",
       "      <td id=\"T_f6c5c_row45_col5\" class=\"data row45 col5\" >0.016394</td>\n",
       "    </tr>\n",
       "    <tr>\n",
       "      <th id=\"T_f6c5c_level0_row46\" class=\"row_heading level0 row46\" >neighbourhood_Mont-Royal</th>\n",
       "      <td id=\"T_f6c5c_row46_col0\" class=\"data row46 col0\" >0.002004</td>\n",
       "      <td id=\"T_f6c5c_row46_col1\" class=\"data row46 col1\" >0.012347</td>\n",
       "      <td id=\"T_f6c5c_row46_col2\" class=\"data row46 col2\" >0.162268</td>\n",
       "      <td id=\"T_f6c5c_row46_col3\" class=\"data row46 col3\" >0.871097</td>\n",
       "      <td id=\"T_f6c5c_row46_col4\" class=\"data row46 col4\" >-0.022199</td>\n",
       "      <td id=\"T_f6c5c_row46_col5\" class=\"data row46 col5\" >0.026206</td>\n",
       "    </tr>\n",
       "    <tr>\n",
       "      <th id=\"T_f6c5c_level0_row47\" class=\"row_heading level0 row47\" >availability_365</th>\n",
       "      <td id=\"T_f6c5c_row47_col0\" class=\"data row47 col0\" >0.001541</td>\n",
       "      <td id=\"T_f6c5c_row47_col1\" class=\"data row47 col1\" >0.002882</td>\n",
       "      <td id=\"T_f6c5c_row47_col2\" class=\"data row47 col2\" >0.534764</td>\n",
       "      <td id=\"T_f6c5c_row47_col3\" class=\"data row47 col3\" >0.592823</td>\n",
       "      <td id=\"T_f6c5c_row47_col4\" class=\"data row47 col4\" >-0.004108</td>\n",
       "      <td id=\"T_f6c5c_row47_col5\" class=\"data row47 col5\" >0.007191</td>\n",
       "    </tr>\n",
       "    <tr>\n",
       "      <th id=\"T_f6c5c_level0_row48\" class=\"row_heading level0 row48\" >neighbourhood_Saint-Léonard</th>\n",
       "      <td id=\"T_f6c5c_row48_col0\" class=\"data row48 col0\" >0.001536</td>\n",
       "      <td id=\"T_f6c5c_row48_col1\" class=\"data row48 col1\" >0.010872</td>\n",
       "      <td id=\"T_f6c5c_row48_col2\" class=\"data row48 col2\" >0.141307</td>\n",
       "      <td id=\"T_f6c5c_row48_col3\" class=\"data row48 col3\" >0.887630</td>\n",
       "      <td id=\"T_f6c5c_row48_col4\" class=\"data row48 col4\" >-0.019775</td>\n",
       "      <td id=\"T_f6c5c_row48_col5\" class=\"data row48 col5\" >0.022848</td>\n",
       "    </tr>\n",
       "    <tr>\n",
       "      <th id=\"T_f6c5c_level0_row49\" class=\"row_heading level0 row49\" >neighbourhood_Lachine</th>\n",
       "      <td id=\"T_f6c5c_row49_col0\" class=\"data row49 col0\" >-0.001496</td>\n",
       "      <td id=\"T_f6c5c_row49_col1\" class=\"data row49 col1\" >0.009103</td>\n",
       "      <td id=\"T_f6c5c_row49_col2\" class=\"data row49 col2\" >-0.164309</td>\n",
       "      <td id=\"T_f6c5c_row49_col3\" class=\"data row49 col3\" >0.869490</td>\n",
       "      <td id=\"T_f6c5c_row49_col4\" class=\"data row49 col4\" >-0.019340</td>\n",
       "      <td id=\"T_f6c5c_row49_col5\" class=\"data row49 col5\" >0.016348</td>\n",
       "    </tr>\n",
       "    <tr>\n",
       "      <th id=\"T_f6c5c_level0_row50\" class=\"row_heading level0 row50\" >neighbourhood_Baie-d'Urfé</th>\n",
       "      <td id=\"T_f6c5c_row50_col0\" class=\"data row50 col0\" >0.001066</td>\n",
       "      <td id=\"T_f6c5c_row50_col1\" class=\"data row50 col1\" >0.044701</td>\n",
       "      <td id=\"T_f6c5c_row50_col2\" class=\"data row50 col2\" >0.023855</td>\n",
       "      <td id=\"T_f6c5c_row50_col3\" class=\"data row50 col3\" >0.980968</td>\n",
       "      <td id=\"T_f6c5c_row50_col4\" class=\"data row50 col4\" >-0.086555</td>\n",
       "      <td id=\"T_f6c5c_row50_col5\" class=\"data row50 col5\" >0.088687</td>\n",
       "    </tr>\n",
       "  </tbody>\n",
       "</table>\n"
      ],
      "text/plain": [
       "<pandas.io.formats.style.Styler at 0x2668c352910>"
      ]
     },
     "execution_count": 54,
     "metadata": {},
     "output_type": "execute_result"
    }
   ],
   "source": [
    "results_df.sort_values(by=['coef'], key=abs, ascending=False, inplace=True)\n",
    "results_df.style.highlight_between(subset=['p_value'], left=0, right=0.05, color='#5fba7d')\\\n",
    "                .highlight_between(subset=['p_value'], left=0.05, right=1, color='#d65f5f')\\\n",
    "                .bar(subset=['coef'], align='zero', color=['#d65f5f', '#5fba7d'])"
   ]
  },
  {
   "cell_type": "markdown",
   "id": "6d1c9f47",
   "metadata": {},
   "source": [
    "## Results - Statistically Significant Features"
   ]
  },
  {
   "cell_type": "markdown",
   "id": "27fb6172",
   "metadata": {},
   "source": [
    "<br> Extracting the list of significant features\n",
    "<br> Note that <i>Neighbourhood</i> is always a significant factor in estimating the price"
   ]
  },
  {
   "cell_type": "code",
   "execution_count": 55,
   "id": "4188f7af",
   "metadata": {},
   "outputs": [
    {
     "name": "stdout",
     "output_type": "stream",
     "text": [
      "['bathroom_numbers', 'bedrooms', 'accommodates', 'beds', 'availability_30', 'number_of_reviews_l30d', 'room_type_pca', 'availability_90', 'bath_is_shared', 'availability_60', 'number_of_reviews_ltm', 'has_availability_t', 'bookable_t', 'review_pca']\n"
     ]
    }
   ],
   "source": [
    "# List of significant features\n",
    "sign_feat = list(results_df[results_df['p_value']<0.05].index)\n",
    "\n",
    "# In addition to the neighbourhood, sign_feat is a list of features that \n",
    "# are statistically significant for describing the price\n",
    "sign_feat = [x for x in sign_feat if not x.startswith('neighbourhood')]\n",
    "print(sign_feat)\n",
    "\n",
    "# saving the list of significant features in a list (excluding neighbourhood)\n",
    "# this list/text_file will be used to compare the significant features in different cities\n",
    "textfile = open(f\"{city}_feat.txt\", \"w\")\n",
    "for element in sign_feat:\n",
    "    textfile.write(element + \"\\n\")\n",
    "textfile.close()"
   ]
  },
  {
   "cell_type": "markdown",
   "id": "7bb166f4",
   "metadata": {},
   "source": [
    "<br> List of <i>Neighbourhood</i> columns"
   ]
  },
  {
   "cell_type": "code",
   "execution_count": 56,
   "id": "e9655e4e",
   "metadata": {},
   "outputs": [],
   "source": [
    "neighbourhood_cols = [col for col in df_feat if col.startswith('neighbourhood')]"
   ]
  },
  {
   "cell_type": "markdown",
   "id": "2d89396b",
   "metadata": {},
   "source": [
    "## Model - Estimating Price"
   ]
  },
  {
   "cell_type": "code",
   "execution_count": 57,
   "id": "36e02b68",
   "metadata": {},
   "outputs": [],
   "source": [
    "X = df_feat[sign_feat + neighbourhood_cols] # Significant features and Neighbourhood\n",
    "y = df_target # log10_price"
   ]
  },
  {
   "cell_type": "code",
   "execution_count": 58,
   "id": "5efee160",
   "metadata": {},
   "outputs": [],
   "source": [
    "# using sklearn train_test_split and splitting the data into train and test sets\n",
    "from sklearn.model_selection import train_test_split\n",
    "\n",
    "X_train, X_test, y_train, y_test = train_test_split(X, y, test_size=0.33, random_state=42)"
   ]
  },
  {
   "cell_type": "code",
   "execution_count": 59,
   "id": "dfc0c598",
   "metadata": {},
   "outputs": [],
   "source": [
    "# using sklearn LinearRegression as the model\n",
    "from sklearn.linear_model import LinearRegression\n",
    "\n",
    "lm = LinearRegression()\n",
    "lm.fit(X_train,y_train)\n",
    "predictions = lm.predict(X_test)"
   ]
  },
  {
   "cell_type": "code",
   "execution_count": 60,
   "id": "8e750279",
   "metadata": {},
   "outputs": [
    {
     "data": {
      "image/png": "[encoded data removed]",
      "text/plain": [
       "<Figure size 720x504 with 1 Axes>"
      ]
     },
     "metadata": {
      "needs_background": "light"
     },
     "output_type": "display_data"
    }
   ],
   "source": [
    "# plotting the results\n",
    "# comparing price predictions with the test values\n",
    "x_values = scaler_target.inverse_transform(y_test)\n",
    "y_values = scaler_target.inverse_transform(predictions)\n",
    "min_value = min(min(x_values), min(y_values))\n",
    "max_value = max(max(x_values), max(y_values))\n",
    "\n",
    "fig, ax = plt.subplots(figsize=(10, 7))\n",
    "\n",
    "plt.plot([min_value,max_value],[min_value,max_value], color='black')\n",
    "sns.scatterplot(x=x_values[:,0], y=y_values[:,0], alpha=0.5)\n",
    "ax.set(xlabel='Actual Price', ylabel='Predicted Price', xlim=(1,4), ylim=(1,4));\n",
    "xy_range=np.arange(1, 5, step=1)\n",
    "ax.set_xticks(xy_range)\n",
    "ax.set_xticklabels(10**xy_range)\n",
    "ax.set_yticks(xy_range)\n",
    "ax.set_yticklabels(10**xy_range)\n",
    "ax.grid(True)"
   ]
  },
  {
   "cell_type": "markdown",
   "id": "2c68d9ea",
   "metadata": {},
   "source": [
    "<br> saving prediction results (predictions and y_test) to csv file"
   ]
  },
  {
   "cell_type": "code",
   "execution_count": 61,
   "id": "1a05fc30",
   "metadata": {},
   "outputs": [],
   "source": [
    "prediction_results = pd.DataFrame(data=(scaler_target.inverse_transform(predictions)[:,0]), columns=['predictions'])\n",
    "prediction_results['y_test'] = np.array(scaler_target.inverse_transform(y_test))\n",
    "\n",
    "prediction_results.to_csv(f'{city}_pred.csv', index=False);"
   ]
  },
  {
   "cell_type": "markdown",
   "id": "e6180993",
   "metadata": {},
   "source": [
    "### Evaluating the Model\n",
    "<br> using sklearn metrics\n",
    "<br> calculating r2_score, Mean Absolute Error, Mean Square Error, and Root Mean Square Error"
   ]
  },
  {
   "cell_type": "code",
   "execution_count": 62,
   "id": "cddf4983",
   "metadata": {},
   "outputs": [
    {
     "name": "stdout",
     "output_type": "stream",
     "text": [
      "r2_score: 0.43173327159396946\n",
      "MAE: 0.058336308526509104\n",
      "MSE: 0.006842342989511635\n",
      "RMSE: 0.08271845616010755\n"
     ]
    }
   ],
   "source": [
    "from sklearn import metrics\n",
    "\n",
    "print('r2_score:', metrics.r2_score(y_test, predictions))\n",
    "print('MAE:', metrics.mean_absolute_error(y_test, predictions))\n",
    "print('MSE:', metrics.mean_squared_error(y_test, predictions))\n",
    "print('RMSE:', np.sqrt(metrics.mean_squared_error(y_test, predictions)))"
   ]
  }
 ],
 "metadata": {
  "kernelspec": {
   "display_name": "Python 3 (ipykernel)",
   "language": "python",
   "name": "python3"
  },
  "language_info": {
   "codemirror_mode": {
    "name": "ipython",
    "version": 3
   },
   "file_extension": ".py",
   "mimetype": "text/x-python",
   "name": "python",
   "nbconvert_exporter": "python",
   "pygments_lexer": "ipython3",
   "version": "3.9.7"
  }
 },
 "nbformat": 4,
 "nbformat_minor": 5
}
