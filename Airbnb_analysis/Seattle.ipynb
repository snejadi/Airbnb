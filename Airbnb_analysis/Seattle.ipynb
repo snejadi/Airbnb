{
 "cells": [
  {
   "cell_type": "markdown",
   "id": "b9ebb0dc",
   "metadata": {},
   "source": [
    "# Estimating Airbnb listing price in Seattle"
   ]
  },
  {
   "cell_type": "markdown",
   "id": "9f48a6ee",
   "metadata": {},
   "source": [
    "<br> The objective of this project is to highlight listing features that should be used to estimate Airbnb listing prices. <br> We apply the workflow and evaluate data for the city of Seattle."
   ]
  },
  {
   "cell_type": "markdown",
   "id": "8514b1cc",
   "metadata": {},
   "source": [
    "<br> Importing necessary libraries"
   ]
  },
  {
   "cell_type": "code",
   "execution_count": 1,
   "id": "6cd3b747",
   "metadata": {},
   "outputs": [],
   "source": [
    "import numpy as np\n",
    "import pandas as pd\n",
    "import matplotlib.pyplot as plt\n",
    "import matplotlib as mpl\n",
    "import seaborn as sns\n",
    "%matplotlib inline"
   ]
  },
  {
   "cell_type": "markdown",
   "id": "b6d0ecdb",
   "metadata": {},
   "source": [
    "## The Data\n",
    "<br> Working with listing.csv file\n",
    "<br> The file has 74 columns\n",
    "<br> Here I start working on specific columns listed below and define them in: col_list_listings\n",
    "<br> In other words, I discard empty columns, url, names, etc."
   ]
  },
  {
   "cell_type": "code",
   "execution_count": 2,
   "id": "5a93fdcb",
   "metadata": {},
   "outputs": [],
   "source": [
    "col_list_listings = ['id', 'neighbourhood_cleansed', 'property_type', 'room_type', 'accommodates', 'bathrooms_text'\n",
    "                     , 'bedrooms', 'beds', 'price', 'minimum_nights', 'maximum_nights', 'has_availability'\n",
    "                     , 'availability_30', 'availability_60', 'availability_90', 'availability_365', 'number_of_reviews'\n",
    "                     , 'number_of_reviews_ltm', 'number_of_reviews_l30d', 'review_scores_rating', 'review_scores_accuracy'\n",
    "                     , 'review_scores_cleanliness', 'review_scores_checkin', 'review_scores_communication'\n",
    "                     , 'review_scores_location', 'review_scores_value', 'instant_bookable', 'reviews_per_month']"
   ]
  },
  {
   "cell_type": "markdown",
   "id": "e61310ae",
   "metadata": {},
   "source": [
    "## Load Data"
   ]
  },
  {
   "cell_type": "code",
   "execution_count": 3,
   "id": "cbfb6abf",
   "metadata": {},
   "outputs": [],
   "source": [
    "city='Seattle'\n",
    "data_fldr='../Airbnb_data/'\n",
    "\n",
    "df=pd.read_csv(data_fldr + city +'/listings.csv', usecols=col_list_listings)"
   ]
  },
  {
   "cell_type": "code",
   "execution_count": 4,
   "id": "7950b4e1",
   "metadata": {},
   "outputs": [],
   "source": [
    "df.set_index('id');"
   ]
  },
  {
   "cell_type": "code",
   "execution_count": 5,
   "id": "cb743db8",
   "metadata": {
    "scrolled": false
   },
   "outputs": [
    {
     "name": "stdout",
     "output_type": "stream",
     "text": [
      "(4686, 28)\n"
     ]
    }
   ],
   "source": [
    "print(df.shape)"
   ]
  },
  {
   "cell_type": "code",
   "execution_count": 6,
   "id": "1c22a3db",
   "metadata": {},
   "outputs": [
    {
     "data": {
      "text/html": [
       "<div>\n",
       "<style scoped>\n",
       "    .dataframe tbody tr th:only-of-type {\n",
       "        vertical-align: middle;\n",
       "    }\n",
       "\n",
       "    .dataframe tbody tr th {\n",
       "        vertical-align: top;\n",
       "    }\n",
       "\n",
       "    .dataframe thead th {\n",
       "        text-align: right;\n",
       "    }\n",
       "</style>\n",
       "<table border=\"1\" class=\"dataframe\">\n",
       "  <thead>\n",
       "    <tr style=\"text-align: right;\">\n",
       "      <th></th>\n",
       "      <th>count</th>\n",
       "      <th>mean</th>\n",
       "      <th>std</th>\n",
       "      <th>min</th>\n",
       "      <th>25%</th>\n",
       "      <th>50%</th>\n",
       "      <th>75%</th>\n",
       "      <th>max</th>\n",
       "    </tr>\n",
       "  </thead>\n",
       "  <tbody>\n",
       "    <tr>\n",
       "      <th>id</th>\n",
       "      <td>4686.0</td>\n",
       "      <td>3.359331e+07</td>\n",
       "      <td>1.710985e+07</td>\n",
       "      <td>2318.00</td>\n",
       "      <td>19386474.75</td>\n",
       "      <td>37381447.50</td>\n",
       "      <td>49910973.00</td>\n",
       "      <td>53904424.00</td>\n",
       "    </tr>\n",
       "    <tr>\n",
       "      <th>accommodates</th>\n",
       "      <td>4686.0</td>\n",
       "      <td>3.886470e+00</td>\n",
       "      <td>2.449298e+00</td>\n",
       "      <td>0.00</td>\n",
       "      <td>2.00</td>\n",
       "      <td>4.00</td>\n",
       "      <td>5.00</td>\n",
       "      <td>16.00</td>\n",
       "    </tr>\n",
       "    <tr>\n",
       "      <th>bedrooms</th>\n",
       "      <td>4061.0</td>\n",
       "      <td>1.692687e+00</td>\n",
       "      <td>1.019571e+00</td>\n",
       "      <td>1.00</td>\n",
       "      <td>1.00</td>\n",
       "      <td>1.00</td>\n",
       "      <td>2.00</td>\n",
       "      <td>8.00</td>\n",
       "    </tr>\n",
       "    <tr>\n",
       "      <th>beds</th>\n",
       "      <td>4579.0</td>\n",
       "      <td>2.069011e+00</td>\n",
       "      <td>1.447055e+00</td>\n",
       "      <td>1.00</td>\n",
       "      <td>1.00</td>\n",
       "      <td>2.00</td>\n",
       "      <td>3.00</td>\n",
       "      <td>16.00</td>\n",
       "    </tr>\n",
       "    <tr>\n",
       "      <th>minimum_nights</th>\n",
       "      <td>4686.0</td>\n",
       "      <td>1.377166e+01</td>\n",
       "      <td>2.060527e+01</td>\n",
       "      <td>1.00</td>\n",
       "      <td>2.00</td>\n",
       "      <td>3.00</td>\n",
       "      <td>30.00</td>\n",
       "      <td>365.00</td>\n",
       "    </tr>\n",
       "    <tr>\n",
       "      <th>maximum_nights</th>\n",
       "      <td>4686.0</td>\n",
       "      <td>5.603229e+02</td>\n",
       "      <td>5.210497e+02</td>\n",
       "      <td>1.00</td>\n",
       "      <td>31.00</td>\n",
       "      <td>365.00</td>\n",
       "      <td>1125.00</td>\n",
       "      <td>10000.00</td>\n",
       "    </tr>\n",
       "    <tr>\n",
       "      <th>availability_30</th>\n",
       "      <td>4686.0</td>\n",
       "      <td>1.234913e+01</td>\n",
       "      <td>1.044991e+01</td>\n",
       "      <td>0.00</td>\n",
       "      <td>1.00</td>\n",
       "      <td>11.00</td>\n",
       "      <td>21.00</td>\n",
       "      <td>30.00</td>\n",
       "    </tr>\n",
       "    <tr>\n",
       "      <th>availability_60</th>\n",
       "      <td>4686.0</td>\n",
       "      <td>3.135467e+01</td>\n",
       "      <td>2.102977e+01</td>\n",
       "      <td>0.00</td>\n",
       "      <td>12.00</td>\n",
       "      <td>35.00</td>\n",
       "      <td>49.00</td>\n",
       "      <td>60.00</td>\n",
       "    </tr>\n",
       "    <tr>\n",
       "      <th>availability_90</th>\n",
       "      <td>4686.0</td>\n",
       "      <td>5.229834e+01</td>\n",
       "      <td>3.075673e+01</td>\n",
       "      <td>0.00</td>\n",
       "      <td>25.00</td>\n",
       "      <td>61.00</td>\n",
       "      <td>78.00</td>\n",
       "      <td>90.00</td>\n",
       "    </tr>\n",
       "    <tr>\n",
       "      <th>availability_365</th>\n",
       "      <td>4686.0</td>\n",
       "      <td>1.940982e+02</td>\n",
       "      <td>1.241390e+02</td>\n",
       "      <td>0.00</td>\n",
       "      <td>79.00</td>\n",
       "      <td>179.00</td>\n",
       "      <td>321.00</td>\n",
       "      <td>365.00</td>\n",
       "    </tr>\n",
       "    <tr>\n",
       "      <th>number_of_reviews</th>\n",
       "      <td>4686.0</td>\n",
       "      <td>6.293641e+01</td>\n",
       "      <td>9.676724e+01</td>\n",
       "      <td>0.00</td>\n",
       "      <td>3.00</td>\n",
       "      <td>22.00</td>\n",
       "      <td>82.00</td>\n",
       "      <td>1071.00</td>\n",
       "    </tr>\n",
       "    <tr>\n",
       "      <th>number_of_reviews_ltm</th>\n",
       "      <td>4686.0</td>\n",
       "      <td>1.507149e+01</td>\n",
       "      <td>2.056244e+01</td>\n",
       "      <td>0.00</td>\n",
       "      <td>1.00</td>\n",
       "      <td>6.00</td>\n",
       "      <td>23.00</td>\n",
       "      <td>160.00</td>\n",
       "    </tr>\n",
       "    <tr>\n",
       "      <th>number_of_reviews_l30d</th>\n",
       "      <td>4686.0</td>\n",
       "      <td>1.230047e+00</td>\n",
       "      <td>1.841071e+00</td>\n",
       "      <td>0.00</td>\n",
       "      <td>0.00</td>\n",
       "      <td>0.00</td>\n",
       "      <td>2.00</td>\n",
       "      <td>13.00</td>\n",
       "    </tr>\n",
       "    <tr>\n",
       "      <th>review_scores_rating</th>\n",
       "      <td>3964.0</td>\n",
       "      <td>4.759622e+00</td>\n",
       "      <td>4.209444e-01</td>\n",
       "      <td>0.00</td>\n",
       "      <td>4.72</td>\n",
       "      <td>4.88</td>\n",
       "      <td>4.97</td>\n",
       "      <td>5.00</td>\n",
       "    </tr>\n",
       "    <tr>\n",
       "      <th>review_scores_accuracy</th>\n",
       "      <td>3958.0</td>\n",
       "      <td>4.824267e+00</td>\n",
       "      <td>3.439237e-01</td>\n",
       "      <td>1.00</td>\n",
       "      <td>4.81</td>\n",
       "      <td>4.92</td>\n",
       "      <td>4.99</td>\n",
       "      <td>5.00</td>\n",
       "    </tr>\n",
       "    <tr>\n",
       "      <th>review_scores_cleanliness</th>\n",
       "      <td>3958.0</td>\n",
       "      <td>4.793818e+00</td>\n",
       "      <td>3.671632e-01</td>\n",
       "      <td>1.00</td>\n",
       "      <td>4.75</td>\n",
       "      <td>4.91</td>\n",
       "      <td>4.99</td>\n",
       "      <td>5.00</td>\n",
       "    </tr>\n",
       "    <tr>\n",
       "      <th>review_scores_checkin</th>\n",
       "      <td>3958.0</td>\n",
       "      <td>4.877014e+00</td>\n",
       "      <td>3.082682e-01</td>\n",
       "      <td>1.00</td>\n",
       "      <td>4.88</td>\n",
       "      <td>4.96</td>\n",
       "      <td>5.00</td>\n",
       "      <td>5.00</td>\n",
       "    </tr>\n",
       "    <tr>\n",
       "      <th>review_scores_communication</th>\n",
       "      <td>3958.0</td>\n",
       "      <td>4.866849e+00</td>\n",
       "      <td>3.219186e-01</td>\n",
       "      <td>1.00</td>\n",
       "      <td>4.88</td>\n",
       "      <td>4.96</td>\n",
       "      <td>5.00</td>\n",
       "      <td>5.00</td>\n",
       "    </tr>\n",
       "    <tr>\n",
       "      <th>review_scores_location</th>\n",
       "      <td>3958.0</td>\n",
       "      <td>4.853454e+00</td>\n",
       "      <td>2.425373e-01</td>\n",
       "      <td>1.00</td>\n",
       "      <td>4.82</td>\n",
       "      <td>4.92</td>\n",
       "      <td>4.99</td>\n",
       "      <td>5.00</td>\n",
       "    </tr>\n",
       "    <tr>\n",
       "      <th>review_scores_value</th>\n",
       "      <td>3958.0</td>\n",
       "      <td>4.713204e+00</td>\n",
       "      <td>3.841719e-01</td>\n",
       "      <td>1.00</td>\n",
       "      <td>4.67</td>\n",
       "      <td>4.81</td>\n",
       "      <td>4.91</td>\n",
       "      <td>5.00</td>\n",
       "    </tr>\n",
       "    <tr>\n",
       "      <th>reviews_per_month</th>\n",
       "      <td>3964.0</td>\n",
       "      <td>2.217606e+00</td>\n",
       "      <td>1.919006e+00</td>\n",
       "      <td>0.01</td>\n",
       "      <td>0.68</td>\n",
       "      <td>1.73</td>\n",
       "      <td>3.23</td>\n",
       "      <td>16.76</td>\n",
       "    </tr>\n",
       "  </tbody>\n",
       "</table>\n",
       "</div>"
      ],
      "text/plain": [
       "                              count          mean           std      min  \\\n",
       "id                           4686.0  3.359331e+07  1.710985e+07  2318.00   \n",
       "accommodates                 4686.0  3.886470e+00  2.449298e+00     0.00   \n",
       "bedrooms                     4061.0  1.692687e+00  1.019571e+00     1.00   \n",
       "beds                         4579.0  2.069011e+00  1.447055e+00     1.00   \n",
       "minimum_nights               4686.0  1.377166e+01  2.060527e+01     1.00   \n",
       "maximum_nights               4686.0  5.603229e+02  5.210497e+02     1.00   \n",
       "availability_30              4686.0  1.234913e+01  1.044991e+01     0.00   \n",
       "availability_60              4686.0  3.135467e+01  2.102977e+01     0.00   \n",
       "availability_90              4686.0  5.229834e+01  3.075673e+01     0.00   \n",
       "availability_365             4686.0  1.940982e+02  1.241390e+02     0.00   \n",
       "number_of_reviews            4686.0  6.293641e+01  9.676724e+01     0.00   \n",
       "number_of_reviews_ltm        4686.0  1.507149e+01  2.056244e+01     0.00   \n",
       "number_of_reviews_l30d       4686.0  1.230047e+00  1.841071e+00     0.00   \n",
       "review_scores_rating         3964.0  4.759622e+00  4.209444e-01     0.00   \n",
       "review_scores_accuracy       3958.0  4.824267e+00  3.439237e-01     1.00   \n",
       "review_scores_cleanliness    3958.0  4.793818e+00  3.671632e-01     1.00   \n",
       "review_scores_checkin        3958.0  4.877014e+00  3.082682e-01     1.00   \n",
       "review_scores_communication  3958.0  4.866849e+00  3.219186e-01     1.00   \n",
       "review_scores_location       3958.0  4.853454e+00  2.425373e-01     1.00   \n",
       "review_scores_value          3958.0  4.713204e+00  3.841719e-01     1.00   \n",
       "reviews_per_month            3964.0  2.217606e+00  1.919006e+00     0.01   \n",
       "\n",
       "                                     25%          50%          75%  \\\n",
       "id                           19386474.75  37381447.50  49910973.00   \n",
       "accommodates                        2.00         4.00         5.00   \n",
       "bedrooms                            1.00         1.00         2.00   \n",
       "beds                                1.00         2.00         3.00   \n",
       "minimum_nights                      2.00         3.00        30.00   \n",
       "maximum_nights                     31.00       365.00      1125.00   \n",
       "availability_30                     1.00        11.00        21.00   \n",
       "availability_60                    12.00        35.00        49.00   \n",
       "availability_90                    25.00        61.00        78.00   \n",
       "availability_365                   79.00       179.00       321.00   \n",
       "number_of_reviews                   3.00        22.00        82.00   \n",
       "number_of_reviews_ltm               1.00         6.00        23.00   \n",
       "number_of_reviews_l30d              0.00         0.00         2.00   \n",
       "review_scores_rating                4.72         4.88         4.97   \n",
       "review_scores_accuracy              4.81         4.92         4.99   \n",
       "review_scores_cleanliness           4.75         4.91         4.99   \n",
       "review_scores_checkin               4.88         4.96         5.00   \n",
       "review_scores_communication         4.88         4.96         5.00   \n",
       "review_scores_location              4.82         4.92         4.99   \n",
       "review_scores_value                 4.67         4.81         4.91   \n",
       "reviews_per_month                   0.68         1.73         3.23   \n",
       "\n",
       "                                     max  \n",
       "id                           53904424.00  \n",
       "accommodates                       16.00  \n",
       "bedrooms                            8.00  \n",
       "beds                               16.00  \n",
       "minimum_nights                    365.00  \n",
       "maximum_nights                  10000.00  \n",
       "availability_30                    30.00  \n",
       "availability_60                    60.00  \n",
       "availability_90                    90.00  \n",
       "availability_365                  365.00  \n",
       "number_of_reviews                1071.00  \n",
       "number_of_reviews_ltm             160.00  \n",
       "number_of_reviews_l30d             13.00  \n",
       "review_scores_rating                5.00  \n",
       "review_scores_accuracy              5.00  \n",
       "review_scores_cleanliness           5.00  \n",
       "review_scores_checkin               5.00  \n",
       "review_scores_communication         5.00  \n",
       "review_scores_location              5.00  \n",
       "review_scores_value                 5.00  \n",
       "reviews_per_month                  16.76  "
      ]
     },
     "execution_count": 6,
     "metadata": {},
     "output_type": "execute_result"
    }
   ],
   "source": [
    "df.describe().T"
   ]
  },
  {
   "cell_type": "markdown",
   "id": "5a2c7ff3",
   "metadata": {},
   "source": [
    "## Exploratory Data Analysis\n",
    "<br> Analysing Important Columns\n",
    "<br> Making necessary changes or modifications in important columns"
   ]
  },
  {
   "cell_type": "markdown",
   "id": "89bd9413",
   "metadata": {},
   "source": [
    "### Price\n",
    "Column name = price"
   ]
  },
  {
   "cell_type": "code",
   "execution_count": 7,
   "id": "b89269a5",
   "metadata": {
    "scrolled": true
   },
   "outputs": [
    {
     "name": "stdout",
     "output_type": "stream",
     "text": [
      "object\n",
      "0    $333.00\n",
      "1     $99.00\n",
      "2     $62.00\n",
      "3    $185.00\n",
      "4    $145.00\n",
      "5    $130.00\n",
      "6    $143.00\n",
      "7     $81.00\n",
      "8     $67.00\n",
      "9    $195.00\n",
      "Name: price, dtype: object\n"
     ]
    }
   ],
   "source": [
    "print(df['price'].dtypes)\n",
    "print(df['price'][0:10])"
   ]
  },
  {
   "cell_type": "code",
   "execution_count": 8,
   "id": "9664b062",
   "metadata": {
    "scrolled": true
   },
   "outputs": [
    {
     "name": "stderr",
     "output_type": "stream",
     "text": [
      "C:\\Users\\siava\\AppData\\Local\\Temp/ipykernel_9480/14964403.py:3: FutureWarning: The default value of regex will change from True to False in a future version.\n",
      "  df.price = df.price.str.replace('\\$|,', '').astype('float64')\n"
     ]
    }
   ],
   "source": [
    "# removing '$' and '.' from df.price and converting it to numeric values\n",
    "# however, there should be a smarter approach for converting this column to numeric values\n",
    "df.price = df.price.str.replace('\\$|,', '').astype('float64')"
   ]
  },
  {
   "cell_type": "code",
   "execution_count": 9,
   "id": "30567d1a",
   "metadata": {
    "scrolled": true
   },
   "outputs": [
    {
     "data": {
      "text/plain": [
       "count    4686.000000\n",
       "mean      158.667947\n",
       "std       146.632730\n",
       "min         0.000000\n",
       "25%        86.000000\n",
       "50%       125.000000\n",
       "75%       188.750000\n",
       "max      3887.000000\n",
       "Name: price, dtype: float64"
      ]
     },
     "execution_count": 9,
     "metadata": {},
     "output_type": "execute_result"
    }
   ],
   "source": [
    "df.price.describe()"
   ]
  },
  {
   "cell_type": "code",
   "execution_count": 10,
   "id": "ce9fc397",
   "metadata": {},
   "outputs": [
    {
     "name": "stdout",
     "output_type": "stream",
     "text": [
      "4683\n"
     ]
    }
   ],
   "source": [
    "# droping invalid rows with listing price less than or equal to zero\n",
    "df.drop(df[df.price<=0].index,inplace=True)\n",
    "print(len(df))"
   ]
  },
  {
   "cell_type": "markdown",
   "id": "8e25d60c",
   "metadata": {},
   "source": [
    "#### \n",
    "Very few listings (count=7) have a price greater than $1,000"
   ]
  },
  {
   "cell_type": "code",
   "execution_count": 11,
   "id": "9fea537b",
   "metadata": {
    "scrolled": true
   },
   "outputs": [
    {
     "data": {
      "text/plain": [
       "7"
      ]
     },
     "execution_count": 11,
     "metadata": {},
     "output_type": "execute_result"
    }
   ],
   "source": [
    "df[df.price>1000].price.count()"
   ]
  },
  {
   "cell_type": "markdown",
   "id": "2ab107ae",
   "metadata": {},
   "source": [
    "#### Necessary Transformation for Price Data\n",
    "<br> Data for the price column has a log-normal distribution\n",
    "<br> I will use log10 and transform this column to convert it into a Gaussian distribution for modeling purposes\n",
    "<br> note that I am using log-scale on the x_axis for the histogram (axes[1]) \n",
    "<br> I used it for conveying the message and showing the necessity for a log transformation"
   ]
  },
  {
   "cell_type": "code",
   "execution_count": 12,
   "id": "bbcffd76",
   "metadata": {
    "scrolled": true
   },
   "outputs": [
    {
     "data": {
      "image/png": "[encoded data removed]",
      "text/plain": [
       "<Figure size 1080x360 with 2 Axes>"
      ]
     },
     "metadata": {
      "needs_background": "light"
     },
     "output_type": "display_data"
    }
   ],
   "source": [
    "fig , axes = plt.subplots(1, 2, figsize=(15,5))\n",
    "\n",
    "axes0 = sns.histplot(data=df, x=df['price'], bins=100, kde=False, ax=axes[0])\n",
    "axes0.set_xlabel('Price')\n",
    "axes0.grid(), axes0.set(xlim=(0, 4000));\n",
    "\n",
    "axes1 = sns.histplot(data=df, x=np.log10(df['price']), bins=45, kde=True, ax=axes[1])\n",
    "axes1.lines[0].set_color('red')\n",
    "axes1.set_xlabel('Price')\n",
    "axes1.set_xticks(range(1,5));\n",
    "axes1.set_xticklabels([10,100,1000,10000]);\n",
    "axes1.grid(), axes1.set(xlim=(1, 4));"
   ]
  },
  {
   "cell_type": "markdown",
   "id": "a1015e6f",
   "metadata": {},
   "source": [
    "### Room Type\n",
    "column name = room_type"
   ]
  },
  {
   "cell_type": "code",
   "execution_count": 13,
   "id": "8506a4f4",
   "metadata": {
    "scrolled": false
   },
   "outputs": [
    {
     "data": {
      "image/png": "[encoded data removed]",
      "text/plain": [
       "<Figure size 1080x360 with 2 Axes>"
      ]
     },
     "metadata": {
      "needs_background": "light"
     },
     "output_type": "display_data"
    }
   ],
   "source": [
    "fig , axes = plt.subplots(1, 2, figsize=(15,5))\n",
    "\n",
    "# bar chart showing the total number of listings in each category\n",
    "axes0 = sns.countplot(data=df, x=df.room_type, palette='Set1', ax=axes[0])\n",
    "axes0.set_title('Room Type')\n",
    "axes0.set(xlabel=None)\n",
    "axes0.set_ylabel('Count')\n",
    "# adding the percentage of listings in each category\n",
    "for p in axes0.patches:\n",
    "    x=p.get_bbox().get_points()[:,0]\n",
    "    y=p.get_bbox().get_points()[1,1]\n",
    "    axes0.annotate('{:.2f}%'.format(100.*y/len(df)), (x.mean(), y), \n",
    "            ha='center', va='bottom')\n",
    "# box plot showing the distribution of price for each category\n",
    "axes1 = sns.boxplot(data=df, x=df.room_type, y=np.log10(df.price), palette='Set1', ax=axes[1])\n",
    "axes1.set_title('Room Type')\n",
    "axes1.set(xlabel=None)\n",
    "axes1.set_ylabel('Price')\n",
    "# modifying y-axis tick labels to show Price on a log10 scale\n",
    "axes1.set_yticks(range(1,5));\n",
    "axes1.set_yticklabels([10,100,1000,10000]);\n",
    "axes1.grid(axis='y')"
   ]
  },
  {
   "cell_type": "markdown",
   "id": "6f447e65",
   "metadata": {},
   "source": [
    "### Accommodates\n",
    "column name = accommodates"
   ]
  },
  {
   "cell_type": "code",
   "execution_count": 14,
   "id": "bcbb3347",
   "metadata": {},
   "outputs": [
    {
     "data": {
      "image/png": "[encoded data removed]",
      "text/plain": [
       "<Figure size 1080x360 with 2 Axes>"
      ]
     },
     "metadata": {
      "needs_background": "light"
     },
     "output_type": "display_data"
    }
   ],
   "source": [
    "fig, axes = plt.subplots(1, 2, figsize=(15, 5))\n",
    "\n",
    "# bar chart showing the total number of listings in each category\n",
    "axes0 = sns.countplot(data=df, x=df.accommodates, palette='Set1', ax=axes[0])\n",
    "# adding the percentage of listings in each category\n",
    "for p in axes0.patches:\n",
    "    x=p.get_bbox().get_points()[:,0]\n",
    "    y=p.get_bbox().get_points()[1,1]\n",
    "    axes0.annotate('{:.2f}%'.format(100.*y/len(df)), (x.mean(), y), \n",
    "            ha='center', va='bottom', rotation=0)\n",
    "axes0.set_xlabel('Accommodates')\n",
    "\n",
    "# box plot showing the distribution of price for each category (number of 'accommodates')\n",
    "# combining all accommodates=>7 into one category '7+' \n",
    "cutoff = 7\n",
    "axes1 = sns.boxplot(data=df, x=df['accommodates'].where(df['accommodates'] <= cutoff, cutoff), y=np.log10(df.price)\n",
    "                    , palette='Set1', ax=axes[1])\n",
    "axes1.set_xlabel('Accommodates')\n",
    "axes1.set_xticklabels(list(range(1,cutoff,1)) + [f'{cutoff}+'])\n",
    "axes1.set_ylabel('Price')\n",
    "# modifying y-axis tick labels to show Price on a log10 scale\n",
    "axes1.set_yticks(range(1,5));\n",
    "axes1.set_yticklabels([10,100,1000,10000]);\n",
    "axes1.grid(axis='y')"
   ]
  },
  {
   "cell_type": "markdown",
   "id": "318d6e5f",
   "metadata": {},
   "source": [
    "<br> As we will observe later in the study, <I>accommodates</I> is one of the main features in the dataset\n",
    "<br> In some data sets the accommodation is zero, and I drop the listings where accommodates==0"
   ]
  },
  {
   "cell_type": "code",
   "execution_count": 15,
   "id": "d6b0565d",
   "metadata": {},
   "outputs": [
    {
     "name": "stdout",
     "output_type": "stream",
     "text": [
      "4683\n"
     ]
    }
   ],
   "source": [
    "df.drop(df[df.accommodates==0].index,inplace=True)\n",
    "print(len(df))"
   ]
  },
  {
   "cell_type": "markdown",
   "id": "b1dc2042",
   "metadata": {},
   "source": [
    "### Beds and Bedrooms\n",
    "<br> Column name = bedrooms\n",
    "<br> Column name = beds"
   ]
  },
  {
   "cell_type": "code",
   "execution_count": 16,
   "id": "fad539df",
   "metadata": {},
   "outputs": [
    {
     "data": {
      "image/png": "[encoded data removed]",
      "text/plain": [
       "<Figure size 1080x360 with 2 Axes>"
      ]
     },
     "metadata": {
      "needs_background": "light"
     },
     "output_type": "display_data"
    }
   ],
   "source": [
    "fig, axes = plt.subplots(1, 2, figsize=(15, 5))\n",
    "\n",
    "# bar chart showing the total number of listings in each category (Number of Bedrooms)\n",
    "axes0 = sns.countplot(data=df, x=df.bedrooms, palette='Set1', ax=axes[0])\n",
    "# adding the percentage of listings in each category\n",
    "for p in axes0.patches:\n",
    "    x=p.get_bbox().get_points()[:,0]\n",
    "    y=p.get_bbox().get_points()[1,1]\n",
    "    axes0.annotate('{:.1f}%'.format(100.*y/len(df)), (x.mean(), y), \n",
    "            ha='center', va='bottom', rotation=0)\n",
    "axes0.set_xlabel('Number of Bedrooms')\n",
    "\n",
    "# box plot showing the distribution of price for each category\n",
    "axes1 = sns.boxplot(data=df, x=df['bedrooms'], y=np.log10(df.price), palette='Set1', ax=axes[1])\n",
    "axes1.set_xlabel('Number of Bedrooms')\n",
    "axes1.set_ylabel('Price')\n",
    "# modifying y-axis tick labels to show Price on a log10 scale\n",
    "axes1.set_yticks(range(1,5));\n",
    "axes1.set_yticklabels([10,100,1000,10000]);\n",
    "axes1.grid(axis='y')"
   ]
  },
  {
   "cell_type": "code",
   "execution_count": 17,
   "id": "23c579c4",
   "metadata": {},
   "outputs": [
    {
     "data": {
      "image/png": "[encoded data removed]",
      "text/plain": [
       "<Figure size 1080x360 with 2 Axes>"
      ]
     },
     "metadata": {
      "needs_background": "light"
     },
     "output_type": "display_data"
    }
   ],
   "source": [
    "fig, axes = plt.subplots(1, 2, figsize=(15, 5))\n",
    "\n",
    "# bar chart showing the total number of listings in each category (number of Beds)\n",
    "axes0 = sns.countplot(data=df, x=df.beds, palette='Set1', ax=axes[0])\n",
    "# adding the percentage of listings in each category\n",
    "for p in axes0.patches:\n",
    "    x=p.get_bbox().get_points()[:,0]\n",
    "    y=p.get_bbox().get_points()[1,1]\n",
    "    axes0.annotate('{:.1f}%'.format(100.*y/len(df)), (x.mean(), y), \n",
    "            ha='center', va='bottom', rotation=0)\n",
    "axes0.set_xlabel('Number of Beds')\n",
    "\n",
    "# box plot showing the distribution of price for each category\n",
    "# combining all beds=>5 into one category '5+' \n",
    "cutoff = 5\n",
    "axes1 = sns.boxplot(data=df, x=df['beds'].where(df['beds'] <= cutoff, cutoff), y=np.log10(df.price)\n",
    "                    , palette='Set1', ax=axes[1])\n",
    "axes1.set_xlabel('Beds')\n",
    "axes1.set_xticklabels(list(range(1,cutoff,1)) + [f'{cutoff}+'])\n",
    "axes1.set_ylabel('Price')\n",
    "# modifying y-axis tick labels to show Price using a log axis\n",
    "axes1.set_yticks(range(1,5));\n",
    "axes1.set_yticklabels([10,100,1000,10000]);\n",
    "axes1.grid(axis='y')"
   ]
  },
  {
   "cell_type": "code",
   "execution_count": 18,
   "id": "2f5096d2",
   "metadata": {},
   "outputs": [
    {
     "data": {
      "image/png": "[encoded data removed]",
      "text/plain": [
       "<Figure size 504x360 with 2 Axes>"
      ]
     },
     "metadata": {
      "needs_background": "light"
     },
     "output_type": "display_data"
    }
   ],
   "source": [
    "# using heat map to reveal the inherent relationship between <i>Accommodates</i>, <i>Bedrooms</i>, and <i>Beds</i>\n",
    "heatmap_data = df[['accommodates', 'beds', 'bedrooms']]\n",
    "data_pivoted = pd.pivot_table(data=df, values=['bedrooms'], index=['accommodates'], columns=['beds'], aggfunc='median')\n",
    "\n",
    "fig, axes = plt.subplots(1, 1, figsize=(7, 5))\n",
    "sns.heatmap(data_pivoted, cbar_kws={'label': 'Number of Beds'})\n",
    "axes.set_ylabel('Accommodates');\n",
    "axes.set_xlabel('Number of Bedrooms');\n",
    "axes.set_xticklabels([1,2,3,4,5,6,7,8,9,10,11,12,14,15,16]);"
   ]
  },
  {
   "cell_type": "code",
   "execution_count": 19,
   "id": "92d2378a",
   "metadata": {},
   "outputs": [
    {
     "name": "stdout",
     "output_type": "stream",
     "text": [
      "Number of missing values in beds:  104\n",
      "Number of missing values in bedrooms:  622\n"
     ]
    }
   ],
   "source": [
    "print('Number of missing values in beds: ', df.beds.isna().sum())\n",
    "print('Number of missing values in bedrooms: ', df.bedrooms.isna().sum())"
   ]
  },
  {
   "cell_type": "code",
   "execution_count": 20,
   "id": "74f412e4",
   "metadata": {},
   "outputs": [],
   "source": [
    "# filling missing values in: beds and bedrooms\n",
    "df['beds'].fillna(df.groupby(['accommodates','room_type'])['beds'].transform('mean').transform('round'), inplace=True)\n",
    "df['beds'].fillna((df['accommodates']/2).apply(np.ceil), inplace=True)\n",
    "df['bedrooms'].fillna(df.groupby(['beds','room_type'])['bedrooms'].transform('mean').transform('round'), inplace=True)\n",
    "df['bedrooms'].fillna((df['accommodates']/2).apply(np.ceil), inplace=True)"
   ]
  },
  {
   "cell_type": "markdown",
   "id": "b924365d",
   "metadata": {},
   "source": [
    "### Bathrooms\n",
    "<br> Column name = bathroom_text\n",
    "\n",
    "<br> bathroom_text has lots of unique items\n",
    "<br> will convert it into two columns: 1) if it is shared or private, and 2) the number of bathrooms for the property"
   ]
  },
  {
   "cell_type": "code",
   "execution_count": 21,
   "id": "d0c313b4",
   "metadata": {
    "scrolled": true
   },
   "outputs": [
    {
     "data": {
      "text/plain": [
       "array(['2.5 baths', '1 bath', '3 shared baths', '1 private bath',\n",
       "       '1.5 baths', '4 shared baths', '2 baths', '1 shared bath',\n",
       "       '3 baths', '1.5 shared baths', '3.5 baths', 'Shared half-bath',\n",
       "       '2 shared baths', '4 baths', 'Half-bath', '3.5 shared baths',\n",
       "       '6 baths', '4.5 baths', '0 baths', '0 shared baths',\n",
       "       'Private half-bath', '16 shared baths', nan, '2.5 shared baths'],\n",
       "      dtype=object)"
      ]
     },
     "execution_count": 21,
     "metadata": {},
     "output_type": "execute_result"
    }
   ],
   "source": [
    "df.bathrooms_text.unique()"
   ]
  },
  {
   "cell_type": "code",
   "execution_count": 22,
   "id": "843d3385",
   "metadata": {},
   "outputs": [
    {
     "data": {
      "text/plain": [
       "1"
      ]
     },
     "execution_count": 22,
     "metadata": {},
     "output_type": "execute_result"
    }
   ],
   "source": [
    "df.bathrooms_text.isna().sum()"
   ]
  },
  {
   "cell_type": "code",
   "execution_count": 23,
   "id": "22dd0943",
   "metadata": {
    "scrolled": false
   },
   "outputs": [
    {
     "name": "stdout",
     "output_type": "stream",
     "text": [
      "Number of listings with a shared bath:  458\n"
     ]
    }
   ],
   "source": [
    "print('Number of listings with a shared bath: ', np.nansum(df.bathrooms_text.str.contains('shared')))"
   ]
  },
  {
   "cell_type": "code",
   "execution_count": 24,
   "id": "e6067041",
   "metadata": {},
   "outputs": [],
   "source": [
    "# creating a new column, 1: if bath is shared, 0: not shared or nan\n",
    "df['bath_is_shared'] = pd.get_dummies(df.bathrooms_text.str.contains('shared'), drop_first=True)\n",
    "# I use 0 for nan for simplicity, one could have used df.room_type to improve the estimations\n",
    "df['bath_is_shared'].fillna(0, inplace=True)"
   ]
  },
  {
   "cell_type": "code",
   "execution_count": 25,
   "id": "2d5bce0c",
   "metadata": {},
   "outputs": [
    {
     "data": {
      "text/plain": [
       "458"
      ]
     },
     "execution_count": 25,
     "metadata": {},
     "output_type": "execute_result"
    }
   ],
   "source": [
    "sum(df['bath_is_shared'])"
   ]
  },
  {
   "cell_type": "code",
   "execution_count": 26,
   "id": "c8f42176",
   "metadata": {
    "scrolled": true
   },
   "outputs": [
    {
     "name": "stderr",
     "output_type": "stream",
     "text": [
      "C:\\Users\\siava\\AppData\\Local\\Temp/ipykernel_9480/110679144.py:5: SettingWithCopyWarning: \n",
      "A value is trying to be set on a copy of a slice from a DataFrame\n",
      "\n",
      "See the caveats in the documentation: https://pandas.pydata.org/pandas-docs/stable/user_guide/indexing.html#returning-a-view-versus-a-copy\n",
      "  df['bathroom_numbers'][df.bathrooms_text.str.contains('half', na=False, regex=False)]=0.5\n"
     ]
    }
   ],
   "source": [
    "# extracting the numerical values from bathrooms_text\n",
    "df['bathroom_numbers'] = df.bathrooms_text.str.extract('([0-9][,.]*[0-9]*)')\n",
    "\n",
    "# extracting 'half' from bathrooms_text and assigning 0.5\n",
    "df['bathroom_numbers'][df.bathrooms_text.str.contains('half', na=False, regex=False)]=0.5\n",
    "\n",
    "df['bathroom_numbers'] = pd.to_numeric(df['bathroom_numbers'])\n",
    "df.drop(columns=['bathrooms_text'], inplace=True)"
   ]
  },
  {
   "cell_type": "markdown",
   "id": "65b4fd85",
   "metadata": {},
   "source": [
    "<br> filling possibble missing values with 1 (a property should have a bathroom)"
   ]
  },
  {
   "cell_type": "code",
   "execution_count": 27,
   "id": "dd340cb1",
   "metadata": {},
   "outputs": [],
   "source": [
    "df['bathroom_numbers'].fillna(1, inplace=True)"
   ]
  },
  {
   "cell_type": "code",
   "execution_count": 28,
   "id": "7798b8d0",
   "metadata": {},
   "outputs": [
    {
     "data": {
      "image/png": "[encoded data removed]",
      "text/plain": [
       "<Figure size 1080x360 with 2 Axes>"
      ]
     },
     "metadata": {
      "needs_background": "light"
     },
     "output_type": "display_data"
    }
   ],
   "source": [
    "fig, axes = plt.subplots(1, 2, figsize=(15, 5))\n",
    "\n",
    "# bar chart showing the total number of listings in each category\n",
    "axes0 = sns.countplot(data=df, x=df.bathroom_numbers, palette='Set1', ax=axes[0])\n",
    "# adding the percentage of listings in each category\n",
    "for p in axes0.patches:\n",
    "    x=p.get_bbox().get_points()[:,0]\n",
    "    y=p.get_bbox().get_points()[1,1]\n",
    "    axes0.annotate('{:.1f}%'.format(100.*y/len(df)), (x.mean(), y), \n",
    "            ha='center', va='bottom', rotation=0)\n",
    "axes0.set_xlabel('Number of Bathrooms')\n",
    "\n",
    "# box plot showing the distribution of price for each category\n",
    "# combining all accommodates=>7 into one category '4+' \n",
    "cutoff = 4\n",
    "axes1 = sns.boxplot(data=df, x=df['bathroom_numbers'].where(df['bathroom_numbers'] <= cutoff, cutoff), y=np.log10(df.price)\n",
    "                    , palette='Set1', ax=axes[1])\n",
    "axes1.set_xlabel('Number of Bathrooms')\n",
    "axes1.set_xticklabels(list(np.arange(0,cutoff,0.5)) + [f'{cutoff}+'])\n",
    "axes1.set_ylabel('Price')\n",
    "# modifying y-axis tick labels to show Price on a log10 scale\n",
    "axes1.set_yticks(range(1,5));\n",
    "axes1.set_yticklabels([10,100,1000,10000]);\n",
    "axes1.grid(axis='y')"
   ]
  },
  {
   "cell_type": "markdown",
   "id": "c80c7d23",
   "metadata": {},
   "source": [
    "### Neighbourhood"
   ]
  },
  {
   "cell_type": "code",
   "execution_count": 29,
   "id": "75e4f145",
   "metadata": {
    "scrolled": false
   },
   "outputs": [
    {
     "name": "stdout",
     "output_type": "stream",
     "text": [
      "['Madrona' 'Wallingford' 'Georgetown' 'Fairmount Park' 'Whittier Heights'\n",
      " 'Loyal Heights' 'Eastlake' 'Fremont' 'Alki' 'Green Lake'\n",
      " 'Harrison/Denny-Blaine' 'Portage Bay' 'Lower Queen Anne' 'Phinney Ridge'\n",
      " 'Crown Hill' 'Belltown' 'Lawton Park' 'Mid-Beacon Hill'\n",
      " 'North Queen Anne' 'West Queen Anne' 'First Hill' 'Broadway'\n",
      " 'North Admiral' 'Arbor Heights' 'International District'\n",
      " 'North Beacon Hill' 'Greenwood' 'Cedar Park' 'Columbia City'\n",
      " 'Mount Baker' 'Mann' 'Genesee' 'Central Business District' 'Ravenna'\n",
      " 'University District' 'South Delridge' 'Atlantic' 'Broadview'\n",
      " 'Maple Leaf' 'East Queen Anne' 'Pioneer Square' 'Highland Park'\n",
      " 'West Woodland' 'Haller Lake' 'Madison Park' 'Fauntleroy' 'Westlake'\n",
      " 'Matthews Beach' 'Minor' 'Leschi' 'Sunset Hill' 'Adams'\n",
      " 'North Beach/Blue Ridge' 'Briarcliff' 'North Delridge' 'Bryant'\n",
      " 'Seward Park' 'Bitter Lake' 'Riverview' 'Brighton' 'Interbay'\n",
      " 'View Ridge' 'Stevens' 'Pike-Market' 'High Point' 'Yesler Terrace'\n",
      " 'Harbor Island' 'Windermere' 'Rainier Beach' 'Seaview' 'Victory Heights'\n",
      " 'Roosevelt' 'Gatewood' 'Dunlap' 'Southeast Magnolia' 'Olympic Hills'\n",
      " 'Wedgwood' 'Laurelhurst' 'North College Park' 'Pinehurst' 'Montlake'\n",
      " 'Meadowbrook' 'Rainier View' 'South Beacon Hill' 'Industrial District'\n",
      " 'South Park' 'South Lake Union' 'Roxhill' 'Holly Park']\n",
      "0\n"
     ]
    }
   ],
   "source": [
    "print(df['neighbourhood_cleansed'].unique())\n",
    "print(df['neighbourhood_cleansed'].isna().sum())"
   ]
  },
  {
   "cell_type": "code",
   "execution_count": 30,
   "id": "bd0d5787",
   "metadata": {},
   "outputs": [
    {
     "data": {
      "image/png": "[encoded data removed]",
      "text/plain": [
       "<Figure size 1080x360 with 1 Axes>"
      ]
     },
     "metadata": {
      "needs_background": "light"
     },
     "output_type": "display_data"
    }
   ],
   "source": [
    "plt.figure(figsize=(15,5))\n",
    "\n",
    "# use order to sort bars according to the average neghbourhood price\n",
    "order = df.groupby(['neighbourhood_cleansed'])['price'].mean().index \n",
    "axes0 = sns.countplot(data=df, x=df.neighbourhood_cleansed, palette='Set1', order=order)\n",
    "# adding the number of listings in each neighbourhood category\n",
    "for p in axes0.patches:\n",
    "    x=p.get_bbox().get_points()[:,0]\n",
    "    y=p.get_bbox().get_points()[1,1]\n",
    "    axes0.annotate('{:.0f}'.format(y), (x.mean(), y), \n",
    "            ha='center', va='bottom', rotation=0)\n",
    "#     axes0.annotate('{:.1f}%'.format(100.*y/len(df)), (x.mean(), y), \n",
    "#             ha='center', va='bottom', rotation=0)\n",
    "axes0.set_xticklabels(axes0.get_xticklabels(),rotation = 90);\n",
    "axes0.set_xlabel('Neighbourhood');"
   ]
  },
  {
   "cell_type": "code",
   "execution_count": 31,
   "id": "192a2119",
   "metadata": {},
   "outputs": [],
   "source": [
    "# creating a list of neighbourhoods where total number of listings are less than 5\n",
    "# due to few listings in these neighbourhoods (some with 1 listing) the results may not be accurate\n",
    "# these data will not be discarded, but a single dummy variable is used to represent these neighbourhoods\n",
    "temp_df = pd.DataFrame(df.neighbourhood_cleansed.value_counts())\n",
    "non_sig_neighbourhood = temp_df[temp_df.neighbourhood_cleansed<5].index\n",
    "# it is note worthy that we could use OLS p-value to filter all non-significant neighbourhoods\n",
    "# here we help removing some neighbourhoods with very few listings in advance"
   ]
  },
  {
   "cell_type": "markdown",
   "id": "d4255cfa",
   "metadata": {},
   "source": [
    "### Property Type\n",
    "<br> Column name = property_type"
   ]
  },
  {
   "cell_type": "code",
   "execution_count": 32,
   "id": "4ba758d9",
   "metadata": {},
   "outputs": [
    {
     "name": "stdout",
     "output_type": "stream",
     "text": [
      "['Entire residential home' 'Entire guesthouse'\n",
      " 'Private room in rental unit' 'Entire guest suite' 'Entire rental unit'\n",
      " 'Private room in residential home' 'Entire condominium (condo)'\n",
      " 'Private room in cottage' 'Private room in loft'\n",
      " 'Private room in guesthouse' 'Private room' 'Private room in bungalow'\n",
      " 'Private room in townhouse' 'Boat' 'Entire cottage' 'Entire townhouse'\n",
      " 'Private room in guest suite' 'Private room in boat' 'Entire bungalow'\n",
      " 'Private room in condominium (condo)' 'Entire loft'\n",
      " 'Shared room in townhouse' 'Shared room' 'Private room in treehouse'\n",
      " 'Entire villa' 'Entire cabin' 'Tent' 'Camper/RV' 'Tiny house' 'Houseboat'\n",
      " 'Entire serviced apartment' 'Shared room in rental unit'\n",
      " 'Room in boutique hotel' 'Shared room in loft'\n",
      " 'Private room in earth house' 'Private room in tiny house'\n",
      " 'Private room in serviced apartment' 'Private room in villa'\n",
      " 'Private room in bed and breakfast' 'Room in aparthotel'\n",
      " 'Private room in cabin' 'Shared room in residential home' 'Farm stay'\n",
      " 'Room in hotel' 'Entire vacation home' 'Casa particular']\n",
      "0\n"
     ]
    }
   ],
   "source": [
    "print(df['property_type'].unique())\n",
    "print(df['property_type'].isna().sum())"
   ]
  },
  {
   "cell_type": "markdown",
   "id": "091ef65f",
   "metadata": {},
   "source": [
    "<br> property_type has lots of unique elements and room_type is descriptive enough.\n",
    "<br> drop it for now\n",
    "<br> property_type column may be useful for analysing outliers, etc."
   ]
  },
  {
   "cell_type": "code",
   "execution_count": 33,
   "id": "ce3d96fe",
   "metadata": {},
   "outputs": [],
   "source": [
    "df.drop(columns=['property_type'], inplace=True)"
   ]
  },
  {
   "cell_type": "markdown",
   "id": "f1debd86",
   "metadata": {},
   "source": [
    "### Number of Reviews and Scores\n",
    "<br> Column name = \n",
    "<br>&emsp;                    'number_of_reviews'\n",
    "<br>&emsp;                    'number_of_reviews_ltm'\n",
    "<br>&emsp;                    'number_of_reviews_l30d'\n",
    "<br>\n",
    "<br>&emsp;                    'review_scores_rating'\n",
    "<br>&emsp;                    'review_scores_accuracy'\n",
    "<br>&emsp;                    'review_scores_cleanliness'\n",
    "<br>&emsp;                    'review_scores_checkin'\n",
    "<br>&emsp;                    'review_scores_communication'\n",
    "<br>&emsp;                    'review_scores_location'\n",
    "<br>&emsp;                    'review_scores_value'"
   ]
  },
  {
   "cell_type": "code",
   "execution_count": 52,
   "id": "3c9870d8",
   "metadata": {},
   "outputs": [],
   "source": [
    "n_review_cols = ['number_of_reviews', 'number_of_reviews_ltm', 'number_of_reviews_l30d', 'reviews_per_month']\n",
    "\n",
    "review_score_cols = ['review_scores_rating', 'review_scores_accuracy', 'review_scores_cleanliness'\n",
    "                     , 'review_scores_checkin', 'review_scores_communication', 'review_scores_location'\n",
    "                     , 'review_scores_value']"
   ]
  },
  {
   "cell_type": "code",
   "execution_count": 53,
   "id": "b772eedf",
   "metadata": {
    "scrolled": true
   },
   "outputs": [
    {
     "name": "stdout",
     "output_type": "stream",
     "text": [
      "review_scores_rating           722\n",
      "review_scores_accuracy         728\n",
      "review_scores_cleanliness      728\n",
      "review_scores_checkin          728\n",
      "review_scores_communication    728\n",
      "review_scores_location         728\n",
      "review_scores_value            728\n",
      "dtype: int64\n",
      "\n",
      "\n",
      "review_scores_rating           6\n",
      "review_scores_accuracy         0\n",
      "review_scores_cleanliness      0\n",
      "review_scores_checkin          0\n",
      "review_scores_communication    0\n",
      "review_scores_location         0\n",
      "review_scores_value            0\n",
      "dtype: int64\n"
     ]
    }
   ],
   "source": [
    "print(np.sum(np.isnan(df[review_score_cols])))\n",
    "print('\\n')\n",
    "print(np.sum(df[review_score_cols]==0))"
   ]
  },
  {
   "cell_type": "code",
   "execution_count": 54,
   "id": "f0a272b6",
   "metadata": {},
   "outputs": [],
   "source": [
    "# if the number_of_reviews is zero the columns listed below in review_cols are NaN\n",
    "# fillna with 0 in review_cols, and MUST use/keep number_of_reviews to describe zero review_scores_*\n",
    "for col in review_score_cols:\n",
    "    df[col].fillna(0, inplace=True)\n",
    "\n",
    "df['reviews_per_month'].fillna(0, inplace=True)"
   ]
  },
  {
   "cell_type": "markdown",
   "id": "dfd74725",
   "metadata": {},
   "source": [
    "### Availability\n",
    "<br> Column name = has_availability"
   ]
  },
  {
   "cell_type": "code",
   "execution_count": 55,
   "id": "75d8e5bc",
   "metadata": {},
   "outputs": [
    {
     "name": "stdout",
     "output_type": "stream",
     "text": [
      "['t']\n",
      "0\n"
     ]
    }
   ],
   "source": [
    "print(df['has_availability'].unique())\n",
    "print(df['has_availability'].isna().sum())"
   ]
  },
  {
   "cell_type": "markdown",
   "id": "b13e3d51",
   "metadata": {},
   "source": [
    "### Bookable\n",
    "<br> Column name = instant_bookable"
   ]
  },
  {
   "cell_type": "code",
   "execution_count": 56,
   "id": "ff5031f7",
   "metadata": {},
   "outputs": [
    {
     "name": "stdout",
     "output_type": "stream",
     "text": [
      "['t' 'f']\n",
      "0\n"
     ]
    }
   ],
   "source": [
    "print(df['instant_bookable'].unique())\n",
    "print(df['instant_bookable'].isna().sum())"
   ]
  },
  {
   "cell_type": "markdown",
   "id": "0ae09a0b",
   "metadata": {},
   "source": [
    "## Get Dummies"
   ]
  },
  {
   "cell_type": "code",
   "execution_count": 57,
   "id": "356a68eb",
   "metadata": {},
   "outputs": [],
   "source": [
    "df = pd.get_dummies(df, columns=['room_type'], prefix=['room_type'], prefix_sep='_',drop_first=True)"
   ]
  },
  {
   "cell_type": "code",
   "execution_count": 58,
   "id": "6112a762",
   "metadata": {},
   "outputs": [],
   "source": [
    "#Here we only use neighbourhoods with more than 5 listings, note that drop first is False to consider other neighbourhoods \n",
    "df = pd.get_dummies(df.replace(non_sig_neighbourhood, None), columns=['neighbourhood_cleansed']\n",
    "                    , prefix=['neighbourhood'], prefix_sep='_',drop_first=False)"
   ]
  },
  {
   "cell_type": "code",
   "execution_count": 59,
   "id": "8d170994",
   "metadata": {},
   "outputs": [],
   "source": [
    "df = pd.get_dummies(df, columns=['has_availability'], prefix=['has_availability'], prefix_sep='_',drop_first=True)"
   ]
  },
  {
   "cell_type": "code",
   "execution_count": 60,
   "id": "2197a7f0",
   "metadata": {},
   "outputs": [],
   "source": [
    "df = pd.get_dummies(df, columns=['instant_bookable'], prefix=['bookable'], prefix_sep='_',drop_first=True)"
   ]
  },
  {
   "cell_type": "markdown",
   "id": "60e35cf8",
   "metadata": {},
   "source": [
    "## Principal Component Analysis and Low Variance Filter"
   ]
  },
  {
   "cell_type": "code",
   "execution_count": 61,
   "id": "763ca507",
   "metadata": {},
   "outputs": [],
   "source": [
    "from sklearn.decomposition import PCA"
   ]
  },
  {
   "cell_type": "markdown",
   "id": "474f0ceb",
   "metadata": {},
   "source": [
    "### Number of Reviews and Review Scores"
   ]
  },
  {
   "cell_type": "code",
   "execution_count": 62,
   "id": "c87ba3d3",
   "metadata": {},
   "outputs": [],
   "source": [
    "# these two list of columns were defined before:\n",
    "\n",
    "# n_review_cols = ['number_of_reviews', 'number_of_reviews_ltm', 'number_of_reviews_l30d', 'reviews_per_month']\n",
    "\n",
    "# review_score_cols = ['review_scores_rating', 'review_scores_accuracy', 'review_scores_cleanliness'\n",
    "#                    , 'review_scores_checkin', 'review_scores_communication', 'review_scores_location'\n",
    "#                    , 'review_scores_value']"
   ]
  },
  {
   "cell_type": "markdown",
   "id": "6365205d",
   "metadata": {},
   "source": [
    "<br> first we scale the review data (both list of columns for the number of reviews and the review scores)\n",
    "<br> scaled data are implemented for calculating the correlation coefficients, and extracting the principal componenets"
   ]
  },
  {
   "cell_type": "code",
   "execution_count": 63,
   "id": "ec5a38aa",
   "metadata": {},
   "outputs": [],
   "source": [
    "from sklearn.preprocessing import MinMaxScaler\n",
    "\n",
    "scaler = MinMaxScaler()\n",
    "scaler.fit(df[n_review_cols])\n",
    "scaled_n_review_features = scaler.transform(df[n_review_cols])\n",
    "scaler.fit(df[review_score_cols])\n",
    "scaled_review_score_features = scaler.transform(df[review_score_cols])"
   ]
  },
  {
   "cell_type": "markdown",
   "id": "4cadf2d9",
   "metadata": {},
   "source": [
    "<br> The following graphs show the calculated pairwise correlation of columns using Pearson as the method\n",
    "<br>\n",
    "<br> The results highlight very high correlation between different review scores,\n",
    "<br> whereas, the correlation coefficient between the columns related to the number of reviews are not highly correlated (compared to review scores)."
   ]
  },
  {
   "cell_type": "code",
   "execution_count": 64,
   "id": "57d0b992",
   "metadata": {
    "scrolled": false
   },
   "outputs": [
    {
     "data": {
      "image/png": "[encoded data removed]",
      "text/plain": [
       "<Figure size 1080x360 with 4 Axes>"
      ]
     },
     "metadata": {
      "needs_background": "light"
     },
     "output_type": "display_data"
    }
   ],
   "source": [
    "fig, axes = plt.subplots(1, 2, figsize=(15, 5))\n",
    "\n",
    "n_review_corr = pd.DataFrame(scaled_n_review_features).corr()\n",
    "labels=['total', 'ltm', 'l30d', 'per_month']\n",
    "\n",
    "# Generate a mask for the upper triangle\n",
    "mask = np.triu(np.ones_like(n_review_corr, dtype=bool))\n",
    "# adjust mask and df\n",
    "mask = mask[1:, :-1]\n",
    "n_review_corr = n_review_corr.iloc[1:,:-1].copy()\n",
    "\n",
    "sns.heatmap(n_review_corr, mask=mask, annot=True, linewidths=.5, vmin=0, vmax=1\n",
    "            , xticklabels=labels[:-1], yticklabels=labels[1:], ax=axes[0])\n",
    "axes[0].title.set_text('Number of Reviews')\n",
    "\n",
    "review_score_corr = pd.DataFrame(scaled_review_score_features).corr()\n",
    "labels=[]\n",
    "for txt in review_score_cols:\n",
    "    labels.append(txt.replace('review_scores_', ''))\n",
    "# Generate a mask for the upper triangle\n",
    "mask = np.triu(np.ones_like(review_score_corr, dtype=bool))\n",
    "mask = mask[1:, :-1]\n",
    "review_score_corr = review_score_corr.iloc[1:,:-1].copy()\n",
    "sns.heatmap(review_score_corr,  mask=mask, annot=True, linewidths=.5, vmin=0, vmax=1\n",
    "            , xticklabels=labels[:-1], yticklabels=labels[1:], ax=axes[1])\n",
    "axes[1].title.set_text('Review Scores')"
   ]
  },
  {
   "cell_type": "markdown",
   "id": "da9d56bf",
   "metadata": {},
   "source": [
    "<br> Here, Principal Component Analysis (PCA) is used to reduce the dimentionality\n",
    "<br> As we saw in the previous figure, different <i>Review Scores</i> are highly correlated and reducing the dimensionality is necessary to mitigate collinearity\n",
    "<br> i.e., different <i>Review Scores</i> columns are not independent from one another, and a single PCA component captures 99% of the variance"
   ]
  },
  {
   "cell_type": "code",
   "execution_count": 65,
   "id": "6916bc26",
   "metadata": {},
   "outputs": [
    {
     "name": "stdout",
     "output_type": "stream",
     "text": [
      "Explained Variance Ratio: [0.98990195]\n",
      "Original number of columns:  7\n",
      "Principal Components:  1\n"
     ]
    }
   ],
   "source": [
    "pca = PCA(n_components=1)\n",
    "# using scaled features (obtained from MinMaxScaler, not the raw review scores) as an input for PCA\n",
    "pca.fit(scaled_review_score_features)\n",
    "\n",
    "print('Explained Variance Ratio:', pca.explained_variance_ratio_)\n",
    "\n",
    "review_pca = pca.transform(scaled_review_score_features)\n",
    "print('Original number of columns: ', df[review_score_cols].shape[1])\n",
    "print('Principal Components: ', review_pca.shape[1])"
   ]
  },
  {
   "cell_type": "code",
   "execution_count": 66,
   "id": "82e3b3df",
   "metadata": {},
   "outputs": [],
   "source": [
    "df.drop(columns=review_score_cols, inplace=True)\n",
    "df['review_pca'] = review_pca"
   ]
  },
  {
   "cell_type": "markdown",
   "id": "20962a43",
   "metadata": {},
   "source": [
    "<br> testing the same approach for columns related to number of reviews"
   ]
  },
  {
   "cell_type": "code",
   "execution_count": 89,
   "id": "ec3e46b9",
   "metadata": {},
   "outputs": [
    {
     "name": "stdout",
     "output_type": "stream",
     "text": [
      "Explained Variance Ratio: [0.75734526 0.13565222 0.06277321]\n",
      "Sum Explained Variance Ratio: 0.9557706860244033\n",
      "Original number of columns:  4\n",
      "Principal Components:  3\n"
     ]
    }
   ],
   "source": [
    "pca = PCA(n_components=3)\n",
    "# using scaled features (obtained from MinMaxScaler) as an input for PCA\n",
    "pca.fit(scaled_n_review_features)\n",
    "\n",
    "print('Explained Variance Ratio:', pca.explained_variance_ratio_)\n",
    "print('Sum Explained Variance Ratio:', pca.explained_variance_ratio_.sum())\n",
    "\n",
    "n_review_pca = pca.transform(scaled_n_review_features)\n",
    "print('Original number of columns: ', df[n_review_cols].shape[1])\n",
    "print('Principal Components: ', n_review_pca.shape[1])"
   ]
  },
  {
   "cell_type": "markdown",
   "id": "0e9af8ee",
   "metadata": {},
   "source": [
    "<br> the explaine variance ratio was not 98% and I prefered to keep all columns, although there is high correlation betwwen some <i>number of review</i> features"
   ]
  },
  {
   "cell_type": "markdown",
   "id": "dfe44a87",
   "metadata": {},
   "source": [
    "<br>"
   ]
  },
  {
   "cell_type": "markdown",
   "id": "6c5a0c76",
   "metadata": {},
   "source": [
    "## Scaling and Transforming the Data"
   ]
  },
  {
   "cell_type": "code",
   "execution_count": 90,
   "id": "cccf8112",
   "metadata": {},
   "outputs": [],
   "source": [
    "df.price = np.log10(df.price)"
   ]
  },
  {
   "cell_type": "code",
   "execution_count": 91,
   "id": "9a6eb8a7",
   "metadata": {},
   "outputs": [],
   "source": [
    "from sklearn.preprocessing import MinMaxScaler"
   ]
  },
  {
   "cell_type": "code",
   "execution_count": 92,
   "id": "de859af9",
   "metadata": {
    "scrolled": true
   },
   "outputs": [],
   "source": [
    "scaler = MinMaxScaler()\n",
    "scaler.fit(df)\n",
    "scaled_features = scaler.transform(df)\n",
    "df_feat = pd.DataFrame(scaled_features, columns=df.columns)"
   ]
  },
  {
   "cell_type": "code",
   "execution_count": 93,
   "id": "36227c49",
   "metadata": {},
   "outputs": [],
   "source": [
    "col_features = df.columns.drop('price')\n",
    "col_target = ['price']\n",
    "\n",
    "scaler_feat = MinMaxScaler()\n",
    "scaler_feat.fit(df[col_features])\n",
    "scaled_features = scaler_feat.transform(df[col_features])\n",
    "df_feat = pd.DataFrame(scaled_features, columns=col_features)\n",
    "\n",
    "scaler_target = MinMaxScaler()\n",
    "scaler_target.fit(df[col_target])\n",
    "scaled_target = scaler_target.transform(df[col_target])\n",
    "df_target = pd.DataFrame(scaled_target, columns=col_target)\n",
    "\n",
    "X = df_feat\n",
    "y = df_target"
   ]
  },
  {
   "cell_type": "markdown",
   "id": "ce0b96f8",
   "metadata": {},
   "source": [
    "## Linear Regression Analysis"
   ]
  },
  {
   "cell_type": "markdown",
   "id": "e74f9e26",
   "metadata": {},
   "source": [
    "<br> In this section, I use Linear Regression Analysis (Ordinary Least Squares, OLS)\n",
    "<br> The calculated p-values and coefficients point out the statistically significant relationships"
   ]
  },
  {
   "cell_type": "code",
   "execution_count": 94,
   "id": "b70a7bc4",
   "metadata": {},
   "outputs": [
    {
     "name": "stderr",
     "output_type": "stream",
     "text": [
      "C:\\Users\\siava\\anaconda3\\lib\\site-packages\\statsmodels\\tsa\\tsatools.py:142: FutureWarning: In a future version of pandas all arguments of concat except for the argument 'objs' will be keyword-only\n",
      "  x = pd.concat(x[::order], 1)\n"
     ]
    }
   ],
   "source": [
    "import statsmodels.api as sm\n",
    "from scipy import stats\n",
    "\n",
    "\n",
    "X2 = sm.add_constant(X)\n",
    "est = sm.OLS(y, X2)\n",
    "results = est.fit()\n",
    "# print(results.summary())"
   ]
  },
  {
   "cell_type": "markdown",
   "id": "9da4f014",
   "metadata": {},
   "source": [
    "<br> Creating a pandas DataFrame using Ordinary Least Squares (OLS) results"
   ]
  },
  {
   "cell_type": "code",
   "execution_count": 95,
   "id": "0a0d99bf",
   "metadata": {
    "scrolled": false
   },
   "outputs": [],
   "source": [
    "results_df = pd.DataFrame(data=list(zip(results.params.values,results.bse.values, results.tvalues.values\n",
    "                                        , results.pvalues.values, results.conf_int().values[:,0]\n",
    "                                        , results.conf_int().values[:,1])))\n",
    "results_df.index=results.params.index\n",
    "results_df.columns=['coef', 'std_err', 't_value', 'p_value', 'conf_int_0.25', 'conf_int_0.75']\n",
    "results_df.drop(index=['const', 'id'], axis=0, inplace=True)"
   ]
  },
  {
   "cell_type": "markdown",
   "id": "8442d09c",
   "metadata": {},
   "source": [
    "<br> highlighting statistically significant features using p_value<0.05"
   ]
  },
  {
   "cell_type": "code",
   "execution_count": 96,
   "id": "58665983",
   "metadata": {
    "scrolled": false
   },
   "outputs": [
    {
     "data": {
      "text/html": [
       "<style type=\"text/css\">\n",
       "#T_f29ba_row0_col0 {\n",
       "  width: 10em;\n",
       "  height: 80%;\n",
       "  background: linear-gradient(90deg, transparent 50.0%, #5fba7d 50.0%, #5fba7d 100.0%, transparent 100.0%);\n",
       "}\n",
       "#T_f29ba_row0_col3, #T_f29ba_row1_col3, #T_f29ba_row2_col3, #T_f29ba_row3_col3, #T_f29ba_row4_col3, #T_f29ba_row5_col3, #T_f29ba_row6_col3, #T_f29ba_row7_col3, #T_f29ba_row8_col3, #T_f29ba_row9_col3, #T_f29ba_row10_col3, #T_f29ba_row11_col3, #T_f29ba_row12_col3, #T_f29ba_row13_col3, #T_f29ba_row14_col3, #T_f29ba_row15_col3, #T_f29ba_row16_col3, #T_f29ba_row17_col3, #T_f29ba_row18_col3, #T_f29ba_row19_col3, #T_f29ba_row20_col3, #T_f29ba_row21_col3, #T_f29ba_row22_col3, #T_f29ba_row23_col3, #T_f29ba_row24_col3, #T_f29ba_row25_col3, #T_f29ba_row26_col3, #T_f29ba_row27_col3, #T_f29ba_row30_col3, #T_f29ba_row31_col3, #T_f29ba_row32_col3, #T_f29ba_row33_col3, #T_f29ba_row34_col3, #T_f29ba_row36_col3, #T_f29ba_row37_col3, #T_f29ba_row39_col3, #T_f29ba_row40_col3, #T_f29ba_row41_col3, #T_f29ba_row42_col3, #T_f29ba_row43_col3, #T_f29ba_row45_col3, #T_f29ba_row49_col3, #T_f29ba_row50_col3, #T_f29ba_row52_col3, #T_f29ba_row53_col3, #T_f29ba_row55_col3, #T_f29ba_row58_col3, #T_f29ba_row60_col3, #T_f29ba_row63_col3, #T_f29ba_row65_col3, #T_f29ba_row66_col3, #T_f29ba_row70_col3 {\n",
       "  background-color: #5fba7d;\n",
       "}\n",
       "#T_f29ba_row1_col0 {\n",
       "  width: 10em;\n",
       "  height: 80%;\n",
       "  background: linear-gradient(90deg, transparent 50.0%, #5fba7d 50.0%, #5fba7d 77.2%, transparent 77.2%);\n",
       "}\n",
       "#T_f29ba_row2_col0 {\n",
       "  width: 10em;\n",
       "  height: 80%;\n",
       "  background: linear-gradient(90deg, transparent 50.0%, #5fba7d 50.0%, #5fba7d 74.4%, transparent 74.4%);\n",
       "}\n",
       "#T_f29ba_row3_col0 {\n",
       "  width: 10em;\n",
       "  height: 80%;\n",
       "  background: linear-gradient(90deg, transparent 26.4%, #d65f5f 26.4%, #d65f5f 50.0%, transparent 50.0%);\n",
       "}\n",
       "#T_f29ba_row4_col0 {\n",
       "  width: 10em;\n",
       "  height: 80%;\n",
       "  background: linear-gradient(90deg, transparent 34.0%, #d65f5f 34.0%, #d65f5f 50.0%, transparent 50.0%);\n",
       "}\n",
       "#T_f29ba_row5_col0 {\n",
       "  width: 10em;\n",
       "  height: 80%;\n",
       "  background: linear-gradient(90deg, transparent 37.2%, #d65f5f 37.2%, #d65f5f 50.0%, transparent 50.0%);\n",
       "}\n",
       "#T_f29ba_row6_col0 {\n",
       "  width: 10em;\n",
       "  height: 80%;\n",
       "  background: linear-gradient(90deg, transparent 50.0%, #5fba7d 50.0%, #5fba7d 62.3%, transparent 62.3%);\n",
       "}\n",
       "#T_f29ba_row7_col0 {\n",
       "  width: 10em;\n",
       "  height: 80%;\n",
       "  background: linear-gradient(90deg, transparent 39.9%, #d65f5f 39.9%, #d65f5f 50.0%, transparent 50.0%);\n",
       "}\n",
       "#T_f29ba_row8_col0 {\n",
       "  width: 10em;\n",
       "  height: 80%;\n",
       "  background: linear-gradient(90deg, transparent 50.0%, #5fba7d 50.0%, #5fba7d 59.8%, transparent 59.8%);\n",
       "}\n",
       "#T_f29ba_row9_col0 {\n",
       "  width: 10em;\n",
       "  height: 80%;\n",
       "  background: linear-gradient(90deg, transparent 50.0%, #5fba7d 50.0%, #5fba7d 59.2%, transparent 59.2%);\n",
       "}\n",
       "#T_f29ba_row10_col0 {\n",
       "  width: 10em;\n",
       "  height: 80%;\n",
       "  background: linear-gradient(90deg, transparent 50.0%, #5fba7d 50.0%, #5fba7d 58.3%, transparent 58.3%);\n",
       "}\n",
       "#T_f29ba_row11_col0 {\n",
       "  width: 10em;\n",
       "  height: 80%;\n",
       "  background: linear-gradient(90deg, transparent 50.0%, #5fba7d 50.0%, #5fba7d 58.1%, transparent 58.1%);\n",
       "}\n",
       "#T_f29ba_row12_col0 {\n",
       "  width: 10em;\n",
       "  height: 80%;\n",
       "  background: linear-gradient(90deg, transparent 41.9%, #d65f5f 41.9%, #d65f5f 50.0%, transparent 50.0%);\n",
       "}\n",
       "#T_f29ba_row13_col0 {\n",
       "  width: 10em;\n",
       "  height: 80%;\n",
       "  background: linear-gradient(90deg, transparent 42.2%, #d65f5f 42.2%, #d65f5f 50.0%, transparent 50.0%);\n",
       "}\n",
       "#T_f29ba_row14_col0 {\n",
       "  width: 10em;\n",
       "  height: 80%;\n",
       "  background: linear-gradient(90deg, transparent 42.7%, #d65f5f 42.7%, #d65f5f 50.0%, transparent 50.0%);\n",
       "}\n",
       "#T_f29ba_row15_col0 {\n",
       "  width: 10em;\n",
       "  height: 80%;\n",
       "  background: linear-gradient(90deg, transparent 42.9%, #d65f5f 42.9%, #d65f5f 50.0%, transparent 50.0%);\n",
       "}\n",
       "#T_f29ba_row16_col0 {\n",
       "  width: 10em;\n",
       "  height: 80%;\n",
       "  background: linear-gradient(90deg, transparent 43.7%, #d65f5f 43.7%, #d65f5f 50.0%, transparent 50.0%);\n",
       "}\n",
       "#T_f29ba_row17_col0 {\n",
       "  width: 10em;\n",
       "  height: 80%;\n",
       "  background: linear-gradient(90deg, transparent 43.9%, #d65f5f 43.9%, #d65f5f 50.0%, transparent 50.0%);\n",
       "}\n",
       "#T_f29ba_row18_col0 {\n",
       "  width: 10em;\n",
       "  height: 80%;\n",
       "  background: linear-gradient(90deg, transparent 50.0%, #5fba7d 50.0%, #5fba7d 55.9%, transparent 55.9%);\n",
       "}\n",
       "#T_f29ba_row19_col0 {\n",
       "  width: 10em;\n",
       "  height: 80%;\n",
       "  background: linear-gradient(90deg, transparent 44.2%, #d65f5f 44.2%, #d65f5f 50.0%, transparent 50.0%);\n",
       "}\n",
       "#T_f29ba_row20_col0 {\n",
       "  width: 10em;\n",
       "  height: 80%;\n",
       "  background: linear-gradient(90deg, transparent 44.4%, #d65f5f 44.4%, #d65f5f 50.0%, transparent 50.0%);\n",
       "}\n",
       "#T_f29ba_row21_col0, #T_f29ba_row22_col0 {\n",
       "  width: 10em;\n",
       "  height: 80%;\n",
       "  background: linear-gradient(90deg, transparent 50.0%, #5fba7d 50.0%, #5fba7d 55.5%, transparent 55.5%);\n",
       "}\n",
       "#T_f29ba_row23_col0 {\n",
       "  width: 10em;\n",
       "  height: 80%;\n",
       "  background: linear-gradient(90deg, transparent 44.5%, #d65f5f 44.5%, #d65f5f 50.0%, transparent 50.0%);\n",
       "}\n",
       "#T_f29ba_row24_col0 {\n",
       "  width: 10em;\n",
       "  height: 80%;\n",
       "  background: linear-gradient(90deg, transparent 50.0%, #5fba7d 50.0%, #5fba7d 55.3%, transparent 55.3%);\n",
       "}\n",
       "#T_f29ba_row25_col0, #T_f29ba_row26_col0, #T_f29ba_row27_col0 {\n",
       "  width: 10em;\n",
       "  height: 80%;\n",
       "  background: linear-gradient(90deg, transparent 50.0%, #5fba7d 50.0%, #5fba7d 55.2%, transparent 55.2%);\n",
       "}\n",
       "#T_f29ba_row28_col0 {\n",
       "  width: 10em;\n",
       "  height: 80%;\n",
       "  background: linear-gradient(90deg, transparent 50.0%, #5fba7d 50.0%, #5fba7d 55.1%, transparent 55.1%);\n",
       "}\n",
       "#T_f29ba_row28_col3, #T_f29ba_row29_col3, #T_f29ba_row35_col3, #T_f29ba_row38_col3, #T_f29ba_row44_col3, #T_f29ba_row46_col3, #T_f29ba_row47_col3, #T_f29ba_row48_col3, #T_f29ba_row51_col3, #T_f29ba_row54_col3, #T_f29ba_row56_col3, #T_f29ba_row57_col3, #T_f29ba_row59_col3, #T_f29ba_row61_col3, #T_f29ba_row62_col3, #T_f29ba_row64_col3, #T_f29ba_row67_col3, #T_f29ba_row68_col3, #T_f29ba_row69_col3, #T_f29ba_row71_col3, #T_f29ba_row72_col3, #T_f29ba_row73_col3, #T_f29ba_row74_col3, #T_f29ba_row75_col3, #T_f29ba_row76_col3, #T_f29ba_row77_col3, #T_f29ba_row78_col3, #T_f29ba_row79_col3, #T_f29ba_row80_col3, #T_f29ba_row81_col3, #T_f29ba_row82_col3, #T_f29ba_row83_col3, #T_f29ba_row84_col3, #T_f29ba_row85_col3, #T_f29ba_row86_col3, #T_f29ba_row87_col3, #T_f29ba_row88_col3, #T_f29ba_row89_col3, #T_f29ba_row90_col3, #T_f29ba_row91_col3, #T_f29ba_row92_col3, #T_f29ba_row93_col3, #T_f29ba_row94_col3, #T_f29ba_row95_col3, #T_f29ba_row96_col3, #T_f29ba_row97_col3, #T_f29ba_row98_col3, #T_f29ba_row99_col3, #T_f29ba_row100_col3, #T_f29ba_row101_col3, #T_f29ba_row102_col3, #T_f29ba_row103_col3, #T_f29ba_row104_col3, #T_f29ba_row105_col3 {\n",
       "  background-color: #d65f5f;\n",
       "}\n",
       "#T_f29ba_row29_col0, #T_f29ba_row30_col0 {\n",
       "  width: 10em;\n",
       "  height: 80%;\n",
       "  background: linear-gradient(90deg, transparent 45.1%, #d65f5f 45.1%, #d65f5f 50.0%, transparent 50.0%);\n",
       "}\n",
       "#T_f29ba_row31_col0 {\n",
       "  width: 10em;\n",
       "  height: 80%;\n",
       "  background: linear-gradient(90deg, transparent 45.2%, #d65f5f 45.2%, #d65f5f 50.0%, transparent 50.0%);\n",
       "}\n",
       "#T_f29ba_row32_col0, #T_f29ba_row34_col0 {\n",
       "  width: 10em;\n",
       "  height: 80%;\n",
       "  background: linear-gradient(90deg, transparent 45.3%, #d65f5f 45.3%, #d65f5f 50.0%, transparent 50.0%);\n",
       "}\n",
       "#T_f29ba_row33_col0 {\n",
       "  width: 10em;\n",
       "  height: 80%;\n",
       "  background: linear-gradient(90deg, transparent 50.0%, #5fba7d 50.0%, #5fba7d 54.7%, transparent 54.7%);\n",
       "}\n",
       "#T_f29ba_row35_col0 {\n",
       "  width: 10em;\n",
       "  height: 80%;\n",
       "  background: linear-gradient(90deg, transparent 45.4%, #d65f5f 45.4%, #d65f5f 50.0%, transparent 50.0%);\n",
       "}\n",
       "#T_f29ba_row36_col0, #T_f29ba_row37_col0 {\n",
       "  width: 10em;\n",
       "  height: 80%;\n",
       "  background: linear-gradient(90deg, transparent 50.0%, #5fba7d 50.0%, #5fba7d 54.5%, transparent 54.5%);\n",
       "}\n",
       "#T_f29ba_row38_col0 {\n",
       "  width: 10em;\n",
       "  height: 80%;\n",
       "  background: linear-gradient(90deg, transparent 45.5%, #d65f5f 45.5%, #d65f5f 50.0%, transparent 50.0%);\n",
       "}\n",
       "#T_f29ba_row39_col0 {\n",
       "  width: 10em;\n",
       "  height: 80%;\n",
       "  background: linear-gradient(90deg, transparent 45.6%, #d65f5f 45.6%, #d65f5f 50.0%, transparent 50.0%);\n",
       "}\n",
       "#T_f29ba_row40_col0 {\n",
       "  width: 10em;\n",
       "  height: 80%;\n",
       "  background: linear-gradient(90deg, transparent 50.0%, #5fba7d 50.0%, #5fba7d 54.4%, transparent 54.4%);\n",
       "}\n",
       "#T_f29ba_row41_col0 {\n",
       "  width: 10em;\n",
       "  height: 80%;\n",
       "  background: linear-gradient(90deg, transparent 50.0%, #5fba7d 50.0%, #5fba7d 54.3%, transparent 54.3%);\n",
       "}\n",
       "#T_f29ba_row42_col0 {\n",
       "  width: 10em;\n",
       "  height: 80%;\n",
       "  background: linear-gradient(90deg, transparent 50.0%, #5fba7d 50.0%, #5fba7d 54.2%, transparent 54.2%);\n",
       "}\n",
       "#T_f29ba_row43_col0, #T_f29ba_row44_col0 {\n",
       "  width: 10em;\n",
       "  height: 80%;\n",
       "  background: linear-gradient(90deg, transparent 50.0%, #5fba7d 50.0%, #5fba7d 54.1%, transparent 54.1%);\n",
       "}\n",
       "#T_f29ba_row45_col0 {\n",
       "  width: 10em;\n",
       "  height: 80%;\n",
       "  background: linear-gradient(90deg, transparent 45.9%, #d65f5f 45.9%, #d65f5f 50.0%, transparent 50.0%);\n",
       "}\n",
       "#T_f29ba_row46_col0 {\n",
       "  width: 10em;\n",
       "  height: 80%;\n",
       "  background: linear-gradient(90deg, transparent 50.0%, #5fba7d 50.0%, #5fba7d 54.0%, transparent 54.0%);\n",
       "}\n",
       "#T_f29ba_row47_col0 {\n",
       "  width: 10em;\n",
       "  height: 80%;\n",
       "  background: linear-gradient(90deg, transparent 46.2%, #d65f5f 46.2%, #d65f5f 50.0%, transparent 50.0%);\n",
       "}\n",
       "#T_f29ba_row48_col0 {\n",
       "  width: 10em;\n",
       "  height: 80%;\n",
       "  background: linear-gradient(90deg, transparent 46.5%, #d65f5f 46.5%, #d65f5f 50.0%, transparent 50.0%);\n",
       "}\n",
       "#T_f29ba_row49_col0, #T_f29ba_row50_col0 {\n",
       "  width: 10em;\n",
       "  height: 80%;\n",
       "  background: linear-gradient(90deg, transparent 50.0%, #5fba7d 50.0%, #5fba7d 53.4%, transparent 53.4%);\n",
       "}\n",
       "#T_f29ba_row51_col0, #T_f29ba_row52_col0 {\n",
       "  width: 10em;\n",
       "  height: 80%;\n",
       "  background: linear-gradient(90deg, transparent 50.0%, #5fba7d 50.0%, #5fba7d 53.2%, transparent 53.2%);\n",
       "}\n",
       "#T_f29ba_row53_col0 {\n",
       "  width: 10em;\n",
       "  height: 80%;\n",
       "  background: linear-gradient(90deg, transparent 50.0%, #5fba7d 50.0%, #5fba7d 53.1%, transparent 53.1%);\n",
       "}\n",
       "#T_f29ba_row54_col0 {\n",
       "  width: 10em;\n",
       "  height: 80%;\n",
       "  background: linear-gradient(90deg, transparent 47.0%, #d65f5f 47.0%, #d65f5f 50.0%, transparent 50.0%);\n",
       "}\n",
       "#T_f29ba_row55_col0 {\n",
       "  width: 10em;\n",
       "  height: 80%;\n",
       "  background: linear-gradient(90deg, transparent 50.0%, #5fba7d 50.0%, #5fba7d 52.9%, transparent 52.9%);\n",
       "}\n",
       "#T_f29ba_row56_col0 {\n",
       "  width: 10em;\n",
       "  height: 80%;\n",
       "  background: linear-gradient(90deg, transparent 47.1%, #d65f5f 47.1%, #d65f5f 50.0%, transparent 50.0%);\n",
       "}\n",
       "#T_f29ba_row57_col0 {\n",
       "  width: 10em;\n",
       "  height: 80%;\n",
       "  background: linear-gradient(90deg, transparent 47.2%, #d65f5f 47.2%, #d65f5f 50.0%, transparent 50.0%);\n",
       "}\n",
       "#T_f29ba_row58_col0, #T_f29ba_row59_col0 {\n",
       "  width: 10em;\n",
       "  height: 80%;\n",
       "  background: linear-gradient(90deg, transparent 47.3%, #d65f5f 47.3%, #d65f5f 50.0%, transparent 50.0%);\n",
       "}\n",
       "#T_f29ba_row60_col0 {\n",
       "  width: 10em;\n",
       "  height: 80%;\n",
       "  background: linear-gradient(90deg, transparent 50.0%, #5fba7d 50.0%, #5fba7d 52.7%, transparent 52.7%);\n",
       "}\n",
       "#T_f29ba_row61_col0, #T_f29ba_row62_col0 {\n",
       "  width: 10em;\n",
       "  height: 80%;\n",
       "  background: linear-gradient(90deg, transparent 50.0%, #5fba7d 50.0%, #5fba7d 52.6%, transparent 52.6%);\n",
       "}\n",
       "#T_f29ba_row63_col0 {\n",
       "  width: 10em;\n",
       "  height: 80%;\n",
       "  background: linear-gradient(90deg, transparent 47.4%, #d65f5f 47.4%, #d65f5f 50.0%, transparent 50.0%);\n",
       "}\n",
       "#T_f29ba_row64_col0 {\n",
       "  width: 10em;\n",
       "  height: 80%;\n",
       "  background: linear-gradient(90deg, transparent 47.5%, #d65f5f 47.5%, #d65f5f 50.0%, transparent 50.0%);\n",
       "}\n",
       "#T_f29ba_row65_col0 {\n",
       "  width: 10em;\n",
       "  height: 80%;\n",
       "  background: linear-gradient(90deg, transparent 50.0%, #5fba7d 50.0%, #5fba7d 52.5%, transparent 52.5%);\n",
       "}\n",
       "#T_f29ba_row66_col0 {\n",
       "  width: 10em;\n",
       "  height: 80%;\n",
       "  background: linear-gradient(90deg, transparent 50.0%, #5fba7d 50.0%, #5fba7d 52.4%, transparent 52.4%);\n",
       "}\n",
       "#T_f29ba_row67_col0 {\n",
       "  width: 10em;\n",
       "  height: 80%;\n",
       "  background: linear-gradient(90deg, transparent 47.6%, #d65f5f 47.6%, #d65f5f 50.0%, transparent 50.0%);\n",
       "}\n",
       "#T_f29ba_row68_col0 {\n",
       "  width: 10em;\n",
       "  height: 80%;\n",
       "  background: linear-gradient(90deg, transparent 47.7%, #d65f5f 47.7%, #d65f5f 50.0%, transparent 50.0%);\n",
       "}\n",
       "#T_f29ba_row69_col0 {\n",
       "  width: 10em;\n",
       "  height: 80%;\n",
       "  background: linear-gradient(90deg, transparent 50.0%, #5fba7d 50.0%, #5fba7d 52.1%, transparent 52.1%);\n",
       "}\n",
       "#T_f29ba_row70_col0, #T_f29ba_row71_col0 {\n",
       "  width: 10em;\n",
       "  height: 80%;\n",
       "  background: linear-gradient(90deg, transparent 50.0%, #5fba7d 50.0%, #5fba7d 52.0%, transparent 52.0%);\n",
       "}\n",
       "#T_f29ba_row72_col0 {\n",
       "  width: 10em;\n",
       "  height: 80%;\n",
       "  background: linear-gradient(90deg, transparent 48.0%, #d65f5f 48.0%, #d65f5f 50.0%, transparent 50.0%);\n",
       "}\n",
       "#T_f29ba_row73_col0, #T_f29ba_row74_col0 {\n",
       "  width: 10em;\n",
       "  height: 80%;\n",
       "  background: linear-gradient(90deg, transparent 50.0%, #5fba7d 50.0%, #5fba7d 51.9%, transparent 51.9%);\n",
       "}\n",
       "#T_f29ba_row75_col0 {\n",
       "  width: 10em;\n",
       "  height: 80%;\n",
       "  background: linear-gradient(90deg, transparent 48.1%, #d65f5f 48.1%, #d65f5f 50.0%, transparent 50.0%);\n",
       "}\n",
       "#T_f29ba_row76_col0, #T_f29ba_row78_col0 {\n",
       "  width: 10em;\n",
       "  height: 80%;\n",
       "  background: linear-gradient(90deg, transparent 48.2%, #d65f5f 48.2%, #d65f5f 50.0%, transparent 50.0%);\n",
       "}\n",
       "#T_f29ba_row77_col0 {\n",
       "  width: 10em;\n",
       "  height: 80%;\n",
       "  background: linear-gradient(90deg, transparent 50.0%, #5fba7d 50.0%, #5fba7d 51.8%, transparent 51.8%);\n",
       "}\n",
       "#T_f29ba_row79_col0 {\n",
       "  width: 10em;\n",
       "  height: 80%;\n",
       "  background: linear-gradient(90deg, transparent 48.4%, #d65f5f 48.4%, #d65f5f 50.0%, transparent 50.0%);\n",
       "}\n",
       "#T_f29ba_row80_col0 {\n",
       "  width: 10em;\n",
       "  height: 80%;\n",
       "  background: linear-gradient(90deg, transparent 48.6%, #d65f5f 48.6%, #d65f5f 50.0%, transparent 50.0%);\n",
       "}\n",
       "#T_f29ba_row81_col0 {\n",
       "  width: 10em;\n",
       "  height: 80%;\n",
       "  background: linear-gradient(90deg, transparent 50.0%, #5fba7d 50.0%, #5fba7d 51.4%, transparent 51.4%);\n",
       "}\n",
       "#T_f29ba_row82_col0, #T_f29ba_row83_col0 {\n",
       "  width: 10em;\n",
       "  height: 80%;\n",
       "  background: linear-gradient(90deg, transparent 48.7%, #d65f5f 48.7%, #d65f5f 50.0%, transparent 50.0%);\n",
       "}\n",
       "#T_f29ba_row84_col0 {\n",
       "  width: 10em;\n",
       "  height: 80%;\n",
       "  background: linear-gradient(90deg, transparent 50.0%, #5fba7d 50.0%, #5fba7d 51.3%, transparent 51.3%);\n",
       "}\n",
       "#T_f29ba_row85_col0 {\n",
       "  width: 10em;\n",
       "  height: 80%;\n",
       "  background: linear-gradient(90deg, transparent 48.8%, #d65f5f 48.8%, #d65f5f 50.0%, transparent 50.0%);\n",
       "}\n",
       "#T_f29ba_row86_col0 {\n",
       "  width: 10em;\n",
       "  height: 80%;\n",
       "  background: linear-gradient(90deg, transparent 48.9%, #d65f5f 48.9%, #d65f5f 50.0%, transparent 50.0%);\n",
       "}\n",
       "#T_f29ba_row87_col0 {\n",
       "  width: 10em;\n",
       "  height: 80%;\n",
       "  background: linear-gradient(90deg, transparent 50.0%, #5fba7d 50.0%, #5fba7d 51.1%, transparent 51.1%);\n",
       "}\n",
       "#T_f29ba_row88_col0 {\n",
       "  width: 10em;\n",
       "  height: 80%;\n",
       "  background: linear-gradient(90deg, transparent 49.0%, #d65f5f 49.0%, #d65f5f 50.0%, transparent 50.0%);\n",
       "}\n",
       "#T_f29ba_row89_col0 {\n",
       "  width: 10em;\n",
       "  height: 80%;\n",
       "  background: linear-gradient(90deg, transparent 50.0%, #5fba7d 50.0%, #5fba7d 51.0%, transparent 51.0%);\n",
       "}\n",
       "#T_f29ba_row90_col0, #T_f29ba_row91_col0 {\n",
       "  width: 10em;\n",
       "  height: 80%;\n",
       "  background: linear-gradient(90deg, transparent 50.0%, #5fba7d 50.0%, #5fba7d 50.9%, transparent 50.9%);\n",
       "}\n",
       "#T_f29ba_row92_col0, #T_f29ba_row94_col0 {\n",
       "  width: 10em;\n",
       "  height: 80%;\n",
       "  background: linear-gradient(90deg, transparent 49.2%, #d65f5f 49.2%, #d65f5f 50.0%, transparent 50.0%);\n",
       "}\n",
       "#T_f29ba_row93_col0 {\n",
       "  width: 10em;\n",
       "  height: 80%;\n",
       "  background: linear-gradient(90deg, transparent 50.0%, #5fba7d 50.0%, #5fba7d 50.8%, transparent 50.8%);\n",
       "}\n",
       "#T_f29ba_row95_col0 {\n",
       "  width: 10em;\n",
       "  height: 80%;\n",
       "  background: linear-gradient(90deg, transparent 49.4%, #d65f5f 49.4%, #d65f5f 50.0%, transparent 50.0%);\n",
       "}\n",
       "#T_f29ba_row96_col0 {\n",
       "  width: 10em;\n",
       "  height: 80%;\n",
       "  background: linear-gradient(90deg, transparent 50.0%, #5fba7d 50.0%, #5fba7d 50.6%, transparent 50.6%);\n",
       "}\n",
       "#T_f29ba_row97_col0 {\n",
       "  width: 10em;\n",
       "  height: 80%;\n",
       "  background: linear-gradient(90deg, transparent 49.5%, #d65f5f 49.5%, #d65f5f 50.0%, transparent 50.0%);\n",
       "}\n",
       "#T_f29ba_row98_col0, #T_f29ba_row99_col0 {\n",
       "  width: 10em;\n",
       "  height: 80%;\n",
       "  background: linear-gradient(90deg, transparent 50.0%, #5fba7d 50.0%, #5fba7d 50.5%, transparent 50.5%);\n",
       "}\n",
       "#T_f29ba_row100_col0 {\n",
       "  width: 10em;\n",
       "  height: 80%;\n",
       "  background: linear-gradient(90deg, transparent 50.0%, #5fba7d 50.0%, #5fba7d 50.4%, transparent 50.4%);\n",
       "}\n",
       "#T_f29ba_row101_col0 {\n",
       "  width: 10em;\n",
       "  height: 80%;\n",
       "  background: linear-gradient(90deg, transparent 49.6%, #d65f5f 49.6%, #d65f5f 50.0%, transparent 50.0%);\n",
       "}\n",
       "#T_f29ba_row102_col0 {\n",
       "  width: 10em;\n",
       "  height: 80%;\n",
       "  background: linear-gradient(90deg, transparent 50.0%, #5fba7d 50.0%, #5fba7d 50.3%, transparent 50.3%);\n",
       "}\n",
       "#T_f29ba_row103_col0 {\n",
       "  width: 10em;\n",
       "  height: 80%;\n",
       "  background: linear-gradient(90deg, transparent 49.7%, #d65f5f 49.7%, #d65f5f 50.0%, transparent 50.0%);\n",
       "}\n",
       "#T_f29ba_row104_col0 {\n",
       "  width: 10em;\n",
       "  height: 80%;\n",
       "  background: linear-gradient(90deg, transparent 50.0%, #5fba7d 50.0%, #5fba7d 50.2%, transparent 50.2%);\n",
       "}\n",
       "#T_f29ba_row105_col0 {\n",
       "  width: 10em;\n",
       "  height: 80%;\n",
       "  background: linear-gradient(90deg, transparent 49.9%, #d65f5f 49.9%, #d65f5f 50.0%, transparent 50.0%);\n",
       "}\n",
       "</style>\n",
       "<table id=\"T_f29ba_\">\n",
       "  <thead>\n",
       "    <tr>\n",
       "      <th class=\"blank level0\" >&nbsp;</th>\n",
       "      <th class=\"col_heading level0 col0\" >coef</th>\n",
       "      <th class=\"col_heading level0 col1\" >std_err</th>\n",
       "      <th class=\"col_heading level0 col2\" >t_value</th>\n",
       "      <th class=\"col_heading level0 col3\" >p_value</th>\n",
       "      <th class=\"col_heading level0 col4\" >conf_int_0.25</th>\n",
       "      <th class=\"col_heading level0 col5\" >conf_int_0.75</th>\n",
       "    </tr>\n",
       "  </thead>\n",
       "  <tbody>\n",
       "    <tr>\n",
       "      <th id=\"T_f29ba_level0_row0\" class=\"row_heading level0 row0\" >bathroom_numbers</th>\n",
       "      <td id=\"T_f29ba_row0_col0\" class=\"data row0 col0\" >0.367633</td>\n",
       "      <td id=\"T_f29ba_row0_col1\" class=\"data row0 col1\" >0.033034</td>\n",
       "      <td id=\"T_f29ba_row0_col2\" class=\"data row0 col2\" >11.129067</td>\n",
       "      <td id=\"T_f29ba_row0_col3\" class=\"data row0 col3\" >0.000000</td>\n",
       "      <td id=\"T_f29ba_row0_col4\" class=\"data row0 col4\" >0.302872</td>\n",
       "      <td id=\"T_f29ba_row0_col5\" class=\"data row0 col5\" >0.432395</td>\n",
       "    </tr>\n",
       "    <tr>\n",
       "      <th id=\"T_f29ba_level0_row1\" class=\"row_heading level0 row1\" >bedrooms</th>\n",
       "      <td id=\"T_f29ba_row1_col0\" class=\"data row1 col0\" >0.199760</td>\n",
       "      <td id=\"T_f29ba_row1_col1\" class=\"data row1 col1\" >0.015754</td>\n",
       "      <td id=\"T_f29ba_row1_col2\" class=\"data row1 col2\" >12.680044</td>\n",
       "      <td id=\"T_f29ba_row1_col3\" class=\"data row1 col3\" >0.000000</td>\n",
       "      <td id=\"T_f29ba_row1_col4\" class=\"data row1 col4\" >0.168875</td>\n",
       "      <td id=\"T_f29ba_row1_col5\" class=\"data row1 col5\" >0.230646</td>\n",
       "    </tr>\n",
       "    <tr>\n",
       "      <th id=\"T_f29ba_level0_row2\" class=\"row_heading level0 row2\" >accommodates</th>\n",
       "      <td id=\"T_f29ba_row2_col0\" class=\"data row2 col0\" >0.179236</td>\n",
       "      <td id=\"T_f29ba_row2_col1\" class=\"data row2 col1\" >0.014118</td>\n",
       "      <td id=\"T_f29ba_row2_col2\" class=\"data row2 col2\" >12.695307</td>\n",
       "      <td id=\"T_f29ba_row2_col3\" class=\"data row2 col3\" >0.000000</td>\n",
       "      <td id=\"T_f29ba_row2_col4\" class=\"data row2 col4\" >0.151557</td>\n",
       "      <td id=\"T_f29ba_row2_col5\" class=\"data row2 col5\" >0.206915</td>\n",
       "    </tr>\n",
       "    <tr>\n",
       "      <th id=\"T_f29ba_level0_row3\" class=\"row_heading level0 row3\" >room_type_Shared room</th>\n",
       "      <td id=\"T_f29ba_row3_col0\" class=\"data row3 col0\" >-0.173360</td>\n",
       "      <td id=\"T_f29ba_row3_col1\" class=\"data row3 col1\" >0.012358</td>\n",
       "      <td id=\"T_f29ba_row3_col2\" class=\"data row3 col2\" >-14.027745</td>\n",
       "      <td id=\"T_f29ba_row3_col3\" class=\"data row3 col3\" >0.000000</td>\n",
       "      <td id=\"T_f29ba_row3_col4\" class=\"data row3 col4\" >-0.197589</td>\n",
       "      <td id=\"T_f29ba_row3_col5\" class=\"data row3 col5\" >-0.149132</td>\n",
       "    </tr>\n",
       "    <tr>\n",
       "      <th id=\"T_f29ba_level0_row4\" class=\"row_heading level0 row4\" >minimum_nights</th>\n",
       "      <td id=\"T_f29ba_row4_col0\" class=\"data row4 col0\" >-0.117558</td>\n",
       "      <td id=\"T_f29ba_row4_col1\" class=\"data row4 col1\" >0.019978</td>\n",
       "      <td id=\"T_f29ba_row4_col2\" class=\"data row4 col2\" >-5.884275</td>\n",
       "      <td id=\"T_f29ba_row4_col3\" class=\"data row4 col3\" >0.000000</td>\n",
       "      <td id=\"T_f29ba_row4_col4\" class=\"data row4 col4\" >-0.156725</td>\n",
       "      <td id=\"T_f29ba_row4_col5\" class=\"data row4 col5\" >-0.078391</td>\n",
       "    </tr>\n",
       "    <tr>\n",
       "      <th id=\"T_f29ba_level0_row5\" class=\"row_heading level0 row5\" >number_of_reviews</th>\n",
       "      <td id=\"T_f29ba_row5_col0\" class=\"data row5 col0\" >-0.094168</td>\n",
       "      <td id=\"T_f29ba_row5_col1\" class=\"data row5 col1\" >0.021034</td>\n",
       "      <td id=\"T_f29ba_row5_col2\" class=\"data row5 col2\" >-4.476953</td>\n",
       "      <td id=\"T_f29ba_row5_col3\" class=\"data row5 col3\" >0.000008</td>\n",
       "      <td id=\"T_f29ba_row5_col4\" class=\"data row5 col4\" >-0.135404</td>\n",
       "      <td id=\"T_f29ba_row5_col5\" class=\"data row5 col5\" >-0.052931</td>\n",
       "    </tr>\n",
       "    <tr>\n",
       "    </tr>\n",
       "    <tr>\n",
       "      <th id=\"T_f29ba_level0_row7\" class=\"row_heading level0 row7\" >number_of_reviews_l30d</th>\n",
       "      <td id=\"T_f29ba_row7_col0\" class=\"data row7 col0\" >-0.074419</td>\n",
       "      <td id=\"T_f29ba_row7_col1\" class=\"data row7 col1\" >0.011074</td>\n",
       "      <td id=\"T_f29ba_row7_col2\" class=\"data row7 col2\" >-6.720388</td>\n",
       "      <td id=\"T_f29ba_row7_col3\" class=\"data row7 col3\" >0.000000</td>\n",
       "      <td id=\"T_f29ba_row7_col4\" class=\"data row7 col4\" >-0.096129</td>\n",
       "      <td id=\"T_f29ba_row7_col5\" class=\"data row7 col5\" >-0.052710</td>\n",
       "    </tr>\n",
       "    <tr>\n",
       "    </tr>\n",
       "    <tr>\n",
       "    </tr>\n",
       "    <tr>\n",
       "    </tr>\n",
       "    <tr>\n",
       "    </tr>\n",
       "    <tr>\n",
       "    </tr>\n",
       "    <tr>\n",
       "      <th id=\"T_f29ba_level0_row13\" class=\"row_heading level0 row13\" >bath_is_shared</th>\n",
       "      <td id=\"T_f29ba_row13_col0\" class=\"data row13 col0\" >-0.057490</td>\n",
       "      <td id=\"T_f29ba_row13_col1\" class=\"data row13 col1\" >0.005082</td>\n",
       "      <td id=\"T_f29ba_row13_col2\" class=\"data row13 col2\" >-11.313460</td>\n",
       "      <td id=\"T_f29ba_row13_col3\" class=\"data row13 col3\" >0.000000</td>\n",
       "      <td id=\"T_f29ba_row13_col4\" class=\"data row13 col4\" >-0.067452</td>\n",
       "      <td id=\"T_f29ba_row13_col5\" class=\"data row13 col5\" >-0.047527</td>\n",
       "    </tr>\n",
       "    <tr>\n",
       "    </tr>\n",
       "    <tr>\n",
       "      <th id=\"T_f29ba_level0_row15\" class=\"row_heading level0 row15\" >room_type_Private room</th>\n",
       "      <td id=\"T_f29ba_row15_col0\" class=\"data row15 col0\" >-0.052373</td>\n",
       "      <td id=\"T_f29ba_row15_col1\" class=\"data row15 col1\" >0.003998</td>\n",
       "      <td id=\"T_f29ba_row15_col2\" class=\"data row15 col2\" >-13.098449</td>\n",
       "      <td id=\"T_f29ba_row15_col3\" class=\"data row15 col3\" >0.000000</td>\n",
       "      <td id=\"T_f29ba_row15_col4\" class=\"data row15 col4\" >-0.060212</td>\n",
       "      <td id=\"T_f29ba_row15_col5\" class=\"data row15 col5\" >-0.044534</td>\n",
       "    </tr>\n",
       "    <tr>\n",
       "    </tr>\n",
       "    <tr>\n",
       "    </tr>\n",
       "    <tr>\n",
       "      <th id=\"T_f29ba_level0_row18\" class=\"row_heading level0 row18\" >number_of_reviews_ltm</th>\n",
       "      <td id=\"T_f29ba_row18_col0\" class=\"data row18 col0\" >0.043525</td>\n",
       "      <td id=\"T_f29ba_row18_col1\" class=\"data row18 col1\" >0.012386</td>\n",
       "      <td id=\"T_f29ba_row18_col2\" class=\"data row18 col2\" >3.514148</td>\n",
       "      <td id=\"T_f29ba_row18_col3\" class=\"data row18 col3\" >0.000445</td>\n",
       "      <td id=\"T_f29ba_row18_col4\" class=\"data row18 col4\" >0.019243</td>\n",
       "      <td id=\"T_f29ba_row18_col5\" class=\"data row18 col5\" >0.067807</td>\n",
       "    </tr>\n",
       "    <tr>\n",
       "    </tr>\n",
       "    <tr>\n",
       "    </tr>\n",
       "    <tr>\n",
       "    </tr>\n",
       "    <tr>\n",
       "    </tr>\n",
       "    <tr>\n",
       "    </tr>\n",
       "    <tr>\n",
       "    </tr>\n",
       "    <tr>\n",
       "    </tr>\n",
       "    <tr>\n",
       "    </tr>\n",
       "    <tr>\n",
       "    </tr>\n",
       "    <tr>\n",
       "    </tr>\n",
       "    <tr>\n",
       "      <th id=\"T_f29ba_level0_row29\" class=\"row_heading level0 row29\" >beds</th>\n",
       "      <td id=\"T_f29ba_row29_col0\" class=\"data row29 col0\" >-0.036203</td>\n",
       "      <td id=\"T_f29ba_row29_col1\" class=\"data row29 col1\" >0.023578</td>\n",
       "      <td id=\"T_f29ba_row29_col2\" class=\"data row29 col2\" >-1.535469</td>\n",
       "      <td id=\"T_f29ba_row29_col3\" class=\"data row29 col3\" >0.124738</td>\n",
       "      <td id=\"T_f29ba_row29_col4\" class=\"data row29 col4\" >-0.082427</td>\n",
       "      <td id=\"T_f29ba_row29_col5\" class=\"data row29 col5\" >0.010021</td>\n",
       "    </tr>\n",
       "    <tr>\n",
       "    </tr>\n",
       "    <tr>\n",
       "    </tr>\n",
       "    <tr>\n",
       "    </tr>\n",
       "    <tr>\n",
       "      <th id=\"T_f29ba_level0_row33\" class=\"row_heading level0 row33\" >availability_30</th>\n",
       "      <td id=\"T_f29ba_row33_col0\" class=\"data row33 col0\" >0.034533</td>\n",
       "      <td id=\"T_f29ba_row33_col1\" class=\"data row33 col1\" >0.007566</td>\n",
       "      <td id=\"T_f29ba_row33_col2\" class=\"data row33 col2\" >4.564418</td>\n",
       "      <td id=\"T_f29ba_row33_col3\" class=\"data row33 col3\" >0.000005</td>\n",
       "      <td id=\"T_f29ba_row33_col4\" class=\"data row33 col4\" >0.019701</td>\n",
       "      <td id=\"T_f29ba_row33_col5\" class=\"data row33 col5\" >0.049366</td>\n",
       "    </tr>\n",
       "    <tr>\n",
       "    </tr>\n",
       "    <tr>\n",
       "      <th id=\"T_f29ba_level0_row35\" class=\"row_heading level0 row35\" >reviews_per_month</th>\n",
       "      <td id=\"T_f29ba_row35_col0\" class=\"data row35 col0\" >-0.033613</td>\n",
       "      <td id=\"T_f29ba_row35_col1\" class=\"data row35 col1\" >0.018709</td>\n",
       "      <td id=\"T_f29ba_row35_col2\" class=\"data row35 col2\" >-1.796668</td>\n",
       "      <td id=\"T_f29ba_row35_col3\" class=\"data row35 col3\" >0.072454</td>\n",
       "      <td id=\"T_f29ba_row35_col4\" class=\"data row35 col4\" >-0.070291</td>\n",
       "      <td id=\"T_f29ba_row35_col5\" class=\"data row35 col5\" >0.003065</td>\n",
       "    </tr>\n",
       "    <tr>\n",
       "    </tr>\n",
       "    <tr>\n",
       "    </tr>\n",
       "    <tr>\n",
       "    </tr>\n",
       "    <tr>\n",
       "    </tr>\n",
       "    <tr>\n",
       "    </tr>\n",
       "    <tr>\n",
       "    </tr>\n",
       "    <tr>\n",
       "    </tr>\n",
       "    <tr>\n",
       "      <th id=\"T_f29ba_level0_row43\" class=\"row_heading level0 row43\" >availability_90</th>\n",
       "      <td id=\"T_f29ba_row43_col0\" class=\"data row43 col0\" >0.029995</td>\n",
       "      <td id=\"T_f29ba_row43_col1\" class=\"data row43 col1\" >0.012153</td>\n",
       "      <td id=\"T_f29ba_row43_col2\" class=\"data row43 col2\" >2.468114</td>\n",
       "      <td id=\"T_f29ba_row43_col3\" class=\"data row43 col3\" >0.013619</td>\n",
       "      <td id=\"T_f29ba_row43_col4\" class=\"data row43 col4\" >0.006169</td>\n",
       "      <td id=\"T_f29ba_row43_col5\" class=\"data row43 col5\" >0.053821</td>\n",
       "    </tr>\n",
       "    <tr>\n",
       "    </tr>\n",
       "    <tr>\n",
       "    </tr>\n",
       "    <tr>\n",
       "    </tr>\n",
       "    <tr>\n",
       "      <th id=\"T_f29ba_level0_row47\" class=\"row_heading level0 row47\" >availability_60</th>\n",
       "      <td id=\"T_f29ba_row47_col0\" class=\"data row47 col0\" >-0.027745</td>\n",
       "      <td id=\"T_f29ba_row47_col1\" class=\"data row47 col1\" >0.015534</td>\n",
       "      <td id=\"T_f29ba_row47_col2\" class=\"data row47 col2\" >-1.786045</td>\n",
       "      <td id=\"T_f29ba_row47_col3\" class=\"data row47 col3\" >0.074158</td>\n",
       "      <td id=\"T_f29ba_row47_col4\" class=\"data row47 col4\" >-0.058200</td>\n",
       "      <td id=\"T_f29ba_row47_col5\" class=\"data row47 col5\" >0.002710</td>\n",
       "    </tr>\n",
       "    <tr>\n",
       "    </tr>\n",
       "    <tr>\n",
       "    </tr>\n",
       "    <tr>\n",
       "    </tr>\n",
       "    <tr>\n",
       "    </tr>\n",
       "    <tr>\n",
       "    </tr>\n",
       "    <tr>\n",
       "    </tr>\n",
       "    <tr>\n",
       "    </tr>\n",
       "    <tr>\n",
       "    </tr>\n",
       "    <tr>\n",
       "      <th id=\"T_f29ba_level0_row56\" class=\"row_heading level0 row56\" >maximum_nights</th>\n",
       "      <td id=\"T_f29ba_row56_col0\" class=\"data row56 col0\" >-0.021327</td>\n",
       "      <td id=\"T_f29ba_row56_col1\" class=\"data row56 col1\" >0.020107</td>\n",
       "      <td id=\"T_f29ba_row56_col2\" class=\"data row56 col2\" >-1.060658</td>\n",
       "      <td id=\"T_f29ba_row56_col3\" class=\"data row56 col3\" >0.288901</td>\n",
       "      <td id=\"T_f29ba_row56_col4\" class=\"data row56 col4\" >-0.060747</td>\n",
       "      <td id=\"T_f29ba_row56_col5\" class=\"data row56 col5\" >0.018093</td>\n",
       "    </tr>\n",
       "    <tr>\n",
       "    </tr>\n",
       "    <tr>\n",
       "    </tr>\n",
       "    <tr>\n",
       "    </tr>\n",
       "    <tr>\n",
       "    </tr>\n",
       "    <tr>\n",
       "    </tr>\n",
       "    <tr>\n",
       "    </tr>\n",
       "    <tr>\n",
       "    </tr>\n",
       "    <tr>\n",
       "    </tr>\n",
       "    <tr>\n",
       "    </tr>\n",
       "    <tr>\n",
       "    </tr>\n",
       "    <tr>\n",
       "    </tr>\n",
       "    <tr>\n",
       "    </tr>\n",
       "    <tr>\n",
       "    </tr>\n",
       "    <tr>\n",
       "    </tr>\n",
       "    <tr>\n",
       "    </tr>\n",
       "    <tr>\n",
       "    </tr>\n",
       "    <tr>\n",
       "    </tr>\n",
       "    <tr>\n",
       "    </tr>\n",
       "    <tr>\n",
       "    </tr>\n",
       "    <tr>\n",
       "    </tr>\n",
       "    <tr>\n",
       "    </tr>\n",
       "    <tr>\n",
       "    </tr>\n",
       "    <tr>\n",
       "    </tr>\n",
       "    <tr>\n",
       "    </tr>\n",
       "    <tr>\n",
       "    </tr>\n",
       "    <tr>\n",
       "    </tr>\n",
       "    <tr>\n",
       "    </tr>\n",
       "    <tr>\n",
       "    </tr>\n",
       "    <tr>\n",
       "    </tr>\n",
       "    <tr>\n",
       "    </tr>\n",
       "    <tr>\n",
       "    </tr>\n",
       "    <tr>\n",
       "    </tr>\n",
       "    <tr>\n",
       "    </tr>\n",
       "    <tr>\n",
       "      <th id=\"T_f29ba_level0_row90\" class=\"row_heading level0 row90\" >review_pca</th>\n",
       "      <td id=\"T_f29ba_row90_col0\" class=\"data row90 col0\" >0.006875</td>\n",
       "      <td id=\"T_f29ba_row90_col1\" class=\"data row90 col1\" >0.003792</td>\n",
       "      <td id=\"T_f29ba_row90_col2\" class=\"data row90 col2\" >1.813237</td>\n",
       "      <td id=\"T_f29ba_row90_col3\" class=\"data row90 col3\" >0.069861</td>\n",
       "      <td id=\"T_f29ba_row90_col4\" class=\"data row90 col4\" >-0.000558</td>\n",
       "      <td id=\"T_f29ba_row90_col5\" class=\"data row90 col5\" >0.014309</td>\n",
       "    </tr>\n",
       "    <tr>\n",
       "    </tr>\n",
       "    <tr>\n",
       "    </tr>\n",
       "    <tr>\n",
       "      <th id=\"T_f29ba_level0_row93\" class=\"row_heading level0 row93\" >availability_365</th>\n",
       "      <td id=\"T_f29ba_row93_col0\" class=\"data row93 col0\" >0.005809</td>\n",
       "      <td id=\"T_f29ba_row93_col1\" class=\"data row93 col1\" >0.003730</td>\n",
       "      <td id=\"T_f29ba_row93_col2\" class=\"data row93 col2\" >1.557149</td>\n",
       "      <td id=\"T_f29ba_row93_col3\" class=\"data row93 col3\" >0.119504</td>\n",
       "      <td id=\"T_f29ba_row93_col4\" class=\"data row93 col4\" >-0.001505</td>\n",
       "      <td id=\"T_f29ba_row93_col5\" class=\"data row93 col5\" >0.013122</td>\n",
       "    </tr>\n",
       "    <tr>\n",
       "    </tr>\n",
       "    <tr>\n",
       "    </tr>\n",
       "    <tr>\n",
       "    </tr>\n",
       "    <tr>\n",
       "    </tr>\n",
       "    <tr>\n",
       "    </tr>\n",
       "    <tr>\n",
       "    </tr>\n",
       "    <tr>\n",
       "      <th id=\"T_f29ba_level0_row100\" class=\"row_heading level0 row100\" >bookable_t</th>\n",
       "      <td id=\"T_f29ba_row100_col0\" class=\"data row100 col0\" >0.002951</td>\n",
       "      <td id=\"T_f29ba_row100_col1\" class=\"data row100 col1\" >0.002139</td>\n",
       "      <td id=\"T_f29ba_row100_col2\" class=\"data row100 col2\" >1.379667</td>\n",
       "      <td id=\"T_f29ba_row100_col3\" class=\"data row100 col3\" >0.167757</td>\n",
       "      <td id=\"T_f29ba_row100_col4\" class=\"data row100 col4\" >-0.001242</td>\n",
       "      <td id=\"T_f29ba_row100_col5\" class=\"data row100 col5\" >0.007143</td>\n",
       "    </tr>\n",
       "    <tr>\n",
       "    </tr>\n",
       "    <tr>\n",
       "    </tr>\n",
       "    <tr>\n",
       "    </tr>\n",
       "    <tr>\n",
       "    </tr>\n",
       "    <tr>\n",
       "    </tr>\n",
       "  </tbody>\n",
       "</table>\n"
      ],
      "text/plain": [
       "<pandas.io.formats.style.Styler at 0x2a92ea3ed60>"
      ]
     },
     "execution_count": 96,
     "metadata": {},
     "output_type": "execute_result"
    }
   ],
   "source": [
    "results_df.sort_values(by=['coef'], key=abs, ascending=False, inplace=True)\n",
    "results_df.style.hide_index(subset=results_df.index.str.startswith('neighbourhood'))\\\n",
    "                .highlight_between(subset=['p_value'], left=0, right=0.05, color='#5fba7d')\\\n",
    "                .highlight_between(subset=['p_value'], left=0.05, right=1, color='#d65f5f')\\\n",
    "                .bar(subset=['coef'], align='zero', color=['#d65f5f', '#5fba7d'])"
   ]
  },
  {
   "cell_type": "markdown",
   "id": "6d1c9f47",
   "metadata": {},
   "source": [
    "## Results - Statistically Significant Features"
   ]
  },
  {
   "cell_type": "markdown",
   "id": "27fb6172",
   "metadata": {},
   "source": [
    "<br> Extracting the list of significant features\n",
    "<br> Note that <i>Neighbourhood</i> is always a significant factor in estimating the price"
   ]
  },
  {
   "cell_type": "code",
   "execution_count": 117,
   "id": "4188f7af",
   "metadata": {},
   "outputs": [
    {
     "name": "stdout",
     "output_type": "stream",
     "text": [
      "['bathroom_numbers', 'bedrooms', 'accommodates', 'room_type_Shared room', 'minimum_nights', 'number_of_reviews', 'number_of_reviews_l30d', 'bath_is_shared', 'room_type_Private room', 'number_of_reviews_ltm', 'availability_30', 'availability_90']\n"
     ]
    }
   ],
   "source": [
    "# List of significant features\n",
    "sign_feat = list(results_df[results_df['p_value']<0.05].index)\n",
    "\n",
    "# print list of significant features (except neighbourhoods)\n",
    "print([x for x in sign_feat if not x.startswith('neighbourhood')])"
   ]
  },
  {
   "cell_type": "markdown",
   "id": "7bb166f4",
   "metadata": {},
   "source": [
    "<br> List of <i>Neighbourhood</i> columns"
   ]
  },
  {
   "cell_type": "code",
   "execution_count": 118,
   "id": "e9655e4e",
   "metadata": {},
   "outputs": [],
   "source": [
    "neighbourhood_cols = [col for col in df_feat if col.startswith('neighbourhood')]"
   ]
  },
  {
   "cell_type": "markdown",
   "id": "2d89396b",
   "metadata": {},
   "source": [
    "## Model - Estimating Price"
   ]
  },
  {
   "cell_type": "code",
   "execution_count": 119,
   "id": "36e02b68",
   "metadata": {},
   "outputs": [],
   "source": [
    "X = df_feat[sign_feat]\n",
    "y = df_target # log10_price"
   ]
  },
  {
   "cell_type": "code",
   "execution_count": 120,
   "id": "5efee160",
   "metadata": {},
   "outputs": [],
   "source": [
    "# using sklearn train_test_split and splitting the data into train and test sets\n",
    "from sklearn.model_selection import train_test_split\n",
    "\n",
    "X_train, X_test, y_train, y_test = train_test_split(X, y, test_size=0.33, random_state=42)"
   ]
  },
  {
   "cell_type": "code",
   "execution_count": 121,
   "id": "dfc0c598",
   "metadata": {},
   "outputs": [],
   "source": [
    "# using sklearn LinearRegression as the model\n",
    "from sklearn.linear_model import LinearRegression\n",
    "\n",
    "lm = LinearRegression()\n",
    "lm.fit(X_train,y_train)\n",
    "predictions = lm.predict(X_test)\n",
    "y_train_pred = lm.predict(X_train)"
   ]
  },
  {
   "cell_type": "code",
   "execution_count": 122,
   "id": "8e750279",
   "metadata": {
    "scrolled": false
   },
   "outputs": [
    {
     "data": {
      "image/png": "[encoded data removed]",
      "text/plain": [
       "<Figure size 720x504 with 1 Axes>"
      ]
     },
     "metadata": {
      "needs_background": "light"
     },
     "output_type": "display_data"
    }
   ],
   "source": [
    "# plotting the results\n",
    "# comparing price predictions with the test values\n",
    "x_values = scaler_target.inverse_transform(y_test)\n",
    "y_values = scaler_target.inverse_transform(predictions)\n",
    "min_value = min(min(x_values), min(y_values))\n",
    "max_value = max(max(x_values), max(y_values))\n",
    "\n",
    "fig, ax = plt.subplots(figsize=(10, 7))\n",
    "\n",
    "plt.plot([min_value,max_value],[min_value,max_value], color='black')\n",
    "sns.scatterplot(x=x_values[:,0], y=y_values[:,0], alpha=0.5, color='red')\n",
    "ax.set(xlabel='Actual Price', ylabel='Predicted Price', xlim=(1,4), ylim=(1,4));\n",
    "xy_range=np.arange(1, 5, step=1)\n",
    "ax.set_xticks(xy_range)\n",
    "ax.set_xticklabels(10**xy_range)\n",
    "ax.set_yticks(xy_range)\n",
    "ax.set_yticklabels(10**xy_range)\n",
    "ax.grid(True)"
   ]
  },
  {
   "cell_type": "markdown",
   "id": "e6180993",
   "metadata": {},
   "source": [
    "### Evaluating the Model\n",
    "<br> using sklearn metrics\n",
    "<br> calculating r2_score, Mean Absolute Error, Mean Square Error, and Root Mean Square Error"
   ]
  },
  {
   "cell_type": "code",
   "execution_count": 124,
   "id": "cddf4983",
   "metadata": {
    "scrolled": true
   },
   "outputs": [
    {
     "name": "stdout",
     "output_type": "stream",
     "text": [
      "Test data\n",
      "r2_score: 0.6276456908789978\n",
      "MAE: 0.050398965420112664\n",
      "MSE: 0.004683428678056664\n",
      "RMSE: 0.06843558049769626\n",
      "\n",
      "\n",
      "Training data\n",
      "r2_score: 0.6489374711549665\n",
      "MAE: 0.04906912408701775\n",
      "MSE: 0.004238578843607746\n",
      "RMSE: 0.06510436885192687\n"
     ]
    }
   ],
   "source": [
    "from sklearn import metrics\n",
    "\n",
    "print('Test data')\n",
    "print('r2_score:', metrics.r2_score(y_test, predictions))\n",
    "print('MAE:', metrics.mean_absolute_error(y_test, predictions))\n",
    "print('MSE:', metrics.mean_squared_error(y_test, predictions))\n",
    "print('RMSE:', np.sqrt(metrics.mean_squared_error(y_test, predictions)))\n",
    "print('\\n')\n",
    "print('Training data')\n",
    "print('r2_score:', metrics.r2_score(y_train, y_train_pred))\n",
    "print('MAE:', metrics.mean_absolute_error(y_train, y_train_pred))\n",
    "print('MSE:', metrics.mean_squared_error(y_train, y_train_pred))\n",
    "print('RMSE:', np.sqrt(metrics.mean_squared_error(y_train, y_train_pred)))"
   ]
  },
  {
   "cell_type": "code",
   "execution_count": 173,
   "id": "3edd37ee",
   "metadata": {},
   "outputs": [
    {
     "data": {
      "image/png": "[encoded data removed]",
      "text/plain": [
       "<Figure size 720x360 with 1 Axes>"
      ]
     },
     "metadata": {
      "needs_background": "light"
     },
     "output_type": "display_data"
    }
   ],
   "source": [
    "import squarify\n",
    "\n",
    "plt.figure(figsize=(10,5))\n",
    "\n",
    "squarify_labels = [x for x in results_df[results_df.p_value<=0.05].index if not x.startswith('neighbourhood')]\n",
    "squarify_sizes = list(abs(results_df['coef'][squarify_labels]))\n",
    "\n",
    "squarify.plot(sizes=squarify_sizes, label=squarify_labels, alpha=0.6, pad=True)\n",
    "plt.axis('off');"
   ]
  }
 ],
 "metadata": {
  "kernelspec": {
   "display_name": "Python 3 (ipykernel)",
   "language": "python",
   "name": "python3"
  },
  "language_info": {
   "codemirror_mode": {
    "name": "ipython",
    "version": 3
   },
   "file_extension": ".py",
   "mimetype": "text/x-python",
   "name": "python",
   "nbconvert_exporter": "python",
   "pygments_lexer": "ipython3",
   "version": "3.9.7"
  }
 },
 "nbformat": 4,
 "nbformat_minor": 5
}
