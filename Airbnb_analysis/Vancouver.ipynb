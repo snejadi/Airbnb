{
 "cells": [
  {
   "cell_type": "markdown",
   "id": "b9ebb0dc",
   "metadata": {},
   "source": [
    "# Vancouver, Canada"
   ]
  },
  {
   "cell_type": "markdown",
   "id": "8514b1cc",
   "metadata": {},
   "source": [
    "<br> Importing necessary libraries"
   ]
  },
  {
   "cell_type": "code",
   "execution_count": 1,
   "id": "6cd3b747",
   "metadata": {},
   "outputs": [],
   "source": [
    "import numpy as np\n",
    "import pandas as pd\n",
    "import matplotlib.pyplot as plt\n",
    "import seaborn as sns\n",
    "%matplotlib inline"
   ]
  },
  {
   "cell_type": "markdown",
   "id": "b6d0ecdb",
   "metadata": {},
   "source": [
    "## The Data\n",
    "<br> Working with listing.csv file\n",
    "<br> The file has 74 columns\n",
    "<br> Here I start working on specific columns listed below and define them in: col_list_listings\n",
    "<br> In other words, I discard empty columns, url, names, etc."
   ]
  },
  {
   "cell_type": "code",
   "execution_count": 2,
   "id": "5a93fdcb",
   "metadata": {},
   "outputs": [],
   "source": [
    "col_list_listings = ['id', 'neighbourhood_cleansed', 'property_type', 'room_type', 'accommodates', 'bathrooms_text'\n",
    "                     , 'bedrooms', 'beds', 'price', 'minimum_nights', 'maximum_nights', 'has_availability'\n",
    "                     , 'availability_30', 'availability_60', 'availability_90', 'availability_365', 'number_of_reviews'\n",
    "                     , 'number_of_reviews_ltm', 'number_of_reviews_l30d', 'review_scores_rating', 'review_scores_accuracy'\n",
    "                     , 'review_scores_cleanliness', 'review_scores_checkin', 'review_scores_communication'\n",
    "                     , 'review_scores_location', 'review_scores_value', 'instant_bookable', 'reviews_per_month']"
   ]
  },
  {
   "cell_type": "markdown",
   "id": "e61310ae",
   "metadata": {},
   "source": [
    "## Load Data"
   ]
  },
  {
   "cell_type": "code",
   "execution_count": 3,
   "id": "cbfb6abf",
   "metadata": {},
   "outputs": [],
   "source": [
    "city='Vancouver'\n",
    "data_fldr='../Airbnb_data/'\n",
    "\n",
    "df=pd.read_csv(data_fldr + city +'/listings.csv', usecols=col_list_listings)"
   ]
  },
  {
   "cell_type": "code",
   "execution_count": 4,
   "id": "7950b4e1",
   "metadata": {},
   "outputs": [],
   "source": [
    "df.set_index('id');"
   ]
  },
  {
   "cell_type": "code",
   "execution_count": 5,
   "id": "cb743db8",
   "metadata": {
    "scrolled": false
   },
   "outputs": [
    {
     "name": "stdout",
     "output_type": "stream",
     "text": [
      "(4531, 28)\n"
     ]
    }
   ],
   "source": [
    "print(df.shape)"
   ]
  },
  {
   "cell_type": "code",
   "execution_count": 6,
   "id": "1c22a3db",
   "metadata": {},
   "outputs": [
    {
     "data": {
      "text/html": [
       "<div>\n",
       "<style scoped>\n",
       "    .dataframe tbody tr th:only-of-type {\n",
       "        vertical-align: middle;\n",
       "    }\n",
       "\n",
       "    .dataframe tbody tr th {\n",
       "        vertical-align: top;\n",
       "    }\n",
       "\n",
       "    .dataframe thead th {\n",
       "        text-align: right;\n",
       "    }\n",
       "</style>\n",
       "<table border=\"1\" class=\"dataframe\">\n",
       "  <thead>\n",
       "    <tr style=\"text-align: right;\">\n",
       "      <th></th>\n",
       "      <th>count</th>\n",
       "      <th>mean</th>\n",
       "      <th>std</th>\n",
       "      <th>min</th>\n",
       "      <th>25%</th>\n",
       "      <th>50%</th>\n",
       "      <th>75%</th>\n",
       "      <th>max</th>\n",
       "    </tr>\n",
       "  </thead>\n",
       "  <tbody>\n",
       "    <tr>\n",
       "      <th>id</th>\n",
       "      <td>4531.0</td>\n",
       "      <td>3.275561e+07</td>\n",
       "      <td>1.572349e+07</td>\n",
       "      <td>10080.00</td>\n",
       "      <td>20913665.00</td>\n",
       "      <td>35423100.00</td>\n",
       "      <td>4.678216e+07</td>\n",
       "      <td>53757096.00</td>\n",
       "    </tr>\n",
       "    <tr>\n",
       "      <th>accommodates</th>\n",
       "      <td>4531.0</td>\n",
       "      <td>3.437431e+00</td>\n",
       "      <td>1.931784e+00</td>\n",
       "      <td>1.00</td>\n",
       "      <td>2.00</td>\n",
       "      <td>3.00</td>\n",
       "      <td>4.000000e+00</td>\n",
       "      <td>16.00</td>\n",
       "    </tr>\n",
       "    <tr>\n",
       "      <th>bedrooms</th>\n",
       "      <td>4221.0</td>\n",
       "      <td>1.599621e+00</td>\n",
       "      <td>8.972522e-01</td>\n",
       "      <td>1.00</td>\n",
       "      <td>1.00</td>\n",
       "      <td>1.00</td>\n",
       "      <td>2.000000e+00</td>\n",
       "      <td>13.00</td>\n",
       "    </tr>\n",
       "    <tr>\n",
       "      <th>beds</th>\n",
       "      <td>4373.0</td>\n",
       "      <td>1.892065e+00</td>\n",
       "      <td>1.165517e+00</td>\n",
       "      <td>1.00</td>\n",
       "      <td>1.00</td>\n",
       "      <td>2.00</td>\n",
       "      <td>2.000000e+00</td>\n",
       "      <td>15.00</td>\n",
       "    </tr>\n",
       "    <tr>\n",
       "      <th>minimum_nights</th>\n",
       "      <td>4531.0</td>\n",
       "      <td>1.822335e+01</td>\n",
       "      <td>3.303886e+01</td>\n",
       "      <td>1.00</td>\n",
       "      <td>2.00</td>\n",
       "      <td>4.00</td>\n",
       "      <td>3.000000e+01</td>\n",
       "      <td>399.00</td>\n",
       "    </tr>\n",
       "    <tr>\n",
       "      <th>maximum_nights</th>\n",
       "      <td>4531.0</td>\n",
       "      <td>6.709322e+02</td>\n",
       "      <td>5.024742e+02</td>\n",
       "      <td>1.00</td>\n",
       "      <td>90.00</td>\n",
       "      <td>1125.00</td>\n",
       "      <td>1.125000e+03</td>\n",
       "      <td>1125.00</td>\n",
       "    </tr>\n",
       "    <tr>\n",
       "      <th>availability_30</th>\n",
       "      <td>4531.0</td>\n",
       "      <td>7.920547e+00</td>\n",
       "      <td>9.908114e+00</td>\n",
       "      <td>0.00</td>\n",
       "      <td>0.00</td>\n",
       "      <td>3.00</td>\n",
       "      <td>1.300000e+01</td>\n",
       "      <td>30.00</td>\n",
       "    </tr>\n",
       "    <tr>\n",
       "      <th>availability_60</th>\n",
       "      <td>4531.0</td>\n",
       "      <td>2.084727e+01</td>\n",
       "      <td>2.144258e+01</td>\n",
       "      <td>0.00</td>\n",
       "      <td>0.00</td>\n",
       "      <td>13.00</td>\n",
       "      <td>3.900000e+01</td>\n",
       "      <td>60.00</td>\n",
       "    </tr>\n",
       "    <tr>\n",
       "      <th>availability_90</th>\n",
       "      <td>4531.0</td>\n",
       "      <td>3.560318e+01</td>\n",
       "      <td>3.334678e+01</td>\n",
       "      <td>0.00</td>\n",
       "      <td>0.00</td>\n",
       "      <td>32.00</td>\n",
       "      <td>6.800000e+01</td>\n",
       "      <td>90.00</td>\n",
       "    </tr>\n",
       "    <tr>\n",
       "      <th>availability_365</th>\n",
       "      <td>4531.0</td>\n",
       "      <td>1.269903e+02</td>\n",
       "      <td>1.208539e+02</td>\n",
       "      <td>0.00</td>\n",
       "      <td>7.00</td>\n",
       "      <td>88.00</td>\n",
       "      <td>2.230000e+02</td>\n",
       "      <td>365.00</td>\n",
       "    </tr>\n",
       "    <tr>\n",
       "      <th>number_of_reviews</th>\n",
       "      <td>4531.0</td>\n",
       "      <td>3.607371e+01</td>\n",
       "      <td>6.272374e+01</td>\n",
       "      <td>0.00</td>\n",
       "      <td>2.00</td>\n",
       "      <td>10.00</td>\n",
       "      <td>4.300000e+01</td>\n",
       "      <td>716.00</td>\n",
       "    </tr>\n",
       "    <tr>\n",
       "      <th>number_of_reviews_ltm</th>\n",
       "      <td>4531.0</td>\n",
       "      <td>7.518870e+00</td>\n",
       "      <td>1.399536e+01</td>\n",
       "      <td>0.00</td>\n",
       "      <td>0.00</td>\n",
       "      <td>1.00</td>\n",
       "      <td>9.000000e+00</td>\n",
       "      <td>299.00</td>\n",
       "    </tr>\n",
       "    <tr>\n",
       "      <th>number_of_reviews_l30d</th>\n",
       "      <td>4531.0</td>\n",
       "      <td>7.040388e-01</td>\n",
       "      <td>1.462868e+00</td>\n",
       "      <td>0.00</td>\n",
       "      <td>0.00</td>\n",
       "      <td>0.00</td>\n",
       "      <td>1.000000e+00</td>\n",
       "      <td>18.00</td>\n",
       "    </tr>\n",
       "    <tr>\n",
       "      <th>review_scores_rating</th>\n",
       "      <td>3782.0</td>\n",
       "      <td>4.731946e+00</td>\n",
       "      <td>5.186834e-01</td>\n",
       "      <td>0.00</td>\n",
       "      <td>4.69</td>\n",
       "      <td>4.86</td>\n",
       "      <td>5.000000e+00</td>\n",
       "      <td>5.00</td>\n",
       "    </tr>\n",
       "    <tr>\n",
       "      <th>review_scores_accuracy</th>\n",
       "      <td>3763.0</td>\n",
       "      <td>4.802817e+00</td>\n",
       "      <td>3.931192e-01</td>\n",
       "      <td>0.00</td>\n",
       "      <td>4.79</td>\n",
       "      <td>4.91</td>\n",
       "      <td>5.000000e+00</td>\n",
       "      <td>5.00</td>\n",
       "    </tr>\n",
       "    <tr>\n",
       "      <th>review_scores_cleanliness</th>\n",
       "      <td>3763.0</td>\n",
       "      <td>4.730803e+00</td>\n",
       "      <td>4.561400e-01</td>\n",
       "      <td>0.00</td>\n",
       "      <td>4.67</td>\n",
       "      <td>4.88</td>\n",
       "      <td>5.000000e+00</td>\n",
       "      <td>5.00</td>\n",
       "    </tr>\n",
       "    <tr>\n",
       "      <th>review_scores_checkin</th>\n",
       "      <td>3763.0</td>\n",
       "      <td>4.854613e+00</td>\n",
       "      <td>3.397553e-01</td>\n",
       "      <td>0.00</td>\n",
       "      <td>4.84</td>\n",
       "      <td>4.96</td>\n",
       "      <td>5.000000e+00</td>\n",
       "      <td>5.00</td>\n",
       "    </tr>\n",
       "    <tr>\n",
       "      <th>review_scores_communication</th>\n",
       "      <td>3763.0</td>\n",
       "      <td>4.857478e+00</td>\n",
       "      <td>3.529881e-01</td>\n",
       "      <td>1.00</td>\n",
       "      <td>4.86</td>\n",
       "      <td>4.96</td>\n",
       "      <td>5.000000e+00</td>\n",
       "      <td>5.00</td>\n",
       "    </tr>\n",
       "    <tr>\n",
       "      <th>review_scores_location</th>\n",
       "      <td>3763.0</td>\n",
       "      <td>4.843492e+00</td>\n",
       "      <td>2.676474e-01</td>\n",
       "      <td>1.00</td>\n",
       "      <td>4.79</td>\n",
       "      <td>4.92</td>\n",
       "      <td>5.000000e+00</td>\n",
       "      <td>5.00</td>\n",
       "    </tr>\n",
       "    <tr>\n",
       "      <th>review_scores_value</th>\n",
       "      <td>3763.0</td>\n",
       "      <td>4.675586e+00</td>\n",
       "      <td>4.167293e-01</td>\n",
       "      <td>1.00</td>\n",
       "      <td>4.61</td>\n",
       "      <td>4.77</td>\n",
       "      <td>4.900000e+00</td>\n",
       "      <td>5.00</td>\n",
       "    </tr>\n",
       "    <tr>\n",
       "      <th>reviews_per_month</th>\n",
       "      <td>3782.0</td>\n",
       "      <td>1.385513e+00</td>\n",
       "      <td>1.553080e+00</td>\n",
       "      <td>0.01</td>\n",
       "      <td>0.27</td>\n",
       "      <td>0.82</td>\n",
       "      <td>2.017500e+00</td>\n",
       "      <td>24.13</td>\n",
       "    </tr>\n",
       "  </tbody>\n",
       "</table>\n",
       "</div>"
      ],
      "text/plain": [
       "                              count          mean           std       min  \\\n",
       "id                           4531.0  3.275561e+07  1.572349e+07  10080.00   \n",
       "accommodates                 4531.0  3.437431e+00  1.931784e+00      1.00   \n",
       "bedrooms                     4221.0  1.599621e+00  8.972522e-01      1.00   \n",
       "beds                         4373.0  1.892065e+00  1.165517e+00      1.00   \n",
       "minimum_nights               4531.0  1.822335e+01  3.303886e+01      1.00   \n",
       "maximum_nights               4531.0  6.709322e+02  5.024742e+02      1.00   \n",
       "availability_30              4531.0  7.920547e+00  9.908114e+00      0.00   \n",
       "availability_60              4531.0  2.084727e+01  2.144258e+01      0.00   \n",
       "availability_90              4531.0  3.560318e+01  3.334678e+01      0.00   \n",
       "availability_365             4531.0  1.269903e+02  1.208539e+02      0.00   \n",
       "number_of_reviews            4531.0  3.607371e+01  6.272374e+01      0.00   \n",
       "number_of_reviews_ltm        4531.0  7.518870e+00  1.399536e+01      0.00   \n",
       "number_of_reviews_l30d       4531.0  7.040388e-01  1.462868e+00      0.00   \n",
       "review_scores_rating         3782.0  4.731946e+00  5.186834e-01      0.00   \n",
       "review_scores_accuracy       3763.0  4.802817e+00  3.931192e-01      0.00   \n",
       "review_scores_cleanliness    3763.0  4.730803e+00  4.561400e-01      0.00   \n",
       "review_scores_checkin        3763.0  4.854613e+00  3.397553e-01      0.00   \n",
       "review_scores_communication  3763.0  4.857478e+00  3.529881e-01      1.00   \n",
       "review_scores_location       3763.0  4.843492e+00  2.676474e-01      1.00   \n",
       "review_scores_value          3763.0  4.675586e+00  4.167293e-01      1.00   \n",
       "reviews_per_month            3782.0  1.385513e+00  1.553080e+00      0.01   \n",
       "\n",
       "                                     25%          50%           75%  \\\n",
       "id                           20913665.00  35423100.00  4.678216e+07   \n",
       "accommodates                        2.00         3.00  4.000000e+00   \n",
       "bedrooms                            1.00         1.00  2.000000e+00   \n",
       "beds                                1.00         2.00  2.000000e+00   \n",
       "minimum_nights                      2.00         4.00  3.000000e+01   \n",
       "maximum_nights                     90.00      1125.00  1.125000e+03   \n",
       "availability_30                     0.00         3.00  1.300000e+01   \n",
       "availability_60                     0.00        13.00  3.900000e+01   \n",
       "availability_90                     0.00        32.00  6.800000e+01   \n",
       "availability_365                    7.00        88.00  2.230000e+02   \n",
       "number_of_reviews                   2.00        10.00  4.300000e+01   \n",
       "number_of_reviews_ltm               0.00         1.00  9.000000e+00   \n",
       "number_of_reviews_l30d              0.00         0.00  1.000000e+00   \n",
       "review_scores_rating                4.69         4.86  5.000000e+00   \n",
       "review_scores_accuracy              4.79         4.91  5.000000e+00   \n",
       "review_scores_cleanliness           4.67         4.88  5.000000e+00   \n",
       "review_scores_checkin               4.84         4.96  5.000000e+00   \n",
       "review_scores_communication         4.86         4.96  5.000000e+00   \n",
       "review_scores_location              4.79         4.92  5.000000e+00   \n",
       "review_scores_value                 4.61         4.77  4.900000e+00   \n",
       "reviews_per_month                   0.27         0.82  2.017500e+00   \n",
       "\n",
       "                                     max  \n",
       "id                           53757096.00  \n",
       "accommodates                       16.00  \n",
       "bedrooms                           13.00  \n",
       "beds                               15.00  \n",
       "minimum_nights                    399.00  \n",
       "maximum_nights                   1125.00  \n",
       "availability_30                    30.00  \n",
       "availability_60                    60.00  \n",
       "availability_90                    90.00  \n",
       "availability_365                  365.00  \n",
       "number_of_reviews                 716.00  \n",
       "number_of_reviews_ltm             299.00  \n",
       "number_of_reviews_l30d             18.00  \n",
       "review_scores_rating                5.00  \n",
       "review_scores_accuracy              5.00  \n",
       "review_scores_cleanliness           5.00  \n",
       "review_scores_checkin               5.00  \n",
       "review_scores_communication         5.00  \n",
       "review_scores_location              5.00  \n",
       "review_scores_value                 5.00  \n",
       "reviews_per_month                  24.13  "
      ]
     },
     "execution_count": 6,
     "metadata": {},
     "output_type": "execute_result"
    }
   ],
   "source": [
    "df.describe().T"
   ]
  },
  {
   "cell_type": "markdown",
   "id": "5a2c7ff3",
   "metadata": {},
   "source": [
    "## Exploratory Data Analysis\n",
    "<br> Analysing Important Columns\n",
    "<br> Making necessary changes or modifications in important columns"
   ]
  },
  {
   "cell_type": "markdown",
   "id": "89bd9413",
   "metadata": {},
   "source": [
    "### Price\n",
    "Column name = price"
   ]
  },
  {
   "cell_type": "code",
   "execution_count": 7,
   "id": "b89269a5",
   "metadata": {
    "scrolled": true
   },
   "outputs": [
    {
     "name": "stdout",
     "output_type": "stream",
     "text": [
      "object\n",
      "0    $158.00\n",
      "1    $150.00\n",
      "2     $85.00\n",
      "3    $150.00\n",
      "4    $150.00\n",
      "5    $350.00\n",
      "6    $100.00\n",
      "7    $195.00\n",
      "8     $94.00\n",
      "9     $50.00\n",
      "Name: price, dtype: object\n"
     ]
    }
   ],
   "source": [
    "print(df['price'].dtypes)\n",
    "print(df['price'][0:10])"
   ]
  },
  {
   "cell_type": "code",
   "execution_count": 8,
   "id": "9664b062",
   "metadata": {
    "scrolled": true
   },
   "outputs": [
    {
     "name": "stderr",
     "output_type": "stream",
     "text": [
      "C:\\Users\\siava\\AppData\\Local\\Temp/ipykernel_11064/14964403.py:3: FutureWarning: The default value of regex will change from True to False in a future version.\n",
      "  df.price = df.price.str.replace('\\$|,', '').astype('float64')\n"
     ]
    }
   ],
   "source": [
    "# removing '$' and '.' from df.price and converting it to numeric values\n",
    "# however, there should be a smarter approach for converting this column to numeric values\n",
    "df.price = df.price.str.replace('\\$|,', '').astype('float64')"
   ]
  },
  {
   "cell_type": "code",
   "execution_count": 9,
   "id": "30567d1a",
   "metadata": {
    "scrolled": true
   },
   "outputs": [
    {
     "data": {
      "text/plain": [
       "count    4531.000000\n",
       "mean      178.967998\n",
       "std       290.691316\n",
       "min        13.000000\n",
       "25%        92.500000\n",
       "50%       129.000000\n",
       "75%       199.000000\n",
       "max      9999.000000\n",
       "Name: price, dtype: float64"
      ]
     },
     "execution_count": 9,
     "metadata": {},
     "output_type": "execute_result"
    }
   ],
   "source": [
    "df.price.describe()"
   ]
  },
  {
   "cell_type": "code",
   "execution_count": 10,
   "id": "ce9fc397",
   "metadata": {},
   "outputs": [],
   "source": [
    "df.drop(df[df.price<=0].index,inplace=True)"
   ]
  },
  {
   "cell_type": "markdown",
   "id": "8e25d60c",
   "metadata": {},
   "source": [
    "#### \n",
    "Very few listings (count=10) have a price greater than $2,000"
   ]
  },
  {
   "cell_type": "code",
   "execution_count": 11,
   "id": "9fea537b",
   "metadata": {
    "scrolled": true
   },
   "outputs": [
    {
     "data": {
      "text/plain": [
       "10"
      ]
     },
     "execution_count": 11,
     "metadata": {},
     "output_type": "execute_result"
    }
   ],
   "source": [
    "df[df.price>2000].price.count()"
   ]
  },
  {
   "cell_type": "markdown",
   "id": "2ab107ae",
   "metadata": {},
   "source": [
    "#### Necessary Transformation for Price Data\n",
    "<br> Data for the price column has a log-normal distribution\n",
    "<br> I will use log10 and transform this column to convert it into a Gaussian distribution for modeling purposes\n",
    "<br> note that I am using log-scale on the x_axis for the histogram (axes[1]) \n",
    "<br> I used it for conveying the message and showing the necessity for a log transformation"
   ]
  },
  {
   "cell_type": "code",
   "execution_count": 12,
   "id": "bbcffd76",
   "metadata": {
    "scrolled": true
   },
   "outputs": [
    {
     "data": {
      "image/png": "[encoded data removed]",
      "text/plain": [
       "<Figure size 1080x360 with 2 Axes>"
      ]
     },
     "metadata": {
      "needs_background": "light"
     },
     "output_type": "display_data"
    }
   ],
   "source": [
    "fig , axes = plt.subplots(1, 2, figsize=(15,5))\n",
    "\n",
    "axes0 = sns.histplot(data=df, x=df['price'], bins=100, ax=axes[0])\n",
    "axes0.grid(), axes0.set(xlim=(0, 3500));\n",
    "\n",
    "axes1 = sns.histplot(data=df, x=np.log10(df['price']), bins=50, kde=True, ax=axes[1])\n",
    "axes1.set_xticks(range(1,5));\n",
    "axes1.set_xticklabels([10,100,1000,10000]);\n",
    "axes1.grid(), axes1.set(xlim=(1, 4));"
   ]
  },
  {
   "cell_type": "markdown",
   "id": "a1015e6f",
   "metadata": {},
   "source": [
    "### Room Type\n",
    "column name = room_type"
   ]
  },
  {
   "cell_type": "code",
   "execution_count": 13,
   "id": "8506a4f4",
   "metadata": {
    "scrolled": false
   },
   "outputs": [
    {
     "data": {
      "image/png": "[encoded data removed]",
      "text/plain": [
       "<Figure size 1080x360 with 2 Axes>"
      ]
     },
     "metadata": {
      "needs_background": "light"
     },
     "output_type": "display_data"
    }
   ],
   "source": [
    "fig , axes = plt.subplots(1, 2, figsize=(15,5))\n",
    "\n",
    "axes0 = sns.countplot(data=df, x=df.room_type, palette='Set1', ax=axes[0])\n",
    "for p in axes0.patches:\n",
    "    x=p.get_bbox().get_points()[:,0]\n",
    "    y=p.get_bbox().get_points()[1,1]\n",
    "    axes0.annotate('{:.2f}%'.format(100.*y/len(df)), (x.mean(), y), \n",
    "            ha='center', va='bottom')\n",
    "\n",
    "axes1 = sns.histplot(data=df, x=np.log10(df['price']), bins=50, kde=False, hue=df.room_type, multiple='stack'\n",
    "                     , palette='Set1', ax=axes[1])\n",
    "axes1.set_xticks(range(1,5));\n",
    "axes1.set_xticklabels([10,100,1000,10000]);\n",
    "axes1.grid()"
   ]
  },
  {
   "cell_type": "markdown",
   "id": "6f447e65",
   "metadata": {},
   "source": [
    "### Accommodates\n",
    "column name = accommodates"
   ]
  },
  {
   "cell_type": "code",
   "execution_count": 14,
   "id": "bcbb3347",
   "metadata": {},
   "outputs": [
    {
     "data": {
      "image/png": "[encoded data removed]",
      "text/plain": [
       "<Figure size 1080x360 with 2 Axes>"
      ]
     },
     "metadata": {
      "needs_background": "light"
     },
     "output_type": "display_data"
    }
   ],
   "source": [
    "fig, axes = plt.subplots(1, 2, figsize=(15, 5))\n",
    "# bar chart\n",
    "axes0 = sns.countplot(data=df, x=df.accommodates, palette='Set1', ax=axes[0])\n",
    "for p in axes0.patches:\n",
    "    x=p.get_bbox().get_points()[:,0]\n",
    "    y=p.get_bbox().get_points()[1,1]\n",
    "    axes0.annotate('{:.2f}%'.format(100.*y/len(df)), (x.mean(), y), \n",
    "            ha='center', va='bottom', rotation=0)\n",
    "# price histogram for different number of 'accommodates'\n",
    "# combining all accommodates=>7 into one category '7+' \n",
    "cutoff = 7\n",
    "axes1 = sns.histplot(data=df, x=np.log10(df['price']), bins=50, kde=False, multiple='stack', palette='Set1'\n",
    "                     , hue=df['accommodates'].where(df['accommodates'] <= 7, 7), ax=axes[1])\n",
    "# Modify legend, to add f'{cutoff}+'\n",
    "legend = axes1.get_legend()\n",
    "handles = legend.legendHandles\n",
    "legend.remove()\n",
    "axes1.legend(handles, list(range(1,cutoff,1)) + [f'{cutoff}+'], title='Accommodates')\n",
    "axes1.set_xticks(range(1,5));\n",
    "axes1.set_xticklabels([10,100,1000,10000]);\n",
    "axes1.grid()"
   ]
  },
  {
   "cell_type": "markdown",
   "id": "318d6e5f",
   "metadata": {},
   "source": [
    "<br> <I>accommodates</I> is an important feature in the dataset and later we see it is one the statistically significant features\n",
    "<br> in some data sets the accommodation is zero, and I drop the listings where accommodates==0"
   ]
  },
  {
   "cell_type": "code",
   "execution_count": 15,
   "id": "d6b0565d",
   "metadata": {},
   "outputs": [],
   "source": [
    "df.drop(df[df.accommodates==0].index,inplace=True)"
   ]
  },
  {
   "cell_type": "markdown",
   "id": "b1dc2042",
   "metadata": {},
   "source": [
    "### Beds and Bedrooms\n",
    "<br> Column name = bedrooms\n",
    "<br> Column name = beds"
   ]
  },
  {
   "cell_type": "code",
   "execution_count": 16,
   "id": "fad539df",
   "metadata": {},
   "outputs": [
    {
     "data": {
      "image/png": "[encoded data removed]",
      "text/plain": [
       "<Figure size 1080x360 with 2 Axes>"
      ]
     },
     "metadata": {
      "needs_background": "light"
     },
     "output_type": "display_data"
    }
   ],
   "source": [
    "fig, axes = plt.subplots(1, 2, figsize=(15, 5))\n",
    "\n",
    "axes0 = sns.countplot(data=df, x=df.bedrooms, palette='Set1', ax=axes[0])\n",
    "for p in axes0.patches:\n",
    "    x=p.get_bbox().get_points()[:,0]\n",
    "    y=p.get_bbox().get_points()[1,1]\n",
    "    axes0.annotate('{:.1f}%'.format(100.*y/len(df)), (x.mean(), y), \n",
    "            ha='center', va='bottom', rotation=0)\n",
    "cutoff = 4\n",
    "axes1 = sns.histplot(data=df, x=np.log10(df['price']), bins=50, kde=False, multiple='stack', palette='Set1'\n",
    "                     , hue=df['bedrooms'].where(df['bedrooms'] <= cutoff, cutoff), ax=axes[1])\n",
    "# Modify legend, to add f'{cutoff}+'\n",
    "legend = axes1.get_legend()\n",
    "handles = legend.legendHandles\n",
    "legend.remove()\n",
    "axes1.legend(handles, list(range(1,cutoff,1)) + [f'{cutoff}+'], title='Bedrooms')\n",
    "axes1.set_xticks(range(1,5));\n",
    "axes1.set_xticklabels([10,100,1000,10000]);\n",
    "axes1.grid()"
   ]
  },
  {
   "cell_type": "code",
   "execution_count": 17,
   "id": "23c579c4",
   "metadata": {},
   "outputs": [
    {
     "data": {
      "image/png": "[encoded data removed]",
      "text/plain": [
       "<Figure size 1080x360 with 2 Axes>"
      ]
     },
     "metadata": {
      "needs_background": "light"
     },
     "output_type": "display_data"
    }
   ],
   "source": [
    "fig, axes = plt.subplots(1, 2, figsize=(15, 5))\n",
    "\n",
    "axes0 = sns.countplot(data=df, x=df.beds, palette='Set1', ax=axes[0])\n",
    "for p in axes0.patches:\n",
    "    x=p.get_bbox().get_points()[:,0]\n",
    "    y=p.get_bbox().get_points()[1,1]\n",
    "    axes0.annotate('{:.1f}%'.format(100.*y/len(df)), (x.mean(), y), \n",
    "            ha='center', va='bottom', rotation=0)\n",
    "cutoff = 5\n",
    "axes1 = sns.histplot(data=df, x=np.log10(df['price']), bins=50, kde=False, multiple='stack', palette='Set1'\n",
    "                     , hue=df['beds'].where(df['beds'] <= cutoff, cutoff), ax=axes[1])\n",
    "# Modify legend, to add f'{cutoff}+'\n",
    "legend = axes1.get_legend()\n",
    "handles = legend.legendHandles\n",
    "legend.remove()\n",
    "axes1.legend(handles, list(range(1,cutoff,1)) + [f'{cutoff}+'], title='Beds')\n",
    "axes1.set_xticks(range(1,5));\n",
    "axes1.set_xticklabels([10,100,1000,10000]);\n",
    "axes1.grid()"
   ]
  },
  {
   "cell_type": "code",
   "execution_count": 18,
   "id": "92d2378a",
   "metadata": {},
   "outputs": [
    {
     "name": "stdout",
     "output_type": "stream",
     "text": [
      "Number of missing values in beds:  158\n",
      "Number of missing values in bedrooms:  310\n"
     ]
    }
   ],
   "source": [
    "print('Number of missing values in beds: ', df.beds.isna().sum())\n",
    "print('Number of missing values in bedrooms: ', df.bedrooms.isna().sum())"
   ]
  },
  {
   "cell_type": "code",
   "execution_count": 19,
   "id": "74f412e4",
   "metadata": {},
   "outputs": [],
   "source": [
    "# filling missing values in: beds and bedrooms\n",
    "df['beds'].fillna(df.groupby(['accommodates','room_type'])['beds'].transform('mean').transform('round'), inplace=True)\n",
    "df['beds'].fillna((df['accommodates']/2).apply(np.ceil), inplace=True)\n",
    "df['bedrooms'].fillna(df.groupby(['beds','room_type'])['bedrooms'].transform('mean').transform('round'), inplace=True)\n",
    "df['bedrooms'].fillna((df['accommodates']/2).apply(np.ceil), inplace=True)"
   ]
  },
  {
   "cell_type": "markdown",
   "id": "b924365d",
   "metadata": {},
   "source": [
    "### Bathrooms\n",
    "<br> Column name = bathroom_text\n",
    "\n",
    "<br> bathroom_text has lots of unique items\n",
    "<br> will convert it to two columns: 1) if it is shared or private, and 2) the number of bathrooms for the property"
   ]
  },
  {
   "cell_type": "code",
   "execution_count": 20,
   "id": "d0c313b4",
   "metadata": {
    "scrolled": true
   },
   "outputs": [
    {
     "data": {
      "text/plain": [
       "array(['2 baths', '1 bath', '3 baths', '1 shared bath', '1 private bath',\n",
       "       '1.5 baths', '1.5 shared baths', '2.5 baths', nan,\n",
       "       '2 shared baths', '4.5 baths', '0 shared baths', '3.5 baths',\n",
       "       '4 baths', '5 baths', '6 baths', '2.5 shared baths', '0 baths',\n",
       "       '7 baths', '5.5 baths', 'Private half-bath', '3 shared baths',\n",
       "       'Shared half-bath', '9 baths'], dtype=object)"
      ]
     },
     "execution_count": 20,
     "metadata": {},
     "output_type": "execute_result"
    }
   ],
   "source": [
    "df.bathrooms_text.unique()"
   ]
  },
  {
   "cell_type": "code",
   "execution_count": 21,
   "id": "843d3385",
   "metadata": {},
   "outputs": [
    {
     "data": {
      "text/plain": [
       "1"
      ]
     },
     "execution_count": 21,
     "metadata": {},
     "output_type": "execute_result"
    }
   ],
   "source": [
    "df.bathrooms_text.isna().sum()"
   ]
  },
  {
   "cell_type": "code",
   "execution_count": 22,
   "id": "22dd0943",
   "metadata": {
    "scrolled": false
   },
   "outputs": [
    {
     "name": "stdout",
     "output_type": "stream",
     "text": [
      "Number of listings with a shared bath:  490\n"
     ]
    }
   ],
   "source": [
    "print('Number of listings with a shared bath: ', np.nansum(df.bathrooms_text.str.contains('shared')))"
   ]
  },
  {
   "cell_type": "code",
   "execution_count": 23,
   "id": "e6067041",
   "metadata": {},
   "outputs": [],
   "source": [
    "# creating a new column, 1: if bath is shared, 0: not shared or nan\n",
    "df['bath_is_shared'] = pd.get_dummies(df.bathrooms_text.str.contains('shared'), drop_first=True)\n",
    "# I use 0 for nan for simplicity, one could have used df.room_type to improve the estimations\n",
    "df['bath_is_shared'].fillna(0, inplace=True)"
   ]
  },
  {
   "cell_type": "code",
   "execution_count": 24,
   "id": "2d5bce0c",
   "metadata": {},
   "outputs": [
    {
     "data": {
      "text/plain": [
       "490"
      ]
     },
     "execution_count": 24,
     "metadata": {},
     "output_type": "execute_result"
    }
   ],
   "source": [
    "sum(df['bath_is_shared'])"
   ]
  },
  {
   "cell_type": "code",
   "execution_count": 25,
   "id": "c8f42176",
   "metadata": {
    "scrolled": true
   },
   "outputs": [
    {
     "name": "stderr",
     "output_type": "stream",
     "text": [
      "C:\\Users\\siava\\AppData\\Local\\Temp/ipykernel_11064/110679144.py:5: SettingWithCopyWarning: \n",
      "A value is trying to be set on a copy of a slice from a DataFrame\n",
      "\n",
      "See the caveats in the documentation: https://pandas.pydata.org/pandas-docs/stable/user_guide/indexing.html#returning-a-view-versus-a-copy\n",
      "  df['bathroom_numbers'][df.bathrooms_text.str.contains('half', na=False, regex=False)]=0.5\n"
     ]
    }
   ],
   "source": [
    "# extracting the numerical values from bathrooms_text\n",
    "df['bathroom_numbers'] = df.bathrooms_text.str.extract('([0-9][,.]*[0-9]*)')\n",
    "\n",
    "# extracting 'half' from bathrooms_text and assigning 0.5\n",
    "df['bathroom_numbers'][df.bathrooms_text.str.contains('half', na=False, regex=False)]=0.5\n",
    "\n",
    "df['bathroom_numbers'] = pd.to_numeric(df['bathroom_numbers'])\n",
    "df.drop(columns=['bathrooms_text'], inplace=True)"
   ]
  },
  {
   "cell_type": "markdown",
   "id": "65b4fd85",
   "metadata": {},
   "source": [
    "<br> filling possibble missing values with 1 (a property should have a bathroom)"
   ]
  },
  {
   "cell_type": "code",
   "execution_count": 26,
   "id": "dd340cb1",
   "metadata": {},
   "outputs": [],
   "source": [
    "df['bathroom_numbers'].fillna(1, inplace=True)"
   ]
  },
  {
   "cell_type": "code",
   "execution_count": 27,
   "id": "7798b8d0",
   "metadata": {},
   "outputs": [
    {
     "data": {
      "image/png": "[encoded data removed]",
      "text/plain": [
       "<Figure size 1080x360 with 2 Axes>"
      ]
     },
     "metadata": {
      "needs_background": "light"
     },
     "output_type": "display_data"
    }
   ],
   "source": [
    "fig, axes = plt.subplots(1, 2, figsize=(15, 5))\n",
    "\n",
    "axes0 = sns.countplot(data=df, x=df.bathroom_numbers, palette='Set1', ax=axes[0])\n",
    "for p in axes0.patches:\n",
    "    x=p.get_bbox().get_points()[:,0]\n",
    "    y=p.get_bbox().get_points()[1,1]\n",
    "    axes0.annotate('{:.1f}%'.format(100.*y/len(df)), (x.mean(), y), \n",
    "            ha='center', va='bottom', rotation=0)\n",
    "\n",
    "cutoff = 2.5\n",
    "axes1 = sns.histplot(data=df, x=np.log10(df['price']), bins=50, kde=False, multiple='stack', palette='Set1'\n",
    "                     , hue=df['bathroom_numbers'].where(df['bathroom_numbers'] <= cutoff, cutoff), ax=axes[1])\n",
    "# Modify legend, to add f'{cutoff}+'\n",
    "legend = axes1.get_legend()\n",
    "handles = legend.legendHandles\n",
    "legend.remove()\n",
    "axes1.legend(handles, list(np.arange(0,cutoff,0.5)) + [f'{cutoff}+'], title='Number of Baths')\n",
    "axes1.set_xticks(range(1,5));\n",
    "axes1.set_xticklabels([10,100,1000,10000]);\n",
    "axes1.grid()"
   ]
  },
  {
   "cell_type": "markdown",
   "id": "c80c7d23",
   "metadata": {},
   "source": [
    "### Neighbourhood"
   ]
  },
  {
   "cell_type": "code",
   "execution_count": 28,
   "id": "75e4f145",
   "metadata": {
    "scrolled": true
   },
   "outputs": [
    {
     "name": "stdout",
     "output_type": "stream",
     "text": [
      "['Downtown' 'Riley Park' 'West End' 'Kensington-Cedar Cottage'\n",
      " 'Hastings-Sunrise' 'Grandview-Woodland' 'Renfrew-Collingwood'\n",
      " 'Mount Pleasant' 'Kitsilano' 'Fairview' 'Downtown Eastside'\n",
      " 'Arbutus Ridge' 'Dunbar Southlands' 'Killarney' 'South Cambie'\n",
      " 'West Point Grey' 'Strathcona' 'Shaughnessy' 'Kerrisdale'\n",
      " 'Victoria-Fraserview' 'Sunset' 'Oakridge' 'Marpole']\n",
      "0\n"
     ]
    }
   ],
   "source": [
    "print(df['neighbourhood_cleansed'].unique())\n",
    "print(df['neighbourhood_cleansed'].isna().sum())"
   ]
  },
  {
   "cell_type": "code",
   "execution_count": 29,
   "id": "bd0d5787",
   "metadata": {},
   "outputs": [
    {
     "data": {
      "image/png": "[encoded data removed]",
      "text/plain": [
       "<Figure size 1080x360 with 1 Axes>"
      ]
     },
     "metadata": {
      "needs_background": "light"
     },
     "output_type": "display_data"
    }
   ],
   "source": [
    "plt.figure(figsize=(15,5))\n",
    "\n",
    "# use order to sort bars according to the average neghbourhood price\n",
    "order = df.groupby(['neighbourhood_cleansed'])['price'].mean().index \n",
    "axes0 = sns.countplot(data=df, x=df.neighbourhood_cleansed, palette='Set1', order=order)\n",
    "for p in axes0.patches:\n",
    "    x=p.get_bbox().get_points()[:,0]\n",
    "    y=p.get_bbox().get_points()[1,1]\n",
    "    axes0.annotate('{:.1f}%'.format(100.*y/len(df)), (x.mean(), y), \n",
    "            ha='center', va='bottom', rotation=0)\n",
    "axes0.set_xticklabels(axes0.get_xticklabels(),rotation = 90);"
   ]
  },
  {
   "cell_type": "markdown",
   "id": "d4255cfa",
   "metadata": {},
   "source": [
    "### Property Type\n",
    "<br> Column name = property_type"
   ]
  },
  {
   "cell_type": "code",
   "execution_count": 30,
   "id": "4ba758d9",
   "metadata": {},
   "outputs": [
    {
     "name": "stdout",
     "output_type": "stream",
     "text": [
      "['Entire condominium (condo)' 'Entire rental unit'\n",
      " 'Entire residential home' 'Entire guest suite'\n",
      " 'Private room in condominium (condo)' 'Private room in residential home'\n",
      " 'Entire loft' 'Private room in rental unit' 'Entire place'\n",
      " 'Entire serviced apartment' 'Entire guesthouse'\n",
      " 'Private room in guest suite' 'Shared room in rental unit'\n",
      " 'Private room in townhouse' 'Entire townhouse' 'Room in boutique hotel'\n",
      " 'Entire cabin' 'Private room in bungalow' 'Private room in loft'\n",
      " 'Room in bed and breakfast' 'Floor' 'Shared room in loft'\n",
      " 'Entire cottage' 'Private room in boat' 'Camper/RV'\n",
      " 'Private room in bed and breakfast' 'Private room in villa'\n",
      " 'Private room in guesthouse' 'Entire bungalow' 'Entire villa'\n",
      " 'Entire timeshare' 'Room in aparthotel' 'Private room in camper/rv'\n",
      " 'Shared room in condominium (condo)' 'Boat'\n",
      " 'Private room in serviced apartment' 'Tiny house'\n",
      " 'Private room in hostel' 'Shared room in hostel' 'Room in hotel'\n",
      " 'Houseboat' 'Private room in casa particular' 'Entire vacation home']\n",
      "0\n"
     ]
    }
   ],
   "source": [
    "print(df['property_type'].unique())\n",
    "print(df['property_type'].isna().sum())"
   ]
  },
  {
   "cell_type": "markdown",
   "id": "091ef65f",
   "metadata": {},
   "source": [
    "<br> property_type has lots of unique elements and room_type is descriptive enough.\n",
    "<br> drop it for now\n",
    "<br> property_type column may be useful for analysing outliers, etc."
   ]
  },
  {
   "cell_type": "code",
   "execution_count": 31,
   "id": "ce3d96fe",
   "metadata": {},
   "outputs": [],
   "source": [
    "df.drop(columns=['property_type'], inplace=True)"
   ]
  },
  {
   "cell_type": "markdown",
   "id": "f1debd86",
   "metadata": {},
   "source": [
    "### Number of Reviews and Scores\n",
    "<br> Column name = \n",
    "<br>&emsp;                    'number_of_reviews'\n",
    "<br>&emsp;                    'number_of_reviews_ltm'\n",
    "<br>&emsp;                    'number_of_reviews_l30d'\n",
    "<br>\n",
    "<br>&emsp;                    'review_scores_rating'\n",
    "<br>&emsp;                    'review_scores_accuracy'\n",
    "<br>&emsp;                    'review_scores_cleanliness'\n",
    "<br>&emsp;                    'review_scores_checkin'\n",
    "<br>&emsp;                    'review_scores_communication'\n",
    "<br>&emsp;                    'review_scores_location'\n",
    "<br>&emsp;                    'review_scores_value'"
   ]
  },
  {
   "cell_type": "code",
   "execution_count": 32,
   "id": "3c9870d8",
   "metadata": {},
   "outputs": [],
   "source": [
    "# if the number_of_reviews is zero the columns listed below in review_cols are NaN\n",
    "# fillna with 0 in review_cols, and MUST use/keep number_of_reviews to describe zero review_scores_*\n",
    "\n",
    "n_review_cols = ['number_of_reviews', 'number_of_reviews_ltm', 'number_of_reviews_l30d', 'reviews_per_month']\n",
    "\n",
    "review_score_cols = ['review_scores_rating', 'review_scores_accuracy', 'review_scores_cleanliness'\n",
    "                     , 'review_scores_checkin', 'review_scores_communication', 'review_scores_location'\n",
    "                     , 'review_scores_value']\n",
    "for col in review_score_cols:\n",
    "    df[col].fillna(0, inplace=True)\n",
    "\n",
    "df['reviews_per_month'].fillna(0, inplace=True)"
   ]
  },
  {
   "cell_type": "markdown",
   "id": "dfd74725",
   "metadata": {},
   "source": [
    "### Availability\n",
    "<br> Column name = has_availability"
   ]
  },
  {
   "cell_type": "code",
   "execution_count": 33,
   "id": "75d8e5bc",
   "metadata": {},
   "outputs": [
    {
     "name": "stdout",
     "output_type": "stream",
     "text": [
      "['t' 'f']\n",
      "0\n"
     ]
    }
   ],
   "source": [
    "print(df['has_availability'].unique())\n",
    "print(df['has_availability'].isna().sum())"
   ]
  },
  {
   "cell_type": "markdown",
   "id": "b13e3d51",
   "metadata": {},
   "source": [
    "### Bookable\n",
    "<br> Column name = instant_bookable"
   ]
  },
  {
   "cell_type": "code",
   "execution_count": 34,
   "id": "ff5031f7",
   "metadata": {},
   "outputs": [
    {
     "name": "stdout",
     "output_type": "stream",
     "text": [
      "['f' 't']\n",
      "0\n"
     ]
    }
   ],
   "source": [
    "print(df['instant_bookable'].unique())\n",
    "print(df['instant_bookable'].isna().sum())"
   ]
  },
  {
   "cell_type": "markdown",
   "id": "0ae09a0b",
   "metadata": {},
   "source": [
    "## Get Dummies"
   ]
  },
  {
   "cell_type": "code",
   "execution_count": 35,
   "id": "356a68eb",
   "metadata": {},
   "outputs": [],
   "source": [
    "df = pd.get_dummies(df, columns=['room_type'], prefix=['room_type'], prefix_sep='_',drop_first=False)"
   ]
  },
  {
   "cell_type": "code",
   "execution_count": 36,
   "id": "6112a762",
   "metadata": {},
   "outputs": [],
   "source": [
    "df = pd.get_dummies(df, columns=['neighbourhood_cleansed'], prefix=['neighbourhood'], prefix_sep='_',drop_first=False)"
   ]
  },
  {
   "cell_type": "code",
   "execution_count": 37,
   "id": "8d170994",
   "metadata": {},
   "outputs": [],
   "source": [
    "df = pd.get_dummies(df, columns=['has_availability'], prefix=['has_availability'], prefix_sep='_',drop_first=True)"
   ]
  },
  {
   "cell_type": "code",
   "execution_count": 38,
   "id": "bf15e2b4",
   "metadata": {},
   "outputs": [],
   "source": [
    "df = pd.get_dummies(df, columns=['instant_bookable'], prefix=['bookable'], prefix_sep='_',drop_first=True)"
   ]
  },
  {
   "cell_type": "markdown",
   "id": "60e35cf8",
   "metadata": {},
   "source": [
    "## Principal Component Analysis and Low Variance Filter"
   ]
  },
  {
   "cell_type": "markdown",
   "id": "f4f52179",
   "metadata": {},
   "source": [
    "### Room Type"
   ]
  },
  {
   "cell_type": "code",
   "execution_count": 39,
   "id": "ce4f4911",
   "metadata": {},
   "outputs": [],
   "source": [
    "room_type_cols = df.columns[df.columns.str.startswith('room_type')]"
   ]
  },
  {
   "cell_type": "code",
   "execution_count": 40,
   "id": "d827b29f",
   "metadata": {},
   "outputs": [
    {
     "name": "stdout",
     "output_type": "stream",
     "text": [
      "Number of room types in each category:\n",
      "room_type_Entire home/apt    3655\n",
      "room_type_Hotel room            5\n",
      "room_type_Private room        861\n",
      "room_type_Shared room          10\n",
      "dtype: int64\n",
      "\n",
      "Variance:\n",
      "room_type_Entire home/apt    0.155991\n",
      "room_type_Hotel room         0.001103\n",
      "room_type_Private room       0.153949\n",
      "room_type_Shared room        0.002203\n",
      "dtype: float64\n"
     ]
    }
   ],
   "source": [
    "df_room_type = df[room_type_cols]\n",
    "\n",
    "print('Number of room types in each category:')\n",
    "print(df_room_type.sum())\n",
    "print()\n",
    "print('Variance:')\n",
    "print(df_room_type.var())"
   ]
  },
  {
   "cell_type": "markdown",
   "id": "30ac6a6d",
   "metadata": {},
   "source": [
    "<br> The above data show that two categories, <I>Hotel Room</I> and <I>Shared Room</I> have a variance less than 0.003.\n",
    "<br> Using sklearn.feature_selection, VarianceThreshold, we can drop these columns. In other words there is not enough data/information to study variations amoung these two room type categories. \n",
    "<br> Here we will implement Principal Component Analysis and use only one component to describe the <I>room type</I> data\n",
    "<br> Based on the data, this component is very close to defining if the property is an <i>Entire Home/apartment</i> or a <i>Room</i>"
   ]
  },
  {
   "cell_type": "code",
   "execution_count": 41,
   "id": "763ca507",
   "metadata": {},
   "outputs": [
    {
     "name": "stdout",
     "output_type": "stream",
     "text": [
      "Explained Variance Ratio: [0.98420376]\n",
      "Original number of columns:  4\n",
      "Principal Components =  1\n"
     ]
    }
   ],
   "source": [
    "from sklearn.decomposition import PCA\n",
    "\n",
    "pca = PCA(n_components=1)\n",
    "pca.fit(df_room_type)\n",
    "\n",
    "print('Explained Variance Ratio:', pca.explained_variance_ratio_)\n",
    "\n",
    "room_type_pca = pca.transform(df_room_type)\n",
    "print('Original number of columns: ', df_room_type.shape[1])\n",
    "print('Principal Components = ',room_type_pca.shape[1])"
   ]
  },
  {
   "cell_type": "code",
   "execution_count": 42,
   "id": "beec667d",
   "metadata": {},
   "outputs": [],
   "source": [
    "df.drop(columns=room_type_cols, inplace=True)\n",
    "df['room_type_pca'] = room_type_pca"
   ]
  },
  {
   "cell_type": "markdown",
   "id": "474f0ceb",
   "metadata": {},
   "source": [
    "### Number of Reviews and Review Scores"
   ]
  },
  {
   "cell_type": "code",
   "execution_count": 43,
   "id": "c87ba3d3",
   "metadata": {},
   "outputs": [],
   "source": [
    "# these two list of columns were defined before:\n",
    "\n",
    "# n_review_cols = ['number_of_reviews', 'number_of_reviews_ltm', 'number_of_reviews_l30d', 'reviews_per_month']\n",
    "\n",
    "# review_score_cols = ['review_scores_rating', 'review_scores_accuracy', 'review_scores_cleanliness'\n",
    "#                    , 'review_scores_checkin', 'review_scores_communication', 'review_scores_location'\n",
    "#                    , 'review_scores_value']"
   ]
  },
  {
   "cell_type": "markdown",
   "id": "6365205d",
   "metadata": {},
   "source": [
    "<br> first we scale the review data (both list of columns for the number of reviews and the review scores)\n",
    "<br> scaled data are implemented for calculating the correlation coefficients, and extracting the principal componenets"
   ]
  },
  {
   "cell_type": "code",
   "execution_count": 44,
   "id": "ec5a38aa",
   "metadata": {},
   "outputs": [],
   "source": [
    "from sklearn.preprocessing import MinMaxScaler\n",
    "\n",
    "scaler = MinMaxScaler()\n",
    "scaler.fit(df[n_review_cols])\n",
    "scaled_n_review_features = scaler.transform(df[n_review_cols])\n",
    "scaler.fit(df[review_score_cols])\n",
    "scaled_review_score_features = scaler.transform(df[review_score_cols])"
   ]
  },
  {
   "cell_type": "markdown",
   "id": "4cadf2d9",
   "metadata": {},
   "source": [
    "<br> The following graphs show the calculated pairwise correlation of columns using Pearson as the method\n",
    "<br>\n",
    "<br> The results highlight very high correlation between different review scores,\n",
    "<br> whereas, the correlation coefficient between the columns related to the number of reviews are not highly correlated (compared to review scores)."
   ]
  },
  {
   "cell_type": "code",
   "execution_count": 45,
   "id": "57d0b992",
   "metadata": {
    "scrolled": false
   },
   "outputs": [
    {
     "data": {
      "image/png": "[encoded data removed]",
      "text/plain": [
       "<Figure size 1080x360 with 4 Axes>"
      ]
     },
     "metadata": {
      "needs_background": "light"
     },
     "output_type": "display_data"
    }
   ],
   "source": [
    "fig, axes = plt.subplots(1, 2, figsize=(15, 5))\n",
    "\n",
    "n_review_corr = pd.DataFrame(scaled_n_review_features).corr()\n",
    "labels=['total', 'ltm', 'l30d', 'per_month']\n",
    "sns.heatmap(n_review_corr, annot=True, linewidths=.5, vmin=0, vmax=1, xticklabels=labels, yticklabels=labels, ax=axes[0])\n",
    "axes[0].title.set_text('Number of Reviews')\n",
    "\n",
    "review_score_corr = pd.DataFrame(scaled_review_score_features).corr()\n",
    "labels=[]\n",
    "for txt in review_score_cols:\n",
    "    labels.append(txt.replace('review_scores_', ''))\n",
    "sns.heatmap(review_score_corr, annot=True, linewidths=.5, vmin=0, vmax=1, xticklabels=labels, yticklabels=labels, ax=axes[1])\n",
    "axes[1].title.set_text('Review Scores')"
   ]
  },
  {
   "cell_type": "markdown",
   "id": "da9d56bf",
   "metadata": {},
   "source": [
    "<br> Here, Principal Component Analysis (PCA) is used to reduce the dimentionality\n",
    "<br> As we saw in the previous figure, different <i>Review Scores</i> are highly correlated and reducing the dimensionality is necessary to mitigate collinearity\n",
    "<br> i.e., different <i>Review Scores</i> columns are not independent from one another, and a single PCA component captures 99% of the variance"
   ]
  },
  {
   "cell_type": "code",
   "execution_count": 46,
   "id": "6916bc26",
   "metadata": {},
   "outputs": [
    {
     "name": "stdout",
     "output_type": "stream",
     "text": [
      "Explained Variance Ratio: [0.98877109]\n",
      "Original number of columns:  7\n",
      "Principal Components:  1\n"
     ]
    }
   ],
   "source": [
    "pca = PCA(n_components=1)\n",
    "# using scaled features (obtained from MinMaxScaler, not the raw review scores) as an input for PCA\n",
    "pca.fit(scaled_review_score_features)\n",
    "\n",
    "print('Explained Variance Ratio:', pca.explained_variance_ratio_)\n",
    "# print('Total Explained Variance Ratio:', pca.explained_variance_ratio_.sum())\n",
    "\n",
    "review_pca = pca.transform(scaled_review_score_features)\n",
    "print('Original number of columns: ', df[review_score_cols].shape[1])\n",
    "print('Principal Components: ', review_pca.shape[1])"
   ]
  },
  {
   "cell_type": "code",
   "execution_count": 47,
   "id": "82e3b3df",
   "metadata": {},
   "outputs": [],
   "source": [
    "df.drop(columns=review_score_cols, inplace=True)\n",
    "df['review_pca'] = review_pca"
   ]
  },
  {
   "cell_type": "markdown",
   "id": "6c5a0c76",
   "metadata": {},
   "source": [
    "## Scaling and Transforming the Data"
   ]
  },
  {
   "cell_type": "code",
   "execution_count": 48,
   "id": "cccf8112",
   "metadata": {},
   "outputs": [],
   "source": [
    "df.price = np.log10(df.price)"
   ]
  },
  {
   "cell_type": "code",
   "execution_count": 49,
   "id": "9a6eb8a7",
   "metadata": {},
   "outputs": [],
   "source": [
    "from sklearn.preprocessing import MinMaxScaler"
   ]
  },
  {
   "cell_type": "code",
   "execution_count": 50,
   "id": "de859af9",
   "metadata": {
    "scrolled": true
   },
   "outputs": [],
   "source": [
    "scaler = MinMaxScaler()\n",
    "scaler.fit(df)\n",
    "scaled_features = scaler.transform(df)\n",
    "df_feat = pd.DataFrame(scaled_features, columns=df.columns)"
   ]
  },
  {
   "cell_type": "code",
   "execution_count": 51,
   "id": "36227c49",
   "metadata": {},
   "outputs": [],
   "source": [
    "col_features = df.columns.drop('price')\n",
    "col_target = ['price']\n",
    "\n",
    "scaler_feat = MinMaxScaler()\n",
    "scaler_feat.fit(df[col_features])\n",
    "scaled_features = scaler_feat.transform(df[col_features])\n",
    "df_feat = pd.DataFrame(scaled_features, columns=col_features)\n",
    "\n",
    "scaler_target = MinMaxScaler()\n",
    "scaler_target.fit(df[col_target])\n",
    "scaled_target = scaler_target.transform(df[col_target])\n",
    "df_target = pd.DataFrame(scaled_target, columns=col_target)\n",
    "\n",
    "X = df_feat\n",
    "y = df_target"
   ]
  },
  {
   "cell_type": "markdown",
   "id": "ce0b96f8",
   "metadata": {},
   "source": [
    "## Linear Regression Analysis"
   ]
  },
  {
   "cell_type": "markdown",
   "id": "e74f9e26",
   "metadata": {},
   "source": [
    "<br> In this section, I use Linear Regression Analysis (Ordinary Least Squares, OLS)\n",
    "<br> The calculated p-values and coefficients point out the statistically significant relationships"
   ]
  },
  {
   "cell_type": "code",
   "execution_count": 52,
   "id": "b70a7bc4",
   "metadata": {},
   "outputs": [
    {
     "name": "stderr",
     "output_type": "stream",
     "text": [
      "C:\\Users\\siava\\anaconda3\\lib\\site-packages\\statsmodels\\tsa\\tsatools.py:142: FutureWarning: In a future version of pandas all arguments of concat except for the argument 'objs' will be keyword-only\n",
      "  x = pd.concat(x[::order], 1)\n"
     ]
    }
   ],
   "source": [
    "import statsmodels.api as sm\n",
    "from scipy import stats\n",
    "\n",
    "\n",
    "X2 = sm.add_constant(X)\n",
    "est = sm.OLS(y, X2)\n",
    "results = est.fit()\n",
    "# print(results.summary())"
   ]
  },
  {
   "cell_type": "markdown",
   "id": "9da4f014",
   "metadata": {},
   "source": [
    "<br> Creating a pandas DataFrame using Ordinary Least Squares (OLS) results"
   ]
  },
  {
   "cell_type": "code",
   "execution_count": 53,
   "id": "0a0d99bf",
   "metadata": {
    "scrolled": false
   },
   "outputs": [],
   "source": [
    "results_df = pd.DataFrame(data=list(zip(results.params.values,results.bse.values, results.tvalues.values\n",
    "                                        , results.pvalues.values, results.conf_int().values[:,0]\n",
    "                                        , results.conf_int().values[:,1])))\n",
    "results_df.index=results.params.index\n",
    "results_df.columns=['coef', 'std_err', 't_value', 'p_value', 'conf_int_0.25', 'conf_int_0.75']\n",
    "results_df.drop(index=['const', 'id'], axis=0, inplace=True)"
   ]
  },
  {
   "cell_type": "markdown",
   "id": "8442d09c",
   "metadata": {},
   "source": [
    "<br> highlighting statistically significant features using p_value<0.05"
   ]
  },
  {
   "cell_type": "code",
   "execution_count": 54,
   "id": "58665983",
   "metadata": {
    "scrolled": false
   },
   "outputs": [
    {
     "data": {
      "text/html": [
       "<style type=\"text/css\">\n",
       "#T_163be_row0_col0 {\n",
       "  width: 10em;\n",
       "  height: 80%;\n",
       "  background: linear-gradient(90deg, transparent 50.0%, #5fba7d 50.0%, #5fba7d 100.0%, transparent 100.0%);\n",
       "}\n",
       "#T_163be_row0_col3, #T_163be_row1_col3, #T_163be_row2_col3, #T_163be_row3_col3, #T_163be_row4_col3, #T_163be_row5_col3, #T_163be_row6_col3, #T_163be_row7_col3, #T_163be_row8_col3, #T_163be_row9_col3, #T_163be_row10_col3, #T_163be_row11_col3, #T_163be_row12_col3, #T_163be_row13_col3, #T_163be_row14_col3, #T_163be_row15_col3, #T_163be_row16_col3, #T_163be_row17_col3, #T_163be_row20_col3, #T_163be_row21_col3, #T_163be_row22_col3, #T_163be_row23_col3, #T_163be_row26_col3, #T_163be_row27_col3, #T_163be_row28_col3, #T_163be_row30_col3, #T_163be_row34_col3, #T_163be_row39_col3 {\n",
       "  background-color: #5fba7d;\n",
       "}\n",
       "#T_163be_row1_col0 {\n",
       "  width: 10em;\n",
       "  height: 80%;\n",
       "  background: linear-gradient(90deg, transparent 50.0%, #5fba7d 50.0%, #5fba7d 80.3%, transparent 80.3%);\n",
       "}\n",
       "#T_163be_row2_col0 {\n",
       "  width: 10em;\n",
       "  height: 80%;\n",
       "  background: linear-gradient(90deg, transparent 50.0%, #5fba7d 50.0%, #5fba7d 74.4%, transparent 74.4%);\n",
       "}\n",
       "#T_163be_row3_col0 {\n",
       "  width: 10em;\n",
       "  height: 80%;\n",
       "  background: linear-gradient(90deg, transparent 33.8%, #d65f5f 33.8%, #d65f5f 50.0%, transparent 50.0%);\n",
       "}\n",
       "#T_163be_row4_col0 {\n",
       "  width: 10em;\n",
       "  height: 80%;\n",
       "  background: linear-gradient(90deg, transparent 50.0%, #5fba7d 50.0%, #5fba7d 60.2%, transparent 60.2%);\n",
       "}\n",
       "#T_163be_row5_col0 {\n",
       "  width: 10em;\n",
       "  height: 80%;\n",
       "  background: linear-gradient(90deg, transparent 41.9%, #d65f5f 41.9%, #d65f5f 50.0%, transparent 50.0%);\n",
       "}\n",
       "#T_163be_row6_col0 {\n",
       "  width: 10em;\n",
       "  height: 80%;\n",
       "  background: linear-gradient(90deg, transparent 42.4%, #d65f5f 42.4%, #d65f5f 50.0%, transparent 50.0%);\n",
       "}\n",
       "#T_163be_row7_col0 {\n",
       "  width: 10em;\n",
       "  height: 80%;\n",
       "  background: linear-gradient(90deg, transparent 50.0%, #5fba7d 50.0%, #5fba7d 56.9%, transparent 56.9%);\n",
       "}\n",
       "#T_163be_row8_col0 {\n",
       "  width: 10em;\n",
       "  height: 80%;\n",
       "  background: linear-gradient(90deg, transparent 50.0%, #5fba7d 50.0%, #5fba7d 56.8%, transparent 56.8%);\n",
       "}\n",
       "#T_163be_row9_col0 {\n",
       "  width: 10em;\n",
       "  height: 80%;\n",
       "  background: linear-gradient(90deg, transparent 50.0%, #5fba7d 50.0%, #5fba7d 56.7%, transparent 56.7%);\n",
       "}\n",
       "#T_163be_row10_col0 {\n",
       "  width: 10em;\n",
       "  height: 80%;\n",
       "  background: linear-gradient(90deg, transparent 50.0%, #5fba7d 50.0%, #5fba7d 56.4%, transparent 56.4%);\n",
       "}\n",
       "#T_163be_row11_col0 {\n",
       "  width: 10em;\n",
       "  height: 80%;\n",
       "  background: linear-gradient(90deg, transparent 50.0%, #5fba7d 50.0%, #5fba7d 55.9%, transparent 55.9%);\n",
       "}\n",
       "#T_163be_row12_col0 {\n",
       "  width: 10em;\n",
       "  height: 80%;\n",
       "  background: linear-gradient(90deg, transparent 44.5%, #d65f5f 44.5%, #d65f5f 50.0%, transparent 50.0%);\n",
       "}\n",
       "#T_163be_row13_col0 {\n",
       "  width: 10em;\n",
       "  height: 80%;\n",
       "  background: linear-gradient(90deg, transparent 50.0%, #5fba7d 50.0%, #5fba7d 55.2%, transparent 55.2%);\n",
       "}\n",
       "#T_163be_row14_col0, #T_163be_row15_col0 {\n",
       "  width: 10em;\n",
       "  height: 80%;\n",
       "  background: linear-gradient(90deg, transparent 50.0%, #5fba7d 50.0%, #5fba7d 55.0%, transparent 55.0%);\n",
       "}\n",
       "#T_163be_row16_col0 {\n",
       "  width: 10em;\n",
       "  height: 80%;\n",
       "  background: linear-gradient(90deg, transparent 45.3%, #d65f5f 45.3%, #d65f5f 50.0%, transparent 50.0%);\n",
       "}\n",
       "#T_163be_row17_col0, #T_163be_row18_col0 {\n",
       "  width: 10em;\n",
       "  height: 80%;\n",
       "  background: linear-gradient(90deg, transparent 45.5%, #d65f5f 45.5%, #d65f5f 50.0%, transparent 50.0%);\n",
       "}\n",
       "#T_163be_row18_col3, #T_163be_row19_col3, #T_163be_row24_col3, #T_163be_row25_col3, #T_163be_row29_col3, #T_163be_row31_col3, #T_163be_row32_col3, #T_163be_row33_col3, #T_163be_row35_col3, #T_163be_row36_col3, #T_163be_row37_col3, #T_163be_row38_col3, #T_163be_row40_col3, #T_163be_row41_col3 {\n",
       "  background-color: #d65f5f;\n",
       "}\n",
       "#T_163be_row19_col0 {\n",
       "  width: 10em;\n",
       "  height: 80%;\n",
       "  background: linear-gradient(90deg, transparent 45.7%, #d65f5f 45.7%, #d65f5f 50.0%, transparent 50.0%);\n",
       "}\n",
       "#T_163be_row20_col0 {\n",
       "  width: 10em;\n",
       "  height: 80%;\n",
       "  background: linear-gradient(90deg, transparent 50.0%, #5fba7d 50.0%, #5fba7d 53.8%, transparent 53.8%);\n",
       "}\n",
       "#T_163be_row21_col0 {\n",
       "  width: 10em;\n",
       "  height: 80%;\n",
       "  background: linear-gradient(90deg, transparent 46.4%, #d65f5f 46.4%, #d65f5f 50.0%, transparent 50.0%);\n",
       "}\n",
       "#T_163be_row22_col0 {\n",
       "  width: 10em;\n",
       "  height: 80%;\n",
       "  background: linear-gradient(90deg, transparent 46.9%, #d65f5f 46.9%, #d65f5f 50.0%, transparent 50.0%);\n",
       "}\n",
       "#T_163be_row23_col0 {\n",
       "  width: 10em;\n",
       "  height: 80%;\n",
       "  background: linear-gradient(90deg, transparent 50.0%, #5fba7d 50.0%, #5fba7d 52.7%, transparent 52.7%);\n",
       "}\n",
       "#T_163be_row24_col0 {\n",
       "  width: 10em;\n",
       "  height: 80%;\n",
       "  background: linear-gradient(90deg, transparent 47.4%, #d65f5f 47.4%, #d65f5f 50.0%, transparent 50.0%);\n",
       "}\n",
       "#T_163be_row25_col0 {\n",
       "  width: 10em;\n",
       "  height: 80%;\n",
       "  background: linear-gradient(90deg, transparent 50.0%, #5fba7d 50.0%, #5fba7d 52.4%, transparent 52.4%);\n",
       "}\n",
       "#T_163be_row26_col0 {\n",
       "  width: 10em;\n",
       "  height: 80%;\n",
       "  background: linear-gradient(90deg, transparent 47.9%, #d65f5f 47.9%, #d65f5f 50.0%, transparent 50.0%);\n",
       "}\n",
       "#T_163be_row27_col0 {\n",
       "  width: 10em;\n",
       "  height: 80%;\n",
       "  background: linear-gradient(90deg, transparent 50.0%, #5fba7d 50.0%, #5fba7d 52.0%, transparent 52.0%);\n",
       "}\n",
       "#T_163be_row28_col0 {\n",
       "  width: 10em;\n",
       "  height: 80%;\n",
       "  background: linear-gradient(90deg, transparent 48.2%, #d65f5f 48.2%, #d65f5f 50.0%, transparent 50.0%);\n",
       "}\n",
       "#T_163be_row29_col0 {\n",
       "  width: 10em;\n",
       "  height: 80%;\n",
       "  background: linear-gradient(90deg, transparent 48.3%, #d65f5f 48.3%, #d65f5f 50.0%, transparent 50.0%);\n",
       "}\n",
       "#T_163be_row30_col0 {\n",
       "  width: 10em;\n",
       "  height: 80%;\n",
       "  background: linear-gradient(90deg, transparent 48.7%, #d65f5f 48.7%, #d65f5f 50.0%, transparent 50.0%);\n",
       "}\n",
       "#T_163be_row31_col0, #T_163be_row32_col0, #T_163be_row33_col0, #T_163be_row34_col0 {\n",
       "  width: 10em;\n",
       "  height: 80%;\n",
       "  background: linear-gradient(90deg, transparent 48.8%, #d65f5f 48.8%, #d65f5f 50.0%, transparent 50.0%);\n",
       "}\n",
       "#T_163be_row35_col0 {\n",
       "  width: 10em;\n",
       "  height: 80%;\n",
       "  background: linear-gradient(90deg, transparent 50.0%, #5fba7d 50.0%, #5fba7d 51.2%, transparent 51.2%);\n",
       "}\n",
       "#T_163be_row36_col0 {\n",
       "  width: 10em;\n",
       "  height: 80%;\n",
       "  background: linear-gradient(90deg, transparent 50.0%, #5fba7d 50.0%, #5fba7d 51.1%, transparent 51.1%);\n",
       "}\n",
       "#T_163be_row37_col0 {\n",
       "  width: 10em;\n",
       "  height: 80%;\n",
       "  background: linear-gradient(90deg, transparent 50.0%, #5fba7d 50.0%, #5fba7d 51.0%, transparent 51.0%);\n",
       "}\n",
       "#T_163be_row38_col0 {\n",
       "  width: 10em;\n",
       "  height: 80%;\n",
       "  background: linear-gradient(90deg, transparent 50.0%, #5fba7d 50.0%, #5fba7d 50.9%, transparent 50.9%);\n",
       "}\n",
       "#T_163be_row39_col0 {\n",
       "  width: 10em;\n",
       "  height: 80%;\n",
       "  background: linear-gradient(90deg, transparent 49.2%, #d65f5f 49.2%, #d65f5f 50.0%, transparent 50.0%);\n",
       "}\n",
       "#T_163be_row40_col0 {\n",
       "  width: 10em;\n",
       "  height: 80%;\n",
       "  background: linear-gradient(90deg, transparent 50.0%, #5fba7d 50.0%, #5fba7d 50.4%, transparent 50.4%);\n",
       "}\n",
       "#T_163be_row41_col0 {\n",
       "  width: 10em;\n",
       "  height: 80%;\n",
       "  background: linear-gradient(90deg, transparent 49.8%, #d65f5f 49.8%, #d65f5f 50.0%, transparent 50.0%);\n",
       "}\n",
       "</style>\n",
       "<table id=\"T_163be_\">\n",
       "  <thead>\n",
       "    <tr>\n",
       "      <th class=\"blank level0\" >&nbsp;</th>\n",
       "      <th class=\"col_heading level0 col0\" >coef</th>\n",
       "      <th class=\"col_heading level0 col1\" >std_err</th>\n",
       "      <th class=\"col_heading level0 col2\" >t_value</th>\n",
       "      <th class=\"col_heading level0 col3\" >p_value</th>\n",
       "      <th class=\"col_heading level0 col4\" >conf_int_0.25</th>\n",
       "      <th class=\"col_heading level0 col5\" >conf_int_0.75</th>\n",
       "    </tr>\n",
       "  </thead>\n",
       "  <tbody>\n",
       "    <tr>\n",
       "      <th id=\"T_163be_level0_row0\" class=\"row_heading level0 row0\" >bathroom_numbers</th>\n",
       "      <td id=\"T_163be_row0_col0\" class=\"data row0 col0\" >0.335804</td>\n",
       "      <td id=\"T_163be_row0_col1\" class=\"data row0 col1\" >0.019988</td>\n",
       "      <td id=\"T_163be_row0_col2\" class=\"data row0 col2\" >16.800056</td>\n",
       "      <td id=\"T_163be_row0_col3\" class=\"data row0 col3\" >0.000000</td>\n",
       "      <td id=\"T_163be_row0_col4\" class=\"data row0 col4\" >0.296617</td>\n",
       "      <td id=\"T_163be_row0_col5\" class=\"data row0 col5\" >0.374991</td>\n",
       "    </tr>\n",
       "    <tr>\n",
       "      <th id=\"T_163be_level0_row1\" class=\"row_heading level0 row1\" >accommodates</th>\n",
       "      <td id=\"T_163be_row1_col0\" class=\"data row1 col0\" >0.203399</td>\n",
       "      <td id=\"T_163be_row1_col1\" class=\"data row1 col1\" >0.016061</td>\n",
       "      <td id=\"T_163be_row1_col2\" class=\"data row1 col2\" >12.663988</td>\n",
       "      <td id=\"T_163be_row1_col3\" class=\"data row1 col3\" >0.000000</td>\n",
       "      <td id=\"T_163be_row1_col4\" class=\"data row1 col4\" >0.171911</td>\n",
       "      <td id=\"T_163be_row1_col5\" class=\"data row1 col5\" >0.234887</td>\n",
       "    </tr>\n",
       "    <tr>\n",
       "      <th id=\"T_163be_level0_row2\" class=\"row_heading level0 row2\" >bedrooms</th>\n",
       "      <td id=\"T_163be_row2_col0\" class=\"data row2 col0\" >0.163704</td>\n",
       "      <td id=\"T_163be_row2_col1\" class=\"data row2 col1\" >0.029054</td>\n",
       "      <td id=\"T_163be_row2_col2\" class=\"data row2 col2\" >5.634467</td>\n",
       "      <td id=\"T_163be_row2_col3\" class=\"data row2 col3\" >0.000000</td>\n",
       "      <td id=\"T_163be_row2_col4\" class=\"data row2 col4\" >0.106744</td>\n",
       "      <td id=\"T_163be_row2_col5\" class=\"data row2 col5\" >0.220664</td>\n",
       "    </tr>\n",
       "    <tr>\n",
       "      <th id=\"T_163be_level0_row3\" class=\"row_heading level0 row3\" >minimum_nights</th>\n",
       "      <td id=\"T_163be_row3_col0\" class=\"data row3 col0\" >-0.109079</td>\n",
       "      <td id=\"T_163be_row3_col1\" class=\"data row3 col1\" >0.012725</td>\n",
       "      <td id=\"T_163be_row3_col2\" class=\"data row3 col2\" >-8.572050</td>\n",
       "      <td id=\"T_163be_row3_col3\" class=\"data row3 col3\" >0.000000</td>\n",
       "      <td id=\"T_163be_row3_col4\" class=\"data row3 col4\" >-0.134026</td>\n",
       "      <td id=\"T_163be_row3_col5\" class=\"data row3 col5\" >-0.084132</td>\n",
       "    </tr>\n",
       "    <tr>\n",
       "      <th id=\"T_163be_level0_row4\" class=\"row_heading level0 row4\" >neighbourhood_West Point Grey</th>\n",
       "      <td id=\"T_163be_row4_col0\" class=\"data row4 col0\" >0.068729</td>\n",
       "      <td id=\"T_163be_row4_col1\" class=\"data row4 col1\" >0.007721</td>\n",
       "      <td id=\"T_163be_row4_col2\" class=\"data row4 col2\" >8.902041</td>\n",
       "      <td id=\"T_163be_row4_col3\" class=\"data row4 col3\" >0.000000</td>\n",
       "      <td id=\"T_163be_row4_col4\" class=\"data row4 col4\" >0.053593</td>\n",
       "      <td id=\"T_163be_row4_col5\" class=\"data row4 col5\" >0.083865</td>\n",
       "    </tr>\n",
       "    <tr>\n",
       "      <th id=\"T_163be_level0_row5\" class=\"row_heading level0 row5\" >number_of_reviews_l30d</th>\n",
       "      <td id=\"T_163be_row5_col0\" class=\"data row5 col0\" >-0.054729</td>\n",
       "      <td id=\"T_163be_row5_col1\" class=\"data row5 col1\" >0.018502</td>\n",
       "      <td id=\"T_163be_row5_col2\" class=\"data row5 col2\" >-2.958023</td>\n",
       "      <td id=\"T_163be_row5_col3\" class=\"data row5 col3\" >0.003112</td>\n",
       "      <td id=\"T_163be_row5_col4\" class=\"data row5 col4\" >-0.091001</td>\n",
       "      <td id=\"T_163be_row5_col5\" class=\"data row5 col5\" >-0.018456</td>\n",
       "    </tr>\n",
       "    <tr>\n",
       "      <th id=\"T_163be_level0_row6\" class=\"row_heading level0 row6\" >bath_is_shared</th>\n",
       "      <td id=\"T_163be_row6_col0\" class=\"data row6 col0\" >-0.051148</td>\n",
       "      <td id=\"T_163be_row6_col1\" class=\"data row6 col1\" >0.004428</td>\n",
       "      <td id=\"T_163be_row6_col2\" class=\"data row6 col2\" >-11.551415</td>\n",
       "      <td id=\"T_163be_row6_col3\" class=\"data row6 col3\" >0.000000</td>\n",
       "      <td id=\"T_163be_row6_col4\" class=\"data row6 col4\" >-0.059828</td>\n",
       "      <td id=\"T_163be_row6_col5\" class=\"data row6 col5\" >-0.042467</td>\n",
       "    </tr>\n",
       "    <tr>\n",
       "      <th id=\"T_163be_level0_row7\" class=\"row_heading level0 row7\" >neighbourhood_Downtown Eastside</th>\n",
       "      <td id=\"T_163be_row7_col0\" class=\"data row7 col0\" >0.046518</td>\n",
       "      <td id=\"T_163be_row7_col1\" class=\"data row7 col1\" >0.004378</td>\n",
       "      <td id=\"T_163be_row7_col2\" class=\"data row7 col2\" >10.624530</td>\n",
       "      <td id=\"T_163be_row7_col3\" class=\"data row7 col3\" >0.000000</td>\n",
       "      <td id=\"T_163be_row7_col4\" class=\"data row7 col4\" >0.037934</td>\n",
       "      <td id=\"T_163be_row7_col5\" class=\"data row7 col5\" >0.055102</td>\n",
       "    </tr>\n",
       "    <tr>\n",
       "      <th id=\"T_163be_level0_row8\" class=\"row_heading level0 row8\" >neighbourhood_Downtown</th>\n",
       "      <td id=\"T_163be_row8_col0\" class=\"data row8 col0\" >0.046005</td>\n",
       "      <td id=\"T_163be_row8_col1\" class=\"data row8 col1\" >0.002394</td>\n",
       "      <td id=\"T_163be_row8_col2\" class=\"data row8 col2\" >19.214731</td>\n",
       "      <td id=\"T_163be_row8_col3\" class=\"data row8 col3\" >0.000000</td>\n",
       "      <td id=\"T_163be_row8_col4\" class=\"data row8 col4\" >0.041311</td>\n",
       "      <td id=\"T_163be_row8_col5\" class=\"data row8 col5\" >0.050698</td>\n",
       "    </tr>\n",
       "    <tr>\n",
       "      <th id=\"T_163be_level0_row9\" class=\"row_heading level0 row9\" >neighbourhood_Kitsilano</th>\n",
       "      <td id=\"T_163be_row9_col0\" class=\"data row9 col0\" >0.044969</td>\n",
       "      <td id=\"T_163be_row9_col1\" class=\"data row9 col1\" >0.003570</td>\n",
       "      <td id=\"T_163be_row9_col2\" class=\"data row9 col2\" >12.596911</td>\n",
       "      <td id=\"T_163be_row9_col3\" class=\"data row9 col3\" >0.000000</td>\n",
       "      <td id=\"T_163be_row9_col4\" class=\"data row9 col4\" >0.037970</td>\n",
       "      <td id=\"T_163be_row9_col5\" class=\"data row9 col5\" >0.051967</td>\n",
       "    </tr>\n",
       "    <tr>\n",
       "      <th id=\"T_163be_level0_row10\" class=\"row_heading level0 row10\" >neighbourhood_Strathcona</th>\n",
       "      <td id=\"T_163be_row10_col0\" class=\"data row10 col0\" >0.043114</td>\n",
       "      <td id=\"T_163be_row10_col1\" class=\"data row10 col1\" >0.011605</td>\n",
       "      <td id=\"T_163be_row10_col2\" class=\"data row10 col2\" >3.715074</td>\n",
       "      <td id=\"T_163be_row10_col3\" class=\"data row10 col3\" >0.000206</td>\n",
       "      <td id=\"T_163be_row10_col4\" class=\"data row10 col4\" >0.020362</td>\n",
       "      <td id=\"T_163be_row10_col5\" class=\"data row10 col5\" >0.065866</td>\n",
       "    </tr>\n",
       "    <tr>\n",
       "      <th id=\"T_163be_level0_row11\" class=\"row_heading level0 row11\" >availability_60</th>\n",
       "      <td id=\"T_163be_row11_col0\" class=\"data row11 col0\" >0.039559</td>\n",
       "      <td id=\"T_163be_row11_col1\" class=\"data row11 col1\" >0.015516</td>\n",
       "      <td id=\"T_163be_row11_col2\" class=\"data row11 col2\" >2.549489</td>\n",
       "      <td id=\"T_163be_row11_col3\" class=\"data row11 col3\" >0.010821</td>\n",
       "      <td id=\"T_163be_row11_col4\" class=\"data row11 col4\" >0.009139</td>\n",
       "      <td id=\"T_163be_row11_col5\" class=\"data row11 col5\" >0.069979</td>\n",
       "    </tr>\n",
       "    <tr>\n",
       "      <th id=\"T_163be_level0_row12\" class=\"row_heading level0 row12\" >neighbourhood_Victoria-Fraserview</th>\n",
       "      <td id=\"T_163be_row12_col0\" class=\"data row12 col0\" >-0.036954</td>\n",
       "      <td id=\"T_163be_row12_col1\" class=\"data row12 col1\" >0.008485</td>\n",
       "      <td id=\"T_163be_row12_col2\" class=\"data row12 col2\" >-4.355508</td>\n",
       "      <td id=\"T_163be_row12_col3\" class=\"data row12 col3\" >0.000014</td>\n",
       "      <td id=\"T_163be_row12_col4\" class=\"data row12 col4\" >-0.053588</td>\n",
       "      <td id=\"T_163be_row12_col5\" class=\"data row12 col5\" >-0.020321</td>\n",
       "    </tr>\n",
       "    <tr>\n",
       "      <th id=\"T_163be_level0_row13\" class=\"row_heading level0 row13\" >neighbourhood_West End</th>\n",
       "      <td id=\"T_163be_row13_col0\" class=\"data row13 col0\" >0.035097</td>\n",
       "      <td id=\"T_163be_row13_col1\" class=\"data row13 col1\" >0.003396</td>\n",
       "      <td id=\"T_163be_row13_col2\" class=\"data row13 col2\" >10.335112</td>\n",
       "      <td id=\"T_163be_row13_col3\" class=\"data row13 col3\" >0.000000</td>\n",
       "      <td id=\"T_163be_row13_col4\" class=\"data row13 col4\" >0.028439</td>\n",
       "      <td id=\"T_163be_row13_col5\" class=\"data row13 col5\" >0.041754</td>\n",
       "    </tr>\n",
       "    <tr>\n",
       "      <th id=\"T_163be_level0_row14\" class=\"row_heading level0 row14\" >neighbourhood_Dunbar Southlands</th>\n",
       "      <td id=\"T_163be_row14_col0\" class=\"data row14 col0\" >0.033466</td>\n",
       "      <td id=\"T_163be_row14_col1\" class=\"data row14 col1\" >0.005954</td>\n",
       "      <td id=\"T_163be_row14_col2\" class=\"data row14 col2\" >5.620788</td>\n",
       "      <td id=\"T_163be_row14_col3\" class=\"data row14 col3\" >0.000000</td>\n",
       "      <td id=\"T_163be_row14_col4\" class=\"data row14 col4\" >0.021793</td>\n",
       "      <td id=\"T_163be_row14_col5\" class=\"data row14 col5\" >0.045138</td>\n",
       "    </tr>\n",
       "    <tr>\n",
       "      <th id=\"T_163be_level0_row15\" class=\"row_heading level0 row15\" >neighbourhood_Fairview</th>\n",
       "      <td id=\"T_163be_row15_col0\" class=\"data row15 col0\" >0.033275</td>\n",
       "      <td id=\"T_163be_row15_col1\" class=\"data row15 col1\" >0.005643</td>\n",
       "      <td id=\"T_163be_row15_col2\" class=\"data row15 col2\" >5.897202</td>\n",
       "      <td id=\"T_163be_row15_col3\" class=\"data row15 col3\" >0.000000</td>\n",
       "      <td id=\"T_163be_row15_col4\" class=\"data row15 col4\" >0.022213</td>\n",
       "      <td id=\"T_163be_row15_col5\" class=\"data row15 col5\" >0.044337</td>\n",
       "    </tr>\n",
       "    <tr>\n",
       "      <th id=\"T_163be_level0_row16\" class=\"row_heading level0 row16\" >room_type_pca</th>\n",
       "      <td id=\"T_163be_row16_col0\" class=\"data row16 col0\" >-0.031722</td>\n",
       "      <td id=\"T_163be_row16_col1\" class=\"data row16 col1\" >0.003734</td>\n",
       "      <td id=\"T_163be_row16_col2\" class=\"data row16 col2\" >-8.495082</td>\n",
       "      <td id=\"T_163be_row16_col3\" class=\"data row16 col3\" >0.000000</td>\n",
       "      <td id=\"T_163be_row16_col4\" class=\"data row16 col4\" >-0.039042</td>\n",
       "      <td id=\"T_163be_row16_col5\" class=\"data row16 col5\" >-0.024401</td>\n",
       "    </tr>\n",
       "    <tr>\n",
       "      <th id=\"T_163be_level0_row17\" class=\"row_heading level0 row17\" >neighbourhood_Killarney</th>\n",
       "      <td id=\"T_163be_row17_col0\" class=\"data row17 col0\" >-0.030514</td>\n",
       "      <td id=\"T_163be_row17_col1\" class=\"data row17 col1\" >0.008128</td>\n",
       "      <td id=\"T_163be_row17_col2\" class=\"data row17 col2\" >-3.754006</td>\n",
       "      <td id=\"T_163be_row17_col3\" class=\"data row17 col3\" >0.000176</td>\n",
       "      <td id=\"T_163be_row17_col4\" class=\"data row17 col4\" >-0.046450</td>\n",
       "      <td id=\"T_163be_row17_col5\" class=\"data row17 col5\" >-0.014578</td>\n",
       "    </tr>\n",
       "    <tr>\n",
       "      <th id=\"T_163be_level0_row18\" class=\"row_heading level0 row18\" >beds</th>\n",
       "      <td id=\"T_163be_row18_col0\" class=\"data row18 col0\" >-0.030258</td>\n",
       "      <td id=\"T_163be_row18_col1\" class=\"data row18 col1\" >0.024831</td>\n",
       "      <td id=\"T_163be_row18_col2\" class=\"data row18 col2\" >-1.218555</td>\n",
       "      <td id=\"T_163be_row18_col3\" class=\"data row18 col3\" >0.223077</td>\n",
       "      <td id=\"T_163be_row18_col4\" class=\"data row18 col4\" >-0.078939</td>\n",
       "      <td id=\"T_163be_row18_col5\" class=\"data row18 col5\" >0.018423</td>\n",
       "    </tr>\n",
       "    <tr>\n",
       "      <th id=\"T_163be_level0_row19\" class=\"row_heading level0 row19\" >number_of_reviews</th>\n",
       "      <td id=\"T_163be_row19_col0\" class=\"data row19 col0\" >-0.028619</td>\n",
       "      <td id=\"T_163be_row19_col1\" class=\"data row19 col1\" >0.018121</td>\n",
       "      <td id=\"T_163be_row19_col2\" class=\"data row19 col2\" >-1.579338</td>\n",
       "      <td id=\"T_163be_row19_col3\" class=\"data row19 col3\" >0.114329</td>\n",
       "      <td id=\"T_163be_row19_col4\" class=\"data row19 col4\" >-0.064145</td>\n",
       "      <td id=\"T_163be_row19_col5\" class=\"data row19 col5\" >0.006907</td>\n",
       "    </tr>\n",
       "    <tr>\n",
       "      <th id=\"T_163be_level0_row20\" class=\"row_heading level0 row20\" >availability_30</th>\n",
       "      <td id=\"T_163be_row20_col0\" class=\"data row20 col0\" >0.025514</td>\n",
       "      <td id=\"T_163be_row20_col1\" class=\"data row20 col1\" >0.007510</td>\n",
       "      <td id=\"T_163be_row20_col2\" class=\"data row20 col2\" >3.397292</td>\n",
       "      <td id=\"T_163be_row20_col3\" class=\"data row20 col3\" >0.000686</td>\n",
       "      <td id=\"T_163be_row20_col4\" class=\"data row20 col4\" >0.010791</td>\n",
       "      <td id=\"T_163be_row20_col5\" class=\"data row20 col5\" >0.040238</td>\n",
       "    </tr>\n",
       "    <tr>\n",
       "      <th id=\"T_163be_level0_row21\" class=\"row_heading level0 row21\" >availability_90</th>\n",
       "      <td id=\"T_163be_row21_col0\" class=\"data row21 col0\" >-0.024463</td>\n",
       "      <td id=\"T_163be_row21_col1\" class=\"data row21 col1\" >0.011876</td>\n",
       "      <td id=\"T_163be_row21_col2\" class=\"data row21 col2\" >-2.059934</td>\n",
       "      <td id=\"T_163be_row21_col3\" class=\"data row21 col3\" >0.039462</td>\n",
       "      <td id=\"T_163be_row21_col4\" class=\"data row21 col4\" >-0.047746</td>\n",
       "      <td id=\"T_163be_row21_col5\" class=\"data row21 col5\" >-0.001181</td>\n",
       "    </tr>\n",
       "    <tr>\n",
       "      <th id=\"T_163be_level0_row22\" class=\"row_heading level0 row22\" >neighbourhood_Sunset</th>\n",
       "      <td id=\"T_163be_row22_col0\" class=\"data row22 col0\" >-0.020954</td>\n",
       "      <td id=\"T_163be_row22_col1\" class=\"data row22 col1\" >0.007064</td>\n",
       "      <td id=\"T_163be_row22_col2\" class=\"data row22 col2\" >-2.966285</td>\n",
       "      <td id=\"T_163be_row22_col3\" class=\"data row22 col3\" >0.003030</td>\n",
       "      <td id=\"T_163be_row22_col4\" class=\"data row22 col4\" >-0.034804</td>\n",
       "      <td id=\"T_163be_row22_col5\" class=\"data row22 col5\" >-0.007105</td>\n",
       "    </tr>\n",
       "    <tr>\n",
       "      <th id=\"T_163be_level0_row23\" class=\"row_heading level0 row23\" >neighbourhood_Mount Pleasant</th>\n",
       "      <td id=\"T_163be_row23_col0\" class=\"data row23 col0\" >0.018180</td>\n",
       "      <td id=\"T_163be_row23_col1\" class=\"data row23 col1\" >0.003878</td>\n",
       "      <td id=\"T_163be_row23_col2\" class=\"data row23 col2\" >4.688415</td>\n",
       "      <td id=\"T_163be_row23_col3\" class=\"data row23 col3\" >0.000003</td>\n",
       "      <td id=\"T_163be_row23_col4\" class=\"data row23 col4\" >0.010578</td>\n",
       "      <td id=\"T_163be_row23_col5\" class=\"data row23 col5\" >0.025783</td>\n",
       "    </tr>\n",
       "    <tr>\n",
       "      <th id=\"T_163be_level0_row24\" class=\"row_heading level0 row24\" >number_of_reviews_ltm</th>\n",
       "      <td id=\"T_163be_row24_col0\" class=\"data row24 col0\" >-0.017628</td>\n",
       "      <td id=\"T_163be_row24_col1\" class=\"data row24 col1\" >0.034729</td>\n",
       "      <td id=\"T_163be_row24_col2\" class=\"data row24 col2\" >-0.507593</td>\n",
       "      <td id=\"T_163be_row24_col3\" class=\"data row24 col3\" >0.611763</td>\n",
       "      <td id=\"T_163be_row24_col4\" class=\"data row24 col4\" >-0.085713</td>\n",
       "      <td id=\"T_163be_row24_col5\" class=\"data row24 col5\" >0.050457</td>\n",
       "    </tr>\n",
       "    <tr>\n",
       "      <th id=\"T_163be_level0_row25\" class=\"row_heading level0 row25\" >neighbourhood_Arbutus Ridge</th>\n",
       "      <td id=\"T_163be_row25_col0\" class=\"data row25 col0\" >0.016027</td>\n",
       "      <td id=\"T_163be_row25_col1\" class=\"data row25 col1\" >0.008434</td>\n",
       "      <td id=\"T_163be_row25_col2\" class=\"data row25 col2\" >1.900144</td>\n",
       "      <td id=\"T_163be_row25_col3\" class=\"data row25 col3\" >0.057478</td>\n",
       "      <td id=\"T_163be_row25_col4\" class=\"data row25 col4\" >-0.000509</td>\n",
       "      <td id=\"T_163be_row25_col5\" class=\"data row25 col5\" >0.032562</td>\n",
       "    </tr>\n",
       "    <tr>\n",
       "      <th id=\"T_163be_level0_row26\" class=\"row_heading level0 row26\" >neighbourhood_Marpole</th>\n",
       "      <td id=\"T_163be_row26_col0\" class=\"data row26 col0\" >-0.014087</td>\n",
       "      <td id=\"T_163be_row26_col1\" class=\"data row26 col1\" >0.006268</td>\n",
       "      <td id=\"T_163be_row26_col2\" class=\"data row26 col2\" >-2.247517</td>\n",
       "      <td id=\"T_163be_row26_col3\" class=\"data row26 col3\" >0.024655</td>\n",
       "      <td id=\"T_163be_row26_col4\" class=\"data row26 col4\" >-0.026375</td>\n",
       "      <td id=\"T_163be_row26_col5\" class=\"data row26 col5\" >-0.001799</td>\n",
       "    </tr>\n",
       "    <tr>\n",
       "      <th id=\"T_163be_level0_row27\" class=\"row_heading level0 row27\" >neighbourhood_Riley Park</th>\n",
       "      <td id=\"T_163be_row27_col0\" class=\"data row27 col0\" >0.013301</td>\n",
       "      <td id=\"T_163be_row27_col1\" class=\"data row27 col1\" >0.004322</td>\n",
       "      <td id=\"T_163be_row27_col2\" class=\"data row27 col2\" >3.077346</td>\n",
       "      <td id=\"T_163be_row27_col3\" class=\"data row27 col3\" >0.002101</td>\n",
       "      <td id=\"T_163be_row27_col4\" class=\"data row27 col4\" >0.004827</td>\n",
       "      <td id=\"T_163be_row27_col5\" class=\"data row27 col5\" >0.021775</td>\n",
       "    </tr>\n",
       "    <tr>\n",
       "      <th id=\"T_163be_level0_row28\" class=\"row_heading level0 row28\" >neighbourhood_Renfrew-Collingwood</th>\n",
       "      <td id=\"T_163be_row28_col0\" class=\"data row28 col0\" >-0.012303</td>\n",
       "      <td id=\"T_163be_row28_col1\" class=\"data row28 col1\" >0.005021</td>\n",
       "      <td id=\"T_163be_row28_col2\" class=\"data row28 col2\" >-2.450289</td>\n",
       "      <td id=\"T_163be_row28_col3\" class=\"data row28 col3\" >0.014312</td>\n",
       "      <td id=\"T_163be_row28_col4\" class=\"data row28 col4\" >-0.022148</td>\n",
       "      <td id=\"T_163be_row28_col5\" class=\"data row28 col5\" >-0.002459</td>\n",
       "    </tr>\n",
       "    <tr>\n",
       "      <th id=\"T_163be_level0_row29\" class=\"row_heading level0 row29\" >neighbourhood_Oakridge</th>\n",
       "      <td id=\"T_163be_row29_col0\" class=\"data row29 col0\" >-0.011496</td>\n",
       "      <td id=\"T_163be_row29_col1\" class=\"data row29 col1\" >0.007838</td>\n",
       "      <td id=\"T_163be_row29_col2\" class=\"data row29 col2\" >-1.466709</td>\n",
       "      <td id=\"T_163be_row29_col3\" class=\"data row29 col3\" >0.142525</td>\n",
       "      <td id=\"T_163be_row29_col4\" class=\"data row29 col4\" >-0.026863</td>\n",
       "      <td id=\"T_163be_row29_col5\" class=\"data row29 col5\" >0.003870</td>\n",
       "    </tr>\n",
       "    <tr>\n",
       "      <th id=\"T_163be_level0_row30\" class=\"row_heading level0 row30\" >neighbourhood_Kensington-Cedar Cottage</th>\n",
       "      <td id=\"T_163be_row30_col0\" class=\"data row30 col0\" >-0.008561</td>\n",
       "      <td id=\"T_163be_row30_col1\" class=\"data row30 col1\" >0.003936</td>\n",
       "      <td id=\"T_163be_row30_col2\" class=\"data row30 col2\" >-2.175182</td>\n",
       "      <td id=\"T_163be_row30_col3\" class=\"data row30 col3\" >0.029669</td>\n",
       "      <td id=\"T_163be_row30_col4\" class=\"data row30 col4\" >-0.016277</td>\n",
       "      <td id=\"T_163be_row30_col5\" class=\"data row30 col5\" >-0.000845</td>\n",
       "    </tr>\n",
       "    <tr>\n",
       "      <th id=\"T_163be_level0_row31\" class=\"row_heading level0 row31\" >neighbourhood_Kerrisdale</th>\n",
       "      <td id=\"T_163be_row31_col0\" class=\"data row31 col0\" >-0.008315</td>\n",
       "      <td id=\"T_163be_row31_col1\" class=\"data row31 col1\" >0.008568</td>\n",
       "      <td id=\"T_163be_row31_col2\" class=\"data row31 col2\" >-0.970484</td>\n",
       "      <td id=\"T_163be_row31_col3\" class=\"data row31 col3\" >0.331857</td>\n",
       "      <td id=\"T_163be_row31_col4\" class=\"data row31 col4\" >-0.025113</td>\n",
       "      <td id=\"T_163be_row31_col5\" class=\"data row31 col5\" >0.008482</td>\n",
       "    </tr>\n",
       "    <tr>\n",
       "      <th id=\"T_163be_level0_row32\" class=\"row_heading level0 row32\" >has_availability_t</th>\n",
       "      <td id=\"T_163be_row32_col0\" class=\"data row32 col0\" >-0.008026</td>\n",
       "      <td id=\"T_163be_row32_col1\" class=\"data row32 col1\" >0.009866</td>\n",
       "      <td id=\"T_163be_row32_col2\" class=\"data row32 col2\" >-0.813533</td>\n",
       "      <td id=\"T_163be_row32_col3\" class=\"data row32 col3\" >0.415956</td>\n",
       "      <td id=\"T_163be_row32_col4\" class=\"data row32 col4\" >-0.027368</td>\n",
       "      <td id=\"T_163be_row32_col5\" class=\"data row32 col5\" >0.011316</td>\n",
       "    </tr>\n",
       "    <tr>\n",
       "      <th id=\"T_163be_level0_row33\" class=\"row_heading level0 row33\" >neighbourhood_Hastings-Sunrise</th>\n",
       "      <td id=\"T_163be_row33_col0\" class=\"data row33 col0\" >-0.007907</td>\n",
       "      <td id=\"T_163be_row33_col1\" class=\"data row33 col1\" >0.004834</td>\n",
       "      <td id=\"T_163be_row33_col2\" class=\"data row33 col2\" >-1.635669</td>\n",
       "      <td id=\"T_163be_row33_col3\" class=\"data row33 col3\" >0.101979</td>\n",
       "      <td id=\"T_163be_row33_col4\" class=\"data row33 col4\" >-0.017385</td>\n",
       "      <td id=\"T_163be_row33_col5\" class=\"data row33 col5\" >0.001570</td>\n",
       "    </tr>\n",
       "    <tr>\n",
       "      <th id=\"T_163be_level0_row34\" class=\"row_heading level0 row34\" >review_pca</th>\n",
       "      <td id=\"T_163be_row34_col0\" class=\"data row34 col0\" >-0.007832</td>\n",
       "      <td id=\"T_163be_row34_col1\" class=\"data row34 col1\" >0.003192</td>\n",
       "      <td id=\"T_163be_row34_col2\" class=\"data row34 col2\" >-2.454035</td>\n",
       "      <td id=\"T_163be_row34_col3\" class=\"data row34 col3\" >0.014164</td>\n",
       "      <td id=\"T_163be_row34_col4\" class=\"data row34 col4\" >-0.014089</td>\n",
       "      <td id=\"T_163be_row34_col5\" class=\"data row34 col5\" >-0.001575</td>\n",
       "    </tr>\n",
       "    <tr>\n",
       "      <th id=\"T_163be_level0_row35\" class=\"row_heading level0 row35\" >neighbourhood_Grandview-Woodland</th>\n",
       "      <td id=\"T_163be_row35_col0\" class=\"data row35 col0\" >0.007777</td>\n",
       "      <td id=\"T_163be_row35_col1\" class=\"data row35 col1\" >0.004528</td>\n",
       "      <td id=\"T_163be_row35_col2\" class=\"data row35 col2\" >1.717679</td>\n",
       "      <td id=\"T_163be_row35_col3\" class=\"data row35 col3\" >0.085924</td>\n",
       "      <td id=\"T_163be_row35_col4\" class=\"data row35 col4\" >-0.001099</td>\n",
       "      <td id=\"T_163be_row35_col5\" class=\"data row35 col5\" >0.016653</td>\n",
       "    </tr>\n",
       "    <tr>\n",
       "      <th id=\"T_163be_level0_row36\" class=\"row_heading level0 row36\" >availability_365</th>\n",
       "      <td id=\"T_163be_row36_col0\" class=\"data row36 col0\" >0.007123</td>\n",
       "      <td id=\"T_163be_row36_col1\" class=\"data row36 col1\" >0.003729</td>\n",
       "      <td id=\"T_163be_row36_col2\" class=\"data row36 col2\" >1.910024</td>\n",
       "      <td id=\"T_163be_row36_col3\" class=\"data row36 col3\" >0.056194</td>\n",
       "      <td id=\"T_163be_row36_col4\" class=\"data row36 col4\" >-0.000188</td>\n",
       "      <td id=\"T_163be_row36_col5\" class=\"data row36 col5\" >0.014435</td>\n",
       "    </tr>\n",
       "    <tr>\n",
       "      <th id=\"T_163be_level0_row37\" class=\"row_heading level0 row37\" >neighbourhood_Shaughnessy</th>\n",
       "      <td id=\"T_163be_row37_col0\" class=\"data row37 col0\" >0.006413</td>\n",
       "      <td id=\"T_163be_row37_col1\" class=\"data row37 col1\" >0.007435</td>\n",
       "      <td id=\"T_163be_row37_col2\" class=\"data row37 col2\" >0.862541</td>\n",
       "      <td id=\"T_163be_row37_col3\" class=\"data row37 col3\" >0.388436</td>\n",
       "      <td id=\"T_163be_row37_col4\" class=\"data row37 col4\" >-0.008163</td>\n",
       "      <td id=\"T_163be_row37_col5\" class=\"data row37 col5\" >0.020989</td>\n",
       "    </tr>\n",
       "    <tr>\n",
       "      <th id=\"T_163be_level0_row38\" class=\"row_heading level0 row38\" >neighbourhood_South Cambie</th>\n",
       "      <td id=\"T_163be_row38_col0\" class=\"data row38 col0\" >0.005860</td>\n",
       "      <td id=\"T_163be_row38_col1\" class=\"data row38 col1\" >0.007971</td>\n",
       "      <td id=\"T_163be_row38_col2\" class=\"data row38 col2\" >0.735105</td>\n",
       "      <td id=\"T_163be_row38_col3\" class=\"data row38 col3\" >0.462314</td>\n",
       "      <td id=\"T_163be_row38_col4\" class=\"data row38 col4\" >-0.009768</td>\n",
       "      <td id=\"T_163be_row38_col5\" class=\"data row38 col5\" >0.021487</td>\n",
       "    </tr>\n",
       "    <tr>\n",
       "      <th id=\"T_163be_level0_row39\" class=\"row_heading level0 row39\" >maximum_nights</th>\n",
       "      <td id=\"T_163be_row39_col0\" class=\"data row39 col0\" >-0.005358</td>\n",
       "      <td id=\"T_163be_row39_col1\" class=\"data row39 col1\" >0.002216</td>\n",
       "      <td id=\"T_163be_row39_col2\" class=\"data row39 col2\" >-2.418226</td>\n",
       "      <td id=\"T_163be_row39_col3\" class=\"data row39 col3\" >0.015636</td>\n",
       "      <td id=\"T_163be_row39_col4\" class=\"data row39 col4\" >-0.009702</td>\n",
       "      <td id=\"T_163be_row39_col5\" class=\"data row39 col5\" >-0.001014</td>\n",
       "    </tr>\n",
       "    <tr>\n",
       "      <th id=\"T_163be_level0_row40\" class=\"row_heading level0 row40\" >bookable_t</th>\n",
       "      <td id=\"T_163be_row40_col0\" class=\"data row40 col0\" >0.002855</td>\n",
       "      <td id=\"T_163be_row40_col1\" class=\"data row40 col1\" >0.002162</td>\n",
       "      <td id=\"T_163be_row40_col2\" class=\"data row40 col2\" >1.320657</td>\n",
       "      <td id=\"T_163be_row40_col3\" class=\"data row40 col3\" >0.186683</td>\n",
       "      <td id=\"T_163be_row40_col4\" class=\"data row40 col4\" >-0.001383</td>\n",
       "      <td id=\"T_163be_row40_col5\" class=\"data row40 col5\" >0.007093</td>\n",
       "    </tr>\n",
       "    <tr>\n",
       "      <th id=\"T_163be_level0_row41\" class=\"row_heading level0 row41\" >reviews_per_month</th>\n",
       "      <td id=\"T_163be_row41_col0\" class=\"data row41 col0\" >-0.001435</td>\n",
       "      <td id=\"T_163be_row41_col1\" class=\"data row41 col1\" >0.033706</td>\n",
       "      <td id=\"T_163be_row41_col2\" class=\"data row41 col2\" >-0.042581</td>\n",
       "      <td id=\"T_163be_row41_col3\" class=\"data row41 col3\" >0.966037</td>\n",
       "      <td id=\"T_163be_row41_col4\" class=\"data row41 col4\" >-0.067516</td>\n",
       "      <td id=\"T_163be_row41_col5\" class=\"data row41 col5\" >0.064646</td>\n",
       "    </tr>\n",
       "  </tbody>\n",
       "</table>\n"
      ],
      "text/plain": [
       "<pandas.io.formats.style.Styler at 0x1c90d3de7f0>"
      ]
     },
     "execution_count": 54,
     "metadata": {},
     "output_type": "execute_result"
    }
   ],
   "source": [
    "results_df.sort_values(by=['coef'], key=abs, ascending=False, inplace=True)\n",
    "results_df.style.highlight_between(subset=['p_value'], left=0, right=0.05, color='#5fba7d')\\\n",
    "                .highlight_between(subset=['p_value'], left=0.05, right=1, color='#d65f5f')\\\n",
    "                .bar(subset=['coef'], align='zero', color=['#d65f5f', '#5fba7d'])"
   ]
  },
  {
   "cell_type": "markdown",
   "id": "6d1c9f47",
   "metadata": {},
   "source": [
    "## Results - Statistically Significant Features"
   ]
  },
  {
   "cell_type": "markdown",
   "id": "27fb6172",
   "metadata": {},
   "source": [
    "<br> Extracting the list of significant features\n",
    "<br> Note that <i>Neighbourhood</i> is always a significant factor in estimating the price"
   ]
  },
  {
   "cell_type": "code",
   "execution_count": 55,
   "id": "4188f7af",
   "metadata": {},
   "outputs": [
    {
     "name": "stdout",
     "output_type": "stream",
     "text": [
      "['bathroom_numbers', 'accommodates', 'bedrooms', 'minimum_nights', 'number_of_reviews_l30d', 'bath_is_shared', 'availability_60', 'room_type_pca', 'availability_30', 'availability_90', 'review_pca', 'maximum_nights']\n"
     ]
    }
   ],
   "source": [
    "# List of significant features\n",
    "sign_feat = list(results_df[results_df['p_value']<0.05].index)\n",
    "\n",
    "# In addition to the neighbourhood, sign_feat is a list of features that \n",
    "# are statistically significant for describing the price\n",
    "sign_feat = [x for x in sign_feat if not x.startswith('neighbourhood')]\n",
    "print(sign_feat)\n",
    "\n",
    "# saving the list of significant features in a list (excluding neighbourhood)\n",
    "# this list/text_file will be used to compare the significant features in different cities\n",
    "textfile = open(f\"{city}_feat.txt\", \"w\")\n",
    "for element in sign_feat:\n",
    "    textfile.write(element + \"\\n\")\n",
    "textfile.close()"
   ]
  },
  {
   "cell_type": "markdown",
   "id": "7bb166f4",
   "metadata": {},
   "source": [
    "<br> List of <i>Neighbourhood</i> columns"
   ]
  },
  {
   "cell_type": "code",
   "execution_count": 56,
   "id": "e9655e4e",
   "metadata": {},
   "outputs": [],
   "source": [
    "neighbourhood_cols = [col for col in df_feat if col.startswith('neighbourhood')]"
   ]
  },
  {
   "cell_type": "markdown",
   "id": "2d89396b",
   "metadata": {},
   "source": [
    "## Model - Estimating Price"
   ]
  },
  {
   "cell_type": "code",
   "execution_count": 57,
   "id": "36e02b68",
   "metadata": {},
   "outputs": [],
   "source": [
    "X = df_feat[sign_feat + neighbourhood_cols] # Significant features and Neighbourhood\n",
    "y = df_target # log10_price"
   ]
  },
  {
   "cell_type": "code",
   "execution_count": 58,
   "id": "5efee160",
   "metadata": {},
   "outputs": [],
   "source": [
    "# using sklearn train_test_split and splitting the data into train and test sets\n",
    "from sklearn.model_selection import train_test_split\n",
    "\n",
    "X_train, X_test, y_train, y_test = train_test_split(X, y, test_size=0.33, random_state=42)"
   ]
  },
  {
   "cell_type": "code",
   "execution_count": 59,
   "id": "dfc0c598",
   "metadata": {},
   "outputs": [],
   "source": [
    "# using sklearn LinearRegression as the model\n",
    "from sklearn.linear_model import LinearRegression\n",
    "\n",
    "lm = LinearRegression()\n",
    "lm.fit(X_train,y_train)\n",
    "predictions = lm.predict(X_test)"
   ]
  },
  {
   "cell_type": "code",
   "execution_count": 60,
   "id": "8e750279",
   "metadata": {},
   "outputs": [
    {
     "data": {
      "image/png": "[encoded data removed]",
      "text/plain": [
       "<Figure size 720x504 with 1 Axes>"
      ]
     },
     "metadata": {
      "needs_background": "light"
     },
     "output_type": "display_data"
    }
   ],
   "source": [
    "# plotting the results\n",
    "# comparing price predictions with the test values\n",
    "x_values = scaler_target.inverse_transform(y_test)\n",
    "y_values = scaler_target.inverse_transform(predictions)\n",
    "min_value = min(min(x_values), min(y_values))\n",
    "max_value = max(max(x_values), max(y_values))\n",
    "\n",
    "fig, ax = plt.subplots(figsize=(10, 7))\n",
    "\n",
    "plt.plot([min_value,max_value],[min_value,max_value], color='black')\n",
    "sns.scatterplot(x=x_values[:,0], y=y_values[:,0], alpha=0.5)\n",
    "ax.set(xlabel='Actual Price', ylabel='Predicted Price', xlim=(1,4), ylim=(1,4));\n",
    "xy_range=np.arange(1, 5, step=1)\n",
    "ax.set_xticks(xy_range)\n",
    "ax.set_xticklabels(10**xy_range)\n",
    "ax.set_yticks(xy_range)\n",
    "ax.set_yticklabels(10**xy_range)\n",
    "ax.grid(True)"
   ]
  },
  {
   "cell_type": "markdown",
   "id": "2c68d9ea",
   "metadata": {},
   "source": [
    "<br> saving prediction results (predictions and y_test) to csv file"
   ]
  },
  {
   "cell_type": "code",
   "execution_count": 61,
   "id": "1a05fc30",
   "metadata": {},
   "outputs": [],
   "source": [
    "prediction_results = pd.DataFrame(data=(scaler_target.inverse_transform(predictions)[:,0]), columns=['predictions'])\n",
    "prediction_results['y_test'] = np.array(scaler_target.inverse_transform(y_test))\n",
    "\n",
    "prediction_results.to_csv(f'{city}_pred.csv', index=False);"
   ]
  },
  {
   "cell_type": "markdown",
   "id": "e6180993",
   "metadata": {},
   "source": [
    "### Evaluating the Model\n",
    "<br> using sklearn metrics\n",
    "<br> calculating r2_score, Mean Absolute Error, Mean Square Error, and Root Mean Square Error"
   ]
  },
  {
   "cell_type": "code",
   "execution_count": 62,
   "id": "cddf4983",
   "metadata": {},
   "outputs": [
    {
     "name": "stdout",
     "output_type": "stream",
     "text": [
      "r2_score: 0.5312946202735311\n",
      "MAE: 0.04746130228109411\n",
      "MSE: 0.0046559926019134786\n",
      "RMSE: 0.06823483422646734\n"
     ]
    }
   ],
   "source": [
    "from sklearn import metrics\n",
    "\n",
    "print('r2_score:', metrics.r2_score(y_test, predictions))\n",
    "print('MAE:', metrics.mean_absolute_error(y_test, predictions))\n",
    "print('MSE:', metrics.mean_squared_error(y_test, predictions))\n",
    "print('RMSE:', np.sqrt(metrics.mean_squared_error(y_test, predictions)))"
   ]
  }
 ],
 "metadata": {
  "kernelspec": {
   "display_name": "Python 3 (ipykernel)",
   "language": "python",
   "name": "python3"
  },
  "language_info": {
   "codemirror_mode": {
    "name": "ipython",
    "version": 3
   },
   "file_extension": ".py",
   "mimetype": "text/x-python",
   "name": "python",
   "nbconvert_exporter": "python",
   "pygments_lexer": "ipython3",
   "version": "3.9.7"
  }
 },
 "nbformat": 4,
 "nbformat_minor": 5
}
