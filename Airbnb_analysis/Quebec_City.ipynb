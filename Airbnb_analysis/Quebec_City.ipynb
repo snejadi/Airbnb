{
 "cells": [
  {
   "cell_type": "markdown",
   "id": "b9ebb0dc",
   "metadata": {},
   "source": [
    "# Quebec_City, Canada"
   ]
  },
  {
   "cell_type": "markdown",
   "id": "8514b1cc",
   "metadata": {},
   "source": [
    "<br> Importing necessary libraries"
   ]
  },
  {
   "cell_type": "code",
   "execution_count": 1,
   "id": "6cd3b747",
   "metadata": {},
   "outputs": [],
   "source": [
    "import numpy as np\n",
    "import pandas as pd\n",
    "import matplotlib.pyplot as plt\n",
    "import seaborn as sns\n",
    "%matplotlib inline"
   ]
  },
  {
   "cell_type": "markdown",
   "id": "b6d0ecdb",
   "metadata": {},
   "source": [
    "## The Data\n",
    "<br> Working with listing.csv file\n",
    "<br> The file has 74 columns\n",
    "<br> Here I start working on specific columns listed below and define them in: col_list_listings\n",
    "<br> In other words, I discard empty columns, url, names, etc."
   ]
  },
  {
   "cell_type": "code",
   "execution_count": 2,
   "id": "5a93fdcb",
   "metadata": {},
   "outputs": [],
   "source": [
    "col_list_listings = ['id', 'neighbourhood_cleansed', 'property_type', 'room_type', 'accommodates', 'bathrooms_text'\n",
    "                     , 'bedrooms', 'beds', 'price', 'minimum_nights', 'maximum_nights', 'has_availability'\n",
    "                     , 'availability_30', 'availability_60', 'availability_90', 'availability_365', 'number_of_reviews'\n",
    "                     , 'number_of_reviews_ltm', 'number_of_reviews_l30d', 'review_scores_rating', 'review_scores_accuracy'\n",
    "                     , 'review_scores_cleanliness', 'review_scores_checkin', 'review_scores_communication'\n",
    "                     , 'review_scores_location', 'review_scores_value', 'instant_bookable', 'reviews_per_month']"
   ]
  },
  {
   "cell_type": "markdown",
   "id": "e61310ae",
   "metadata": {},
   "source": [
    "## Load Data"
   ]
  },
  {
   "cell_type": "code",
   "execution_count": 3,
   "id": "cbfb6abf",
   "metadata": {},
   "outputs": [],
   "source": [
    "city='Quebec_City'\n",
    "data_fldr='../Airbnb_data/'\n",
    "\n",
    "df=pd.read_csv(data_fldr + city +'/listings.csv', usecols=col_list_listings)"
   ]
  },
  {
   "cell_type": "code",
   "execution_count": 4,
   "id": "7950b4e1",
   "metadata": {},
   "outputs": [],
   "source": [
    "df.set_index('id');"
   ]
  },
  {
   "cell_type": "code",
   "execution_count": 5,
   "id": "cb743db8",
   "metadata": {
    "scrolled": false
   },
   "outputs": [
    {
     "name": "stdout",
     "output_type": "stream",
     "text": [
      "(2219, 28)\n"
     ]
    }
   ],
   "source": [
    "print(df.shape)"
   ]
  },
  {
   "cell_type": "code",
   "execution_count": 6,
   "id": "1c22a3db",
   "metadata": {},
   "outputs": [
    {
     "data": {
      "text/html": [
       "<div>\n",
       "<style scoped>\n",
       "    .dataframe tbody tr th:only-of-type {\n",
       "        vertical-align: middle;\n",
       "    }\n",
       "\n",
       "    .dataframe tbody tr th {\n",
       "        vertical-align: top;\n",
       "    }\n",
       "\n",
       "    .dataframe thead th {\n",
       "        text-align: right;\n",
       "    }\n",
       "</style>\n",
       "<table border=\"1\" class=\"dataframe\">\n",
       "  <thead>\n",
       "    <tr style=\"text-align: right;\">\n",
       "      <th></th>\n",
       "      <th>count</th>\n",
       "      <th>mean</th>\n",
       "      <th>std</th>\n",
       "      <th>min</th>\n",
       "      <th>25%</th>\n",
       "      <th>50%</th>\n",
       "      <th>75%</th>\n",
       "      <th>max</th>\n",
       "    </tr>\n",
       "  </thead>\n",
       "  <tbody>\n",
       "    <tr>\n",
       "      <th>id</th>\n",
       "      <td>2219.0</td>\n",
       "      <td>3.404597e+07</td>\n",
       "      <td>1.461793e+07</td>\n",
       "      <td>54334.00</td>\n",
       "      <td>23141220.50</td>\n",
       "      <td>37148907.00</td>\n",
       "      <td>4.586330e+07</td>\n",
       "      <td>53769377.00</td>\n",
       "    </tr>\n",
       "    <tr>\n",
       "      <th>accommodates</th>\n",
       "      <td>2219.0</td>\n",
       "      <td>3.756647e+00</td>\n",
       "      <td>2.121489e+00</td>\n",
       "      <td>1.00</td>\n",
       "      <td>2.00</td>\n",
       "      <td>4.00</td>\n",
       "      <td>4.000000e+00</td>\n",
       "      <td>16.00</td>\n",
       "    </tr>\n",
       "    <tr>\n",
       "      <th>bedrooms</th>\n",
       "      <td>1915.0</td>\n",
       "      <td>1.639164e+00</td>\n",
       "      <td>9.084713e-01</td>\n",
       "      <td>1.00</td>\n",
       "      <td>1.00</td>\n",
       "      <td>1.00</td>\n",
       "      <td>2.000000e+00</td>\n",
       "      <td>10.00</td>\n",
       "    </tr>\n",
       "    <tr>\n",
       "      <th>beds</th>\n",
       "      <td>2143.0</td>\n",
       "      <td>1.997667e+00</td>\n",
       "      <td>1.312688e+00</td>\n",
       "      <td>1.00</td>\n",
       "      <td>1.00</td>\n",
       "      <td>2.00</td>\n",
       "      <td>2.000000e+00</td>\n",
       "      <td>16.00</td>\n",
       "    </tr>\n",
       "    <tr>\n",
       "      <th>minimum_nights</th>\n",
       "      <td>2219.0</td>\n",
       "      <td>1.200991e+01</td>\n",
       "      <td>5.109700e+01</td>\n",
       "      <td>1.00</td>\n",
       "      <td>1.00</td>\n",
       "      <td>2.00</td>\n",
       "      <td>4.000000e+00</td>\n",
       "      <td>1000.00</td>\n",
       "    </tr>\n",
       "    <tr>\n",
       "      <th>maximum_nights</th>\n",
       "      <td>2219.0</td>\n",
       "      <td>7.734899e+02</td>\n",
       "      <td>4.746349e+02</td>\n",
       "      <td>1.00</td>\n",
       "      <td>365.00</td>\n",
       "      <td>1125.00</td>\n",
       "      <td>1.125000e+03</td>\n",
       "      <td>1139.00</td>\n",
       "    </tr>\n",
       "    <tr>\n",
       "      <th>availability_30</th>\n",
       "      <td>2219.0</td>\n",
       "      <td>8.565119e+00</td>\n",
       "      <td>9.057908e+00</td>\n",
       "      <td>0.00</td>\n",
       "      <td>0.00</td>\n",
       "      <td>7.00</td>\n",
       "      <td>1.500000e+01</td>\n",
       "      <td>30.00</td>\n",
       "    </tr>\n",
       "    <tr>\n",
       "      <th>availability_60</th>\n",
       "      <td>2219.0</td>\n",
       "      <td>2.423164e+01</td>\n",
       "      <td>2.088775e+01</td>\n",
       "      <td>0.00</td>\n",
       "      <td>0.00</td>\n",
       "      <td>26.00</td>\n",
       "      <td>4.200000e+01</td>\n",
       "      <td>60.00</td>\n",
       "    </tr>\n",
       "    <tr>\n",
       "      <th>availability_90</th>\n",
       "      <td>2219.0</td>\n",
       "      <td>4.077467e+01</td>\n",
       "      <td>3.295258e+01</td>\n",
       "      <td>0.00</td>\n",
       "      <td>0.00</td>\n",
       "      <td>48.00</td>\n",
       "      <td>7.100000e+01</td>\n",
       "      <td>90.00</td>\n",
       "    </tr>\n",
       "    <tr>\n",
       "      <th>availability_365</th>\n",
       "      <td>2219.0</td>\n",
       "      <td>1.712267e+02</td>\n",
       "      <td>1.384148e+02</td>\n",
       "      <td>0.00</td>\n",
       "      <td>16.00</td>\n",
       "      <td>163.00</td>\n",
       "      <td>3.230000e+02</td>\n",
       "      <td>365.00</td>\n",
       "    </tr>\n",
       "    <tr>\n",
       "      <th>number_of_reviews</th>\n",
       "      <td>2219.0</td>\n",
       "      <td>4.398242e+01</td>\n",
       "      <td>7.626925e+01</td>\n",
       "      <td>0.00</td>\n",
       "      <td>2.00</td>\n",
       "      <td>13.00</td>\n",
       "      <td>5.300000e+01</td>\n",
       "      <td>944.00</td>\n",
       "    </tr>\n",
       "    <tr>\n",
       "      <th>number_of_reviews_ltm</th>\n",
       "      <td>2219.0</td>\n",
       "      <td>1.168950e+01</td>\n",
       "      <td>1.887889e+01</td>\n",
       "      <td>0.00</td>\n",
       "      <td>0.00</td>\n",
       "      <td>2.00</td>\n",
       "      <td>1.600000e+01</td>\n",
       "      <td>134.00</td>\n",
       "    </tr>\n",
       "    <tr>\n",
       "      <th>number_of_reviews_l30d</th>\n",
       "      <td>2219.0</td>\n",
       "      <td>9.175304e-01</td>\n",
       "      <td>1.794178e+00</td>\n",
       "      <td>0.00</td>\n",
       "      <td>0.00</td>\n",
       "      <td>0.00</td>\n",
       "      <td>1.000000e+00</td>\n",
       "      <td>14.00</td>\n",
       "    </tr>\n",
       "    <tr>\n",
       "      <th>review_scores_rating</th>\n",
       "      <td>1903.0</td>\n",
       "      <td>4.675108e+00</td>\n",
       "      <td>5.604362e-01</td>\n",
       "      <td>0.00</td>\n",
       "      <td>4.61</td>\n",
       "      <td>4.80</td>\n",
       "      <td>4.955000e+00</td>\n",
       "      <td>5.00</td>\n",
       "    </tr>\n",
       "    <tr>\n",
       "      <th>review_scores_accuracy</th>\n",
       "      <td>1890.0</td>\n",
       "      <td>4.788233e+00</td>\n",
       "      <td>3.899628e-01</td>\n",
       "      <td>1.00</td>\n",
       "      <td>4.75</td>\n",
       "      <td>4.89</td>\n",
       "      <td>5.000000e+00</td>\n",
       "      <td>5.00</td>\n",
       "    </tr>\n",
       "    <tr>\n",
       "      <th>review_scores_cleanliness</th>\n",
       "      <td>1890.0</td>\n",
       "      <td>4.730418e+00</td>\n",
       "      <td>4.380625e-01</td>\n",
       "      <td>1.00</td>\n",
       "      <td>4.67</td>\n",
       "      <td>4.86</td>\n",
       "      <td>5.000000e+00</td>\n",
       "      <td>5.00</td>\n",
       "    </tr>\n",
       "    <tr>\n",
       "      <th>review_scores_checkin</th>\n",
       "      <td>1890.0</td>\n",
       "      <td>4.829593e+00</td>\n",
       "      <td>4.031680e-01</td>\n",
       "      <td>1.00</td>\n",
       "      <td>4.82</td>\n",
       "      <td>4.94</td>\n",
       "      <td>5.000000e+00</td>\n",
       "      <td>5.00</td>\n",
       "    </tr>\n",
       "    <tr>\n",
       "      <th>review_scores_communication</th>\n",
       "      <td>1890.0</td>\n",
       "      <td>4.800021e+00</td>\n",
       "      <td>4.060995e-01</td>\n",
       "      <td>1.00</td>\n",
       "      <td>4.78</td>\n",
       "      <td>4.92</td>\n",
       "      <td>5.000000e+00</td>\n",
       "      <td>5.00</td>\n",
       "    </tr>\n",
       "    <tr>\n",
       "      <th>review_scores_location</th>\n",
       "      <td>1890.0</td>\n",
       "      <td>4.797894e+00</td>\n",
       "      <td>3.590633e-01</td>\n",
       "      <td>1.00</td>\n",
       "      <td>4.74</td>\n",
       "      <td>4.88</td>\n",
       "      <td>5.000000e+00</td>\n",
       "      <td>5.00</td>\n",
       "    </tr>\n",
       "    <tr>\n",
       "      <th>review_scores_value</th>\n",
       "      <td>1890.0</td>\n",
       "      <td>4.673471e+00</td>\n",
       "      <td>4.412099e-01</td>\n",
       "      <td>1.00</td>\n",
       "      <td>4.60</td>\n",
       "      <td>4.78</td>\n",
       "      <td>4.910000e+00</td>\n",
       "      <td>5.00</td>\n",
       "    </tr>\n",
       "    <tr>\n",
       "      <th>reviews_per_month</th>\n",
       "      <td>1903.0</td>\n",
       "      <td>1.792690e+00</td>\n",
       "      <td>1.941747e+00</td>\n",
       "      <td>0.01</td>\n",
       "      <td>0.31</td>\n",
       "      <td>1.06</td>\n",
       "      <td>2.675000e+00</td>\n",
       "      <td>13.27</td>\n",
       "    </tr>\n",
       "  </tbody>\n",
       "</table>\n",
       "</div>"
      ],
      "text/plain": [
       "                              count          mean           std       min  \\\n",
       "id                           2219.0  3.404597e+07  1.461793e+07  54334.00   \n",
       "accommodates                 2219.0  3.756647e+00  2.121489e+00      1.00   \n",
       "bedrooms                     1915.0  1.639164e+00  9.084713e-01      1.00   \n",
       "beds                         2143.0  1.997667e+00  1.312688e+00      1.00   \n",
       "minimum_nights               2219.0  1.200991e+01  5.109700e+01      1.00   \n",
       "maximum_nights               2219.0  7.734899e+02  4.746349e+02      1.00   \n",
       "availability_30              2219.0  8.565119e+00  9.057908e+00      0.00   \n",
       "availability_60              2219.0  2.423164e+01  2.088775e+01      0.00   \n",
       "availability_90              2219.0  4.077467e+01  3.295258e+01      0.00   \n",
       "availability_365             2219.0  1.712267e+02  1.384148e+02      0.00   \n",
       "number_of_reviews            2219.0  4.398242e+01  7.626925e+01      0.00   \n",
       "number_of_reviews_ltm        2219.0  1.168950e+01  1.887889e+01      0.00   \n",
       "number_of_reviews_l30d       2219.0  9.175304e-01  1.794178e+00      0.00   \n",
       "review_scores_rating         1903.0  4.675108e+00  5.604362e-01      0.00   \n",
       "review_scores_accuracy       1890.0  4.788233e+00  3.899628e-01      1.00   \n",
       "review_scores_cleanliness    1890.0  4.730418e+00  4.380625e-01      1.00   \n",
       "review_scores_checkin        1890.0  4.829593e+00  4.031680e-01      1.00   \n",
       "review_scores_communication  1890.0  4.800021e+00  4.060995e-01      1.00   \n",
       "review_scores_location       1890.0  4.797894e+00  3.590633e-01      1.00   \n",
       "review_scores_value          1890.0  4.673471e+00  4.412099e-01      1.00   \n",
       "reviews_per_month            1903.0  1.792690e+00  1.941747e+00      0.01   \n",
       "\n",
       "                                     25%          50%           75%  \\\n",
       "id                           23141220.50  37148907.00  4.586330e+07   \n",
       "accommodates                        2.00         4.00  4.000000e+00   \n",
       "bedrooms                            1.00         1.00  2.000000e+00   \n",
       "beds                                1.00         2.00  2.000000e+00   \n",
       "minimum_nights                      1.00         2.00  4.000000e+00   \n",
       "maximum_nights                    365.00      1125.00  1.125000e+03   \n",
       "availability_30                     0.00         7.00  1.500000e+01   \n",
       "availability_60                     0.00        26.00  4.200000e+01   \n",
       "availability_90                     0.00        48.00  7.100000e+01   \n",
       "availability_365                   16.00       163.00  3.230000e+02   \n",
       "number_of_reviews                   2.00        13.00  5.300000e+01   \n",
       "number_of_reviews_ltm               0.00         2.00  1.600000e+01   \n",
       "number_of_reviews_l30d              0.00         0.00  1.000000e+00   \n",
       "review_scores_rating                4.61         4.80  4.955000e+00   \n",
       "review_scores_accuracy              4.75         4.89  5.000000e+00   \n",
       "review_scores_cleanliness           4.67         4.86  5.000000e+00   \n",
       "review_scores_checkin               4.82         4.94  5.000000e+00   \n",
       "review_scores_communication         4.78         4.92  5.000000e+00   \n",
       "review_scores_location              4.74         4.88  5.000000e+00   \n",
       "review_scores_value                 4.60         4.78  4.910000e+00   \n",
       "reviews_per_month                   0.31         1.06  2.675000e+00   \n",
       "\n",
       "                                     max  \n",
       "id                           53769377.00  \n",
       "accommodates                       16.00  \n",
       "bedrooms                           10.00  \n",
       "beds                               16.00  \n",
       "minimum_nights                   1000.00  \n",
       "maximum_nights                   1139.00  \n",
       "availability_30                    30.00  \n",
       "availability_60                    60.00  \n",
       "availability_90                    90.00  \n",
       "availability_365                  365.00  \n",
       "number_of_reviews                 944.00  \n",
       "number_of_reviews_ltm             134.00  \n",
       "number_of_reviews_l30d             14.00  \n",
       "review_scores_rating                5.00  \n",
       "review_scores_accuracy              5.00  \n",
       "review_scores_cleanliness           5.00  \n",
       "review_scores_checkin               5.00  \n",
       "review_scores_communication         5.00  \n",
       "review_scores_location              5.00  \n",
       "review_scores_value                 5.00  \n",
       "reviews_per_month                  13.27  "
      ]
     },
     "execution_count": 6,
     "metadata": {},
     "output_type": "execute_result"
    }
   ],
   "source": [
    "df.describe().T"
   ]
  },
  {
   "cell_type": "markdown",
   "id": "5a2c7ff3",
   "metadata": {},
   "source": [
    "## Exploratory Data Analysis\n",
    "<br> Analysing Important Columns\n",
    "<br> Making necessary changes or modifications in important columns"
   ]
  },
  {
   "cell_type": "markdown",
   "id": "89bd9413",
   "metadata": {},
   "source": [
    "### Price\n",
    "Column name = price"
   ]
  },
  {
   "cell_type": "code",
   "execution_count": 7,
   "id": "b89269a5",
   "metadata": {
    "scrolled": true
   },
   "outputs": [
    {
     "name": "stdout",
     "output_type": "stream",
     "text": [
      "object\n",
      "0    $115.00\n",
      "1    $145.00\n",
      "2    $150.00\n",
      "3     $83.00\n",
      "4     $40.00\n",
      "5     $89.00\n",
      "6     $98.00\n",
      "7    $432.00\n",
      "8     $70.00\n",
      "9    $300.00\n",
      "Name: price, dtype: object\n"
     ]
    }
   ],
   "source": [
    "print(df['price'].dtypes)\n",
    "print(df['price'][0:10])"
   ]
  },
  {
   "cell_type": "code",
   "execution_count": 8,
   "id": "9664b062",
   "metadata": {
    "scrolled": true
   },
   "outputs": [
    {
     "name": "stderr",
     "output_type": "stream",
     "text": [
      "C:\\Users\\siava\\AppData\\Local\\Temp/ipykernel_14008/14964403.py:3: FutureWarning: The default value of regex will change from True to False in a future version.\n",
      "  df.price = df.price.str.replace('\\$|,', '').astype('float64')\n"
     ]
    }
   ],
   "source": [
    "# removing '$' and '.' from df.price and converting it to numeric values\n",
    "# however, there should be a smarter approach for converting this column to numeric values\n",
    "df.price = df.price.str.replace('\\$|,', '').astype('float64')"
   ]
  },
  {
   "cell_type": "code",
   "execution_count": 9,
   "id": "30567d1a",
   "metadata": {
    "scrolled": true
   },
   "outputs": [
    {
     "data": {
      "text/plain": [
       "count     2219.000000\n",
       "mean       148.791347\n",
       "std        380.609102\n",
       "min         13.000000\n",
       "25%         65.000000\n",
       "50%        100.000000\n",
       "75%        174.000000\n",
       "max      13127.000000\n",
       "Name: price, dtype: float64"
      ]
     },
     "execution_count": 9,
     "metadata": {},
     "output_type": "execute_result"
    }
   ],
   "source": [
    "df.price.describe()"
   ]
  },
  {
   "cell_type": "code",
   "execution_count": 10,
   "id": "ce9fc397",
   "metadata": {},
   "outputs": [],
   "source": [
    "df.drop(df[df.price<=0].index,inplace=True)"
   ]
  },
  {
   "cell_type": "markdown",
   "id": "8e25d60c",
   "metadata": {},
   "source": [
    "#### \n",
    "Very few listings (count=10) have a price greater than $2,000"
   ]
  },
  {
   "cell_type": "code",
   "execution_count": 11,
   "id": "9fea537b",
   "metadata": {
    "scrolled": true
   },
   "outputs": [
    {
     "data": {
      "text/plain": [
       "4"
      ]
     },
     "execution_count": 11,
     "metadata": {},
     "output_type": "execute_result"
    }
   ],
   "source": [
    "df[df.price>2000].price.count()"
   ]
  },
  {
   "cell_type": "markdown",
   "id": "2ab107ae",
   "metadata": {},
   "source": [
    "#### Necessary Transformation for Price Data\n",
    "<br> Data for the price column has a log-normal distribution\n",
    "<br> I will use log10 and transform this column to convert it into a Gaussian distribution for modeling purposes\n",
    "<br> note that I am using log-scale on the x_axis for the histogram (axes[1]) \n",
    "<br> I used it for conveying the message and showing the necessity for a log transformation"
   ]
  },
  {
   "cell_type": "code",
   "execution_count": 12,
   "id": "bbcffd76",
   "metadata": {
    "scrolled": true
   },
   "outputs": [
    {
     "data": {
      "image/png": "[encoded data removed]",
      "text/plain": [
       "<Figure size 1080x360 with 2 Axes>"
      ]
     },
     "metadata": {
      "needs_background": "light"
     },
     "output_type": "display_data"
    }
   ],
   "source": [
    "fig , axes = plt.subplots(1, 2, figsize=(15,5))\n",
    "\n",
    "axes0 = sns.histplot(data=df, x=df['price'], bins=100, ax=axes[0])\n",
    "axes0.grid(), axes0.set(xlim=(0, 3500));\n",
    "\n",
    "axes1 = sns.histplot(data=df, x=np.log10(df['price']), bins=100, kde=True, ax=axes[1])\n",
    "axes1.set_xticks(range(1,5));\n",
    "axes1.set_xticklabels([10,100,1000,10000]);\n",
    "axes1.grid(), axes1.set(xlim=(1, 4));"
   ]
  },
  {
   "cell_type": "markdown",
   "id": "a1015e6f",
   "metadata": {},
   "source": [
    "### Room Type\n",
    "column name = room_type"
   ]
  },
  {
   "cell_type": "code",
   "execution_count": 13,
   "id": "8506a4f4",
   "metadata": {
    "scrolled": true
   },
   "outputs": [
    {
     "data": {
      "image/png": "[encoded data removed]",
      "text/plain": [
       "<Figure size 1080x360 with 2 Axes>"
      ]
     },
     "metadata": {
      "needs_background": "light"
     },
     "output_type": "display_data"
    }
   ],
   "source": [
    "fig , axes = plt.subplots(1, 2, figsize=(15,5))\n",
    "\n",
    "axes0 = sns.countplot(data=df, x=df.room_type, palette='Set1', ax=axes[0])\n",
    "for p in axes0.patches:\n",
    "    x=p.get_bbox().get_points()[:,0]\n",
    "    y=p.get_bbox().get_points()[1,1]\n",
    "    axes0.annotate('{:.2f}%'.format(100.*y/len(df)), (x.mean(), y), \n",
    "            ha='center', va='bottom')\n",
    "\n",
    "axes1 = sns.histplot(data=df, x=np.log10(df['price']), bins=100, kde=True, hue=df.room_type, palette='Set1', ax=axes[1])\n",
    "axes1.set_xticks(range(1,5));\n",
    "axes1.set_xticklabels([10,100,1000,10000]);\n",
    "axes1.grid()"
   ]
  },
  {
   "cell_type": "markdown",
   "id": "6f447e65",
   "metadata": {},
   "source": [
    "### Accommodates\n",
    "column name = accommodates"
   ]
  },
  {
   "cell_type": "code",
   "execution_count": 14,
   "id": "bcbb3347",
   "metadata": {},
   "outputs": [
    {
     "data": {
      "image/png": "[encoded data removed]",
      "text/plain": [
       "<Figure size 1080x360 with 2 Axes>"
      ]
     },
     "metadata": {
      "needs_background": "light"
     },
     "output_type": "display_data"
    }
   ],
   "source": [
    "fig, axes = plt.subplots(1, 2, figsize=(15, 5))\n",
    "\n",
    "axes0 = sns.countplot(data=df, x=df.accommodates, palette='Set1', ax=axes[0])\n",
    "for p in axes0.patches:\n",
    "    x=p.get_bbox().get_points()[:,0]\n",
    "    y=p.get_bbox().get_points()[1,1]\n",
    "    axes0.annotate('{:.2f}%'.format(100.*y/len(df)), (x.mean(), y), \n",
    "            ha='center', va='bottom', rotation=0)\n",
    "\n",
    "axes1 = sns.histplot(data=df, x=np.log10(df['price']), bins=100, kde=True, hue=df.accommodates, palette='Set1', ax=axes[1])\n",
    "axes1.set_xticks(range(1,5));\n",
    "axes1.set_xticklabels([10,100,1000,10000]);\n",
    "axes1.grid()"
   ]
  },
  {
   "cell_type": "markdown",
   "id": "318d6e5f",
   "metadata": {},
   "source": [
    "<br> <I>accommodates</I> is an important feature in the dataset and later we see it is one the statistically significant features\n",
    "<br> in some data sets the accommodation is zero, and I drop the listings where accommodates==0"
   ]
  },
  {
   "cell_type": "code",
   "execution_count": 15,
   "id": "d6b0565d",
   "metadata": {},
   "outputs": [],
   "source": [
    "df.drop(df[df.accommodates==0].index,inplace=True)"
   ]
  },
  {
   "cell_type": "markdown",
   "id": "b1dc2042",
   "metadata": {},
   "source": [
    "### Beds and Bedrooms\n",
    "<br> Column name = bedrooms\n",
    "<br> Column name = beds"
   ]
  },
  {
   "cell_type": "code",
   "execution_count": 16,
   "id": "fad539df",
   "metadata": {},
   "outputs": [
    {
     "data": {
      "image/png": "[encoded data removed]",
      "text/plain": [
       "<Figure size 1080x360 with 2 Axes>"
      ]
     },
     "metadata": {
      "needs_background": "light"
     },
     "output_type": "display_data"
    }
   ],
   "source": [
    "fig, axes = plt.subplots(1, 2, figsize=(15, 5))\n",
    "\n",
    "axes0 = sns.countplot(data=df, x=df.bedrooms, palette='Set1', ax=axes[0])\n",
    "for p in axes0.patches:\n",
    "    x=p.get_bbox().get_points()[:,0]\n",
    "    y=p.get_bbox().get_points()[1,1]\n",
    "    axes0.annotate('{:.1f}%'.format(100.*y/len(df)), (x.mean(), y), \n",
    "            ha='center', va='bottom', rotation=0)\n",
    "\n",
    "axes1 = sns.histplot(data=df, x=np.log10(df['price']), bins=100, kde=True, hue=df.bedrooms, palette='Set1', ax=axes[1])\n",
    "axes1.set_xticks(range(1,5));\n",
    "axes1.set_xticklabels([10,100,1000,10000]);\n",
    "axes1.grid()"
   ]
  },
  {
   "cell_type": "code",
   "execution_count": 17,
   "id": "23c579c4",
   "metadata": {},
   "outputs": [
    {
     "data": {
      "image/png": "[encoded data removed]",
      "text/plain": [
       "<Figure size 1080x360 with 2 Axes>"
      ]
     },
     "metadata": {
      "needs_background": "light"
     },
     "output_type": "display_data"
    }
   ],
   "source": [
    "fig, axes = plt.subplots(1, 2, figsize=(15, 5))\n",
    "\n",
    "axes0 = sns.countplot(data=df, x=df.beds, palette='Set1', ax=axes[0])\n",
    "for p in axes0.patches:\n",
    "    x=p.get_bbox().get_points()[:,0]\n",
    "    y=p.get_bbox().get_points()[1,1]\n",
    "    axes0.annotate('{:.1f}%'.format(100.*y/len(df)), (x.mean(), y), \n",
    "            ha='center', va='bottom', rotation=0)\n",
    "\n",
    "axes1 = sns.histplot(data=df, x=np.log10(df['price']), bins=100, kde=True, hue=df.beds, palette='Set1', ax=axes[1])\n",
    "axes1.set_xticks(range(1,5));\n",
    "axes1.set_xticklabels([10,100,1000,10000]);\n",
    "axes1.grid()"
   ]
  },
  {
   "cell_type": "code",
   "execution_count": 18,
   "id": "92d2378a",
   "metadata": {},
   "outputs": [
    {
     "name": "stdout",
     "output_type": "stream",
     "text": [
      "Number of missing values in beds:  76\n",
      "Number of missing values in bedrooms:  304\n"
     ]
    }
   ],
   "source": [
    "print('Number of missing values in beds: ', df.beds.isna().sum())\n",
    "print('Number of missing values in bedrooms: ', df.bedrooms.isna().sum())"
   ]
  },
  {
   "cell_type": "code",
   "execution_count": 19,
   "id": "74f412e4",
   "metadata": {},
   "outputs": [],
   "source": [
    "# filling missing values in: beds and bedrooms\n",
    "df['beds'].fillna(df.groupby(['accommodates','room_type'])['beds'].transform('mean').transform('round'), inplace=True)\n",
    "df['beds'].fillna((df['accommodates']/2).apply(np.ceil), inplace=True)\n",
    "df['bedrooms'].fillna(df.groupby(['beds','room_type'])['bedrooms'].transform('mean').transform('round'), inplace=True)\n",
    "df['bedrooms'].fillna((df['accommodates']/2).apply(np.ceil), inplace=True)"
   ]
  },
  {
   "cell_type": "markdown",
   "id": "b924365d",
   "metadata": {},
   "source": [
    "### Bathrooms\n",
    "<br> Column name = bathroom_text\n",
    "\n",
    "<br> bathroom_text has lots of unique items\n",
    "<br> will convert it to two columns: 1) if it is shared or private, and 2) the number of bathrooms for the property"
   ]
  },
  {
   "cell_type": "code",
   "execution_count": 20,
   "id": "d0c313b4",
   "metadata": {
    "scrolled": true
   },
   "outputs": [
    {
     "data": {
      "text/plain": [
       "array(['1.5 baths', '1 private bath', '1 bath', '1 shared bath',\n",
       "       '2.5 baths', '1.5 shared baths', '2 baths', '2 shared baths',\n",
       "       '3 baths', '0 shared baths', '3.5 baths', nan, '2.5 shared baths',\n",
       "       '4.5 baths', '4 baths', '3 shared baths', '10 baths',\n",
       "       '6 shared baths', '5 baths', '0 baths', '13 shared baths',\n",
       "       '13 baths', 'Half-bath'], dtype=object)"
      ]
     },
     "execution_count": 20,
     "metadata": {},
     "output_type": "execute_result"
    }
   ],
   "source": [
    "df.bathrooms_text.unique()"
   ]
  },
  {
   "cell_type": "code",
   "execution_count": 21,
   "id": "843d3385",
   "metadata": {},
   "outputs": [
    {
     "data": {
      "text/plain": [
       "2"
      ]
     },
     "execution_count": 21,
     "metadata": {},
     "output_type": "execute_result"
    }
   ],
   "source": [
    "df.bathrooms_text.isna().sum()"
   ]
  },
  {
   "cell_type": "code",
   "execution_count": 22,
   "id": "22dd0943",
   "metadata": {
    "scrolled": false
   },
   "outputs": [
    {
     "name": "stdout",
     "output_type": "stream",
     "text": [
      "Number of listings with a shared bath:  278\n"
     ]
    }
   ],
   "source": [
    "print('Number of listings with a shared bath: ', np.nansum(df.bathrooms_text.str.contains('shared')))"
   ]
  },
  {
   "cell_type": "code",
   "execution_count": 23,
   "id": "e6067041",
   "metadata": {},
   "outputs": [],
   "source": [
    "# creating a new column, 1: if bath is shared, 0: not shared or nan\n",
    "df['bath_is_shared'] = pd.get_dummies(df.bathrooms_text.str.contains('shared'), drop_first=True)\n",
    "# I use 0 for nan for simplicity, one could have used df.room_type to improve the estimations\n",
    "df['bath_is_shared'].fillna(0, inplace=True)"
   ]
  },
  {
   "cell_type": "code",
   "execution_count": 24,
   "id": "2d5bce0c",
   "metadata": {},
   "outputs": [
    {
     "data": {
      "text/plain": [
       "278"
      ]
     },
     "execution_count": 24,
     "metadata": {},
     "output_type": "execute_result"
    }
   ],
   "source": [
    "sum(df['bath_is_shared'])"
   ]
  },
  {
   "cell_type": "code",
   "execution_count": 25,
   "id": "c8f42176",
   "metadata": {
    "scrolled": true
   },
   "outputs": [
    {
     "name": "stderr",
     "output_type": "stream",
     "text": [
      "C:\\Users\\siava\\AppData\\Local\\Temp/ipykernel_14008/110679144.py:5: SettingWithCopyWarning: \n",
      "A value is trying to be set on a copy of a slice from a DataFrame\n",
      "\n",
      "See the caveats in the documentation: https://pandas.pydata.org/pandas-docs/stable/user_guide/indexing.html#returning-a-view-versus-a-copy\n",
      "  df['bathroom_numbers'][df.bathrooms_text.str.contains('half', na=False, regex=False)]=0.5\n"
     ]
    }
   ],
   "source": [
    "# extracting the numerical values from bathrooms_text\n",
    "df['bathroom_numbers'] = df.bathrooms_text.str.extract('([0-9][,.]*[0-9]*)')\n",
    "\n",
    "# extracting 'half' from bathrooms_text and assigning 0.5\n",
    "df['bathroom_numbers'][df.bathrooms_text.str.contains('half', na=False, regex=False)]=0.5\n",
    "\n",
    "df['bathroom_numbers'] = pd.to_numeric(df['bathroom_numbers'])\n",
    "df.drop(columns=['bathrooms_text'], inplace=True)"
   ]
  },
  {
   "cell_type": "markdown",
   "id": "65b4fd85",
   "metadata": {},
   "source": [
    "<br> filling possibble missing values with 1 (a property should have a bathroom)"
   ]
  },
  {
   "cell_type": "code",
   "execution_count": 26,
   "id": "dd340cb1",
   "metadata": {},
   "outputs": [],
   "source": [
    "df['bathroom_numbers'].fillna(1, inplace=True)"
   ]
  },
  {
   "cell_type": "code",
   "execution_count": 27,
   "id": "7798b8d0",
   "metadata": {},
   "outputs": [
    {
     "data": {
      "image/png": "[encoded data removed]",
      "text/plain": [
       "<Figure size 1080x360 with 2 Axes>"
      ]
     },
     "metadata": {
      "needs_background": "light"
     },
     "output_type": "display_data"
    }
   ],
   "source": [
    "fig, axes = plt.subplots(1, 2, figsize=(15, 5))\n",
    "\n",
    "axes0 = sns.countplot(data=df, x=df.bathroom_numbers, palette='Set1', ax=axes[0])\n",
    "for p in axes0.patches:\n",
    "    x=p.get_bbox().get_points()[:,0]\n",
    "    y=p.get_bbox().get_points()[1,1]\n",
    "    axes0.annotate('{:.1f}%'.format(100.*y/len(df)), (x.mean(), y), \n",
    "            ha='center', va='bottom', rotation=0)\n",
    "\n",
    "axes1 = sns.histplot(data=df, x=np.log10(df['price']), bins=100, kde=True, hue=df.bathroom_numbers, palette='Set1'\n",
    "                     , ax=axes[1])\n",
    "axes1.set_xticks(range(1,5));\n",
    "axes1.set_xticklabels([10,100,1000,10000]);\n",
    "axes1.grid()"
   ]
  },
  {
   "cell_type": "markdown",
   "id": "c80c7d23",
   "metadata": {},
   "source": [
    "### Neighbourhood"
   ]
  },
  {
   "cell_type": "code",
   "execution_count": 28,
   "id": "75e4f145",
   "metadata": {
    "scrolled": true
   },
   "outputs": [
    {
     "name": "stdout",
     "output_type": "stream",
     "text": [
      "['Quartier 5-1' 'Sillery' 'Saint-Roch'\n",
      " 'Vieux-Québec/Cap-Blanc/Colline parlementaire' 'Vieux-Moulin'\n",
      " 'Saint-Jean-Baptiste' 'Lac-Saint-Charles' 'Vieux-Limoilou' 'Cap-Rouge'\n",
      " 'Saint-Sacrement' 'Chutes-Montmorency' 'Saint-Sauveur'\n",
      " 'Duberger-Les Saules' 'Maizerets' 'Quartier 5-4' 'Saint-Louis' 'Montcalm'\n",
      " 'Cité Universitaire' 'Pointe-de-Sainte-Foy' 'Neufchâtel-Est/Lebourgneuf'\n",
      " 'Quartier 4-5' 'Vanier' 'Quartier 5-2' 'Loretteville'\n",
      " 'Notre-Dame-des-Laurentides' 'Des Châtels' 'Lairet' 'Val-Bélair'\n",
      " 'Plateau' 'Quartier 4-2' 'Quartier 4-3' 'Jésuites' 'Quartier 4-6'\n",
      " \"L'Aéroport\" 'Saint-Émile']\n",
      "0\n"
     ]
    }
   ],
   "source": [
    "print(df['neighbourhood_cleansed'].unique())\n",
    "print(df['neighbourhood_cleansed'].isna().sum())"
   ]
  },
  {
   "cell_type": "code",
   "execution_count": 29,
   "id": "bd0d5787",
   "metadata": {},
   "outputs": [
    {
     "data": {
      "image/png": "[encoded data removed]",
      "text/plain": [
       "<Figure size 1080x360 with 1 Axes>"
      ]
     },
     "metadata": {
      "needs_background": "light"
     },
     "output_type": "display_data"
    }
   ],
   "source": [
    "plt.figure(figsize=(15,5))\n",
    "\n",
    "# use order to sort bars according to the average neghbourhood price\n",
    "order = df.groupby(['neighbourhood_cleansed'])['price'].mean().index \n",
    "axes0 = sns.countplot(data=df, x=df.neighbourhood_cleansed, palette='Set1', order=order)\n",
    "for p in axes0.patches:\n",
    "    x=p.get_bbox().get_points()[:,0]\n",
    "    y=p.get_bbox().get_points()[1,1]\n",
    "    axes0.annotate('{:.1f}%'.format(100.*y/len(df)), (x.mean(), y), \n",
    "            ha='center', va='bottom', rotation=0)\n",
    "axes0.set_xticklabels(axes0.get_xticklabels(),rotation = 90);"
   ]
  },
  {
   "cell_type": "markdown",
   "id": "d4255cfa",
   "metadata": {},
   "source": [
    "### Property Type\n",
    "<br> Column name = property_type"
   ]
  },
  {
   "cell_type": "code",
   "execution_count": 30,
   "id": "4ba758d9",
   "metadata": {},
   "outputs": [
    {
     "name": "stdout",
     "output_type": "stream",
     "text": [
      "['Entire serviced apartment' 'Private room in bed and breakfast'\n",
      " 'Entire rental unit' 'Private room in townhouse'\n",
      " 'Entire residential home' 'Entire townhouse'\n",
      " 'Private room in nature lodge' 'Private room in cottage'\n",
      " 'Private room in residential home' 'Room in bed and breakfast'\n",
      " 'Entire condominium (condo)' 'Private room in rental unit'\n",
      " 'Entire guest suite' 'Room in boutique hotel' 'Room in aparthotel'\n",
      " 'Private room in villa' 'Entire loft'\n",
      " 'Private room in condominium (condo)' 'Room in hotel' 'Entire guesthouse'\n",
      " 'Private room in bungalow' 'Room in hostel' 'Entire cottage'\n",
      " 'Private room' 'Room in nature lodge' 'Room in serviced apartment'\n",
      " 'Shared room in hostel' 'Entire bungalow' 'Private room in guesthouse'\n",
      " 'Entire place' 'Entire vacation home' 'Camper/RV' 'Shared room in dorm'\n",
      " 'Shared room' 'Private room in loft' 'Shared room in rental unit'\n",
      " 'Tiny house' 'Private room in hostel' 'Houseboat' 'Entire cabin'\n",
      " 'Entire home/apt' 'Private room in guest suite'\n",
      " 'Private room in serviced apartment' 'Entire chalet'\n",
      " 'Private room in tower' 'Room in heritage hotel'\n",
      " 'Private room in vacation home']\n",
      "0\n"
     ]
    }
   ],
   "source": [
    "print(df['property_type'].unique())\n",
    "print(df['property_type'].isna().sum())"
   ]
  },
  {
   "cell_type": "markdown",
   "id": "091ef65f",
   "metadata": {},
   "source": [
    "<br> property_type has lots of unique elements and room_type is descriptive enough.\n",
    "<br> drop it for now\n",
    "<br> property_type column may be useful for analysing outliers, etc."
   ]
  },
  {
   "cell_type": "code",
   "execution_count": 31,
   "id": "ce3d96fe",
   "metadata": {},
   "outputs": [],
   "source": [
    "df.drop(columns=['property_type'], inplace=True)"
   ]
  },
  {
   "cell_type": "markdown",
   "id": "f1debd86",
   "metadata": {},
   "source": [
    "### Number of Reviews and Scores\n",
    "<br> Column name = \n",
    "<br>&emsp;                    'number_of_reviews'\n",
    "<br>&emsp;                    'number_of_reviews_ltm'\n",
    "<br>&emsp;                    'number_of_reviews_l30d'\n",
    "<br>\n",
    "<br>&emsp;                    'review_scores_rating'\n",
    "<br>&emsp;                    'review_scores_accuracy'\n",
    "<br>&emsp;                    'review_scores_cleanliness'\n",
    "<br>&emsp;                    'review_scores_checkin'\n",
    "<br>&emsp;                    'review_scores_communication'\n",
    "<br>&emsp;                    'review_scores_location'\n",
    "<br>&emsp;                    'review_scores_value'"
   ]
  },
  {
   "cell_type": "code",
   "execution_count": 32,
   "id": "3c9870d8",
   "metadata": {},
   "outputs": [],
   "source": [
    "# if the number_of_reviews is zero the columns listed below in review_cols are NaN\n",
    "# fillna with 0 in review_cols, and MUST use/keep number_of_reviews to describe zero review_scores_*\n",
    "\n",
    "n_review_cols = ['number_of_reviews', 'number_of_reviews_ltm', 'number_of_reviews_l30d', 'reviews_per_month']\n",
    "\n",
    "review_score_cols = ['review_scores_rating', 'review_scores_accuracy', 'review_scores_cleanliness'\n",
    "                     , 'review_scores_checkin', 'review_scores_communication', 'review_scores_location'\n",
    "                     , 'review_scores_value']\n",
    "for col in review_score_cols:\n",
    "    df[col].fillna(0, inplace=True)\n",
    "\n",
    "df['reviews_per_month'].fillna(0, inplace=True)"
   ]
  },
  {
   "cell_type": "markdown",
   "id": "dfd74725",
   "metadata": {},
   "source": [
    "### Availability\n",
    "<br> Column name = has_availability"
   ]
  },
  {
   "cell_type": "code",
   "execution_count": 33,
   "id": "75d8e5bc",
   "metadata": {},
   "outputs": [
    {
     "name": "stdout",
     "output_type": "stream",
     "text": [
      "['t' 'f']\n",
      "0\n"
     ]
    }
   ],
   "source": [
    "print(df['has_availability'].unique())\n",
    "print(df['has_availability'].isna().sum())"
   ]
  },
  {
   "cell_type": "markdown",
   "id": "b13e3d51",
   "metadata": {},
   "source": [
    "### Bookable\n",
    "<br> Column name = instant_bookable"
   ]
  },
  {
   "cell_type": "code",
   "execution_count": 34,
   "id": "ff5031f7",
   "metadata": {},
   "outputs": [
    {
     "name": "stdout",
     "output_type": "stream",
     "text": [
      "['f' 't']\n",
      "0\n"
     ]
    }
   ],
   "source": [
    "print(df['instant_bookable'].unique())\n",
    "print(df['instant_bookable'].isna().sum())"
   ]
  },
  {
   "cell_type": "markdown",
   "id": "0ae09a0b",
   "metadata": {},
   "source": [
    "## Get Dummies"
   ]
  },
  {
   "cell_type": "code",
   "execution_count": 35,
   "id": "356a68eb",
   "metadata": {},
   "outputs": [],
   "source": [
    "df = pd.get_dummies(df, columns=['room_type'], prefix=['room_type'], prefix_sep='_',drop_first=False)"
   ]
  },
  {
   "cell_type": "code",
   "execution_count": 36,
   "id": "6112a762",
   "metadata": {},
   "outputs": [],
   "source": [
    "df = pd.get_dummies(df, columns=['neighbourhood_cleansed'], prefix=['neighbourhood'], prefix_sep='_',drop_first=False)"
   ]
  },
  {
   "cell_type": "code",
   "execution_count": 37,
   "id": "8d170994",
   "metadata": {},
   "outputs": [],
   "source": [
    "df = pd.get_dummies(df, columns=['has_availability'], prefix=['has_availability'], prefix_sep='_',drop_first=True)"
   ]
  },
  {
   "cell_type": "code",
   "execution_count": 38,
   "id": "bf15e2b4",
   "metadata": {},
   "outputs": [],
   "source": [
    "df = pd.get_dummies(df, columns=['instant_bookable'], prefix=['bookable'], prefix_sep='_',drop_first=True)"
   ]
  },
  {
   "cell_type": "markdown",
   "id": "60e35cf8",
   "metadata": {},
   "source": [
    "## Principal Component Analysis and Low Variance Filter"
   ]
  },
  {
   "cell_type": "markdown",
   "id": "f4f52179",
   "metadata": {},
   "source": [
    "### Room Type"
   ]
  },
  {
   "cell_type": "code",
   "execution_count": 39,
   "id": "ce4f4911",
   "metadata": {},
   "outputs": [],
   "source": [
    "room_type_cols = df.columns[df.columns.str.startswith('room_type')]"
   ]
  },
  {
   "cell_type": "code",
   "execution_count": 40,
   "id": "d827b29f",
   "metadata": {},
   "outputs": [
    {
     "name": "stdout",
     "output_type": "stream",
     "text": [
      "Number of room types in each category:\n",
      "room_type_Entire home/apt    1742\n",
      "room_type_Hotel room           33\n",
      "room_type_Private room        427\n",
      "room_type_Shared room          17\n",
      "dtype: int64\n",
      "\n",
      "Variance:\n",
      "room_type_Entire home/apt    0.168829\n",
      "room_type_Hotel room         0.014657\n",
      "room_type_Private room       0.155470\n",
      "room_type_Shared room        0.007606\n",
      "dtype: float64\n"
     ]
    }
   ],
   "source": [
    "df_room_type = df[room_type_cols]\n",
    "\n",
    "print('Number of room types in each category:')\n",
    "print(df_room_type.sum())\n",
    "print()\n",
    "print('Variance:')\n",
    "print(df_room_type.var())"
   ]
  },
  {
   "cell_type": "markdown",
   "id": "30ac6a6d",
   "metadata": {},
   "source": [
    "<br> The above data show that two categories, <I>Hotel Room</I> and <I>Shared Room</I> have a variance less than 0.003.\n",
    "<br> Using sklearn.feature_selection, VarianceThreshold, we can drop these columns. In other words there is not enough data/information to study variations amoung these two room type categories. \n",
    "<br> Here we will implement Principal Component Analysis and use only one component to describe the <I>room type</I> data "
   ]
  },
  {
   "cell_type": "code",
   "execution_count": 41,
   "id": "763ca507",
   "metadata": {},
   "outputs": [
    {
     "name": "stdout",
     "output_type": "stream",
     "text": [
      "Explained Variance Ratio: [0.90490377]\n",
      "Original number of columns:  4\n",
      "Principal Components =  1\n"
     ]
    }
   ],
   "source": [
    "from sklearn.decomposition import PCA\n",
    "\n",
    "pca = PCA(n_components=1)\n",
    "pca.fit(df_room_type)\n",
    "\n",
    "print('Explained Variance Ratio:', pca.explained_variance_ratio_)\n",
    "\n",
    "room_type_pca = pca.transform(df_room_type)\n",
    "print('Original number of columns: ', df_room_type.shape[1])\n",
    "print('Principal Components = ',room_type_pca.shape[1])"
   ]
  },
  {
   "cell_type": "code",
   "execution_count": 42,
   "id": "beec667d",
   "metadata": {},
   "outputs": [],
   "source": [
    "df.drop(columns=room_type_cols, inplace=True)\n",
    "df['room_type_pca'] = room_type_pca"
   ]
  },
  {
   "cell_type": "markdown",
   "id": "474f0ceb",
   "metadata": {},
   "source": [
    "### Number of Reviews and Review Scores"
   ]
  },
  {
   "cell_type": "code",
   "execution_count": 43,
   "id": "c87ba3d3",
   "metadata": {},
   "outputs": [],
   "source": [
    "# these two list of columns were defined before:\n",
    "\n",
    "# n_review_cols = ['number_of_reviews', 'number_of_reviews_ltm', 'number_of_reviews_l30d', 'reviews_per_month']\n",
    "\n",
    "# review_score_cols = ['review_scores_rating', 'review_scores_accuracy', 'review_scores_cleanliness'\n",
    "#                    , 'review_scores_checkin', 'review_scores_communication', 'review_scores_location'\n",
    "#                    , 'review_scores_value']"
   ]
  },
  {
   "cell_type": "markdown",
   "id": "6365205d",
   "metadata": {},
   "source": [
    "<br> first we scale the review data (both list of columns for the number of reviews and the review scores)\n",
    "<br> scaled data are implemented for calculating the correlation coefficients, and extracting the principal componenets"
   ]
  },
  {
   "cell_type": "code",
   "execution_count": 44,
   "id": "ec5a38aa",
   "metadata": {},
   "outputs": [],
   "source": [
    "from sklearn.preprocessing import MinMaxScaler\n",
    "\n",
    "scaler = MinMaxScaler()\n",
    "scaler.fit(df[n_review_cols])\n",
    "scaled_n_review_features = scaler.transform(df[n_review_cols])\n",
    "scaler.fit(df[review_score_cols])\n",
    "scaled_review_score_features = scaler.transform(df[review_score_cols])"
   ]
  },
  {
   "cell_type": "markdown",
   "id": "4cadf2d9",
   "metadata": {},
   "source": [
    "<br> The following graphs show the calculated pairwise correlation of columns using Pearson as the method\n",
    "<br>\n",
    "<br> The results highlight very high correlation between different review scores,\n",
    "<br> whereas, the correlation coefficient between the columns related to the number of reviews are not highly correlated (compared to review scores)."
   ]
  },
  {
   "cell_type": "code",
   "execution_count": 45,
   "id": "57d0b992",
   "metadata": {
    "scrolled": false
   },
   "outputs": [
    {
     "data": {
      "image/png": "[encoded data removed]",
      "text/plain": [
       "<Figure size 1080x360 with 4 Axes>"
      ]
     },
     "metadata": {
      "needs_background": "light"
     },
     "output_type": "display_data"
    }
   ],
   "source": [
    "fig, axes = plt.subplots(1, 2, figsize=(15, 5))\n",
    "\n",
    "n_review_corr = pd.DataFrame(scaled_n_review_features).corr()\n",
    "labels=['total', 'ltm', 'l30d', 'per_month']\n",
    "sns.heatmap(n_review_corr, annot=True, linewidths=.5, vmin=0, vmax=1, xticklabels=labels, yticklabels=labels, ax=axes[0])\n",
    "axes[0].title.set_text('Number of Reviews')\n",
    "\n",
    "review_score_corr = pd.DataFrame(scaled_review_score_features).corr()\n",
    "labels=[]\n",
    "for txt in review_score_cols:\n",
    "    labels.append(txt.replace('review_scores_', ''))\n",
    "sns.heatmap(review_score_corr, annot=True, linewidths=.5, vmin=0, vmax=1, xticklabels=labels, yticklabels=labels, ax=axes[1])\n",
    "axes[1].title.set_text('Review Scores')"
   ]
  },
  {
   "cell_type": "markdown",
   "id": "da9d56bf",
   "metadata": {},
   "source": [
    "<br> Here, Principal Component Analysis (PCA) is used to reduce the dimentionality\n",
    "<br> As we saw in the previous figure, different <i>Review Scores</i> are highly correlated and reducing the dimensionality is necessary to mitigate collinearity\n",
    "<br> i.e., different <i>Review Scores</i> columns are not independent from one another, and a single PCA somponent captures 99% of the variance"
   ]
  },
  {
   "cell_type": "code",
   "execution_count": 46,
   "id": "6916bc26",
   "metadata": {},
   "outputs": [
    {
     "name": "stdout",
     "output_type": "stream",
     "text": [
      "Explained Variance Ratio: [0.9867247]\n",
      "Original number of columns:  7\n",
      "Principal Components:  1\n"
     ]
    }
   ],
   "source": [
    "pca = PCA(n_components=1)\n",
    "# using scaled features (obtained from MinMaxScaler, not the raw review scores) as an input for PCA\n",
    "pca.fit(scaled_review_score_features)\n",
    "\n",
    "print('Explained Variance Ratio:', pca.explained_variance_ratio_)\n",
    "# print('Total Explained Variance Ratio:', pca.explained_variance_ratio_.sum())\n",
    "\n",
    "review_pca = pca.transform(scaled_review_score_features)\n",
    "print('Original number of columns: ', df[review_score_cols].shape[1])\n",
    "print('Principal Components: ', review_pca.shape[1])"
   ]
  },
  {
   "cell_type": "code",
   "execution_count": 47,
   "id": "82e3b3df",
   "metadata": {},
   "outputs": [],
   "source": [
    "df.drop(columns=review_score_cols, inplace=True)\n",
    "df['review_pca'] = review_pca"
   ]
  },
  {
   "cell_type": "code",
   "execution_count": 48,
   "id": "fdbe4990",
   "metadata": {},
   "outputs": [
    {
     "data": {
      "text/html": [
       "<div>\n",
       "<style scoped>\n",
       "    .dataframe tbody tr th:only-of-type {\n",
       "        vertical-align: middle;\n",
       "    }\n",
       "\n",
       "    .dataframe tbody tr th {\n",
       "        vertical-align: top;\n",
       "    }\n",
       "\n",
       "    .dataframe thead th {\n",
       "        text-align: right;\n",
       "    }\n",
       "</style>\n",
       "<table border=\"1\" class=\"dataframe\">\n",
       "  <thead>\n",
       "    <tr style=\"text-align: right;\">\n",
       "      <th></th>\n",
       "      <th>id</th>\n",
       "      <th>accommodates</th>\n",
       "      <th>bedrooms</th>\n",
       "      <th>beds</th>\n",
       "      <th>price</th>\n",
       "      <th>minimum_nights</th>\n",
       "      <th>maximum_nights</th>\n",
       "      <th>availability_30</th>\n",
       "      <th>availability_60</th>\n",
       "      <th>availability_90</th>\n",
       "      <th>...</th>\n",
       "      <th>neighbourhood_Sillery</th>\n",
       "      <th>neighbourhood_Val-Bélair</th>\n",
       "      <th>neighbourhood_Vanier</th>\n",
       "      <th>neighbourhood_Vieux-Limoilou</th>\n",
       "      <th>neighbourhood_Vieux-Moulin</th>\n",
       "      <th>neighbourhood_Vieux-Québec/Cap-Blanc/Colline parlementaire</th>\n",
       "      <th>has_availability_t</th>\n",
       "      <th>bookable_t</th>\n",
       "      <th>room_type_pca</th>\n",
       "      <th>review_pca</th>\n",
       "    </tr>\n",
       "  </thead>\n",
       "  <tbody>\n",
       "    <tr>\n",
       "      <th>0</th>\n",
       "      <td>54334</td>\n",
       "      <td>5</td>\n",
       "      <td>2.0</td>\n",
       "      <td>2.0</td>\n",
       "      <td>115.0</td>\n",
       "      <td>2</td>\n",
       "      <td>180</td>\n",
       "      <td>0</td>\n",
       "      <td>0</td>\n",
       "      <td>0</td>\n",
       "      <td>...</td>\n",
       "      <td>0</td>\n",
       "      <td>0</td>\n",
       "      <td>0</td>\n",
       "      <td>0</td>\n",
       "      <td>0</td>\n",
       "      <td>0</td>\n",
       "      <td>1</td>\n",
       "      <td>0</td>\n",
       "      <td>-0.288679</td>\n",
       "      <td>-0.411443</td>\n",
       "    </tr>\n",
       "    <tr>\n",
       "      <th>1</th>\n",
       "      <td>138381</td>\n",
       "      <td>3</td>\n",
       "      <td>1.0</td>\n",
       "      <td>2.0</td>\n",
       "      <td>145.0</td>\n",
       "      <td>1</td>\n",
       "      <td>365</td>\n",
       "      <td>16</td>\n",
       "      <td>46</td>\n",
       "      <td>76</td>\n",
       "      <td>...</td>\n",
       "      <td>1</td>\n",
       "      <td>0</td>\n",
       "      <td>0</td>\n",
       "      <td>0</td>\n",
       "      <td>0</td>\n",
       "      <td>0</td>\n",
       "      <td>1</td>\n",
       "      <td>0</td>\n",
       "      <td>1.124746</td>\n",
       "      <td>-0.458994</td>\n",
       "    </tr>\n",
       "    <tr>\n",
       "      <th>2</th>\n",
       "      <td>198548</td>\n",
       "      <td>4</td>\n",
       "      <td>1.0</td>\n",
       "      <td>1.0</td>\n",
       "      <td>150.0</td>\n",
       "      <td>30</td>\n",
       "      <td>1125</td>\n",
       "      <td>10</td>\n",
       "      <td>32</td>\n",
       "      <td>42</td>\n",
       "      <td>...</td>\n",
       "      <td>0</td>\n",
       "      <td>0</td>\n",
       "      <td>0</td>\n",
       "      <td>0</td>\n",
       "      <td>0</td>\n",
       "      <td>0</td>\n",
       "      <td>1</td>\n",
       "      <td>0</td>\n",
       "      <td>-0.288679</td>\n",
       "      <td>-0.402005</td>\n",
       "    </tr>\n",
       "    <tr>\n",
       "      <th>3</th>\n",
       "      <td>214967</td>\n",
       "      <td>2</td>\n",
       "      <td>1.0</td>\n",
       "      <td>1.0</td>\n",
       "      <td>83.0</td>\n",
       "      <td>3</td>\n",
       "      <td>33</td>\n",
       "      <td>14</td>\n",
       "      <td>44</td>\n",
       "      <td>74</td>\n",
       "      <td>...</td>\n",
       "      <td>0</td>\n",
       "      <td>0</td>\n",
       "      <td>0</td>\n",
       "      <td>0</td>\n",
       "      <td>0</td>\n",
       "      <td>1</td>\n",
       "      <td>1</td>\n",
       "      <td>0</td>\n",
       "      <td>1.124746</td>\n",
       "      <td>-0.468133</td>\n",
       "    </tr>\n",
       "    <tr>\n",
       "      <th>4</th>\n",
       "      <td>268812</td>\n",
       "      <td>4</td>\n",
       "      <td>1.0</td>\n",
       "      <td>2.0</td>\n",
       "      <td>40.0</td>\n",
       "      <td>30</td>\n",
       "      <td>1000</td>\n",
       "      <td>0</td>\n",
       "      <td>0</td>\n",
       "      <td>0</td>\n",
       "      <td>...</td>\n",
       "      <td>0</td>\n",
       "      <td>0</td>\n",
       "      <td>0</td>\n",
       "      <td>0</td>\n",
       "      <td>0</td>\n",
       "      <td>1</td>\n",
       "      <td>1</td>\n",
       "      <td>0</td>\n",
       "      <td>-0.288679</td>\n",
       "      <td>-0.451435</td>\n",
       "    </tr>\n",
       "  </tbody>\n",
       "</table>\n",
       "<p>5 rows × 56 columns</p>\n",
       "</div>"
      ],
      "text/plain": [
       "       id  accommodates  bedrooms  beds  price  minimum_nights  \\\n",
       "0   54334             5       2.0   2.0  115.0               2   \n",
       "1  138381             3       1.0   2.0  145.0               1   \n",
       "2  198548             4       1.0   1.0  150.0              30   \n",
       "3  214967             2       1.0   1.0   83.0               3   \n",
       "4  268812             4       1.0   2.0   40.0              30   \n",
       "\n",
       "   maximum_nights  availability_30  availability_60  availability_90  ...  \\\n",
       "0             180                0                0                0  ...   \n",
       "1             365               16               46               76  ...   \n",
       "2            1125               10               32               42  ...   \n",
       "3              33               14               44               74  ...   \n",
       "4            1000                0                0                0  ...   \n",
       "\n",
       "   neighbourhood_Sillery  neighbourhood_Val-Bélair  neighbourhood_Vanier  \\\n",
       "0                      0                         0                     0   \n",
       "1                      1                         0                     0   \n",
       "2                      0                         0                     0   \n",
       "3                      0                         0                     0   \n",
       "4                      0                         0                     0   \n",
       "\n",
       "   neighbourhood_Vieux-Limoilou  neighbourhood_Vieux-Moulin  \\\n",
       "0                             0                           0   \n",
       "1                             0                           0   \n",
       "2                             0                           0   \n",
       "3                             0                           0   \n",
       "4                             0                           0   \n",
       "\n",
       "   neighbourhood_Vieux-Québec/Cap-Blanc/Colline parlementaire  \\\n",
       "0                                                  0            \n",
       "1                                                  0            \n",
       "2                                                  0            \n",
       "3                                                  1            \n",
       "4                                                  1            \n",
       "\n",
       "   has_availability_t  bookable_t  room_type_pca  review_pca  \n",
       "0                   1           0      -0.288679   -0.411443  \n",
       "1                   1           0       1.124746   -0.458994  \n",
       "2                   1           0      -0.288679   -0.402005  \n",
       "3                   1           0       1.124746   -0.468133  \n",
       "4                   1           0      -0.288679   -0.451435  \n",
       "\n",
       "[5 rows x 56 columns]"
      ]
     },
     "execution_count": 48,
     "metadata": {},
     "output_type": "execute_result"
    }
   ],
   "source": [
    "df.head()"
   ]
  },
  {
   "cell_type": "markdown",
   "id": "6c5a0c76",
   "metadata": {},
   "source": [
    "## Scaling and Transforming the Data"
   ]
  },
  {
   "cell_type": "code",
   "execution_count": 49,
   "id": "cccf8112",
   "metadata": {},
   "outputs": [],
   "source": [
    "df.price = np.log10(df.price)"
   ]
  },
  {
   "cell_type": "code",
   "execution_count": 50,
   "id": "9a6eb8a7",
   "metadata": {},
   "outputs": [],
   "source": [
    "from sklearn.preprocessing import MinMaxScaler"
   ]
  },
  {
   "cell_type": "code",
   "execution_count": 51,
   "id": "de859af9",
   "metadata": {
    "scrolled": true
   },
   "outputs": [],
   "source": [
    "scaler = MinMaxScaler()\n",
    "scaler.fit(df)\n",
    "scaled_features = scaler.transform(df)\n",
    "df_feat = pd.DataFrame(scaled_features, columns=df.columns)"
   ]
  },
  {
   "cell_type": "code",
   "execution_count": 52,
   "id": "36227c49",
   "metadata": {},
   "outputs": [],
   "source": [
    "col_features = df.columns.drop('price')\n",
    "col_target = ['price']\n",
    "\n",
    "scaler_feat = MinMaxScaler()\n",
    "scaler_feat.fit(df[col_features])\n",
    "scaled_features = scaler_feat.transform(df[col_features])\n",
    "df_feat = pd.DataFrame(scaled_features, columns=col_features)\n",
    "\n",
    "scaler_target = MinMaxScaler()\n",
    "scaler_target.fit(df[col_target])\n",
    "scaled_target = scaler_target.transform(df[col_target])\n",
    "df_target = pd.DataFrame(scaled_target, columns=col_target)\n",
    "\n",
    "X = df_feat\n",
    "y = df_target"
   ]
  },
  {
   "cell_type": "markdown",
   "id": "ce0b96f8",
   "metadata": {},
   "source": [
    "## Linear Regression Analysis"
   ]
  },
  {
   "cell_type": "markdown",
   "id": "e74f9e26",
   "metadata": {},
   "source": [
    "<br> In this section, I use Linear Regression Analysis (Ordinary Least Squares, OLS)\n",
    "<br> The calculated p-values and coefficients point out the statistically significant relationships"
   ]
  },
  {
   "cell_type": "code",
   "execution_count": 53,
   "id": "b70a7bc4",
   "metadata": {},
   "outputs": [
    {
     "name": "stderr",
     "output_type": "stream",
     "text": [
      "C:\\Users\\siava\\anaconda3\\lib\\site-packages\\statsmodels\\tsa\\tsatools.py:142: FutureWarning: In a future version of pandas all arguments of concat except for the argument 'objs' will be keyword-only\n",
      "  x = pd.concat(x[::order], 1)\n"
     ]
    }
   ],
   "source": [
    "import statsmodels.api as sm\n",
    "from scipy import stats\n",
    "\n",
    "\n",
    "X2 = sm.add_constant(X)\n",
    "est = sm.OLS(y, X2)\n",
    "results = est.fit()\n",
    "# print(results.summary())"
   ]
  },
  {
   "cell_type": "markdown",
   "id": "9da4f014",
   "metadata": {},
   "source": [
    "<br> Creating a pandas DataFrame using Ordinary Least Squares (OLS) results"
   ]
  },
  {
   "cell_type": "code",
   "execution_count": 54,
   "id": "0a0d99bf",
   "metadata": {
    "scrolled": false
   },
   "outputs": [],
   "source": [
    "results_df = pd.DataFrame(data=list(zip(results.params.values,results.bse.values, results.tvalues.values\n",
    "                                        , results.pvalues.values, results.conf_int().values[:,0]\n",
    "                                        , results.conf_int().values[:,1])))\n",
    "results_df.index=results.params.index\n",
    "results_df.columns=['coef', 'std_err', 't_value', 'p_value', 'conf_int_0.25', 'conf_int_0.75']\n",
    "results_df.drop(index=['const', 'id'], axis=0, inplace=True)"
   ]
  },
  {
   "cell_type": "markdown",
   "id": "8442d09c",
   "metadata": {},
   "source": [
    "<br> highlighting statistically significant features using p_value<0.05"
   ]
  },
  {
   "cell_type": "code",
   "execution_count": 55,
   "id": "58665983",
   "metadata": {
    "scrolled": false
   },
   "outputs": [
    {
     "data": {
      "text/html": [
       "<style type=\"text/css\">\n",
       "#T_5aff2_row0_col0 {\n",
       "  width: 10em;\n",
       "  height: 80%;\n",
       "  background: linear-gradient(90deg, transparent 50.0%, #5fba7d 50.0%, #5fba7d 100.0%, transparent 100.0%);\n",
       "}\n",
       "#T_5aff2_row0_col3, #T_5aff2_row1_col3, #T_5aff2_row2_col3, #T_5aff2_row3_col3, #T_5aff2_row4_col3, #T_5aff2_row5_col3, #T_5aff2_row6_col3, #T_5aff2_row7_col3, #T_5aff2_row8_col3, #T_5aff2_row9_col3, #T_5aff2_row10_col3, #T_5aff2_row11_col3, #T_5aff2_row13_col3, #T_5aff2_row14_col3, #T_5aff2_row15_col3, #T_5aff2_row16_col3, #T_5aff2_row19_col3, #T_5aff2_row20_col3, #T_5aff2_row28_col3, #T_5aff2_row38_col3 {\n",
       "  background-color: #5fba7d;\n",
       "}\n",
       "#T_5aff2_row1_col0 {\n",
       "  width: 10em;\n",
       "  height: 80%;\n",
       "  background: linear-gradient(90deg, transparent 11.4%, #d65f5f 11.4%, #d65f5f 50.0%, transparent 50.0%);\n",
       "}\n",
       "#T_5aff2_row2_col0 {\n",
       "  width: 10em;\n",
       "  height: 80%;\n",
       "  background: linear-gradient(90deg, transparent 50.0%, #5fba7d 50.0%, #5fba7d 79.2%, transparent 79.2%);\n",
       "}\n",
       "#T_5aff2_row3_col0 {\n",
       "  width: 10em;\n",
       "  height: 80%;\n",
       "  background: linear-gradient(90deg, transparent 27.8%, #d65f5f 27.8%, #d65f5f 50.0%, transparent 50.0%);\n",
       "}\n",
       "#T_5aff2_row4_col0 {\n",
       "  width: 10em;\n",
       "  height: 80%;\n",
       "  background: linear-gradient(90deg, transparent 30.4%, #d65f5f 30.4%, #d65f5f 50.0%, transparent 50.0%);\n",
       "}\n",
       "#T_5aff2_row5_col0 {\n",
       "  width: 10em;\n",
       "  height: 80%;\n",
       "  background: linear-gradient(90deg, transparent 50.0%, #5fba7d 50.0%, #5fba7d 62.6%, transparent 62.6%);\n",
       "}\n",
       "#T_5aff2_row6_col0 {\n",
       "  width: 10em;\n",
       "  height: 80%;\n",
       "  background: linear-gradient(90deg, transparent 38.7%, #d65f5f 38.7%, #d65f5f 50.0%, transparent 50.0%);\n",
       "}\n",
       "#T_5aff2_row7_col0 {\n",
       "  width: 10em;\n",
       "  height: 80%;\n",
       "  background: linear-gradient(90deg, transparent 38.9%, #d65f5f 38.9%, #d65f5f 50.0%, transparent 50.0%);\n",
       "}\n",
       "#T_5aff2_row8_col0 {\n",
       "  width: 10em;\n",
       "  height: 80%;\n",
       "  background: linear-gradient(90deg, transparent 50.0%, #5fba7d 50.0%, #5fba7d 61.0%, transparent 61.0%);\n",
       "}\n",
       "#T_5aff2_row9_col0 {\n",
       "  width: 10em;\n",
       "  height: 80%;\n",
       "  background: linear-gradient(90deg, transparent 50.0%, #5fba7d 50.0%, #5fba7d 59.1%, transparent 59.1%);\n",
       "}\n",
       "#T_5aff2_row10_col0 {\n",
       "  width: 10em;\n",
       "  height: 80%;\n",
       "  background: linear-gradient(90deg, transparent 40.9%, #d65f5f 40.9%, #d65f5f 50.0%, transparent 50.0%);\n",
       "}\n",
       "#T_5aff2_row11_col0 {\n",
       "  width: 10em;\n",
       "  height: 80%;\n",
       "  background: linear-gradient(90deg, transparent 50.0%, #5fba7d 50.0%, #5fba7d 58.5%, transparent 58.5%);\n",
       "}\n",
       "#T_5aff2_row12_col0 {\n",
       "  width: 10em;\n",
       "  height: 80%;\n",
       "  background: linear-gradient(90deg, transparent 50.0%, #5fba7d 50.0%, #5fba7d 58.2%, transparent 58.2%);\n",
       "}\n",
       "#T_5aff2_row12_col3, #T_5aff2_row17_col3, #T_5aff2_row18_col3, #T_5aff2_row21_col3, #T_5aff2_row22_col3, #T_5aff2_row23_col3, #T_5aff2_row24_col3, #T_5aff2_row25_col3, #T_5aff2_row26_col3, #T_5aff2_row27_col3, #T_5aff2_row29_col3, #T_5aff2_row30_col3, #T_5aff2_row31_col3, #T_5aff2_row32_col3, #T_5aff2_row33_col3, #T_5aff2_row34_col3, #T_5aff2_row35_col3, #T_5aff2_row36_col3, #T_5aff2_row37_col3, #T_5aff2_row39_col3, #T_5aff2_row40_col3, #T_5aff2_row41_col3, #T_5aff2_row42_col3, #T_5aff2_row43_col3, #T_5aff2_row44_col3, #T_5aff2_row45_col3, #T_5aff2_row46_col3, #T_5aff2_row47_col3, #T_5aff2_row48_col3, #T_5aff2_row49_col3, #T_5aff2_row50_col3, #T_5aff2_row51_col3, #T_5aff2_row52_col3, #T_5aff2_row53_col3 {\n",
       "  background-color: #d65f5f;\n",
       "}\n",
       "#T_5aff2_row13_col0 {\n",
       "  width: 10em;\n",
       "  height: 80%;\n",
       "  background: linear-gradient(90deg, transparent 50.0%, #5fba7d 50.0%, #5fba7d 56.5%, transparent 56.5%);\n",
       "}\n",
       "#T_5aff2_row14_col0 {\n",
       "  width: 10em;\n",
       "  height: 80%;\n",
       "  background: linear-gradient(90deg, transparent 43.7%, #d65f5f 43.7%, #d65f5f 50.0%, transparent 50.0%);\n",
       "}\n",
       "#T_5aff2_row15_col0 {\n",
       "  width: 10em;\n",
       "  height: 80%;\n",
       "  background: linear-gradient(90deg, transparent 44.3%, #d65f5f 44.3%, #d65f5f 50.0%, transparent 50.0%);\n",
       "}\n",
       "#T_5aff2_row16_col0 {\n",
       "  width: 10em;\n",
       "  height: 80%;\n",
       "  background: linear-gradient(90deg, transparent 50.0%, #5fba7d 50.0%, #5fba7d 54.9%, transparent 54.9%);\n",
       "}\n",
       "#T_5aff2_row17_col0 {\n",
       "  width: 10em;\n",
       "  height: 80%;\n",
       "  background: linear-gradient(90deg, transparent 46.0%, #d65f5f 46.0%, #d65f5f 50.0%, transparent 50.0%);\n",
       "}\n",
       "#T_5aff2_row18_col0 {\n",
       "  width: 10em;\n",
       "  height: 80%;\n",
       "  background: linear-gradient(90deg, transparent 46.3%, #d65f5f 46.3%, #d65f5f 50.0%, transparent 50.0%);\n",
       "}\n",
       "#T_5aff2_row19_col0, #T_5aff2_row20_col0 {\n",
       "  width: 10em;\n",
       "  height: 80%;\n",
       "  background: linear-gradient(90deg, transparent 50.0%, #5fba7d 50.0%, #5fba7d 53.5%, transparent 53.5%);\n",
       "}\n",
       "#T_5aff2_row21_col0 {\n",
       "  width: 10em;\n",
       "  height: 80%;\n",
       "  background: linear-gradient(90deg, transparent 46.5%, #d65f5f 46.5%, #d65f5f 50.0%, transparent 50.0%);\n",
       "}\n",
       "#T_5aff2_row22_col0 {\n",
       "  width: 10em;\n",
       "  height: 80%;\n",
       "  background: linear-gradient(90deg, transparent 50.0%, #5fba7d 50.0%, #5fba7d 53.4%, transparent 53.4%);\n",
       "}\n",
       "#T_5aff2_row23_col0 {\n",
       "  width: 10em;\n",
       "  height: 80%;\n",
       "  background: linear-gradient(90deg, transparent 46.7%, #d65f5f 46.7%, #d65f5f 50.0%, transparent 50.0%);\n",
       "}\n",
       "#T_5aff2_row24_col0 {\n",
       "  width: 10em;\n",
       "  height: 80%;\n",
       "  background: linear-gradient(90deg, transparent 50.0%, #5fba7d 50.0%, #5fba7d 53.0%, transparent 53.0%);\n",
       "}\n",
       "#T_5aff2_row25_col0, #T_5aff2_row26_col0 {\n",
       "  width: 10em;\n",
       "  height: 80%;\n",
       "  background: linear-gradient(90deg, transparent 47.1%, #d65f5f 47.1%, #d65f5f 50.0%, transparent 50.0%);\n",
       "}\n",
       "#T_5aff2_row27_col0 {\n",
       "  width: 10em;\n",
       "  height: 80%;\n",
       "  background: linear-gradient(90deg, transparent 50.0%, #5fba7d 50.0%, #5fba7d 52.8%, transparent 52.8%);\n",
       "}\n",
       "#T_5aff2_row28_col0 {\n",
       "  width: 10em;\n",
       "  height: 80%;\n",
       "  background: linear-gradient(90deg, transparent 50.0%, #5fba7d 50.0%, #5fba7d 52.3%, transparent 52.3%);\n",
       "}\n",
       "#T_5aff2_row29_col0 {\n",
       "  width: 10em;\n",
       "  height: 80%;\n",
       "  background: linear-gradient(90deg, transparent 47.8%, #d65f5f 47.8%, #d65f5f 50.0%, transparent 50.0%);\n",
       "}\n",
       "#T_5aff2_row30_col0 {\n",
       "  width: 10em;\n",
       "  height: 80%;\n",
       "  background: linear-gradient(90deg, transparent 50.0%, #5fba7d 50.0%, #5fba7d 52.0%, transparent 52.0%);\n",
       "}\n",
       "#T_5aff2_row31_col0, #T_5aff2_row32_col0 {\n",
       "  width: 10em;\n",
       "  height: 80%;\n",
       "  background: linear-gradient(90deg, transparent 50.0%, #5fba7d 50.0%, #5fba7d 51.9%, transparent 51.9%);\n",
       "}\n",
       "#T_5aff2_row33_col0 {\n",
       "  width: 10em;\n",
       "  height: 80%;\n",
       "  background: linear-gradient(90deg, transparent 48.3%, #d65f5f 48.3%, #d65f5f 50.0%, transparent 50.0%);\n",
       "}\n",
       "#T_5aff2_row34_col0 {\n",
       "  width: 10em;\n",
       "  height: 80%;\n",
       "  background: linear-gradient(90deg, transparent 50.0%, #5fba7d 50.0%, #5fba7d 51.6%, transparent 51.6%);\n",
       "}\n",
       "#T_5aff2_row35_col0 {\n",
       "  width: 10em;\n",
       "  height: 80%;\n",
       "  background: linear-gradient(90deg, transparent 50.0%, #5fba7d 50.0%, #5fba7d 51.5%, transparent 51.5%);\n",
       "}\n",
       "#T_5aff2_row36_col0, #T_5aff2_row37_col0, #T_5aff2_row38_col0 {\n",
       "  width: 10em;\n",
       "  height: 80%;\n",
       "  background: linear-gradient(90deg, transparent 48.6%, #d65f5f 48.6%, #d65f5f 50.0%, transparent 50.0%);\n",
       "}\n",
       "#T_5aff2_row39_col0 {\n",
       "  width: 10em;\n",
       "  height: 80%;\n",
       "  background: linear-gradient(90deg, transparent 50.0%, #5fba7d 50.0%, #5fba7d 51.2%, transparent 51.2%);\n",
       "}\n",
       "#T_5aff2_row40_col0 {\n",
       "  width: 10em;\n",
       "  height: 80%;\n",
       "  background: linear-gradient(90deg, transparent 48.9%, #d65f5f 48.9%, #d65f5f 50.0%, transparent 50.0%);\n",
       "}\n",
       "#T_5aff2_row41_col0, #T_5aff2_row42_col0 {\n",
       "  width: 10em;\n",
       "  height: 80%;\n",
       "  background: linear-gradient(90deg, transparent 49.0%, #d65f5f 49.0%, #d65f5f 50.0%, transparent 50.0%);\n",
       "}\n",
       "#T_5aff2_row43_col0 {\n",
       "  width: 10em;\n",
       "  height: 80%;\n",
       "  background: linear-gradient(90deg, transparent 50.0%, #5fba7d 50.0%, #5fba7d 50.9%, transparent 50.9%);\n",
       "}\n",
       "#T_5aff2_row44_col0 {\n",
       "  width: 10em;\n",
       "  height: 80%;\n",
       "  background: linear-gradient(90deg, transparent 49.2%, #d65f5f 49.2%, #d65f5f 50.0%, transparent 50.0%);\n",
       "}\n",
       "#T_5aff2_row45_col0 {\n",
       "  width: 10em;\n",
       "  height: 80%;\n",
       "  background: linear-gradient(90deg, transparent 50.0%, #5fba7d 50.0%, #5fba7d 50.7%, transparent 50.7%);\n",
       "}\n",
       "#T_5aff2_row46_col0 {\n",
       "  width: 10em;\n",
       "  height: 80%;\n",
       "  background: linear-gradient(90deg, transparent 50.0%, #5fba7d 50.0%, #5fba7d 50.6%, transparent 50.6%);\n",
       "}\n",
       "#T_5aff2_row47_col0, #T_5aff2_row48_col0 {\n",
       "  width: 10em;\n",
       "  height: 80%;\n",
       "  background: linear-gradient(90deg, transparent 49.4%, #d65f5f 49.4%, #d65f5f 50.0%, transparent 50.0%);\n",
       "}\n",
       "#T_5aff2_row49_col0 {\n",
       "  width: 10em;\n",
       "  height: 80%;\n",
       "  background: linear-gradient(90deg, transparent 49.5%, #d65f5f 49.5%, #d65f5f 50.0%, transparent 50.0%);\n",
       "}\n",
       "#T_5aff2_row50_col0 {\n",
       "  width: 10em;\n",
       "  height: 80%;\n",
       "  background: linear-gradient(90deg, transparent 50.0%, #5fba7d 50.0%, #5fba7d 50.5%, transparent 50.5%);\n",
       "}\n",
       "#T_5aff2_row51_col0 {\n",
       "  width: 10em;\n",
       "  height: 80%;\n",
       "  background: linear-gradient(90deg, transparent 49.8%, #d65f5f 49.8%, #d65f5f 50.0%, transparent 50.0%);\n",
       "}\n",
       "#T_5aff2_row52_col0 {\n",
       "  width: 10em;\n",
       "  height: 80%;\n",
       "  background: linear-gradient(90deg, transparent 50.0%, #5fba7d 50.0%, #5fba7d 50.1%, transparent 50.1%);\n",
       "}\n",
       "#T_5aff2_row53_col0 {\n",
       "  width: 10em;\n",
       "  height: 80%;\n",
       "  background: linear-gradient(90deg, transparent 49.9%, #d65f5f 49.9%, #d65f5f 50.0%, transparent 50.0%);\n",
       "}\n",
       "</style>\n",
       "<table id=\"T_5aff2_\">\n",
       "  <thead>\n",
       "    <tr>\n",
       "      <th class=\"blank level0\" >&nbsp;</th>\n",
       "      <th class=\"col_heading level0 col0\" >coef</th>\n",
       "      <th class=\"col_heading level0 col1\" >std_err</th>\n",
       "      <th class=\"col_heading level0 col2\" >t_value</th>\n",
       "      <th class=\"col_heading level0 col3\" >p_value</th>\n",
       "      <th class=\"col_heading level0 col4\" >conf_int_0.25</th>\n",
       "      <th class=\"col_heading level0 col5\" >conf_int_0.75</th>\n",
       "    </tr>\n",
       "  </thead>\n",
       "  <tbody>\n",
       "    <tr>\n",
       "      <th id=\"T_5aff2_level0_row0\" class=\"row_heading level0 row0\" >bedrooms</th>\n",
       "      <td id=\"T_5aff2_row0_col0\" class=\"data row0 col0\" >0.370299</td>\n",
       "      <td id=\"T_5aff2_row0_col1\" class=\"data row0 col1\" >0.028158</td>\n",
       "      <td id=\"T_5aff2_row0_col2\" class=\"data row0 col2\" >13.150572</td>\n",
       "      <td id=\"T_5aff2_row0_col3\" class=\"data row0 col3\" >0.000000</td>\n",
       "      <td id=\"T_5aff2_row0_col4\" class=\"data row0 col4\" >0.315079</td>\n",
       "      <td id=\"T_5aff2_row0_col5\" class=\"data row0 col5\" >0.425519</td>\n",
       "    </tr>\n",
       "    <tr>\n",
       "      <th id=\"T_5aff2_level0_row1\" class=\"row_heading level0 row1\" >minimum_nights</th>\n",
       "      <td id=\"T_5aff2_row1_col0\" class=\"data row1 col0\" >-0.286054</td>\n",
       "      <td id=\"T_5aff2_row1_col1\" class=\"data row1 col1\" >0.034364</td>\n",
       "      <td id=\"T_5aff2_row1_col2\" class=\"data row1 col2\" >-8.324249</td>\n",
       "      <td id=\"T_5aff2_row1_col3\" class=\"data row1 col3\" >0.000000</td>\n",
       "      <td id=\"T_5aff2_row1_col4\" class=\"data row1 col4\" >-0.353444</td>\n",
       "      <td id=\"T_5aff2_row1_col5\" class=\"data row1 col5\" >-0.218665</td>\n",
       "    </tr>\n",
       "    <tr>\n",
       "      <th id=\"T_5aff2_level0_row2\" class=\"row_heading level0 row2\" >accommodates</th>\n",
       "      <td id=\"T_5aff2_row2_col0\" class=\"data row2 col0\" >0.216140</td>\n",
       "      <td id=\"T_5aff2_row2_col1\" class=\"data row2 col1\" >0.025973</td>\n",
       "      <td id=\"T_5aff2_row2_col2\" class=\"data row2 col2\" >8.321700</td>\n",
       "      <td id=\"T_5aff2_row2_col3\" class=\"data row2 col3\" >0.000000</td>\n",
       "      <td id=\"T_5aff2_row2_col4\" class=\"data row2 col4\" >0.165205</td>\n",
       "      <td id=\"T_5aff2_row2_col5\" class=\"data row2 col5\" >0.267075</td>\n",
       "    </tr>\n",
       "    <tr>\n",
       "      <th id=\"T_5aff2_level0_row3\" class=\"row_heading level0 row3\" >bathroom_numbers</th>\n",
       "      <td id=\"T_5aff2_row3_col0\" class=\"data row3 col0\" >-0.164126</td>\n",
       "      <td id=\"T_5aff2_row3_col1\" class=\"data row3 col1\" >0.022763</td>\n",
       "      <td id=\"T_5aff2_row3_col2\" class=\"data row3 col2\" >-7.210367</td>\n",
       "      <td id=\"T_5aff2_row3_col3\" class=\"data row3 col3\" >0.000000</td>\n",
       "      <td id=\"T_5aff2_row3_col4\" class=\"data row3 col4\" >-0.208765</td>\n",
       "      <td id=\"T_5aff2_row3_col5\" class=\"data row3 col5\" >-0.119487</td>\n",
       "    </tr>\n",
       "    <tr>\n",
       "      <th id=\"T_5aff2_level0_row4\" class=\"row_heading level0 row4\" >beds</th>\n",
       "      <td id=\"T_5aff2_row4_col0\" class=\"data row4 col0\" >-0.145172</td>\n",
       "      <td id=\"T_5aff2_row4_col1\" class=\"data row4 col1\" >0.040391</td>\n",
       "      <td id=\"T_5aff2_row4_col2\" class=\"data row4 col2\" >-3.594163</td>\n",
       "      <td id=\"T_5aff2_row4_col3\" class=\"data row4 col3\" >0.000333</td>\n",
       "      <td id=\"T_5aff2_row4_col4\" class=\"data row4 col4\" >-0.224381</td>\n",
       "      <td id=\"T_5aff2_row4_col5\" class=\"data row4 col5\" >-0.065963</td>\n",
       "    </tr>\n",
       "    <tr>\n",
       "      <th id=\"T_5aff2_level0_row5\" class=\"row_heading level0 row5\" >neighbourhood_Quartier 4-3</th>\n",
       "      <td id=\"T_5aff2_row5_col0\" class=\"data row5 col0\" >0.093057</td>\n",
       "      <td id=\"T_5aff2_row5_col1\" class=\"data row5 col1\" >0.025689</td>\n",
       "      <td id=\"T_5aff2_row5_col2\" class=\"data row5 col2\" >3.622407</td>\n",
       "      <td id=\"T_5aff2_row5_col3\" class=\"data row5 col3\" >0.000299</td>\n",
       "      <td id=\"T_5aff2_row5_col4\" class=\"data row5 col4\" >0.042679</td>\n",
       "      <td id=\"T_5aff2_row5_col5\" class=\"data row5 col5\" >0.143435</td>\n",
       "    </tr>\n",
       "    <tr>\n",
       "      <th id=\"T_5aff2_level0_row6\" class=\"row_heading level0 row6\" >reviews_per_month</th>\n",
       "      <td id=\"T_5aff2_row6_col0\" class=\"data row6 col0\" >-0.083665</td>\n",
       "      <td id=\"T_5aff2_row6_col1\" class=\"data row6 col1\" >0.024391</td>\n",
       "      <td id=\"T_5aff2_row6_col2\" class=\"data row6 col2\" >-3.430174</td>\n",
       "      <td id=\"T_5aff2_row6_col3\" class=\"data row6 col3\" >0.000615</td>\n",
       "      <td id=\"T_5aff2_row6_col4\" class=\"data row6 col4\" >-0.131497</td>\n",
       "      <td id=\"T_5aff2_row6_col5\" class=\"data row6 col5\" >-0.035833</td>\n",
       "    </tr>\n",
       "    <tr>\n",
       "      <th id=\"T_5aff2_level0_row7\" class=\"row_heading level0 row7\" >number_of_reviews</th>\n",
       "      <td id=\"T_5aff2_row7_col0\" class=\"data row7 col0\" >-0.082047</td>\n",
       "      <td id=\"T_5aff2_row7_col1\" class=\"data row7 col1\" >0.035607</td>\n",
       "      <td id=\"T_5aff2_row7_col2\" class=\"data row7 col2\" >-2.304256</td>\n",
       "      <td id=\"T_5aff2_row7_col3\" class=\"data row7 col3\" >0.021303</td>\n",
       "      <td id=\"T_5aff2_row7_col4\" class=\"data row7 col4\" >-0.151874</td>\n",
       "      <td id=\"T_5aff2_row7_col5\" class=\"data row7 col5\" >-0.012220</td>\n",
       "    </tr>\n",
       "    <tr>\n",
       "      <th id=\"T_5aff2_level0_row8\" class=\"row_heading level0 row8\" >neighbourhood_Vieux-Québec/Cap-Blanc/Colline parlementaire</th>\n",
       "      <td id=\"T_5aff2_row8_col0\" class=\"data row8 col0\" >0.081521</td>\n",
       "      <td id=\"T_5aff2_row8_col1\" class=\"data row8 col1\" >0.005102</td>\n",
       "      <td id=\"T_5aff2_row8_col2\" class=\"data row8 col2\" >15.977846</td>\n",
       "      <td id=\"T_5aff2_row8_col3\" class=\"data row8 col3\" >0.000000</td>\n",
       "      <td id=\"T_5aff2_row8_col4\" class=\"data row8 col4\" >0.071516</td>\n",
       "      <td id=\"T_5aff2_row8_col5\" class=\"data row8 col5\" >0.091527</td>\n",
       "    </tr>\n",
       "    <tr>\n",
       "      <th id=\"T_5aff2_level0_row9\" class=\"row_heading level0 row9\" >neighbourhood_Lac-Saint-Charles</th>\n",
       "      <td id=\"T_5aff2_row9_col0\" class=\"data row9 col0\" >0.067526</td>\n",
       "      <td id=\"T_5aff2_row9_col1\" class=\"data row9 col1\" >0.018464</td>\n",
       "      <td id=\"T_5aff2_row9_col2\" class=\"data row9 col2\" >3.657069</td>\n",
       "      <td id=\"T_5aff2_row9_col3\" class=\"data row9 col3\" >0.000261</td>\n",
       "      <td id=\"T_5aff2_row9_col4\" class=\"data row9 col4\" >0.031316</td>\n",
       "      <td id=\"T_5aff2_row9_col5\" class=\"data row9 col5\" >0.103736</td>\n",
       "    </tr>\n",
       "    <tr>\n",
       "      <th id=\"T_5aff2_level0_row10\" class=\"row_heading level0 row10\" >bath_is_shared</th>\n",
       "      <td id=\"T_5aff2_row10_col0\" class=\"data row10 col0\" >-0.067344</td>\n",
       "      <td id=\"T_5aff2_row10_col1\" class=\"data row10 col1\" >0.007871</td>\n",
       "      <td id=\"T_5aff2_row10_col2\" class=\"data row10 col2\" >-8.555580</td>\n",
       "      <td id=\"T_5aff2_row10_col3\" class=\"data row10 col3\" >0.000000</td>\n",
       "      <td id=\"T_5aff2_row10_col4\" class=\"data row10 col4\" >-0.082780</td>\n",
       "      <td id=\"T_5aff2_row10_col5\" class=\"data row10 col5\" >-0.051908</td>\n",
       "    </tr>\n",
       "    <tr>\n",
       "      <th id=\"T_5aff2_level0_row11\" class=\"row_heading level0 row11\" >number_of_reviews_ltm</th>\n",
       "      <td id=\"T_5aff2_row11_col0\" class=\"data row11 col0\" >0.062971</td>\n",
       "      <td id=\"T_5aff2_row11_col1\" class=\"data row11 col1\" >0.025211</td>\n",
       "      <td id=\"T_5aff2_row11_col2\" class=\"data row11 col2\" >2.497752</td>\n",
       "      <td id=\"T_5aff2_row11_col3\" class=\"data row11 col3\" >0.012572</td>\n",
       "      <td id=\"T_5aff2_row11_col4\" class=\"data row11 col4\" >0.013531</td>\n",
       "      <td id=\"T_5aff2_row11_col5\" class=\"data row11 col5\" >0.112412</td>\n",
       "    </tr>\n",
       "    <tr>\n",
       "      <th id=\"T_5aff2_level0_row12\" class=\"row_heading level0 row12\" >availability_60</th>\n",
       "      <td id=\"T_5aff2_row12_col0\" class=\"data row12 col0\" >0.060418</td>\n",
       "      <td id=\"T_5aff2_row12_col1\" class=\"data row12 col1\" >0.032254</td>\n",
       "      <td id=\"T_5aff2_row12_col2\" class=\"data row12 col2\" >1.873181</td>\n",
       "      <td id=\"T_5aff2_row12_col3\" class=\"data row12 col3\" >0.061178</td>\n",
       "      <td id=\"T_5aff2_row12_col4\" class=\"data row12 col4\" >-0.002834</td>\n",
       "      <td id=\"T_5aff2_row12_col5\" class=\"data row12 col5\" >0.123671</td>\n",
       "    </tr>\n",
       "    <tr>\n",
       "      <th id=\"T_5aff2_level0_row13\" class=\"row_heading level0 row13\" >neighbourhood_Saint-Roch</th>\n",
       "      <td id=\"T_5aff2_row13_col0\" class=\"data row13 col0\" >0.048226</td>\n",
       "      <td id=\"T_5aff2_row13_col1\" class=\"data row13 col1\" >0.005721</td>\n",
       "      <td id=\"T_5aff2_row13_col2\" class=\"data row13 col2\" >8.429961</td>\n",
       "      <td id=\"T_5aff2_row13_col3\" class=\"data row13 col3\" >0.000000</td>\n",
       "      <td id=\"T_5aff2_row13_col4\" class=\"data row13 col4\" >0.037007</td>\n",
       "      <td id=\"T_5aff2_row13_col5\" class=\"data row13 col5\" >0.059445</td>\n",
       "    </tr>\n",
       "    <tr>\n",
       "      <th id=\"T_5aff2_level0_row14\" class=\"row_heading level0 row14\" >neighbourhood_Duberger-Les Saules</th>\n",
       "      <td id=\"T_5aff2_row14_col0\" class=\"data row14 col0\" >-0.046402</td>\n",
       "      <td id=\"T_5aff2_row14_col1\" class=\"data row14 col1\" >0.016343</td>\n",
       "      <td id=\"T_5aff2_row14_col2\" class=\"data row14 col2\" >-2.839187</td>\n",
       "      <td id=\"T_5aff2_row14_col3\" class=\"data row14 col3\" >0.004565</td>\n",
       "      <td id=\"T_5aff2_row14_col4\" class=\"data row14 col4\" >-0.078452</td>\n",
       "      <td id=\"T_5aff2_row14_col5\" class=\"data row14 col5\" >-0.014352</td>\n",
       "    </tr>\n",
       "    <tr>\n",
       "      <th id=\"T_5aff2_level0_row15\" class=\"row_heading level0 row15\" >has_availability_t</th>\n",
       "      <td id=\"T_5aff2_row15_col0\" class=\"data row15 col0\" >-0.041844</td>\n",
       "      <td id=\"T_5aff2_row15_col1\" class=\"data row15 col1\" >0.016635</td>\n",
       "      <td id=\"T_5aff2_row15_col2\" class=\"data row15 col2\" >-2.515380</td>\n",
       "      <td id=\"T_5aff2_row15_col3\" class=\"data row15 col3\" >0.011962</td>\n",
       "      <td id=\"T_5aff2_row15_col4\" class=\"data row15 col4\" >-0.074467</td>\n",
       "      <td id=\"T_5aff2_row15_col5\" class=\"data row15 col5\" >-0.009221</td>\n",
       "    </tr>\n",
       "    <tr>\n",
       "      <th id=\"T_5aff2_level0_row16\" class=\"row_heading level0 row16\" >neighbourhood_Saint-Jean-Baptiste</th>\n",
       "      <td id=\"T_5aff2_row16_col0\" class=\"data row16 col0\" >0.036328</td>\n",
       "      <td id=\"T_5aff2_row16_col1\" class=\"data row16 col1\" >0.006046</td>\n",
       "      <td id=\"T_5aff2_row16_col2\" class=\"data row16 col2\" >6.009072</td>\n",
       "      <td id=\"T_5aff2_row16_col3\" class=\"data row16 col3\" >0.000000</td>\n",
       "      <td id=\"T_5aff2_row16_col4\" class=\"data row16 col4\" >0.024473</td>\n",
       "      <td id=\"T_5aff2_row16_col5\" class=\"data row16 col5\" >0.048184</td>\n",
       "    </tr>\n",
       "    <tr>\n",
       "      <th id=\"T_5aff2_level0_row17\" class=\"row_heading level0 row17\" >neighbourhood_Loretteville</th>\n",
       "      <td id=\"T_5aff2_row17_col0\" class=\"data row17 col0\" >-0.029499</td>\n",
       "      <td id=\"T_5aff2_row17_col1\" class=\"data row17 col1\" >0.017945</td>\n",
       "      <td id=\"T_5aff2_row17_col2\" class=\"data row17 col2\" >-1.643838</td>\n",
       "      <td id=\"T_5aff2_row17_col3\" class=\"data row17 col3\" >0.100355</td>\n",
       "      <td id=\"T_5aff2_row17_col4\" class=\"data row17 col4\" >-0.064691</td>\n",
       "      <td id=\"T_5aff2_row17_col5\" class=\"data row17 col5\" >0.005693</td>\n",
       "    </tr>\n",
       "    <tr>\n",
       "      <th id=\"T_5aff2_level0_row18\" class=\"row_heading level0 row18\" >neighbourhood_Plateau</th>\n",
       "      <td id=\"T_5aff2_row18_col0\" class=\"data row18 col0\" >-0.027102</td>\n",
       "      <td id=\"T_5aff2_row18_col1\" class=\"data row18 col1\" >0.019430</td>\n",
       "      <td id=\"T_5aff2_row18_col2\" class=\"data row18 col2\" >-1.394839</td>\n",
       "      <td id=\"T_5aff2_row18_col3\" class=\"data row18 col3\" >0.163207</td>\n",
       "      <td id=\"T_5aff2_row18_col4\" class=\"data row18 col4\" >-0.065205</td>\n",
       "      <td id=\"T_5aff2_row18_col5\" class=\"data row18 col5\" >0.011002</td>\n",
       "    </tr>\n",
       "    <tr>\n",
       "      <th id=\"T_5aff2_level0_row19\" class=\"row_heading level0 row19\" >neighbourhood_Saint-Sauveur</th>\n",
       "      <td id=\"T_5aff2_row19_col0\" class=\"data row19 col0\" >0.026191</td>\n",
       "      <td id=\"T_5aff2_row19_col1\" class=\"data row19 col1\" >0.006744</td>\n",
       "      <td id=\"T_5aff2_row19_col2\" class=\"data row19 col2\" >3.883881</td>\n",
       "      <td id=\"T_5aff2_row19_col3\" class=\"data row19 col3\" >0.000106</td>\n",
       "      <td id=\"T_5aff2_row19_col4\" class=\"data row19 col4\" >0.012967</td>\n",
       "      <td id=\"T_5aff2_row19_col5\" class=\"data row19 col5\" >0.039416</td>\n",
       "    </tr>\n",
       "    <tr>\n",
       "      <th id=\"T_5aff2_level0_row20\" class=\"row_heading level0 row20\" >neighbourhood_Cité Universitaire</th>\n",
       "      <td id=\"T_5aff2_row20_col0\" class=\"data row20 col0\" >0.025937</td>\n",
       "      <td id=\"T_5aff2_row20_col1\" class=\"data row20 col1\" >0.009890</td>\n",
       "      <td id=\"T_5aff2_row20_col2\" class=\"data row20 col2\" >2.622467</td>\n",
       "      <td id=\"T_5aff2_row20_col3\" class=\"data row20 col3\" >0.008791</td>\n",
       "      <td id=\"T_5aff2_row20_col4\" class=\"data row20 col4\" >0.006542</td>\n",
       "      <td id=\"T_5aff2_row20_col5\" class=\"data row20 col5\" >0.045332</td>\n",
       "    </tr>\n",
       "    <tr>\n",
       "      <th id=\"T_5aff2_level0_row21\" class=\"row_heading level0 row21\" >neighbourhood_Val-Bélair</th>\n",
       "      <td id=\"T_5aff2_row21_col0\" class=\"data row21 col0\" >-0.025887</td>\n",
       "      <td id=\"T_5aff2_row21_col1\" class=\"data row21 col1\" >0.018380</td>\n",
       "      <td id=\"T_5aff2_row21_col2\" class=\"data row21 col2\" >-1.408455</td>\n",
       "      <td id=\"T_5aff2_row21_col3\" class=\"data row21 col3\" >0.159140</td>\n",
       "      <td id=\"T_5aff2_row21_col4\" class=\"data row21 col4\" >-0.061931</td>\n",
       "      <td id=\"T_5aff2_row21_col5\" class=\"data row21 col5\" >0.010157</td>\n",
       "    </tr>\n",
       "    <tr>\n",
       "      <th id=\"T_5aff2_level0_row22\" class=\"row_heading level0 row22\" >neighbourhood_Des Châtels</th>\n",
       "      <td id=\"T_5aff2_row22_col0\" class=\"data row22 col0\" >0.025508</td>\n",
       "      <td id=\"T_5aff2_row22_col1\" class=\"data row22 col1\" >0.034717</td>\n",
       "      <td id=\"T_5aff2_row22_col2\" class=\"data row22 col2\" >0.734743</td>\n",
       "      <td id=\"T_5aff2_row22_col3\" class=\"data row22 col3\" >0.462576</td>\n",
       "      <td id=\"T_5aff2_row22_col4\" class=\"data row22 col4\" >-0.042574</td>\n",
       "      <td id=\"T_5aff2_row22_col5\" class=\"data row22 col5\" >0.093589</td>\n",
       "    </tr>\n",
       "    <tr>\n",
       "      <th id=\"T_5aff2_level0_row23\" class=\"row_heading level0 row23\" >neighbourhood_Quartier 4-6</th>\n",
       "      <td id=\"T_5aff2_row23_col0\" class=\"data row23 col0\" >-0.024123</td>\n",
       "      <td id=\"T_5aff2_row23_col1\" class=\"data row23 col1\" >0.017547</td>\n",
       "      <td id=\"T_5aff2_row23_col2\" class=\"data row23 col2\" >-1.374759</td>\n",
       "      <td id=\"T_5aff2_row23_col3\" class=\"data row23 col3\" >0.169348</td>\n",
       "      <td id=\"T_5aff2_row23_col4\" class=\"data row23 col4\" >-0.058535</td>\n",
       "      <td id=\"T_5aff2_row23_col5\" class=\"data row23 col5\" >0.010288</td>\n",
       "    </tr>\n",
       "    <tr>\n",
       "      <th id=\"T_5aff2_level0_row24\" class=\"row_heading level0 row24\" >neighbourhood_Quartier 5-1</th>\n",
       "      <td id=\"T_5aff2_row24_col0\" class=\"data row24 col0\" >0.022363</td>\n",
       "      <td id=\"T_5aff2_row24_col1\" class=\"data row24 col1\" >0.020086</td>\n",
       "      <td id=\"T_5aff2_row24_col2\" class=\"data row24 col2\" >1.113346</td>\n",
       "      <td id=\"T_5aff2_row24_col3\" class=\"data row24 col3\" >0.265683</td>\n",
       "      <td id=\"T_5aff2_row24_col4\" class=\"data row24 col4\" >-0.017027</td>\n",
       "      <td id=\"T_5aff2_row24_col5\" class=\"data row24 col5\" >0.061753</td>\n",
       "    </tr>\n",
       "    <tr>\n",
       "      <th id=\"T_5aff2_level0_row25\" class=\"row_heading level0 row25\" >number_of_reviews_l30d</th>\n",
       "      <td id=\"T_5aff2_row25_col0\" class=\"data row25 col0\" >-0.021806</td>\n",
       "      <td id=\"T_5aff2_row25_col1\" class=\"data row25 col1\" >0.021939</td>\n",
       "      <td id=\"T_5aff2_row25_col2\" class=\"data row25 col2\" >-0.993944</td>\n",
       "      <td id=\"T_5aff2_row25_col3\" class=\"data row25 col3\" >0.320361</td>\n",
       "      <td id=\"T_5aff2_row25_col4\" class=\"data row25 col4\" >-0.064829</td>\n",
       "      <td id=\"T_5aff2_row25_col5\" class=\"data row25 col5\" >0.021217</td>\n",
       "    </tr>\n",
       "    <tr>\n",
       "      <th id=\"T_5aff2_level0_row26\" class=\"row_heading level0 row26\" >neighbourhood_Vanier</th>\n",
       "      <td id=\"T_5aff2_row26_col0\" class=\"data row26 col0\" >-0.021244</td>\n",
       "      <td id=\"T_5aff2_row26_col1\" class=\"data row26 col1\" >0.017451</td>\n",
       "      <td id=\"T_5aff2_row26_col2\" class=\"data row26 col2\" >-1.217351</td>\n",
       "      <td id=\"T_5aff2_row26_col3\" class=\"data row26 col3\" >0.223603</td>\n",
       "      <td id=\"T_5aff2_row26_col4\" class=\"data row26 col4\" >-0.055468</td>\n",
       "      <td id=\"T_5aff2_row26_col5\" class=\"data row26 col5\" >0.012979</td>\n",
       "    </tr>\n",
       "    <tr>\n",
       "      <th id=\"T_5aff2_level0_row27\" class=\"row_heading level0 row27\" >neighbourhood_Jésuites</th>\n",
       "      <td id=\"T_5aff2_row27_col0\" class=\"data row27 col0\" >0.020428</td>\n",
       "      <td id=\"T_5aff2_row27_col1\" class=\"data row27 col1\" >0.034408</td>\n",
       "      <td id=\"T_5aff2_row27_col2\" class=\"data row27 col2\" >0.593712</td>\n",
       "      <td id=\"T_5aff2_row27_col3\" class=\"data row27 col3\" >0.552767</td>\n",
       "      <td id=\"T_5aff2_row27_col4\" class=\"data row27 col4\" >-0.047047</td>\n",
       "      <td id=\"T_5aff2_row27_col5\" class=\"data row27 col5\" >0.087904</td>\n",
       "    </tr>\n",
       "    <tr>\n",
       "      <th id=\"T_5aff2_level0_row28\" class=\"row_heading level0 row28\" >neighbourhood_Montcalm</th>\n",
       "      <td id=\"T_5aff2_row28_col0\" class=\"data row28 col0\" >0.017227</td>\n",
       "      <td id=\"T_5aff2_row28_col1\" class=\"data row28 col1\" >0.008472</td>\n",
       "      <td id=\"T_5aff2_row28_col2\" class=\"data row28 col2\" >2.033357</td>\n",
       "      <td id=\"T_5aff2_row28_col3\" class=\"data row28 col3\" >0.042138</td>\n",
       "      <td id=\"T_5aff2_row28_col4\" class=\"data row28 col4\" >0.000613</td>\n",
       "      <td id=\"T_5aff2_row28_col5\" class=\"data row28 col5\" >0.033842</td>\n",
       "    </tr>\n",
       "    <tr>\n",
       "      <th id=\"T_5aff2_level0_row29\" class=\"row_heading level0 row29\" >neighbourhood_Saint-Sacrement</th>\n",
       "      <td id=\"T_5aff2_row29_col0\" class=\"data row29 col0\" >-0.016013</td>\n",
       "      <td id=\"T_5aff2_row29_col1\" class=\"data row29 col1\" >0.013966</td>\n",
       "      <td id=\"T_5aff2_row29_col2\" class=\"data row29 col2\" >-1.146528</td>\n",
       "      <td id=\"T_5aff2_row29_col3\" class=\"data row29 col3\" >0.251704</td>\n",
       "      <td id=\"T_5aff2_row29_col4\" class=\"data row29 col4\" >-0.043401</td>\n",
       "      <td id=\"T_5aff2_row29_col5\" class=\"data row29 col5\" >0.011376</td>\n",
       "    </tr>\n",
       "    <tr>\n",
       "      <th id=\"T_5aff2_level0_row30\" class=\"row_heading level0 row30\" >neighbourhood_Quartier 4-5</th>\n",
       "      <td id=\"T_5aff2_row30_col0\" class=\"data row30 col0\" >0.014922</td>\n",
       "      <td id=\"T_5aff2_row30_col1\" class=\"data row30 col1\" >0.020110</td>\n",
       "      <td id=\"T_5aff2_row30_col2\" class=\"data row30 col2\" >0.742026</td>\n",
       "      <td id=\"T_5aff2_row30_col3\" class=\"data row30 col3\" >0.458152</td>\n",
       "      <td id=\"T_5aff2_row30_col4\" class=\"data row30 col4\" >-0.024514</td>\n",
       "      <td id=\"T_5aff2_row30_col5\" class=\"data row30 col5\" >0.054358</td>\n",
       "    </tr>\n",
       "    <tr>\n",
       "      <th id=\"T_5aff2_level0_row31\" class=\"row_heading level0 row31\" >neighbourhood_Neufchâtel-Est/Lebourgneuf</th>\n",
       "      <td id=\"T_5aff2_row31_col0\" class=\"data row31 col0\" >0.013908</td>\n",
       "      <td id=\"T_5aff2_row31_col1\" class=\"data row31 col1\" >0.012570</td>\n",
       "      <td id=\"T_5aff2_row31_col2\" class=\"data row31 col2\" >1.106426</td>\n",
       "      <td id=\"T_5aff2_row31_col3\" class=\"data row31 col3\" >0.268665</td>\n",
       "      <td id=\"T_5aff2_row31_col4\" class=\"data row31 col4\" >-0.010743</td>\n",
       "      <td id=\"T_5aff2_row31_col5\" class=\"data row31 col5\" >0.038558</td>\n",
       "    </tr>\n",
       "    <tr>\n",
       "      <th id=\"T_5aff2_level0_row32\" class=\"row_heading level0 row32\" >neighbourhood_Quartier 4-2</th>\n",
       "      <td id=\"T_5aff2_row32_col0\" class=\"data row32 col0\" >0.013879</td>\n",
       "      <td id=\"T_5aff2_row32_col1\" class=\"data row32 col1\" >0.034538</td>\n",
       "      <td id=\"T_5aff2_row32_col2\" class=\"data row32 col2\" >0.401854</td>\n",
       "      <td id=\"T_5aff2_row32_col3\" class=\"data row32 col3\" >0.687831</td>\n",
       "      <td id=\"T_5aff2_row32_col4\" class=\"data row32 col4\" >-0.053851</td>\n",
       "      <td id=\"T_5aff2_row32_col5\" class=\"data row32 col5\" >0.081610</td>\n",
       "    </tr>\n",
       "    <tr>\n",
       "      <th id=\"T_5aff2_level0_row33\" class=\"row_heading level0 row33\" >neighbourhood_Saint-Louis</th>\n",
       "      <td id=\"T_5aff2_row33_col0\" class=\"data row33 col0\" >-0.012256</td>\n",
       "      <td id=\"T_5aff2_row33_col1\" class=\"data row33 col1\" >0.013030</td>\n",
       "      <td id=\"T_5aff2_row33_col2\" class=\"data row33 col2\" >-0.940619</td>\n",
       "      <td id=\"T_5aff2_row33_col3\" class=\"data row33 col3\" >0.347005</td>\n",
       "      <td id=\"T_5aff2_row33_col4\" class=\"data row33 col4\" >-0.037809</td>\n",
       "      <td id=\"T_5aff2_row33_col5\" class=\"data row33 col5\" >0.013296</td>\n",
       "    </tr>\n",
       "    <tr>\n",
       "      <th id=\"T_5aff2_level0_row34\" class=\"row_heading level0 row34\" >neighbourhood_Vieux-Limoilou</th>\n",
       "      <td id=\"T_5aff2_row34_col0\" class=\"data row34 col0\" >0.011822</td>\n",
       "      <td id=\"T_5aff2_row34_col1\" class=\"data row34 col1\" >0.007697</td>\n",
       "      <td id=\"T_5aff2_row34_col2\" class=\"data row34 col2\" >1.536061</td>\n",
       "      <td id=\"T_5aff2_row34_col3\" class=\"data row34 col3\" >0.124670</td>\n",
       "      <td id=\"T_5aff2_row34_col4\" class=\"data row34 col4\" >-0.003271</td>\n",
       "      <td id=\"T_5aff2_row34_col5\" class=\"data row34 col5\" >0.026916</td>\n",
       "    </tr>\n",
       "    <tr>\n",
       "      <th id=\"T_5aff2_level0_row35\" class=\"row_heading level0 row35\" >room_type_pca</th>\n",
       "      <td id=\"T_5aff2_row35_col0\" class=\"data row35 col0\" >0.011442</td>\n",
       "      <td id=\"T_5aff2_row35_col1\" class=\"data row35 col1\" >0.006684</td>\n",
       "      <td id=\"T_5aff2_row35_col2\" class=\"data row35 col2\" >1.711864</td>\n",
       "      <td id=\"T_5aff2_row35_col3\" class=\"data row35 col3\" >0.087065</td>\n",
       "      <td id=\"T_5aff2_row35_col4\" class=\"data row35 col4\" >-0.001666</td>\n",
       "      <td id=\"T_5aff2_row35_col5\" class=\"data row35 col5\" >0.024549</td>\n",
       "    </tr>\n",
       "    <tr>\n",
       "      <th id=\"T_5aff2_level0_row36\" class=\"row_heading level0 row36\" >neighbourhood_Sillery</th>\n",
       "      <td id=\"T_5aff2_row36_col0\" class=\"data row36 col0\" >-0.010707</td>\n",
       "      <td id=\"T_5aff2_row36_col1\" class=\"data row36 col1\" >0.009684</td>\n",
       "      <td id=\"T_5aff2_row36_col2\" class=\"data row36 col2\" >-1.105627</td>\n",
       "      <td id=\"T_5aff2_row36_col3\" class=\"data row36 col3\" >0.269011</td>\n",
       "      <td id=\"T_5aff2_row36_col4\" class=\"data row36 col4\" >-0.029698</td>\n",
       "      <td id=\"T_5aff2_row36_col5\" class=\"data row36 col5\" >0.008284</td>\n",
       "    </tr>\n",
       "    <tr>\n",
       "      <th id=\"T_5aff2_level0_row37\" class=\"row_heading level0 row37\" >neighbourhood_Pointe-de-Sainte-Foy</th>\n",
       "      <td id=\"T_5aff2_row37_col0\" class=\"data row37 col0\" >-0.010119</td>\n",
       "      <td id=\"T_5aff2_row37_col1\" class=\"data row37 col1\" >0.034750</td>\n",
       "      <td id=\"T_5aff2_row37_col2\" class=\"data row37 col2\" >-0.291200</td>\n",
       "      <td id=\"T_5aff2_row37_col3\" class=\"data row37 col3\" >0.770926</td>\n",
       "      <td id=\"T_5aff2_row37_col4\" class=\"data row37 col4\" >-0.078266</td>\n",
       "      <td id=\"T_5aff2_row37_col5\" class=\"data row37 col5\" >0.058028</td>\n",
       "    </tr>\n",
       "    <tr>\n",
       "      <th id=\"T_5aff2_level0_row38\" class=\"row_heading level0 row38\" >maximum_nights</th>\n",
       "      <td id=\"T_5aff2_row38_col0\" class=\"data row38 col0\" >-0.010005</td>\n",
       "      <td id=\"T_5aff2_row38_col1\" class=\"data row38 col1\" >0.004245</td>\n",
       "      <td id=\"T_5aff2_row38_col2\" class=\"data row38 col2\" >-2.356645</td>\n",
       "      <td id=\"T_5aff2_row38_col3\" class=\"data row38 col3\" >0.018530</td>\n",
       "      <td id=\"T_5aff2_row38_col4\" class=\"data row38 col4\" >-0.018330</td>\n",
       "      <td id=\"T_5aff2_row38_col5\" class=\"data row38 col5\" >-0.001679</td>\n",
       "    </tr>\n",
       "    <tr>\n",
       "      <th id=\"T_5aff2_level0_row39\" class=\"row_heading level0 row39\" >neighbourhood_Vieux-Moulin</th>\n",
       "      <td id=\"T_5aff2_row39_col0\" class=\"data row39 col0\" >0.008844</td>\n",
       "      <td id=\"T_5aff2_row39_col1\" class=\"data row39 col1\" >0.014888</td>\n",
       "      <td id=\"T_5aff2_row39_col2\" class=\"data row39 col2\" >0.594033</td>\n",
       "      <td id=\"T_5aff2_row39_col3\" class=\"data row39 col3\" >0.552552</td>\n",
       "      <td id=\"T_5aff2_row39_col4\" class=\"data row39 col4\" >-0.020352</td>\n",
       "      <td id=\"T_5aff2_row39_col5\" class=\"data row39 col5\" >0.038039</td>\n",
       "    </tr>\n",
       "    <tr>\n",
       "      <th id=\"T_5aff2_level0_row40\" class=\"row_heading level0 row40\" >neighbourhood_Chutes-Montmorency</th>\n",
       "      <td id=\"T_5aff2_row40_col0\" class=\"data row40 col0\" >-0.008330</td>\n",
       "      <td id=\"T_5aff2_row40_col1\" class=\"data row40 col1\" >0.012902</td>\n",
       "      <td id=\"T_5aff2_row40_col2\" class=\"data row40 col2\" >-0.645601</td>\n",
       "      <td id=\"T_5aff2_row40_col3\" class=\"data row40 col3\" >0.518606</td>\n",
       "      <td id=\"T_5aff2_row40_col4\" class=\"data row40 col4\" >-0.033632</td>\n",
       "      <td id=\"T_5aff2_row40_col5\" class=\"data row40 col5\" >0.016972</td>\n",
       "    </tr>\n",
       "    <tr>\n",
       "      <th id=\"T_5aff2_level0_row41\" class=\"row_heading level0 row41\" >neighbourhood_Quartier 5-2</th>\n",
       "      <td id=\"T_5aff2_row41_col0\" class=\"data row41 col0\" >-0.007631</td>\n",
       "      <td id=\"T_5aff2_row41_col1\" class=\"data row41 col1\" >0.021477</td>\n",
       "      <td id=\"T_5aff2_row41_col2\" class=\"data row41 col2\" >-0.355299</td>\n",
       "      <td id=\"T_5aff2_row41_col3\" class=\"data row41 col3\" >0.722401</td>\n",
       "      <td id=\"T_5aff2_row41_col4\" class=\"data row41 col4\" >-0.049748</td>\n",
       "      <td id=\"T_5aff2_row41_col5\" class=\"data row41 col5\" >0.034486</td>\n",
       "    </tr>\n",
       "    <tr>\n",
       "      <th id=\"T_5aff2_level0_row42\" class=\"row_heading level0 row42\" >neighbourhood_L'Aéroport</th>\n",
       "      <td id=\"T_5aff2_row42_col0\" class=\"data row42 col0\" >-0.007176</td>\n",
       "      <td id=\"T_5aff2_row42_col1\" class=\"data row42 col1\" >0.029132</td>\n",
       "      <td id=\"T_5aff2_row42_col2\" class=\"data row42 col2\" >-0.246318</td>\n",
       "      <td id=\"T_5aff2_row42_col3\" class=\"data row42 col3\" >0.805460</td>\n",
       "      <td id=\"T_5aff2_row42_col4\" class=\"data row42 col4\" >-0.064306</td>\n",
       "      <td id=\"T_5aff2_row42_col5\" class=\"data row42 col5\" >0.049955</td>\n",
       "    </tr>\n",
       "    <tr>\n",
       "      <th id=\"T_5aff2_level0_row43\" class=\"row_heading level0 row43\" >neighbourhood_Quartier 5-4</th>\n",
       "      <td id=\"T_5aff2_row43_col0\" class=\"data row43 col0\" >0.006705</td>\n",
       "      <td id=\"T_5aff2_row43_col1\" class=\"data row43 col1\" >0.011708</td>\n",
       "      <td id=\"T_5aff2_row43_col2\" class=\"data row43 col2\" >0.572690</td>\n",
       "      <td id=\"T_5aff2_row43_col3\" class=\"data row43 col3\" >0.566914</td>\n",
       "      <td id=\"T_5aff2_row43_col4\" class=\"data row43 col4\" >-0.016255</td>\n",
       "      <td id=\"T_5aff2_row43_col5\" class=\"data row43 col5\" >0.029665</td>\n",
       "    </tr>\n",
       "    <tr>\n",
       "      <th id=\"T_5aff2_level0_row44\" class=\"row_heading level0 row44\" >neighbourhood_Maizerets</th>\n",
       "      <td id=\"T_5aff2_row44_col0\" class=\"data row44 col0\" >-0.006170</td>\n",
       "      <td id=\"T_5aff2_row44_col1\" class=\"data row44 col1\" >0.009722</td>\n",
       "      <td id=\"T_5aff2_row44_col2\" class=\"data row44 col2\" >-0.634660</td>\n",
       "      <td id=\"T_5aff2_row44_col3\" class=\"data row44 col3\" >0.525717</td>\n",
       "      <td id=\"T_5aff2_row44_col4\" class=\"data row44 col4\" >-0.025235</td>\n",
       "      <td id=\"T_5aff2_row44_col5\" class=\"data row44 col5\" >0.012895</td>\n",
       "    </tr>\n",
       "    <tr>\n",
       "      <th id=\"T_5aff2_level0_row45\" class=\"row_heading level0 row45\" >bookable_t</th>\n",
       "      <td id=\"T_5aff2_row45_col0\" class=\"data row45 col0\" >0.004957</td>\n",
       "      <td id=\"T_5aff2_row45_col1\" class=\"data row45 col1\" >0.003678</td>\n",
       "      <td id=\"T_5aff2_row45_col2\" class=\"data row45 col2\" >1.347660</td>\n",
       "      <td id=\"T_5aff2_row45_col3\" class=\"data row45 col3\" >0.177909</td>\n",
       "      <td id=\"T_5aff2_row45_col4\" class=\"data row45 col4\" >-0.002256</td>\n",
       "      <td id=\"T_5aff2_row45_col5\" class=\"data row45 col5\" >0.012169</td>\n",
       "    </tr>\n",
       "    <tr>\n",
       "      <th id=\"T_5aff2_level0_row46\" class=\"row_heading level0 row46\" >neighbourhood_Cap-Rouge</th>\n",
       "      <td id=\"T_5aff2_row46_col0\" class=\"data row46 col0\" >0.004809</td>\n",
       "      <td id=\"T_5aff2_row46_col1\" class=\"data row46 col1\" >0.022437</td>\n",
       "      <td id=\"T_5aff2_row46_col2\" class=\"data row46 col2\" >0.214321</td>\n",
       "      <td id=\"T_5aff2_row46_col3\" class=\"data row46 col3\" >0.830317</td>\n",
       "      <td id=\"T_5aff2_row46_col4\" class=\"data row46 col4\" >-0.039192</td>\n",
       "      <td id=\"T_5aff2_row46_col5\" class=\"data row46 col5\" >0.048810</td>\n",
       "    </tr>\n",
       "    <tr>\n",
       "      <th id=\"T_5aff2_level0_row47\" class=\"row_heading level0 row47\" >availability_90</th>\n",
       "      <td id=\"T_5aff2_row47_col0\" class=\"data row47 col0\" >-0.004736</td>\n",
       "      <td id=\"T_5aff2_row47_col1\" class=\"data row47 col1\" >0.025213</td>\n",
       "      <td id=\"T_5aff2_row47_col2\" class=\"data row47 col2\" >-0.187823</td>\n",
       "      <td id=\"T_5aff2_row47_col3\" class=\"data row47 col3\" >0.851033</td>\n",
       "      <td id=\"T_5aff2_row47_col4\" class=\"data row47 col4\" >-0.054180</td>\n",
       "      <td id=\"T_5aff2_row47_col5\" class=\"data row47 col5\" >0.044709</td>\n",
       "    </tr>\n",
       "    <tr>\n",
       "      <th id=\"T_5aff2_level0_row48\" class=\"row_heading level0 row48\" >neighbourhood_Lairet</th>\n",
       "      <td id=\"T_5aff2_row48_col0\" class=\"data row48 col0\" >-0.004450</td>\n",
       "      <td id=\"T_5aff2_row48_col1\" class=\"data row48 col1\" >0.011552</td>\n",
       "      <td id=\"T_5aff2_row48_col2\" class=\"data row48 col2\" >-0.385204</td>\n",
       "      <td id=\"T_5aff2_row48_col3\" class=\"data row48 col3\" >0.700124</td>\n",
       "      <td id=\"T_5aff2_row48_col4\" class=\"data row48 col4\" >-0.027105</td>\n",
       "      <td id=\"T_5aff2_row48_col5\" class=\"data row48 col5\" >0.018205</td>\n",
       "    </tr>\n",
       "    <tr>\n",
       "      <th id=\"T_5aff2_level0_row49\" class=\"row_heading level0 row49\" >neighbourhood_Saint-Émile</th>\n",
       "      <td id=\"T_5aff2_row49_col0\" class=\"data row49 col0\" >-0.003841</td>\n",
       "      <td id=\"T_5aff2_row49_col1\" class=\"data row49 col1\" >0.027314</td>\n",
       "      <td id=\"T_5aff2_row49_col2\" class=\"data row49 col2\" >-0.140618</td>\n",
       "      <td id=\"T_5aff2_row49_col3\" class=\"data row49 col3\" >0.888185</td>\n",
       "      <td id=\"T_5aff2_row49_col4\" class=\"data row49 col4\" >-0.057405</td>\n",
       "      <td id=\"T_5aff2_row49_col5\" class=\"data row49 col5\" >0.049724</td>\n",
       "    </tr>\n",
       "    <tr>\n",
       "      <th id=\"T_5aff2_level0_row50\" class=\"row_heading level0 row50\" >availability_365</th>\n",
       "      <td id=\"T_5aff2_row50_col0\" class=\"data row50 col0\" >0.003729</td>\n",
       "      <td id=\"T_5aff2_row50_col1\" class=\"data row50 col1\" >0.006568</td>\n",
       "      <td id=\"T_5aff2_row50_col2\" class=\"data row50 col2\" >0.567835</td>\n",
       "      <td id=\"T_5aff2_row50_col3\" class=\"data row50 col3\" >0.570206</td>\n",
       "      <td id=\"T_5aff2_row50_col4\" class=\"data row50 col4\" >-0.009150</td>\n",
       "      <td id=\"T_5aff2_row50_col5\" class=\"data row50 col5\" >0.016609</td>\n",
       "    </tr>\n",
       "    <tr>\n",
       "      <th id=\"T_5aff2_level0_row51\" class=\"row_heading level0 row51\" >availability_30</th>\n",
       "      <td id=\"T_5aff2_row51_col0\" class=\"data row51 col0\" >-0.001751</td>\n",
       "      <td id=\"T_5aff2_row51_col1\" class=\"data row51 col1\" >0.015160</td>\n",
       "      <td id=\"T_5aff2_row51_col2\" class=\"data row51 col2\" >-0.115502</td>\n",
       "      <td id=\"T_5aff2_row51_col3\" class=\"data row51 col3\" >0.908058</td>\n",
       "      <td id=\"T_5aff2_row51_col4\" class=\"data row51 col4\" >-0.031480</td>\n",
       "      <td id=\"T_5aff2_row51_col5\" class=\"data row51 col5\" >0.027978</td>\n",
       "    </tr>\n",
       "    <tr>\n",
       "      <th id=\"T_5aff2_level0_row52\" class=\"row_heading level0 row52\" >review_pca</th>\n",
       "      <td id=\"T_5aff2_row52_col0\" class=\"data row52 col0\" >0.000701</td>\n",
       "      <td id=\"T_5aff2_row52_col1\" class=\"data row52 col1\" >0.005659</td>\n",
       "      <td id=\"T_5aff2_row52_col2\" class=\"data row52 col2\" >0.123818</td>\n",
       "      <td id=\"T_5aff2_row52_col3\" class=\"data row52 col3\" >0.901471</td>\n",
       "      <td id=\"T_5aff2_row52_col4\" class=\"data row52 col4\" >-0.010396</td>\n",
       "      <td id=\"T_5aff2_row52_col5\" class=\"data row52 col5\" >0.011797</td>\n",
       "    </tr>\n",
       "    <tr>\n",
       "      <th id=\"T_5aff2_level0_row53\" class=\"row_heading level0 row53\" >neighbourhood_Notre-Dame-des-Laurentides</th>\n",
       "      <td id=\"T_5aff2_row53_col0\" class=\"data row53 col0\" >-0.000699</td>\n",
       "      <td id=\"T_5aff2_row53_col1\" class=\"data row53 col1\" >0.015685</td>\n",
       "      <td id=\"T_5aff2_row53_col2\" class=\"data row53 col2\" >-0.044555</td>\n",
       "      <td id=\"T_5aff2_row53_col3\" class=\"data row53 col3\" >0.964466</td>\n",
       "      <td id=\"T_5aff2_row53_col4\" class=\"data row53 col4\" >-0.031458</td>\n",
       "      <td id=\"T_5aff2_row53_col5\" class=\"data row53 col5\" >0.030060</td>\n",
       "    </tr>\n",
       "  </tbody>\n",
       "</table>\n"
      ],
      "text/plain": [
       "<pandas.io.formats.style.Styler at 0x1f709b9c640>"
      ]
     },
     "execution_count": 55,
     "metadata": {},
     "output_type": "execute_result"
    }
   ],
   "source": [
    "results_df.sort_values(by=['coef'], key=abs, ascending=False, inplace=True)\n",
    "results_df.style.highlight_between(subset=['p_value'], left=0, right=0.05, color='#5fba7d')\\\n",
    "                .highlight_between(subset=['p_value'], left=0.05, right=1, color='#d65f5f')\\\n",
    "                .bar(subset=['coef'], align='zero', color=['#d65f5f', '#5fba7d'])"
   ]
  },
  {
   "cell_type": "markdown",
   "id": "6d1c9f47",
   "metadata": {},
   "source": [
    "## Results - Statistically Significant Features"
   ]
  },
  {
   "cell_type": "markdown",
   "id": "27fb6172",
   "metadata": {},
   "source": [
    "<br> Extracting the list of significant features\n",
    "<br> Note that <i>Neighbourhood</i> is always a significant factor in estimating the price"
   ]
  },
  {
   "cell_type": "code",
   "execution_count": 56,
   "id": "4188f7af",
   "metadata": {},
   "outputs": [
    {
     "name": "stdout",
     "output_type": "stream",
     "text": [
      "['bedrooms', 'minimum_nights', 'accommodates', 'bathroom_numbers', 'beds', 'reviews_per_month', 'number_of_reviews', 'bath_is_shared', 'number_of_reviews_ltm', 'has_availability_t', 'maximum_nights']\n"
     ]
    }
   ],
   "source": [
    "# List of significant features\n",
    "sign_feat = list(results_df[results_df['p_value']<0.05].index)\n",
    "\n",
    "# In addition to the neighbourhood, sign_feat is a list of features that \n",
    "# are statistically significant for describing the price\n",
    "sign_feat = [x for x in sign_feat if not x.startswith('neighbourhood')]\n",
    "print(sign_feat)\n",
    "\n",
    "# saving the list of significant features in a list (excluding neighbourhood)\n",
    "# this list/text_file will be used to compare the significant features in different cities\n",
    "textfile = open(f\"{city}_feat.txt\", \"w\")\n",
    "for element in sign_feat:\n",
    "    textfile.write(element + \"\\n\")\n",
    "textfile.close()"
   ]
  },
  {
   "cell_type": "markdown",
   "id": "7bb166f4",
   "metadata": {},
   "source": [
    "<br> List of <i>Neighbourhood</i> columns"
   ]
  },
  {
   "cell_type": "code",
   "execution_count": 57,
   "id": "e9655e4e",
   "metadata": {},
   "outputs": [],
   "source": [
    "neighbourhood_cols = [col for col in df_feat if col.startswith('neighbourhood')]"
   ]
  },
  {
   "cell_type": "markdown",
   "id": "2d89396b",
   "metadata": {},
   "source": [
    "## Model - Estimating Price"
   ]
  },
  {
   "cell_type": "code",
   "execution_count": 58,
   "id": "36e02b68",
   "metadata": {},
   "outputs": [],
   "source": [
    "X = df_feat[sign_feat + neighbourhood_cols] # Significant features and Neighbourhood\n",
    "y = df_target # log10_price"
   ]
  },
  {
   "cell_type": "code",
   "execution_count": 59,
   "id": "5efee160",
   "metadata": {},
   "outputs": [],
   "source": [
    "# using sklearn train_test_split and splitting the data into train and test sets\n",
    "from sklearn.model_selection import train_test_split\n",
    "\n",
    "X_train, X_test, y_train, y_test = train_test_split(X, y, test_size=0.33, random_state=42)"
   ]
  },
  {
   "cell_type": "code",
   "execution_count": 60,
   "id": "dfc0c598",
   "metadata": {},
   "outputs": [],
   "source": [
    "# using sklearn LinearRegression as the model\n",
    "from sklearn.linear_model import LinearRegression\n",
    "\n",
    "lm = LinearRegression()\n",
    "lm.fit(X_train,y_train)\n",
    "predictions = lm.predict(X_test)"
   ]
  },
  {
   "cell_type": "code",
   "execution_count": 64,
   "id": "8e750279",
   "metadata": {},
   "outputs": [
    {
     "data": {
      "image/png": "[encoded data removed]",
      "text/plain": [
       "<Figure size 720x504 with 1 Axes>"
      ]
     },
     "metadata": {
      "needs_background": "light"
     },
     "output_type": "display_data"
    }
   ],
   "source": [
    "# plotting the results\n",
    "# comparing price predictions with the test values\n",
    "x_values = scaler_target.inverse_transform(y_test)\n",
    "y_values = scaler_target.inverse_transform(predictions)\n",
    "min_value = min(min(x_values), min(y_values))\n",
    "max_value = max(max(x_values), max(y_values))\n",
    "\n",
    "fig, ax = plt.subplots(figsize=(10, 7))\n",
    "\n",
    "plt.plot([min_value,max_value],[min_value,max_value], color='black')\n",
    "sns.scatterplot(x=x_values[:,0], y=y_values[:,0], alpha=0.5)\n",
    "ax.set(xlabel='Actual Price', ylabel='Predicted Price', xlim=(1,4), ylim=(1,4));\n",
    "xy_range=np.arange(1, 5, step=1)\n",
    "ax.set_xticks(xy_range)\n",
    "ax.set_xticklabels(10**xy_range)\n",
    "ax.set_yticks(xy_range)\n",
    "ax.set_yticklabels(10**xy_range)\n",
    "ax.grid(True)"
   ]
  },
  {
   "cell_type": "markdown",
   "id": "2c68d9ea",
   "metadata": {},
   "source": [
    "<br> saving prediction results (predictions and y_test) to csv file"
   ]
  },
  {
   "cell_type": "code",
   "execution_count": 62,
   "id": "1a05fc30",
   "metadata": {},
   "outputs": [],
   "source": [
    "prediction_results = pd.DataFrame(data=(scaler_target.inverse_transform(predictions)[:,0]), columns=['predictions'])\n",
    "prediction_results['y_test'] = np.array(scaler_target.inverse_transform(y_test))\n",
    "\n",
    "prediction_results.to_csv(f'{city}_pred.csv', index=False);"
   ]
  },
  {
   "cell_type": "markdown",
   "id": "e6180993",
   "metadata": {},
   "source": [
    "### Evaluating the Model\n",
    "<br> using sklearn metrics\n",
    "<br> calculating r2_score, Mean Absolute Error, Mean Square Error, and Root Mean Square Error"
   ]
  },
  {
   "cell_type": "code",
   "execution_count": 63,
   "id": "cddf4983",
   "metadata": {},
   "outputs": [
    {
     "name": "stdout",
     "output_type": "stream",
     "text": [
      "r2_score: 0.41894491616367235\n",
      "MAE: 0.06351987718693886\n",
      "MSE: 0.0073028165172270825\n",
      "RMSE: 0.08545651828402022\n"
     ]
    }
   ],
   "source": [
    "from sklearn import metrics\n",
    "\n",
    "print('r2_score:', metrics.r2_score(y_test, predictions))\n",
    "print('MAE:', metrics.mean_absolute_error(y_test, predictions))\n",
    "print('MSE:', metrics.mean_squared_error(y_test, predictions))\n",
    "print('RMSE:', np.sqrt(metrics.mean_squared_error(y_test, predictions)))"
   ]
  }
 ],
 "metadata": {
  "kernelspec": {
   "display_name": "Python 3 (ipykernel)",
   "language": "python",
   "name": "python3"
  },
  "language_info": {
   "codemirror_mode": {
    "name": "ipython",
    "version": 3
   },
   "file_extension": ".py",
   "mimetype": "text/x-python",
   "name": "python",
   "nbconvert_exporter": "python",
   "pygments_lexer": "ipython3",
   "version": "3.9.7"
  }
 },
 "nbformat": 4,
 "nbformat_minor": 5
}
