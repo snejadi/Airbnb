{
 "cells": [
  {
   "cell_type": "markdown",
   "id": "b9ebb0dc",
   "metadata": {},
   "source": [
    "# New Brunswick, Canada"
   ]
  },
  {
   "cell_type": "markdown",
   "id": "8514b1cc",
   "metadata": {},
   "source": [
    "<br> Importing necessary libraries"
   ]
  },
  {
   "cell_type": "code",
   "execution_count": 1,
   "id": "6cd3b747",
   "metadata": {},
   "outputs": [],
   "source": [
    "import numpy as np\n",
    "import pandas as pd\n",
    "import matplotlib.pyplot as plt\n",
    "import seaborn as sns\n",
    "%matplotlib inline"
   ]
  },
  {
   "cell_type": "markdown",
   "id": "b6d0ecdb",
   "metadata": {},
   "source": [
    "## The Data\n",
    "<br> Working with listing.csv file\n",
    "<br> The file has 74 columns\n",
    "<br> Here I start working on specific columns listed below and define them in: col_list_listings\n",
    "<br> In other words, I discard empty columns, url, names, etc."
   ]
  },
  {
   "cell_type": "code",
   "execution_count": 2,
   "id": "5a93fdcb",
   "metadata": {},
   "outputs": [],
   "source": [
    "col_list_listings = ['id', 'neighbourhood_cleansed', 'property_type', 'room_type', 'accommodates', 'bathrooms_text'\n",
    "                     , 'bedrooms', 'beds', 'price', 'minimum_nights', 'maximum_nights', 'has_availability'\n",
    "                     , 'availability_30', 'availability_60', 'availability_90', 'availability_365', 'number_of_reviews'\n",
    "                     , 'number_of_reviews_ltm', 'number_of_reviews_l30d', 'review_scores_rating', 'review_scores_accuracy'\n",
    "                     , 'review_scores_cleanliness', 'review_scores_checkin', 'review_scores_communication'\n",
    "                     , 'review_scores_location', 'review_scores_value', 'instant_bookable', 'reviews_per_month']"
   ]
  },
  {
   "cell_type": "markdown",
   "id": "e61310ae",
   "metadata": {},
   "source": [
    "## Load Data"
   ]
  },
  {
   "cell_type": "code",
   "execution_count": 3,
   "id": "cbfb6abf",
   "metadata": {},
   "outputs": [],
   "source": [
    "city='New_Brunswick'\n",
    "data_fldr='../Airbnb_data/'\n",
    "\n",
    "df=pd.read_csv(data_fldr + city +'/listings.csv', usecols=col_list_listings)"
   ]
  },
  {
   "cell_type": "code",
   "execution_count": 4,
   "id": "7950b4e1",
   "metadata": {},
   "outputs": [],
   "source": [
    "df.set_index('id');"
   ]
  },
  {
   "cell_type": "code",
   "execution_count": 5,
   "id": "cb743db8",
   "metadata": {
    "scrolled": false
   },
   "outputs": [
    {
     "name": "stdout",
     "output_type": "stream",
     "text": [
      "(2230, 28)\n"
     ]
    }
   ],
   "source": [
    "print(df.shape)"
   ]
  },
  {
   "cell_type": "code",
   "execution_count": 6,
   "id": "1c22a3db",
   "metadata": {},
   "outputs": [
    {
     "data": {
      "text/html": [
       "<div>\n",
       "<style scoped>\n",
       "    .dataframe tbody tr th:only-of-type {\n",
       "        vertical-align: middle;\n",
       "    }\n",
       "\n",
       "    .dataframe tbody tr th {\n",
       "        vertical-align: top;\n",
       "    }\n",
       "\n",
       "    .dataframe thead th {\n",
       "        text-align: right;\n",
       "    }\n",
       "</style>\n",
       "<table border=\"1\" class=\"dataframe\">\n",
       "  <thead>\n",
       "    <tr style=\"text-align: right;\">\n",
       "      <th></th>\n",
       "      <th>count</th>\n",
       "      <th>mean</th>\n",
       "      <th>std</th>\n",
       "      <th>min</th>\n",
       "      <th>25%</th>\n",
       "      <th>50%</th>\n",
       "      <th>75%</th>\n",
       "      <th>max</th>\n",
       "    </tr>\n",
       "  </thead>\n",
       "  <tbody>\n",
       "    <tr>\n",
       "      <th>id</th>\n",
       "      <td>2230.0</td>\n",
       "      <td>3.756820e+07</td>\n",
       "      <td>1.331459e+07</td>\n",
       "      <td>75065.00</td>\n",
       "      <td>27544747.00</td>\n",
       "      <td>40800604.00</td>\n",
       "      <td>49542997.25</td>\n",
       "      <td>54002699.00</td>\n",
       "    </tr>\n",
       "    <tr>\n",
       "      <th>accommodates</th>\n",
       "      <td>2230.0</td>\n",
       "      <td>4.357399e+00</td>\n",
       "      <td>2.472292e+00</td>\n",
       "      <td>1.00</td>\n",
       "      <td>2.00</td>\n",
       "      <td>4.00</td>\n",
       "      <td>6.00</td>\n",
       "      <td>16.00</td>\n",
       "    </tr>\n",
       "    <tr>\n",
       "      <th>bedrooms</th>\n",
       "      <td>2121.0</td>\n",
       "      <td>1.956153e+00</td>\n",
       "      <td>1.201203e+00</td>\n",
       "      <td>1.00</td>\n",
       "      <td>1.00</td>\n",
       "      <td>2.00</td>\n",
       "      <td>3.00</td>\n",
       "      <td>19.00</td>\n",
       "    </tr>\n",
       "    <tr>\n",
       "      <th>beds</th>\n",
       "      <td>2183.0</td>\n",
       "      <td>2.559322e+00</td>\n",
       "      <td>1.814251e+00</td>\n",
       "      <td>1.00</td>\n",
       "      <td>1.00</td>\n",
       "      <td>2.00</td>\n",
       "      <td>3.00</td>\n",
       "      <td>29.00</td>\n",
       "    </tr>\n",
       "    <tr>\n",
       "      <th>minimum_nights</th>\n",
       "      <td>2230.0</td>\n",
       "      <td>2.984753e+00</td>\n",
       "      <td>9.633748e+00</td>\n",
       "      <td>1.00</td>\n",
       "      <td>1.00</td>\n",
       "      <td>2.00</td>\n",
       "      <td>3.00</td>\n",
       "      <td>365.00</td>\n",
       "    </tr>\n",
       "    <tr>\n",
       "      <th>maximum_nights</th>\n",
       "      <td>2230.0</td>\n",
       "      <td>6.752641e+02</td>\n",
       "      <td>5.043901e+02</td>\n",
       "      <td>1.00</td>\n",
       "      <td>45.00</td>\n",
       "      <td>1125.00</td>\n",
       "      <td>1125.00</td>\n",
       "      <td>1125.00</td>\n",
       "    </tr>\n",
       "    <tr>\n",
       "      <th>availability_30</th>\n",
       "      <td>2230.0</td>\n",
       "      <td>1.251883e+01</td>\n",
       "      <td>1.260240e+01</td>\n",
       "      <td>0.00</td>\n",
       "      <td>0.00</td>\n",
       "      <td>9.50</td>\n",
       "      <td>26.00</td>\n",
       "      <td>30.00</td>\n",
       "    </tr>\n",
       "    <tr>\n",
       "      <th>availability_60</th>\n",
       "      <td>2230.0</td>\n",
       "      <td>2.806233e+01</td>\n",
       "      <td>2.570505e+01</td>\n",
       "      <td>0.00</td>\n",
       "      <td>0.00</td>\n",
       "      <td>29.00</td>\n",
       "      <td>56.00</td>\n",
       "      <td>60.00</td>\n",
       "    </tr>\n",
       "    <tr>\n",
       "      <th>availability_90</th>\n",
       "      <td>2230.0</td>\n",
       "      <td>4.487578e+01</td>\n",
       "      <td>3.864927e+01</td>\n",
       "      <td>0.00</td>\n",
       "      <td>0.00</td>\n",
       "      <td>55.00</td>\n",
       "      <td>85.00</td>\n",
       "      <td>90.00</td>\n",
       "    </tr>\n",
       "    <tr>\n",
       "      <th>availability_365</th>\n",
       "      <td>2230.0</td>\n",
       "      <td>1.972848e+02</td>\n",
       "      <td>1.251411e+02</td>\n",
       "      <td>0.00</td>\n",
       "      <td>87.00</td>\n",
       "      <td>193.00</td>\n",
       "      <td>326.00</td>\n",
       "      <td>365.00</td>\n",
       "    </tr>\n",
       "    <tr>\n",
       "      <th>number_of_reviews</th>\n",
       "      <td>2230.0</td>\n",
       "      <td>2.939193e+01</td>\n",
       "      <td>4.731856e+01</td>\n",
       "      <td>0.00</td>\n",
       "      <td>3.00</td>\n",
       "      <td>12.00</td>\n",
       "      <td>36.00</td>\n",
       "      <td>487.00</td>\n",
       "    </tr>\n",
       "    <tr>\n",
       "      <th>number_of_reviews_ltm</th>\n",
       "      <td>2230.0</td>\n",
       "      <td>1.035561e+01</td>\n",
       "      <td>1.518560e+01</td>\n",
       "      <td>0.00</td>\n",
       "      <td>1.00</td>\n",
       "      <td>5.00</td>\n",
       "      <td>14.00</td>\n",
       "      <td>161.00</td>\n",
       "    </tr>\n",
       "    <tr>\n",
       "      <th>number_of_reviews_l30d</th>\n",
       "      <td>2230.0</td>\n",
       "      <td>4.977578e-01</td>\n",
       "      <td>1.315520e+00</td>\n",
       "      <td>0.00</td>\n",
       "      <td>0.00</td>\n",
       "      <td>0.00</td>\n",
       "      <td>0.00</td>\n",
       "      <td>15.00</td>\n",
       "    </tr>\n",
       "    <tr>\n",
       "      <th>review_scores_rating</th>\n",
       "      <td>1969.0</td>\n",
       "      <td>4.798045e+00</td>\n",
       "      <td>3.854367e-01</td>\n",
       "      <td>0.00</td>\n",
       "      <td>4.75</td>\n",
       "      <td>4.90</td>\n",
       "      <td>5.00</td>\n",
       "      <td>5.00</td>\n",
       "    </tr>\n",
       "    <tr>\n",
       "      <th>review_scores_accuracy</th>\n",
       "      <td>1965.0</td>\n",
       "      <td>4.846387e+00</td>\n",
       "      <td>2.982061e-01</td>\n",
       "      <td>1.00</td>\n",
       "      <td>4.82</td>\n",
       "      <td>4.94</td>\n",
       "      <td>5.00</td>\n",
       "      <td>5.00</td>\n",
       "    </tr>\n",
       "    <tr>\n",
       "      <th>review_scores_cleanliness</th>\n",
       "      <td>1965.0</td>\n",
       "      <td>4.830473e+00</td>\n",
       "      <td>3.065142e-01</td>\n",
       "      <td>1.00</td>\n",
       "      <td>4.79</td>\n",
       "      <td>4.93</td>\n",
       "      <td>5.00</td>\n",
       "      <td>5.00</td>\n",
       "    </tr>\n",
       "    <tr>\n",
       "      <th>review_scores_checkin</th>\n",
       "      <td>1965.0</td>\n",
       "      <td>4.909013e+00</td>\n",
       "      <td>2.595691e-01</td>\n",
       "      <td>1.00</td>\n",
       "      <td>4.92</td>\n",
       "      <td>5.00</td>\n",
       "      <td>5.00</td>\n",
       "      <td>5.00</td>\n",
       "    </tr>\n",
       "    <tr>\n",
       "      <th>review_scores_communication</th>\n",
       "      <td>1965.0</td>\n",
       "      <td>4.896422e+00</td>\n",
       "      <td>2.724238e-01</td>\n",
       "      <td>1.00</td>\n",
       "      <td>4.90</td>\n",
       "      <td>4.99</td>\n",
       "      <td>5.00</td>\n",
       "      <td>5.00</td>\n",
       "    </tr>\n",
       "    <tr>\n",
       "      <th>review_scores_location</th>\n",
       "      <td>1965.0</td>\n",
       "      <td>4.854687e+00</td>\n",
       "      <td>2.519871e-01</td>\n",
       "      <td>1.00</td>\n",
       "      <td>4.81</td>\n",
       "      <td>4.92</td>\n",
       "      <td>5.00</td>\n",
       "      <td>5.00</td>\n",
       "    </tr>\n",
       "    <tr>\n",
       "      <th>review_scores_value</th>\n",
       "      <td>1965.0</td>\n",
       "      <td>4.780224e+00</td>\n",
       "      <td>3.457738e-01</td>\n",
       "      <td>1.00</td>\n",
       "      <td>4.73</td>\n",
       "      <td>4.88</td>\n",
       "      <td>5.00</td>\n",
       "      <td>5.00</td>\n",
       "    </tr>\n",
       "    <tr>\n",
       "      <th>reviews_per_month</th>\n",
       "      <td>1969.0</td>\n",
       "      <td>1.478187e+00</td>\n",
       "      <td>1.544446e+00</td>\n",
       "      <td>0.02</td>\n",
       "      <td>0.46</td>\n",
       "      <td>1.00</td>\n",
       "      <td>1.92</td>\n",
       "      <td>14.37</td>\n",
       "    </tr>\n",
       "  </tbody>\n",
       "</table>\n",
       "</div>"
      ],
      "text/plain": [
       "                              count          mean           std       min  \\\n",
       "id                           2230.0  3.756820e+07  1.331459e+07  75065.00   \n",
       "accommodates                 2230.0  4.357399e+00  2.472292e+00      1.00   \n",
       "bedrooms                     2121.0  1.956153e+00  1.201203e+00      1.00   \n",
       "beds                         2183.0  2.559322e+00  1.814251e+00      1.00   \n",
       "minimum_nights               2230.0  2.984753e+00  9.633748e+00      1.00   \n",
       "maximum_nights               2230.0  6.752641e+02  5.043901e+02      1.00   \n",
       "availability_30              2230.0  1.251883e+01  1.260240e+01      0.00   \n",
       "availability_60              2230.0  2.806233e+01  2.570505e+01      0.00   \n",
       "availability_90              2230.0  4.487578e+01  3.864927e+01      0.00   \n",
       "availability_365             2230.0  1.972848e+02  1.251411e+02      0.00   \n",
       "number_of_reviews            2230.0  2.939193e+01  4.731856e+01      0.00   \n",
       "number_of_reviews_ltm        2230.0  1.035561e+01  1.518560e+01      0.00   \n",
       "number_of_reviews_l30d       2230.0  4.977578e-01  1.315520e+00      0.00   \n",
       "review_scores_rating         1969.0  4.798045e+00  3.854367e-01      0.00   \n",
       "review_scores_accuracy       1965.0  4.846387e+00  2.982061e-01      1.00   \n",
       "review_scores_cleanliness    1965.0  4.830473e+00  3.065142e-01      1.00   \n",
       "review_scores_checkin        1965.0  4.909013e+00  2.595691e-01      1.00   \n",
       "review_scores_communication  1965.0  4.896422e+00  2.724238e-01      1.00   \n",
       "review_scores_location       1965.0  4.854687e+00  2.519871e-01      1.00   \n",
       "review_scores_value          1965.0  4.780224e+00  3.457738e-01      1.00   \n",
       "reviews_per_month            1969.0  1.478187e+00  1.544446e+00      0.02   \n",
       "\n",
       "                                     25%          50%          75%  \\\n",
       "id                           27544747.00  40800604.00  49542997.25   \n",
       "accommodates                        2.00         4.00         6.00   \n",
       "bedrooms                            1.00         2.00         3.00   \n",
       "beds                                1.00         2.00         3.00   \n",
       "minimum_nights                      1.00         2.00         3.00   \n",
       "maximum_nights                     45.00      1125.00      1125.00   \n",
       "availability_30                     0.00         9.50        26.00   \n",
       "availability_60                     0.00        29.00        56.00   \n",
       "availability_90                     0.00        55.00        85.00   \n",
       "availability_365                   87.00       193.00       326.00   \n",
       "number_of_reviews                   3.00        12.00        36.00   \n",
       "number_of_reviews_ltm               1.00         5.00        14.00   \n",
       "number_of_reviews_l30d              0.00         0.00         0.00   \n",
       "review_scores_rating                4.75         4.90         5.00   \n",
       "review_scores_accuracy              4.82         4.94         5.00   \n",
       "review_scores_cleanliness           4.79         4.93         5.00   \n",
       "review_scores_checkin               4.92         5.00         5.00   \n",
       "review_scores_communication         4.90         4.99         5.00   \n",
       "review_scores_location              4.81         4.92         5.00   \n",
       "review_scores_value                 4.73         4.88         5.00   \n",
       "reviews_per_month                   0.46         1.00         1.92   \n",
       "\n",
       "                                     max  \n",
       "id                           54002699.00  \n",
       "accommodates                       16.00  \n",
       "bedrooms                           19.00  \n",
       "beds                               29.00  \n",
       "minimum_nights                    365.00  \n",
       "maximum_nights                   1125.00  \n",
       "availability_30                    30.00  \n",
       "availability_60                    60.00  \n",
       "availability_90                    90.00  \n",
       "availability_365                  365.00  \n",
       "number_of_reviews                 487.00  \n",
       "number_of_reviews_ltm             161.00  \n",
       "number_of_reviews_l30d             15.00  \n",
       "review_scores_rating                5.00  \n",
       "review_scores_accuracy              5.00  \n",
       "review_scores_cleanliness           5.00  \n",
       "review_scores_checkin               5.00  \n",
       "review_scores_communication         5.00  \n",
       "review_scores_location              5.00  \n",
       "review_scores_value                 5.00  \n",
       "reviews_per_month                  14.37  "
      ]
     },
     "execution_count": 6,
     "metadata": {},
     "output_type": "execute_result"
    }
   ],
   "source": [
    "df.describe().T"
   ]
  },
  {
   "cell_type": "markdown",
   "id": "5a2c7ff3",
   "metadata": {},
   "source": [
    "## Exploratory Data Analysis\n",
    "<br> Analysing Important Columns\n",
    "<br> Making necessary changes or modifications in important columns"
   ]
  },
  {
   "cell_type": "markdown",
   "id": "89bd9413",
   "metadata": {},
   "source": [
    "### Price\n",
    "Column name = price"
   ]
  },
  {
   "cell_type": "code",
   "execution_count": 7,
   "id": "b89269a5",
   "metadata": {
    "scrolled": true
   },
   "outputs": [
    {
     "name": "stdout",
     "output_type": "stream",
     "text": [
      "object\n",
      "0    $243.00\n",
      "1    $150.00\n",
      "2    $100.00\n",
      "3     $69.00\n",
      "4    $135.00\n",
      "5    $130.00\n",
      "6    $134.00\n",
      "7    $180.00\n",
      "8    $165.00\n",
      "9    $125.00\n",
      "Name: price, dtype: object\n"
     ]
    }
   ],
   "source": [
    "print(df['price'].dtypes)\n",
    "print(df['price'][0:10])"
   ]
  },
  {
   "cell_type": "code",
   "execution_count": 8,
   "id": "9664b062",
   "metadata": {
    "scrolled": true
   },
   "outputs": [
    {
     "name": "stderr",
     "output_type": "stream",
     "text": [
      "C:\\Users\\siava\\AppData\\Local\\Temp/ipykernel_10560/14964403.py:3: FutureWarning: The default value of regex will change from True to False in a future version.\n",
      "  df.price = df.price.str.replace('\\$|,', '').astype('float64')\n"
     ]
    }
   ],
   "source": [
    "# removing '$' and '.' from df.price and converting it to numeric values\n",
    "# however, there should be a smarter approach for converting this column to numeric values\n",
    "df.price = df.price.str.replace('\\$|,', '').astype('float64')"
   ]
  },
  {
   "cell_type": "code",
   "execution_count": 9,
   "id": "30567d1a",
   "metadata": {
    "scrolled": true
   },
   "outputs": [
    {
     "data": {
      "text/plain": [
       "count    2230.000000\n",
       "mean      151.073991\n",
       "std       142.671132\n",
       "min        13.000000\n",
       "25%        89.000000\n",
       "50%       125.000000\n",
       "75%       177.750000\n",
       "max      3500.000000\n",
       "Name: price, dtype: float64"
      ]
     },
     "execution_count": 9,
     "metadata": {},
     "output_type": "execute_result"
    }
   ],
   "source": [
    "df.price.describe()"
   ]
  },
  {
   "cell_type": "code",
   "execution_count": 10,
   "id": "ce9fc397",
   "metadata": {},
   "outputs": [],
   "source": [
    "df.drop(df[df.price<=0].index,inplace=True)"
   ]
  },
  {
   "cell_type": "markdown",
   "id": "8e25d60c",
   "metadata": {},
   "source": [
    "#### \n",
    "Very few listings (count=10) have a price greater than $2,000"
   ]
  },
  {
   "cell_type": "code",
   "execution_count": 11,
   "id": "9fea537b",
   "metadata": {
    "scrolled": true
   },
   "outputs": [
    {
     "data": {
      "text/plain": [
       "3"
      ]
     },
     "execution_count": 11,
     "metadata": {},
     "output_type": "execute_result"
    }
   ],
   "source": [
    "df[df.price>2000].price.count()"
   ]
  },
  {
   "cell_type": "markdown",
   "id": "2ab107ae",
   "metadata": {},
   "source": [
    "#### Necessary Transformation for Price Data\n",
    "<br> Data for the price column has a log-normal distribution\n",
    "<br> I will use log10 and transform this column to convert it into a Gaussian distribution for modeling purposes\n",
    "<br> note that I am using log-scale on the x_axis for the histogram (axes[1]) \n",
    "<br> I used it for conveying the message and showing the necessity for a log transformation"
   ]
  },
  {
   "cell_type": "code",
   "execution_count": 12,
   "id": "bbcffd76",
   "metadata": {
    "scrolled": false
   },
   "outputs": [
    {
     "data": {
      "image/png": "[encoded data removed]",
      "text/plain": [
       "<Figure size 1080x360 with 2 Axes>"
      ]
     },
     "metadata": {
      "needs_background": "light"
     },
     "output_type": "display_data"
    }
   ],
   "source": [
    "fig , axes = plt.subplots(1, 2, figsize=(15,5))\n",
    "\n",
    "axes0 = sns.histplot(data=df, x=df['price'], bins=100, ax=axes[0])\n",
    "axes0.set_xlabel('Price')\n",
    "axes0.grid(), axes0.set(xlim=(0, 3500));\n",
    "\n",
    "axes1 = sns.histplot(data=df, x=np.log10(df['price']), bins=50, kde=True, ax=axes[1])\n",
    "axes1.set_xlabel('Price')\n",
    "axes1.set_xticks(range(1,5));\n",
    "axes1.set_xticklabels([10,100,1000,10000]);\n",
    "axes1.grid(), axes1.set(xlim=(1, 4));"
   ]
  },
  {
   "cell_type": "markdown",
   "id": "a1015e6f",
   "metadata": {},
   "source": [
    "### Room Type\n",
    "column name = room_type"
   ]
  },
  {
   "cell_type": "code",
   "execution_count": 13,
   "id": "8506a4f4",
   "metadata": {
    "scrolled": false
   },
   "outputs": [
    {
     "data": {
      "image/png": "[encoded data removed]",
      "text/plain": [
       "<Figure size 1080x360 with 2 Axes>"
      ]
     },
     "metadata": {
      "needs_background": "light"
     },
     "output_type": "display_data"
    }
   ],
   "source": [
    "fig , axes = plt.subplots(1, 2, figsize=(15,5))\n",
    "\n",
    "axes0 = sns.countplot(data=df, x=df.room_type, palette='Set1', ax=axes[0])\n",
    "for p in axes0.patches:\n",
    "    x=p.get_bbox().get_points()[:,0]\n",
    "    y=p.get_bbox().get_points()[1,1]\n",
    "    axes0.annotate('{:.2f}%'.format(100.*y/len(df)), (x.mean(), y), \n",
    "            ha='center', va='bottom')\n",
    "\n",
    "axes1 = sns.histplot(data=df, x=np.log10(df['price']), bins=50, kde=False, hue=df.room_type, multiple='stack'\n",
    "                     , palette='Set1', ax=axes[1])\n",
    "axes1.set_xlabel('Price')\n",
    "axes1.set_xticks(range(1,5));\n",
    "axes1.set_xticklabels([10,100,1000,10000]);\n",
    "axes1.grid()"
   ]
  },
  {
   "cell_type": "markdown",
   "id": "6f447e65",
   "metadata": {},
   "source": [
    "### Accommodates\n",
    "column name = accommodates"
   ]
  },
  {
   "cell_type": "code",
   "execution_count": 14,
   "id": "bcbb3347",
   "metadata": {},
   "outputs": [
    {
     "data": {
      "image/png": "[encoded data removed]",
      "text/plain": [
       "<Figure size 1080x360 with 2 Axes>"
      ]
     },
     "metadata": {
      "needs_background": "light"
     },
     "output_type": "display_data"
    }
   ],
   "source": [
    "fig, axes = plt.subplots(1, 2, figsize=(15, 5))\n",
    "# bar chart\n",
    "axes0 = sns.countplot(data=df, x=df.accommodates, palette='Set1', ax=axes[0])\n",
    "for p in axes0.patches:\n",
    "    x=p.get_bbox().get_points()[:,0]\n",
    "    y=p.get_bbox().get_points()[1,1]\n",
    "    axes0.annotate('{:.2f}%'.format(100.*y/len(df)), (x.mean(), y), \n",
    "            ha='center', va='bottom', rotation=0)\n",
    "# price histogram for different number of 'accommodates'\n",
    "# combining all accommodates=>7 into one category '7+' \n",
    "cutoff = 8\n",
    "axes1 = sns.histplot(data=df, x=np.log10(df['price']), bins=50, kde=False, multiple='stack', palette='Set1'\n",
    "                     , hue=df['accommodates'].where(df['accommodates'] <= cutoff, cutoff), ax=axes[1])\n",
    "# Modify legend, to add f'{cutoff}+'\n",
    "legend = axes1.get_legend()\n",
    "handles = legend.legendHandles\n",
    "legend.remove()\n",
    "axes1.set_xlabel('Price')\n",
    "axes1.legend(handles, list(range(1,cutoff,1)) + [f'{cutoff}+'], title='Accommodates')\n",
    "axes1.set_xticks(range(1,5));\n",
    "axes1.set_xticklabels([10,100,1000,10000]);\n",
    "axes1.grid()"
   ]
  },
  {
   "cell_type": "markdown",
   "id": "318d6e5f",
   "metadata": {},
   "source": [
    "<br> <I>accommodates</I> is an important feature in the dataset and later we see it is one the statistically significant features\n",
    "<br> in some data sets the accommodation is zero, and I drop the listings where accommodates==0"
   ]
  },
  {
   "cell_type": "code",
   "execution_count": 15,
   "id": "d6b0565d",
   "metadata": {},
   "outputs": [],
   "source": [
    "df.drop(df[df.accommodates==0].index,inplace=True)"
   ]
  },
  {
   "cell_type": "markdown",
   "id": "b1dc2042",
   "metadata": {},
   "source": [
    "### Beds and Bedrooms\n",
    "<br> Column name = bedrooms\n",
    "<br> Column name = beds"
   ]
  },
  {
   "cell_type": "code",
   "execution_count": 16,
   "id": "fad539df",
   "metadata": {},
   "outputs": [
    {
     "data": {
      "image/png": "[encoded data removed]",
      "text/plain": [
       "<Figure size 1080x360 with 2 Axes>"
      ]
     },
     "metadata": {
      "needs_background": "light"
     },
     "output_type": "display_data"
    }
   ],
   "source": [
    "fig, axes = plt.subplots(1, 2, figsize=(15, 5))\n",
    "\n",
    "axes0 = sns.countplot(data=df, x=df.bedrooms, palette='Set1', ax=axes[0])\n",
    "for p in axes0.patches:\n",
    "    x=p.get_bbox().get_points()[:,0]\n",
    "    y=p.get_bbox().get_points()[1,1]\n",
    "    axes0.annotate('{:.1f}%'.format(100.*y/len(df)), (x.mean(), y), \n",
    "            ha='center', va='bottom', rotation=0)\n",
    "cutoff = 4\n",
    "axes1 = sns.histplot(data=df, x=np.log10(df['price']), bins=50, kde=False, multiple='stack', palette='Set1'\n",
    "                     , hue=df['bedrooms'].where(df['bedrooms'] <= cutoff, cutoff), ax=axes[1])\n",
    "# Modify legend, to add f'{cutoff}+'\n",
    "legend = axes1.get_legend()\n",
    "handles = legend.legendHandles\n",
    "legend.remove()\n",
    "axes1.set_xlabel('Price')\n",
    "axes1.legend(handles, list(range(1,cutoff,1)) + [f'{cutoff}+'], title='Number of Bedrooms')\n",
    "axes1.set_xticks(range(1,5));\n",
    "axes1.set_xticklabels([10,100,1000,10000]);\n",
    "axes1.grid()"
   ]
  },
  {
   "cell_type": "code",
   "execution_count": 17,
   "id": "23c579c4",
   "metadata": {},
   "outputs": [
    {
     "data": {
      "image/png": "[encoded data removed]",
      "text/plain": [
       "<Figure size 1080x360 with 2 Axes>"
      ]
     },
     "metadata": {
      "needs_background": "light"
     },
     "output_type": "display_data"
    }
   ],
   "source": [
    "fig, axes = plt.subplots(1, 2, figsize=(15, 5))\n",
    "\n",
    "axes0 = sns.countplot(data=df, x=df.beds, palette='Set1', ax=axes[0])\n",
    "for p in axes0.patches:\n",
    "    x=p.get_bbox().get_points()[:,0]\n",
    "    y=p.get_bbox().get_points()[1,1]\n",
    "    axes0.annotate('{:.1f}%'.format(100.*y/len(df)), (x.mean(), y), \n",
    "            ha='center', va='bottom', rotation=0)\n",
    "axes0.set_xlabel('Number of Beds')\n",
    "cutoff = 5\n",
    "axes1 = sns.histplot(data=df, x=np.log10(df['price']), bins=50, kde=False, multiple='stack', palette='Set1'\n",
    "                     , hue=df['beds'].where(df['beds'] <= cutoff, cutoff), ax=axes[1])\n",
    "# Modify legend, to add f'{cutoff}+'\n",
    "legend = axes1.get_legend()\n",
    "handles = legend.legendHandles\n",
    "legend.remove()\n",
    "axes1.set_xlabel('Price')\n",
    "axes1.legend(handles, list(range(1,cutoff,1)) + [f'{cutoff}+'], title='Number of Beds')\n",
    "axes1.set_xticks(range(1,5));\n",
    "axes1.set_xticklabels([10,100,1000,10000]);\n",
    "axes1.grid()"
   ]
  },
  {
   "cell_type": "code",
   "execution_count": 18,
   "id": "92d2378a",
   "metadata": {},
   "outputs": [
    {
     "name": "stdout",
     "output_type": "stream",
     "text": [
      "Number of missing values in beds:  47\n",
      "Number of missing values in bedrooms:  109\n"
     ]
    }
   ],
   "source": [
    "print('Number of missing values in beds: ', df.beds.isna().sum())\n",
    "print('Number of missing values in bedrooms: ', df.bedrooms.isna().sum())"
   ]
  },
  {
   "cell_type": "code",
   "execution_count": 19,
   "id": "74f412e4",
   "metadata": {},
   "outputs": [],
   "source": [
    "# filling missing values in: beds and bedrooms\n",
    "df['beds'].fillna(df.groupby(['accommodates','room_type'])['beds'].transform('mean').transform('round'), inplace=True)\n",
    "df['beds'].fillna((df['accommodates']/2).apply(np.ceil), inplace=True)\n",
    "df['bedrooms'].fillna(df.groupby(['beds','room_type'])['bedrooms'].transform('mean').transform('round'), inplace=True)\n",
    "df['bedrooms'].fillna((df['accommodates']/2).apply(np.ceil), inplace=True)"
   ]
  },
  {
   "cell_type": "markdown",
   "id": "b924365d",
   "metadata": {},
   "source": [
    "### Bathrooms\n",
    "<br> Column name = bathroom_text\n",
    "\n",
    "<br> bathroom_text has lots of unique items\n",
    "<br> will convert it to two columns: 1) if it is shared or private, and 2) the number of bathrooms for the property"
   ]
  },
  {
   "cell_type": "code",
   "execution_count": 20,
   "id": "d0c313b4",
   "metadata": {
    "scrolled": true
   },
   "outputs": [
    {
     "data": {
      "text/plain": [
       "array(['1 bath', '1 private bath', '1.5 baths', '3.5 shared baths',\n",
       "       '1.5 shared baths', '1 shared bath', '2 baths', '3 baths',\n",
       "       '4 baths', '2 shared baths', '2.5 baths', '0 baths',\n",
       "       '2.5 shared baths', '3.5 baths', '0 shared baths',\n",
       "       'Private half-bath', '5.5 baths', '7 baths', 'Shared half-bath',\n",
       "       'Half-bath', '4.5 baths', '6 baths', '19 baths'], dtype=object)"
      ]
     },
     "execution_count": 20,
     "metadata": {},
     "output_type": "execute_result"
    }
   ],
   "source": [
    "df.bathrooms_text.unique()"
   ]
  },
  {
   "cell_type": "code",
   "execution_count": 21,
   "id": "843d3385",
   "metadata": {},
   "outputs": [
    {
     "data": {
      "text/plain": [
       "0"
      ]
     },
     "execution_count": 21,
     "metadata": {},
     "output_type": "execute_result"
    }
   ],
   "source": [
    "df.bathrooms_text.isna().sum()"
   ]
  },
  {
   "cell_type": "code",
   "execution_count": 22,
   "id": "22dd0943",
   "metadata": {
    "scrolled": false
   },
   "outputs": [
    {
     "name": "stdout",
     "output_type": "stream",
     "text": [
      "Number of listings with a shared bath:  256\n"
     ]
    }
   ],
   "source": [
    "print('Number of listings with a shared bath: ', np.nansum(df.bathrooms_text.str.contains('shared')))"
   ]
  },
  {
   "cell_type": "code",
   "execution_count": 23,
   "id": "e6067041",
   "metadata": {},
   "outputs": [],
   "source": [
    "# creating a new column, 1: if bath is shared, 0: not shared or nan\n",
    "df['bath_is_shared'] = pd.get_dummies(df.bathrooms_text.str.contains('shared'), drop_first=True)\n",
    "# I use 0 for nan for simplicity, one could have used df.room_type to improve the estimations\n",
    "df['bath_is_shared'].fillna(0, inplace=True)"
   ]
  },
  {
   "cell_type": "code",
   "execution_count": 24,
   "id": "2d5bce0c",
   "metadata": {},
   "outputs": [
    {
     "data": {
      "text/plain": [
       "256"
      ]
     },
     "execution_count": 24,
     "metadata": {},
     "output_type": "execute_result"
    }
   ],
   "source": [
    "sum(df['bath_is_shared'])"
   ]
  },
  {
   "cell_type": "code",
   "execution_count": 25,
   "id": "c8f42176",
   "metadata": {
    "scrolled": true
   },
   "outputs": [
    {
     "name": "stderr",
     "output_type": "stream",
     "text": [
      "C:\\Users\\siava\\AppData\\Local\\Temp/ipykernel_10560/110679144.py:5: SettingWithCopyWarning: \n",
      "A value is trying to be set on a copy of a slice from a DataFrame\n",
      "\n",
      "See the caveats in the documentation: https://pandas.pydata.org/pandas-docs/stable/user_guide/indexing.html#returning-a-view-versus-a-copy\n",
      "  df['bathroom_numbers'][df.bathrooms_text.str.contains('half', na=False, regex=False)]=0.5\n"
     ]
    }
   ],
   "source": [
    "# extracting the numerical values from bathrooms_text\n",
    "df['bathroom_numbers'] = df.bathrooms_text.str.extract('([0-9][,.]*[0-9]*)')\n",
    "\n",
    "# extracting 'half' from bathrooms_text and assigning 0.5\n",
    "df['bathroom_numbers'][df.bathrooms_text.str.contains('half', na=False, regex=False)]=0.5\n",
    "\n",
    "df['bathroom_numbers'] = pd.to_numeric(df['bathroom_numbers'])\n",
    "df.drop(columns=['bathrooms_text'], inplace=True)"
   ]
  },
  {
   "cell_type": "markdown",
   "id": "65b4fd85",
   "metadata": {},
   "source": [
    "<br> filling possibble missing values with 1 (a property should have a bathroom)"
   ]
  },
  {
   "cell_type": "code",
   "execution_count": 26,
   "id": "dd340cb1",
   "metadata": {},
   "outputs": [],
   "source": [
    "df['bathroom_numbers'].fillna(1, inplace=True)"
   ]
  },
  {
   "cell_type": "code",
   "execution_count": 27,
   "id": "7798b8d0",
   "metadata": {},
   "outputs": [
    {
     "data": {
      "image/png": "[encoded data removed]",
      "text/plain": [
       "<Figure size 1080x360 with 2 Axes>"
      ]
     },
     "metadata": {
      "needs_background": "light"
     },
     "output_type": "display_data"
    }
   ],
   "source": [
    "fig, axes = plt.subplots(1, 2, figsize=(15, 5))\n",
    "\n",
    "axes0 = sns.countplot(data=df, x=df.bathroom_numbers, palette='Set1', ax=axes[0])\n",
    "for p in axes0.patches:\n",
    "    x=p.get_bbox().get_points()[:,0]\n",
    "    y=p.get_bbox().get_points()[1,1]\n",
    "    axes0.annotate('{:.1f}%'.format(100.*y/len(df)), (x.mean(), y), \n",
    "            ha='center', va='bottom', rotation=0)\n",
    "axes0.set_xlabel('Number of Bathrooms')\n",
    "\n",
    "cutoff = 2.5\n",
    "axes1 = sns.histplot(data=df, x=np.log10(df['price']), bins=50, kde=False, multiple='stack', palette='Set1'\n",
    "                     , hue=df['bathroom_numbers'].where(df['bathroom_numbers'] <= cutoff, cutoff), ax=axes[1])\n",
    "# Modify legend, to add f'{cutoff}+'\n",
    "legend = axes1.get_legend()\n",
    "handles = legend.legendHandles\n",
    "legend.remove()\n",
    "axes1.set_xlabel('Price')\n",
    "axes1.legend(handles, list(np.arange(0,cutoff,0.5)) + [f'{cutoff}+'], title='Number of Baths')\n",
    "axes1.set_xticks(range(1,5));\n",
    "axes1.set_xticklabels([10,100,1000,10000]);\n",
    "axes1.grid()"
   ]
  },
  {
   "cell_type": "markdown",
   "id": "c80c7d23",
   "metadata": {},
   "source": [
    "### Neighbourhood"
   ]
  },
  {
   "cell_type": "code",
   "execution_count": 28,
   "id": "75e4f145",
   "metadata": {
    "scrolled": false
   },
   "outputs": [
    {
     "name": "stdout",
     "output_type": "stream",
     "text": [
      "['Saint Andrews' 'Dundas' 'City of Saint John' 'Sackville' 'Shippagan'\n",
      " 'Cambridge' 'Moncton' 'Gagetown' 'Bright' 'Springfield' 'Richibucto'\n",
      " 'Kingston' 'Hillsborough' 'Alnwick' 'Fredericton' 'Saint George'\n",
      " 'Shediac' 'Wellington' 'Grand Manan' 'Hopewell' 'Westmorland' 'Chipman'\n",
      " 'Harvey' 'Saint-Louis' 'Saint-Quentin' 'Southhampton' 'Wickham'\n",
      " 'Salisbury' 'Saint Patrick' 'Douglas' 'Waterford' 'Kent' 'Balmoral'\n",
      " 'Sussex' 'Sheffield' 'Grand Falls Town' 'Beresford' 'Coverdale'\n",
      " 'Waterborough' 'Saint Martins' 'Grimmer' 'Saint David' 'Colborne'\n",
      " 'Norton' 'Brighton' 'Saint Stephen' 'Canning' 'Saint-Basile' 'Botsford'\n",
      " 'Manners Sutton' 'Saumarez' 'Caraquet' 'Hardwicke' 'Saint Croix'\n",
      " 'Blissville' 'Rothesay' 'Nelson' 'Paquetville' 'Bathurst' 'Blissfield'\n",
      " 'Carleton' 'Canterbury' 'Saint-Jacques' 'Kingsclear' 'Alma' 'Derby'\n",
      " 'Wicklow' 'Wakefield' 'West Isles' 'Dorchester' 'Stanley' 'Glenelg'\n",
      " 'Chatham' 'Pennfield' 'Elgin' 'Northampton' 'Southesk' 'Andover'\n",
      " 'Saint Marys' 'Newcastle' 'Weldford' 'Dufferin' 'Blackville'\n",
      " 'Maugerville' 'Grand Falls' 'Northesk' 'Woodstock' 'Westfield'\n",
      " 'New Bandon' 'Hampton' 'Perth' 'Addington' 'Lac-Baker' 'Madawaska'\n",
      " 'Dalhousie' 'Sainte-Joseph' 'Cardwell' 'Inkerman' 'Brunswick' 'Ludlow'\n",
      " 'Aberdeen' 'Dumfries' 'Peel' 'North Lake' 'Campobello' 'New Maryland'\n",
      " 'Studholm' 'Lincoln' 'Burton' 'Wilmot' 'Eldon' 'Prince William' 'Gordon'\n",
      " 'Saint Mary' 'Drummond' 'Saint-Francois' 'Queensbury' 'Musquash'\n",
      " 'Hampstead' 'Lorne' 'McAdam' 'Johnston' 'Petersville' 'Saint James'\n",
      " 'Greenwich' 'Durham' 'Saint-Hilaire' 'Kars' 'Simonds' 'Lepreau']\n",
      "0\n"
     ]
    }
   ],
   "source": [
    "print(df['neighbourhood_cleansed'].unique())\n",
    "print(df['neighbourhood_cleansed'].isna().sum())"
   ]
  },
  {
   "cell_type": "code",
   "execution_count": 29,
   "id": "bd0d5787",
   "metadata": {},
   "outputs": [
    {
     "data": {
      "image/png": "[encoded data removed]",
      "text/plain": [
       "<Figure size 1080x360 with 1 Axes>"
      ]
     },
     "metadata": {
      "needs_background": "light"
     },
     "output_type": "display_data"
    }
   ],
   "source": [
    "plt.figure(figsize=(15,5))\n",
    "\n",
    "# use order to sort bars according to the average neghbourhood price\n",
    "order = df.groupby(['neighbourhood_cleansed'])['price'].mean().index \n",
    "axes0 = sns.countplot(data=df, x=df.neighbourhood_cleansed, palette='Set1', order=order)\n",
    "for p in axes0.patches:\n",
    "    x=p.get_bbox().get_points()[:,0]\n",
    "    y=p.get_bbox().get_points()[1,1]\n",
    "    axes0.annotate('{:.1f}%'.format(100.*y/len(df)), (x.mean(), y), \n",
    "            ha='center', va='bottom', rotation=0)\n",
    "axes0.set_xticklabels(axes0.get_xticklabels(),rotation = 90);\n",
    "axes0.set_xlabel('Neighbourhood');"
   ]
  },
  {
   "cell_type": "code",
   "execution_count": 30,
   "id": "e3e3c0f0",
   "metadata": {
    "scrolled": false
   },
   "outputs": [],
   "source": [
    "# creating a list of neighbourhoods where total number of listings are less than 5\n",
    "# due to few listings in these neighbourhoods (some with 1 listing) the predictions will not be accurate\n",
    "# these data will not be discarded, but a single dummy variable is used to represent these neighbourhoods\n",
    "temp_df = pd.DataFrame(df.neighbourhood_cleansed.value_counts())\n",
    "non_sig_neighbourhood = temp_df[temp_df.neighbourhood_cleansed<5].index"
   ]
  },
  {
   "cell_type": "markdown",
   "id": "d4255cfa",
   "metadata": {},
   "source": [
    "### Property Type\n",
    "<br> Column name = property_type"
   ]
  },
  {
   "cell_type": "code",
   "execution_count": 31,
   "id": "4ba758d9",
   "metadata": {
    "scrolled": false
   },
   "outputs": [
    {
     "name": "stdout",
     "output_type": "stream",
     "text": [
      "['Entire residential home' 'Entire cottage' 'Entire rental unit'\n",
      " 'Private room in residential home' 'Entire chalet'\n",
      " 'Room in boutique hotel' 'Private room in bed and breakfast'\n",
      " 'Entire condominium (condo)' 'Entire cabin' 'Private room in guest suite'\n",
      " 'Entire guest suite' 'Entire loft' 'Camper/RV' 'Entire bed and breakfast'\n",
      " 'Entire guesthouse' 'Entire serviced apartment'\n",
      " 'Private room in farm stay' 'Campsite' 'Private room in rental unit'\n",
      " 'Entire place' 'Private room in nature lodge' 'Private room in villa'\n",
      " 'Private room in chalet' 'Tiny house' 'Room in bed and breakfast'\n",
      " 'Private room in castle' 'Castle' 'Private room'\n",
      " 'Private room in bungalow' 'Dome house' 'Entire bungalow'\n",
      " 'Private room in loft' 'Entire townhouse' 'Tent' 'Private room in barn'\n",
      " 'Room in serviced apartment' 'Private room in island' 'Treehouse' 'Yurt'\n",
      " 'Private room in tent' 'Private room in condominium (condo)' 'Farm stay'\n",
      " 'Private room in serviced apartment' 'Private room in tiny house'\n",
      " 'Entire villa' 'Private room in guesthouse' 'Room in hotel'\n",
      " 'Private room in earth house' 'Barn' 'Room in nature lodge'\n",
      " 'Private room in hut' 'Shared room in townhouse'\n",
      " 'Private room in townhouse' 'Island' 'Private room in cottage' 'Train'\n",
      " 'Private room in casa particular' 'Entire vacation home']\n",
      "0\n"
     ]
    }
   ],
   "source": [
    "print(df['property_type'].unique())\n",
    "print(df['property_type'].isna().sum())"
   ]
  },
  {
   "cell_type": "markdown",
   "id": "091ef65f",
   "metadata": {},
   "source": [
    "<br> property_type has lots of unique elements and room_type is descriptive enough.\n",
    "<br> drop it for now\n",
    "<br> property_type column may be useful for analysing outliers, etc."
   ]
  },
  {
   "cell_type": "code",
   "execution_count": 32,
   "id": "ce3d96fe",
   "metadata": {},
   "outputs": [],
   "source": [
    "df.drop(columns=['property_type'], inplace=True)"
   ]
  },
  {
   "cell_type": "markdown",
   "id": "f1debd86",
   "metadata": {},
   "source": [
    "### Number of Reviews and Scores\n",
    "<br> Column name = \n",
    "<br>&emsp;                    'number_of_reviews'\n",
    "<br>&emsp;                    'number_of_reviews_ltm'\n",
    "<br>&emsp;                    'number_of_reviews_l30d'\n",
    "<br>\n",
    "<br>&emsp;                    'review_scores_rating'\n",
    "<br>&emsp;                    'review_scores_accuracy'\n",
    "<br>&emsp;                    'review_scores_cleanliness'\n",
    "<br>&emsp;                    'review_scores_checkin'\n",
    "<br>&emsp;                    'review_scores_communication'\n",
    "<br>&emsp;                    'review_scores_location'\n",
    "<br>&emsp;                    'review_scores_value'"
   ]
  },
  {
   "cell_type": "code",
   "execution_count": 33,
   "id": "3c9870d8",
   "metadata": {},
   "outputs": [],
   "source": [
    "# if the number_of_reviews is zero the columns listed below in review_cols are NaN\n",
    "# fillna with 0 in review_cols, and MUST use/keep number_of_reviews to describe zero review_scores_*\n",
    "\n",
    "n_review_cols = ['number_of_reviews', 'number_of_reviews_ltm', 'number_of_reviews_l30d', 'reviews_per_month']\n",
    "\n",
    "review_score_cols = ['review_scores_rating', 'review_scores_accuracy', 'review_scores_cleanliness'\n",
    "                     , 'review_scores_checkin', 'review_scores_communication', 'review_scores_location'\n",
    "                     , 'review_scores_value']\n",
    "for col in review_score_cols:\n",
    "    df[col].fillna(0, inplace=True)\n",
    "\n",
    "df['reviews_per_month'].fillna(0, inplace=True)"
   ]
  },
  {
   "cell_type": "markdown",
   "id": "dfd74725",
   "metadata": {},
   "source": [
    "### Availability\n",
    "<br> Column name = has_availability"
   ]
  },
  {
   "cell_type": "code",
   "execution_count": 34,
   "id": "75d8e5bc",
   "metadata": {},
   "outputs": [
    {
     "name": "stdout",
     "output_type": "stream",
     "text": [
      "['t' 'f']\n",
      "0\n"
     ]
    }
   ],
   "source": [
    "print(df['has_availability'].unique())\n",
    "print(df['has_availability'].isna().sum())"
   ]
  },
  {
   "cell_type": "markdown",
   "id": "b13e3d51",
   "metadata": {},
   "source": [
    "### Bookable\n",
    "<br> Column name = instant_bookable"
   ]
  },
  {
   "cell_type": "code",
   "execution_count": 35,
   "id": "ff5031f7",
   "metadata": {},
   "outputs": [
    {
     "name": "stdout",
     "output_type": "stream",
     "text": [
      "['f' 't']\n",
      "0\n"
     ]
    }
   ],
   "source": [
    "print(df['instant_bookable'].unique())\n",
    "print(df['instant_bookable'].isna().sum())"
   ]
  },
  {
   "cell_type": "markdown",
   "id": "0ae09a0b",
   "metadata": {},
   "source": [
    "## Get Dummies"
   ]
  },
  {
   "cell_type": "code",
   "execution_count": 36,
   "id": "356a68eb",
   "metadata": {},
   "outputs": [],
   "source": [
    "df = pd.get_dummies(df, columns=['room_type'], prefix=['room_type'], prefix_sep='_',drop_first=False)"
   ]
  },
  {
   "cell_type": "code",
   "execution_count": 37,
   "id": "6112a762",
   "metadata": {},
   "outputs": [],
   "source": [
    "df = pd.get_dummies(df.replace(non_sig_neighbourhood, None), columns=['neighbourhood_cleansed']\n",
    "                    , prefix=['neighbourhood'], prefix_sep='_',drop_first=False)"
   ]
  },
  {
   "cell_type": "code",
   "execution_count": 38,
   "id": "8d170994",
   "metadata": {},
   "outputs": [],
   "source": [
    "df = pd.get_dummies(df, columns=['has_availability'], prefix=['has_availability'], prefix_sep='_',drop_first=True)"
   ]
  },
  {
   "cell_type": "code",
   "execution_count": 39,
   "id": "bf15e2b4",
   "metadata": {},
   "outputs": [],
   "source": [
    "df = pd.get_dummies(df, columns=['instant_bookable'], prefix=['bookable'], prefix_sep='_',drop_first=True)"
   ]
  },
  {
   "cell_type": "markdown",
   "id": "60e35cf8",
   "metadata": {},
   "source": [
    "## Principal Component Analysis and Low Variance Filter"
   ]
  },
  {
   "cell_type": "markdown",
   "id": "f4f52179",
   "metadata": {},
   "source": [
    "### Room Type"
   ]
  },
  {
   "cell_type": "code",
   "execution_count": 40,
   "id": "ce4f4911",
   "metadata": {},
   "outputs": [],
   "source": [
    "room_type_cols = df.columns[df.columns.str.startswith('room_type')]"
   ]
  },
  {
   "cell_type": "code",
   "execution_count": 41,
   "id": "d827b29f",
   "metadata": {},
   "outputs": [
    {
     "name": "stdout",
     "output_type": "stream",
     "text": [
      "Number of room types in each category:\n",
      "room_type_Entire home/apt    1690\n",
      "room_type_Hotel room            6\n",
      "room_type_Private room        533\n",
      "room_type_Shared room           1\n",
      "dtype: int64\n",
      "\n",
      "Variance:\n",
      "room_type_Entire home/apt    0.183597\n",
      "room_type_Hotel room         0.002685\n",
      "room_type_Private room       0.181968\n",
      "room_type_Shared room        0.000448\n",
      "dtype: float64\n"
     ]
    }
   ],
   "source": [
    "df_room_type = df[room_type_cols]\n",
    "\n",
    "print('Number of room types in each category:')\n",
    "print(df_room_type.sum())\n",
    "print()\n",
    "print('Variance:')\n",
    "print(df_room_type.var())"
   ]
  },
  {
   "cell_type": "markdown",
   "id": "30ac6a6d",
   "metadata": {},
   "source": [
    "<br> The above data show that two categories, <I>Hotel Room</I> and <I>Shared Room</I> have a variance less than 0.003.\n",
    "<br> Using sklearn.feature_selection, VarianceThreshold, we can drop these columns. In other words there is not enough data/information to study variations amoung these two room type categories. \n",
    "<br> Here we will implement Principal Component Analysis and use only one component to describe the <I>room type</I> data\n",
    "<br> Based on the data, this component is very close to defining if the property is an <i>Entire Home/apartment</i> or a <i>Room</i>"
   ]
  },
  {
   "cell_type": "code",
   "execution_count": 42,
   "id": "763ca507",
   "metadata": {},
   "outputs": [
    {
     "name": "stdout",
     "output_type": "stream",
     "text": [
      "Explained Variance Ratio: [0.9872697]\n",
      "Original number of columns:  4\n",
      "Principal Components =  1\n"
     ]
    }
   ],
   "source": [
    "from sklearn.decomposition import PCA\n",
    "\n",
    "pca = PCA(n_components=1)\n",
    "pca.fit(df_room_type)\n",
    "\n",
    "print('Explained Variance Ratio:', pca.explained_variance_ratio_)\n",
    "\n",
    "room_type_pca = pca.transform(df_room_type)\n",
    "print('Original number of columns: ', df_room_type.shape[1])\n",
    "print('Principal Components = ',room_type_pca.shape[1])"
   ]
  },
  {
   "cell_type": "code",
   "execution_count": 43,
   "id": "beec667d",
   "metadata": {},
   "outputs": [],
   "source": [
    "df.drop(columns=room_type_cols, inplace=True)\n",
    "df['room_type_pca'] = room_type_pca"
   ]
  },
  {
   "cell_type": "markdown",
   "id": "474f0ceb",
   "metadata": {},
   "source": [
    "### Number of Reviews and Review Scores"
   ]
  },
  {
   "cell_type": "code",
   "execution_count": 44,
   "id": "c87ba3d3",
   "metadata": {},
   "outputs": [],
   "source": [
    "# these two list of columns were defined before:\n",
    "\n",
    "# n_review_cols = ['number_of_reviews', 'number_of_reviews_ltm', 'number_of_reviews_l30d', 'reviews_per_month']\n",
    "\n",
    "# review_score_cols = ['review_scores_rating', 'review_scores_accuracy', 'review_scores_cleanliness'\n",
    "#                    , 'review_scores_checkin', 'review_scores_communication', 'review_scores_location'\n",
    "#                    , 'review_scores_value']"
   ]
  },
  {
   "cell_type": "markdown",
   "id": "6365205d",
   "metadata": {},
   "source": [
    "<br> first we scale the review data (both list of columns for the number of reviews and the review scores)\n",
    "<br> scaled data are implemented for calculating the correlation coefficients, and extracting the principal componenets"
   ]
  },
  {
   "cell_type": "code",
   "execution_count": 45,
   "id": "ec5a38aa",
   "metadata": {},
   "outputs": [],
   "source": [
    "from sklearn.preprocessing import MinMaxScaler\n",
    "\n",
    "scaler = MinMaxScaler()\n",
    "scaler.fit(df[n_review_cols])\n",
    "scaled_n_review_features = scaler.transform(df[n_review_cols])\n",
    "scaler.fit(df[review_score_cols])\n",
    "scaled_review_score_features = scaler.transform(df[review_score_cols])"
   ]
  },
  {
   "cell_type": "markdown",
   "id": "4cadf2d9",
   "metadata": {},
   "source": [
    "<br> The following graphs show the calculated pairwise correlation of columns using Pearson as the method\n",
    "<br>\n",
    "<br> The results highlight very high correlation between different review scores,\n",
    "<br> whereas, the correlation coefficient between the columns related to the number of reviews are not highly correlated (compared to review scores)."
   ]
  },
  {
   "cell_type": "code",
   "execution_count": 46,
   "id": "57d0b992",
   "metadata": {
    "scrolled": false
   },
   "outputs": [
    {
     "data": {
      "image/png": "[encoded data removed]",
      "text/plain": [
       "<Figure size 1080x360 with 4 Axes>"
      ]
     },
     "metadata": {
      "needs_background": "light"
     },
     "output_type": "display_data"
    }
   ],
   "source": [
    "fig, axes = plt.subplots(1, 2, figsize=(15, 5))\n",
    "\n",
    "n_review_corr = pd.DataFrame(scaled_n_review_features).corr()\n",
    "labels=['total', 'ltm', 'l30d', 'per_month']\n",
    "sns.heatmap(n_review_corr, annot=True, linewidths=.5, vmin=0, vmax=1, xticklabels=labels, yticklabels=labels, ax=axes[0])\n",
    "axes[0].title.set_text('Number of Reviews')\n",
    "\n",
    "review_score_corr = pd.DataFrame(scaled_review_score_features).corr()\n",
    "labels=[]\n",
    "for txt in review_score_cols:\n",
    "    labels.append(txt.replace('review_scores_', ''))\n",
    "sns.heatmap(review_score_corr, annot=True, linewidths=.5, vmin=0, vmax=1, xticklabels=labels, yticklabels=labels, ax=axes[1])\n",
    "axes[1].title.set_text('Review Scores')"
   ]
  },
  {
   "cell_type": "markdown",
   "id": "da9d56bf",
   "metadata": {},
   "source": [
    "<br> Here, Principal Component Analysis (PCA) is used to reduce the dimentionality\n",
    "<br> As we saw in the previous figure, different <i>Review Scores</i> are highly correlated and reducing the dimensionality is necessary to mitigate collinearity\n",
    "<br> i.e., different <i>Review Scores</i> columns are not independent from one another, and a single PCA component captures 99% of the variance"
   ]
  },
  {
   "cell_type": "code",
   "execution_count": 47,
   "id": "6916bc26",
   "metadata": {},
   "outputs": [
    {
     "name": "stdout",
     "output_type": "stream",
     "text": [
      "Explained Variance Ratio: [0.99187491]\n",
      "Original number of columns:  7\n",
      "Principal Components:  1\n"
     ]
    }
   ],
   "source": [
    "pca = PCA(n_components=1)\n",
    "# using scaled features (obtained from MinMaxScaler, not the raw review scores) as an input for PCA\n",
    "pca.fit(scaled_review_score_features)\n",
    "\n",
    "print('Explained Variance Ratio:', pca.explained_variance_ratio_)\n",
    "# print('Total Explained Variance Ratio:', pca.explained_variance_ratio_.sum())\n",
    "\n",
    "review_pca = pca.transform(scaled_review_score_features)\n",
    "print('Original number of columns: ', df[review_score_cols].shape[1])\n",
    "print('Principal Components: ', review_pca.shape[1])"
   ]
  },
  {
   "cell_type": "code",
   "execution_count": 48,
   "id": "82e3b3df",
   "metadata": {},
   "outputs": [],
   "source": [
    "df.drop(columns=review_score_cols, inplace=True)\n",
    "df['review_pca'] = review_pca"
   ]
  },
  {
   "cell_type": "markdown",
   "id": "6c5a0c76",
   "metadata": {},
   "source": [
    "## Scaling and Transforming the Data"
   ]
  },
  {
   "cell_type": "code",
   "execution_count": 49,
   "id": "cccf8112",
   "metadata": {},
   "outputs": [],
   "source": [
    "df.price = np.log10(df.price)"
   ]
  },
  {
   "cell_type": "code",
   "execution_count": 50,
   "id": "9a6eb8a7",
   "metadata": {},
   "outputs": [],
   "source": [
    "from sklearn.preprocessing import MinMaxScaler"
   ]
  },
  {
   "cell_type": "code",
   "execution_count": 51,
   "id": "de859af9",
   "metadata": {
    "scrolled": true
   },
   "outputs": [],
   "source": [
    "scaler = MinMaxScaler()\n",
    "scaler.fit(df)\n",
    "scaled_features = scaler.transform(df)\n",
    "df_feat = pd.DataFrame(scaled_features, columns=df.columns)"
   ]
  },
  {
   "cell_type": "code",
   "execution_count": 52,
   "id": "36227c49",
   "metadata": {},
   "outputs": [],
   "source": [
    "col_features = df.columns.drop('price')\n",
    "col_target = ['price']\n",
    "\n",
    "scaler_feat = MinMaxScaler()\n",
    "scaler_feat.fit(df[col_features])\n",
    "scaled_features = scaler_feat.transform(df[col_features])\n",
    "df_feat = pd.DataFrame(scaled_features, columns=col_features)\n",
    "\n",
    "scaler_target = MinMaxScaler()\n",
    "scaler_target.fit(df[col_target])\n",
    "scaled_target = scaler_target.transform(df[col_target])\n",
    "df_target = pd.DataFrame(scaled_target, columns=col_target)\n",
    "\n",
    "X = df_feat\n",
    "y = df_target"
   ]
  },
  {
   "cell_type": "markdown",
   "id": "ce0b96f8",
   "metadata": {},
   "source": [
    "## Linear Regression Analysis"
   ]
  },
  {
   "cell_type": "markdown",
   "id": "e74f9e26",
   "metadata": {},
   "source": [
    "<br> In this section, I use Linear Regression Analysis (Ordinary Least Squares, OLS)\n",
    "<br> The calculated p-values and coefficients point out the statistically significant relationships"
   ]
  },
  {
   "cell_type": "code",
   "execution_count": 53,
   "id": "b70a7bc4",
   "metadata": {},
   "outputs": [
    {
     "name": "stderr",
     "output_type": "stream",
     "text": [
      "C:\\Users\\siava\\anaconda3\\lib\\site-packages\\statsmodels\\tsa\\tsatools.py:142: FutureWarning: In a future version of pandas all arguments of concat except for the argument 'objs' will be keyword-only\n",
      "  x = pd.concat(x[::order], 1)\n"
     ]
    }
   ],
   "source": [
    "import statsmodels.api as sm\n",
    "from scipy import stats\n",
    "\n",
    "\n",
    "X2 = sm.add_constant(X)\n",
    "est = sm.OLS(y, X2)\n",
    "results = est.fit()\n",
    "# print(results.summary())"
   ]
  },
  {
   "cell_type": "markdown",
   "id": "9da4f014",
   "metadata": {},
   "source": [
    "<br> Creating a pandas DataFrame using Ordinary Least Squares (OLS) results"
   ]
  },
  {
   "cell_type": "code",
   "execution_count": 54,
   "id": "0a0d99bf",
   "metadata": {
    "scrolled": false
   },
   "outputs": [],
   "source": [
    "results_df = pd.DataFrame(data=list(zip(results.params.values,results.bse.values, results.tvalues.values\n",
    "                                        , results.pvalues.values, results.conf_int().values[:,0]\n",
    "                                        , results.conf_int().values[:,1])))\n",
    "results_df.index=results.params.index\n",
    "results_df.columns=['coef', 'std_err', 't_value', 'p_value', 'conf_int_0.25', 'conf_int_0.75']\n",
    "results_df.drop(index=['const', 'id'], axis=0, inplace=True)"
   ]
  },
  {
   "cell_type": "markdown",
   "id": "8442d09c",
   "metadata": {},
   "source": [
    "<br> highlighting statistically significant features using p_value<0.05"
   ]
  },
  {
   "cell_type": "code",
   "execution_count": 55,
   "id": "58665983",
   "metadata": {
    "scrolled": false
   },
   "outputs": [
    {
     "data": {
      "text/html": [
       "<style type=\"text/css\">\n",
       "#T_6f785_row0_col0 {\n",
       "  width: 10em;\n",
       "  height: 80%;\n",
       "  background: linear-gradient(90deg, transparent 50.0%, #5fba7d 50.0%, #5fba7d 100.0%, transparent 100.0%);\n",
       "}\n",
       "#T_6f785_row0_col3, #T_6f785_row1_col3, #T_6f785_row2_col3, #T_6f785_row3_col3, #T_6f785_row4_col3, #T_6f785_row5_col3, #T_6f785_row6_col3, #T_6f785_row8_col3, #T_6f785_row9_col3, #T_6f785_row11_col3, #T_6f785_row12_col3, #T_6f785_row16_col3, #T_6f785_row17_col3, #T_6f785_row18_col3, #T_6f785_row19_col3, #T_6f785_row20_col3, #T_6f785_row22_col3, #T_6f785_row25_col3, #T_6f785_row26_col3, #T_6f785_row31_col3, #T_6f785_row33_col3, #T_6f785_row36_col3, #T_6f785_row38_col3, #T_6f785_row44_col3, #T_6f785_row54_col3, #T_6f785_row67_col3, #T_6f785_row71_col3 {\n",
       "  background-color: #5fba7d;\n",
       "}\n",
       "#T_6f785_row1_col0 {\n",
       "  width: 10em;\n",
       "  height: 80%;\n",
       "  background: linear-gradient(90deg, transparent 50.0%, #5fba7d 50.0%, #5fba7d 66.8%, transparent 66.8%);\n",
       "}\n",
       "#T_6f785_row2_col0 {\n",
       "  width: 10em;\n",
       "  height: 80%;\n",
       "  background: linear-gradient(90deg, transparent 36.6%, #d65f5f 36.6%, #d65f5f 50.0%, transparent 50.0%);\n",
       "}\n",
       "#T_6f785_row3_col0 {\n",
       "  width: 10em;\n",
       "  height: 80%;\n",
       "  background: linear-gradient(90deg, transparent 50.0%, #5fba7d 50.0%, #5fba7d 63.0%, transparent 63.0%);\n",
       "}\n",
       "#T_6f785_row4_col0 {\n",
       "  width: 10em;\n",
       "  height: 80%;\n",
       "  background: linear-gradient(90deg, transparent 38.0%, #d65f5f 38.0%, #d65f5f 50.0%, transparent 50.0%);\n",
       "}\n",
       "#T_6f785_row5_col0 {\n",
       "  width: 10em;\n",
       "  height: 80%;\n",
       "  background: linear-gradient(90deg, transparent 42.1%, #d65f5f 42.1%, #d65f5f 50.0%, transparent 50.0%);\n",
       "}\n",
       "#T_6f785_row6_col0 {\n",
       "  width: 10em;\n",
       "  height: 80%;\n",
       "  background: linear-gradient(90deg, transparent 42.2%, #d65f5f 42.2%, #d65f5f 50.0%, transparent 50.0%);\n",
       "}\n",
       "#T_6f785_row7_col0 {\n",
       "  width: 10em;\n",
       "  height: 80%;\n",
       "  background: linear-gradient(90deg, transparent 42.5%, #d65f5f 42.5%, #d65f5f 50.0%, transparent 50.0%);\n",
       "}\n",
       "#T_6f785_row7_col3, #T_6f785_row10_col3, #T_6f785_row13_col3, #T_6f785_row14_col3, #T_6f785_row15_col3, #T_6f785_row21_col3, #T_6f785_row23_col3, #T_6f785_row24_col3, #T_6f785_row27_col3, #T_6f785_row28_col3, #T_6f785_row29_col3, #T_6f785_row30_col3, #T_6f785_row32_col3, #T_6f785_row34_col3, #T_6f785_row35_col3, #T_6f785_row37_col3, #T_6f785_row39_col3, #T_6f785_row40_col3, #T_6f785_row41_col3, #T_6f785_row42_col3, #T_6f785_row43_col3, #T_6f785_row45_col3, #T_6f785_row46_col3, #T_6f785_row47_col3, #T_6f785_row48_col3, #T_6f785_row49_col3, #T_6f785_row50_col3, #T_6f785_row51_col3, #T_6f785_row52_col3, #T_6f785_row53_col3, #T_6f785_row55_col3, #T_6f785_row56_col3, #T_6f785_row57_col3, #T_6f785_row58_col3, #T_6f785_row59_col3, #T_6f785_row60_col3, #T_6f785_row61_col3, #T_6f785_row62_col3, #T_6f785_row63_col3, #T_6f785_row64_col3, #T_6f785_row65_col3, #T_6f785_row66_col3, #T_6f785_row68_col3, #T_6f785_row69_col3, #T_6f785_row70_col3, #T_6f785_row72_col3, #T_6f785_row73_col3, #T_6f785_row74_col3, #T_6f785_row75_col3, #T_6f785_row76_col3, #T_6f785_row77_col3, #T_6f785_row78_col3, #T_6f785_row79_col3, #T_6f785_row80_col3, #T_6f785_row81_col3, #T_6f785_row82_col3, #T_6f785_row83_col3, #T_6f785_row84_col3, #T_6f785_row85_col3, #T_6f785_row86_col3, #T_6f785_row87_col3, #T_6f785_row88_col3, #T_6f785_row89_col3, #T_6f785_row90_col3, #T_6f785_row91_col3, #T_6f785_row92_col3, #T_6f785_row93_col3, #T_6f785_row94_col3, #T_6f785_row95_col3, #T_6f785_row96_col3, #T_6f785_row97_col3 {\n",
       "  background-color: #d65f5f;\n",
       "}\n",
       "#T_6f785_row8_col0 {\n",
       "  width: 10em;\n",
       "  height: 80%;\n",
       "  background: linear-gradient(90deg, transparent 50.0%, #5fba7d 50.0%, #5fba7d 56.7%, transparent 56.7%);\n",
       "}\n",
       "#T_6f785_row9_col0 {\n",
       "  width: 10em;\n",
       "  height: 80%;\n",
       "  background: linear-gradient(90deg, transparent 50.0%, #5fba7d 50.0%, #5fba7d 56.5%, transparent 56.5%);\n",
       "}\n",
       "#T_6f785_row10_col0 {\n",
       "  width: 10em;\n",
       "  height: 80%;\n",
       "  background: linear-gradient(90deg, transparent 43.6%, #d65f5f 43.6%, #d65f5f 50.0%, transparent 50.0%);\n",
       "}\n",
       "#T_6f785_row11_col0 {\n",
       "  width: 10em;\n",
       "  height: 80%;\n",
       "  background: linear-gradient(90deg, transparent 43.7%, #d65f5f 43.7%, #d65f5f 50.0%, transparent 50.0%);\n",
       "}\n",
       "#T_6f785_row12_col0 {\n",
       "  width: 10em;\n",
       "  height: 80%;\n",
       "  background: linear-gradient(90deg, transparent 50.0%, #5fba7d 50.0%, #5fba7d 55.9%, transparent 55.9%);\n",
       "}\n",
       "#T_6f785_row13_col0 {\n",
       "  width: 10em;\n",
       "  height: 80%;\n",
       "  background: linear-gradient(90deg, transparent 44.5%, #d65f5f 44.5%, #d65f5f 50.0%, transparent 50.0%);\n",
       "}\n",
       "#T_6f785_row14_col0 {\n",
       "  width: 10em;\n",
       "  height: 80%;\n",
       "  background: linear-gradient(90deg, transparent 50.0%, #5fba7d 50.0%, #5fba7d 54.8%, transparent 54.8%);\n",
       "}\n",
       "#T_6f785_row15_col0 {\n",
       "  width: 10em;\n",
       "  height: 80%;\n",
       "  background: linear-gradient(90deg, transparent 45.4%, #d65f5f 45.4%, #d65f5f 50.0%, transparent 50.0%);\n",
       "}\n",
       "#T_6f785_row16_col0 {\n",
       "  width: 10em;\n",
       "  height: 80%;\n",
       "  background: linear-gradient(90deg, transparent 50.0%, #5fba7d 50.0%, #5fba7d 54.6%, transparent 54.6%);\n",
       "}\n",
       "#T_6f785_row17_col0 {\n",
       "  width: 10em;\n",
       "  height: 80%;\n",
       "  background: linear-gradient(90deg, transparent 45.6%, #d65f5f 45.6%, #d65f5f 50.0%, transparent 50.0%);\n",
       "}\n",
       "#T_6f785_row18_col0 {\n",
       "  width: 10em;\n",
       "  height: 80%;\n",
       "  background: linear-gradient(90deg, transparent 50.0%, #5fba7d 50.0%, #5fba7d 54.4%, transparent 54.4%);\n",
       "}\n",
       "#T_6f785_row19_col0 {\n",
       "  width: 10em;\n",
       "  height: 80%;\n",
       "  background: linear-gradient(90deg, transparent 45.7%, #d65f5f 45.7%, #d65f5f 50.0%, transparent 50.0%);\n",
       "}\n",
       "#T_6f785_row20_col0 {\n",
       "  width: 10em;\n",
       "  height: 80%;\n",
       "  background: linear-gradient(90deg, transparent 50.0%, #5fba7d 50.0%, #5fba7d 54.1%, transparent 54.1%);\n",
       "}\n",
       "#T_6f785_row21_col0 {\n",
       "  width: 10em;\n",
       "  height: 80%;\n",
       "  background: linear-gradient(90deg, transparent 46.0%, #d65f5f 46.0%, #d65f5f 50.0%, transparent 50.0%);\n",
       "}\n",
       "#T_6f785_row22_col0 {\n",
       "  width: 10em;\n",
       "  height: 80%;\n",
       "  background: linear-gradient(90deg, transparent 50.0%, #5fba7d 50.0%, #5fba7d 53.8%, transparent 53.8%);\n",
       "}\n",
       "#T_6f785_row23_col0 {\n",
       "  width: 10em;\n",
       "  height: 80%;\n",
       "  background: linear-gradient(90deg, transparent 46.4%, #d65f5f 46.4%, #d65f5f 50.0%, transparent 50.0%);\n",
       "}\n",
       "#T_6f785_row24_col0, #T_6f785_row25_col0 {\n",
       "  width: 10em;\n",
       "  height: 80%;\n",
       "  background: linear-gradient(90deg, transparent 50.0%, #5fba7d 50.0%, #5fba7d 53.6%, transparent 53.6%);\n",
       "}\n",
       "#T_6f785_row26_col0 {\n",
       "  width: 10em;\n",
       "  height: 80%;\n",
       "  background: linear-gradient(90deg, transparent 46.5%, #d65f5f 46.5%, #d65f5f 50.0%, transparent 50.0%);\n",
       "}\n",
       "#T_6f785_row27_col0, #T_6f785_row28_col0, #T_6f785_row29_col0 {\n",
       "  width: 10em;\n",
       "  height: 80%;\n",
       "  background: linear-gradient(90deg, transparent 50.0%, #5fba7d 50.0%, #5fba7d 53.4%, transparent 53.4%);\n",
       "}\n",
       "#T_6f785_row30_col0 {\n",
       "  width: 10em;\n",
       "  height: 80%;\n",
       "  background: linear-gradient(90deg, transparent 50.0%, #5fba7d 50.0%, #5fba7d 53.2%, transparent 53.2%);\n",
       "}\n",
       "#T_6f785_row31_col0 {\n",
       "  width: 10em;\n",
       "  height: 80%;\n",
       "  background: linear-gradient(90deg, transparent 50.0%, #5fba7d 50.0%, #5fba7d 53.1%, transparent 53.1%);\n",
       "}\n",
       "#T_6f785_row32_col0 {\n",
       "  width: 10em;\n",
       "  height: 80%;\n",
       "  background: linear-gradient(90deg, transparent 46.9%, #d65f5f 46.9%, #d65f5f 50.0%, transparent 50.0%);\n",
       "}\n",
       "#T_6f785_row33_col0, #T_6f785_row34_col0, #T_6f785_row35_col0 {\n",
       "  width: 10em;\n",
       "  height: 80%;\n",
       "  background: linear-gradient(90deg, transparent 50.0%, #5fba7d 50.0%, #5fba7d 53.0%, transparent 53.0%);\n",
       "}\n",
       "#T_6f785_row36_col0 {\n",
       "  width: 10em;\n",
       "  height: 80%;\n",
       "  background: linear-gradient(90deg, transparent 47.0%, #d65f5f 47.0%, #d65f5f 50.0%, transparent 50.0%);\n",
       "}\n",
       "#T_6f785_row37_col0, #T_6f785_row38_col0 {\n",
       "  width: 10em;\n",
       "  height: 80%;\n",
       "  background: linear-gradient(90deg, transparent 47.2%, #d65f5f 47.2%, #d65f5f 50.0%, transparent 50.0%);\n",
       "}\n",
       "#T_6f785_row39_col0, #T_6f785_row40_col0 {\n",
       "  width: 10em;\n",
       "  height: 80%;\n",
       "  background: linear-gradient(90deg, transparent 50.0%, #5fba7d 50.0%, #5fba7d 52.7%, transparent 52.7%);\n",
       "}\n",
       "#T_6f785_row41_col0, #T_6f785_row44_col0 {\n",
       "  width: 10em;\n",
       "  height: 80%;\n",
       "  background: linear-gradient(90deg, transparent 47.5%, #d65f5f 47.5%, #d65f5f 50.0%, transparent 50.0%);\n",
       "}\n",
       "#T_6f785_row42_col0, #T_6f785_row43_col0 {\n",
       "  width: 10em;\n",
       "  height: 80%;\n",
       "  background: linear-gradient(90deg, transparent 50.0%, #5fba7d 50.0%, #5fba7d 52.5%, transparent 52.5%);\n",
       "}\n",
       "#T_6f785_row45_col0, #T_6f785_row46_col0 {\n",
       "  width: 10em;\n",
       "  height: 80%;\n",
       "  background: linear-gradient(90deg, transparent 50.0%, #5fba7d 50.0%, #5fba7d 52.2%, transparent 52.2%);\n",
       "}\n",
       "#T_6f785_row47_col0 {\n",
       "  width: 10em;\n",
       "  height: 80%;\n",
       "  background: linear-gradient(90deg, transparent 50.0%, #5fba7d 50.0%, #5fba7d 52.1%, transparent 52.1%);\n",
       "}\n",
       "#T_6f785_row48_col0 {\n",
       "  width: 10em;\n",
       "  height: 80%;\n",
       "  background: linear-gradient(90deg, transparent 48.0%, #d65f5f 48.0%, #d65f5f 50.0%, transparent 50.0%);\n",
       "}\n",
       "#T_6f785_row49_col0, #T_6f785_row50_col0 {\n",
       "  width: 10em;\n",
       "  height: 80%;\n",
       "  background: linear-gradient(90deg, transparent 50.0%, #5fba7d 50.0%, #5fba7d 51.9%, transparent 51.9%);\n",
       "}\n",
       "#T_6f785_row51_col0 {\n",
       "  width: 10em;\n",
       "  height: 80%;\n",
       "  background: linear-gradient(90deg, transparent 48.2%, #d65f5f 48.2%, #d65f5f 50.0%, transparent 50.0%);\n",
       "}\n",
       "#T_6f785_row52_col0 {\n",
       "  width: 10em;\n",
       "  height: 80%;\n",
       "  background: linear-gradient(90deg, transparent 50.0%, #5fba7d 50.0%, #5fba7d 51.8%, transparent 51.8%);\n",
       "}\n",
       "#T_6f785_row53_col0 {\n",
       "  width: 10em;\n",
       "  height: 80%;\n",
       "  background: linear-gradient(90deg, transparent 48.3%, #d65f5f 48.3%, #d65f5f 50.0%, transparent 50.0%);\n",
       "}\n",
       "#T_6f785_row54_col0 {\n",
       "  width: 10em;\n",
       "  height: 80%;\n",
       "  background: linear-gradient(90deg, transparent 50.0%, #5fba7d 50.0%, #5fba7d 51.7%, transparent 51.7%);\n",
       "}\n",
       "#T_6f785_row55_col0, #T_6f785_row56_col0 {\n",
       "  width: 10em;\n",
       "  height: 80%;\n",
       "  background: linear-gradient(90deg, transparent 50.0%, #5fba7d 50.0%, #5fba7d 51.6%, transparent 51.6%);\n",
       "}\n",
       "#T_6f785_row57_col0, #T_6f785_row58_col0 {\n",
       "  width: 10em;\n",
       "  height: 80%;\n",
       "  background: linear-gradient(90deg, transparent 48.4%, #d65f5f 48.4%, #d65f5f 50.0%, transparent 50.0%);\n",
       "}\n",
       "#T_6f785_row59_col0, #T_6f785_row60_col0 {\n",
       "  width: 10em;\n",
       "  height: 80%;\n",
       "  background: linear-gradient(90deg, transparent 50.0%, #5fba7d 50.0%, #5fba7d 51.5%, transparent 51.5%);\n",
       "}\n",
       "#T_6f785_row61_col0, #T_6f785_row62_col0, #T_6f785_row65_col0 {\n",
       "  width: 10em;\n",
       "  height: 80%;\n",
       "  background: linear-gradient(90deg, transparent 48.6%, #d65f5f 48.6%, #d65f5f 50.0%, transparent 50.0%);\n",
       "}\n",
       "#T_6f785_row63_col0, #T_6f785_row64_col0 {\n",
       "  width: 10em;\n",
       "  height: 80%;\n",
       "  background: linear-gradient(90deg, transparent 50.0%, #5fba7d 50.0%, #5fba7d 51.4%, transparent 51.4%);\n",
       "}\n",
       "#T_6f785_row66_col0, #T_6f785_row67_col0, #T_6f785_row68_col0, #T_6f785_row69_col0, #T_6f785_row70_col0 {\n",
       "  width: 10em;\n",
       "  height: 80%;\n",
       "  background: linear-gradient(90deg, transparent 50.0%, #5fba7d 50.0%, #5fba7d 51.3%, transparent 51.3%);\n",
       "}\n",
       "#T_6f785_row71_col0 {\n",
       "  width: 10em;\n",
       "  height: 80%;\n",
       "  background: linear-gradient(90deg, transparent 48.7%, #d65f5f 48.7%, #d65f5f 50.0%, transparent 50.0%);\n",
       "}\n",
       "#T_6f785_row72_col0, #T_6f785_row73_col0 {\n",
       "  width: 10em;\n",
       "  height: 80%;\n",
       "  background: linear-gradient(90deg, transparent 48.9%, #d65f5f 48.9%, #d65f5f 50.0%, transparent 50.0%);\n",
       "}\n",
       "#T_6f785_row74_col0 {\n",
       "  width: 10em;\n",
       "  height: 80%;\n",
       "  background: linear-gradient(90deg, transparent 50.0%, #5fba7d 50.0%, #5fba7d 51.1%, transparent 51.1%);\n",
       "}\n",
       "#T_6f785_row75_col0 {\n",
       "  width: 10em;\n",
       "  height: 80%;\n",
       "  background: linear-gradient(90deg, transparent 50.0%, #5fba7d 50.0%, #5fba7d 51.0%, transparent 51.0%);\n",
       "}\n",
       "#T_6f785_row76_col0 {\n",
       "  width: 10em;\n",
       "  height: 80%;\n",
       "  background: linear-gradient(90deg, transparent 49.0%, #d65f5f 49.0%, #d65f5f 50.0%, transparent 50.0%);\n",
       "}\n",
       "#T_6f785_row77_col0 {\n",
       "  width: 10em;\n",
       "  height: 80%;\n",
       "  background: linear-gradient(90deg, transparent 49.1%, #d65f5f 49.1%, #d65f5f 50.0%, transparent 50.0%);\n",
       "}\n",
       "#T_6f785_row78_col0, #T_6f785_row79_col0 {\n",
       "  width: 10em;\n",
       "  height: 80%;\n",
       "  background: linear-gradient(90deg, transparent 50.0%, #5fba7d 50.0%, #5fba7d 50.9%, transparent 50.9%);\n",
       "}\n",
       "#T_6f785_row80_col0, #T_6f785_row81_col0 {\n",
       "  width: 10em;\n",
       "  height: 80%;\n",
       "  background: linear-gradient(90deg, transparent 49.2%, #d65f5f 49.2%, #d65f5f 50.0%, transparent 50.0%);\n",
       "}\n",
       "#T_6f785_row82_col0, #T_6f785_row83_col0, #T_6f785_row84_col0 {\n",
       "  width: 10em;\n",
       "  height: 80%;\n",
       "  background: linear-gradient(90deg, transparent 49.3%, #d65f5f 49.3%, #d65f5f 50.0%, transparent 50.0%);\n",
       "}\n",
       "#T_6f785_row85_col0 {\n",
       "  width: 10em;\n",
       "  height: 80%;\n",
       "  background: linear-gradient(90deg, transparent 49.4%, #d65f5f 49.4%, #d65f5f 50.0%, transparent 50.0%);\n",
       "}\n",
       "#T_6f785_row86_col0, #T_6f785_row87_col0 {\n",
       "  width: 10em;\n",
       "  height: 80%;\n",
       "  background: linear-gradient(90deg, transparent 50.0%, #5fba7d 50.0%, #5fba7d 50.6%, transparent 50.6%);\n",
       "}\n",
       "#T_6f785_row88_col0, #T_6f785_row89_col0 {\n",
       "  width: 10em;\n",
       "  height: 80%;\n",
       "  background: linear-gradient(90deg, transparent 50.0%, #5fba7d 50.0%, #5fba7d 50.5%, transparent 50.5%);\n",
       "}\n",
       "#T_6f785_row90_col0, #T_6f785_row91_col0 {\n",
       "  width: 10em;\n",
       "  height: 80%;\n",
       "  background: linear-gradient(90deg, transparent 49.6%, #d65f5f 49.6%, #d65f5f 50.0%, transparent 50.0%);\n",
       "}\n",
       "#T_6f785_row92_col0, #T_6f785_row94_col0 {\n",
       "  width: 10em;\n",
       "  height: 80%;\n",
       "  background: linear-gradient(90deg, transparent 49.7%, #d65f5f 49.7%, #d65f5f 50.0%, transparent 50.0%);\n",
       "}\n",
       "#T_6f785_row93_col0 {\n",
       "  width: 10em;\n",
       "  height: 80%;\n",
       "  background: linear-gradient(90deg, transparent 50.0%, #5fba7d 50.0%, #5fba7d 50.3%, transparent 50.3%);\n",
       "}\n",
       "#T_6f785_row95_col0 {\n",
       "  width: 10em;\n",
       "  height: 80%;\n",
       "  background: linear-gradient(90deg, transparent 50.0%, #5fba7d 50.0%, #5fba7d 50.2%, transparent 50.2%);\n",
       "}\n",
       "#T_6f785_row96_col0 {\n",
       "  width: 10em;\n",
       "  height: 80%;\n",
       "  background: linear-gradient(90deg, transparent 49.8%, #d65f5f 49.8%, #d65f5f 50.0%, transparent 50.0%);\n",
       "}\n",
       "#T_6f785_row97_col0 {\n",
       "  width: 10em;\n",
       "  height: 80%;\n",
       "  background: linear-gradient(90deg, transparent 50.0%, #5fba7d 50.0%, #5fba7d 50.0%, transparent 50.0%);\n",
       "}\n",
       "</style>\n",
       "<table id=\"T_6f785_\">\n",
       "  <thead>\n",
       "    <tr>\n",
       "      <th class=\"blank level0\" >&nbsp;</th>\n",
       "      <th class=\"col_heading level0 col0\" >coef</th>\n",
       "      <th class=\"col_heading level0 col1\" >std_err</th>\n",
       "      <th class=\"col_heading level0 col2\" >t_value</th>\n",
       "      <th class=\"col_heading level0 col3\" >p_value</th>\n",
       "      <th class=\"col_heading level0 col4\" >conf_int_0.25</th>\n",
       "      <th class=\"col_heading level0 col5\" >conf_int_0.75</th>\n",
       "    </tr>\n",
       "  </thead>\n",
       "  <tbody>\n",
       "    <tr>\n",
       "      <th id=\"T_6f785_level0_row0\" class=\"row_heading level0 row0\" >bathroom_numbers</th>\n",
       "      <td id=\"T_6f785_row0_col0\" class=\"data row0 col0\" >0.594082</td>\n",
       "      <td id=\"T_6f785_row0_col1\" class=\"data row0 col1\" >0.061400</td>\n",
       "      <td id=\"T_6f785_row0_col2\" class=\"data row0 col2\" >9.675671</td>\n",
       "      <td id=\"T_6f785_row0_col3\" class=\"data row0 col3\" >0.000000</td>\n",
       "      <td id=\"T_6f785_row0_col4\" class=\"data row0 col4\" >0.473673</td>\n",
       "      <td id=\"T_6f785_row0_col5\" class=\"data row0 col5\" >0.714492</td>\n",
       "    </tr>\n",
       "    <tr>\n",
       "      <th id=\"T_6f785_level0_row1\" class=\"row_heading level0 row1\" >accommodates</th>\n",
       "      <td id=\"T_6f785_row1_col0\" class=\"data row1 col0\" >0.199326</td>\n",
       "      <td id=\"T_6f785_row1_col1\" class=\"data row1 col1\" >0.019420</td>\n",
       "      <td id=\"T_6f785_row1_col2\" class=\"data row1 col2\" >10.264140</td>\n",
       "      <td id=\"T_6f785_row1_col3\" class=\"data row1 col3\" >0.000000</td>\n",
       "      <td id=\"T_6f785_row1_col4\" class=\"data row1 col4\" >0.161243</td>\n",
       "      <td id=\"T_6f785_row1_col5\" class=\"data row1 col5\" >0.237410</td>\n",
       "    </tr>\n",
       "    <tr>\n",
       "      <th id=\"T_6f785_level0_row2\" class=\"row_heading level0 row2\" >neighbourhood_Queensbury</th>\n",
       "      <td id=\"T_6f785_row2_col0\" class=\"data row2 col0\" >-0.159276</td>\n",
       "      <td id=\"T_6f785_row2_col1\" class=\"data row2 col1\" >0.034012</td>\n",
       "      <td id=\"T_6f785_row2_col2\" class=\"data row2 col2\" >-4.682922</td>\n",
       "      <td id=\"T_6f785_row2_col3\" class=\"data row2 col3\" >0.000003</td>\n",
       "      <td id=\"T_6f785_row2_col4\" class=\"data row2 col4\" >-0.225976</td>\n",
       "      <td id=\"T_6f785_row2_col5\" class=\"data row2 col5\" >-0.092576</td>\n",
       "    </tr>\n",
       "    <tr>\n",
       "      <th id=\"T_6f785_level0_row3\" class=\"row_heading level0 row3\" >neighbourhood_Dufferin</th>\n",
       "      <td id=\"T_6f785_row3_col0\" class=\"data row3 col0\" >0.154146</td>\n",
       "      <td id=\"T_6f785_row3_col1\" class=\"data row3 col1\" >0.020609</td>\n",
       "      <td id=\"T_6f785_row3_col2\" class=\"data row3 col2\" >7.479527</td>\n",
       "      <td id=\"T_6f785_row3_col3\" class=\"data row3 col3\" >0.000000</td>\n",
       "      <td id=\"T_6f785_row3_col4\" class=\"data row3 col4\" >0.113730</td>\n",
       "      <td id=\"T_6f785_row3_col5\" class=\"data row3 col5\" >0.194563</td>\n",
       "    </tr>\n",
       "    <tr>\n",
       "      <th id=\"T_6f785_level0_row4\" class=\"row_heading level0 row4\" >number_of_reviews</th>\n",
       "      <td id=\"T_6f785_row4_col0\" class=\"data row4 col0\" >-0.142338</td>\n",
       "      <td id=\"T_6f785_row4_col1\" class=\"data row4 col1\" >0.030103</td>\n",
       "      <td id=\"T_6f785_row4_col2\" class=\"data row4 col2\" >-4.728377</td>\n",
       "      <td id=\"T_6f785_row4_col3\" class=\"data row4 col3\" >0.000002</td>\n",
       "      <td id=\"T_6f785_row4_col4\" class=\"data row4 col4\" >-0.201372</td>\n",
       "      <td id=\"T_6f785_row4_col5\" class=\"data row4 col5\" >-0.083304</td>\n",
       "    </tr>\n",
       "    <tr>\n",
       "      <th id=\"T_6f785_level0_row5\" class=\"row_heading level0 row5\" >bath_is_shared</th>\n",
       "      <td id=\"T_6f785_row5_col0\" class=\"data row5 col0\" >-0.094263</td>\n",
       "      <td id=\"T_6f785_row5_col1\" class=\"data row5 col1\" >0.006966</td>\n",
       "      <td id=\"T_6f785_row5_col2\" class=\"data row5 col2\" >-13.532433</td>\n",
       "      <td id=\"T_6f785_row5_col3\" class=\"data row5 col3\" >0.000000</td>\n",
       "      <td id=\"T_6f785_row5_col4\" class=\"data row5 col4\" >-0.107923</td>\n",
       "      <td id=\"T_6f785_row5_col5\" class=\"data row5 col5\" >-0.080602</td>\n",
       "    </tr>\n",
       "    <tr>\n",
       "      <th id=\"T_6f785_level0_row6\" class=\"row_heading level0 row6\" >neighbourhood_Sainte-Joseph</th>\n",
       "      <td id=\"T_6f785_row6_col0\" class=\"data row6 col0\" >-0.092873</td>\n",
       "      <td id=\"T_6f785_row6_col1\" class=\"data row6 col1\" >0.031574</td>\n",
       "      <td id=\"T_6f785_row6_col2\" class=\"data row6 col2\" >-2.941443</td>\n",
       "      <td id=\"T_6f785_row6_col3\" class=\"data row6 col3\" >0.003302</td>\n",
       "      <td id=\"T_6f785_row6_col4\" class=\"data row6 col4\" >-0.154791</td>\n",
       "      <td id=\"T_6f785_row6_col5\" class=\"data row6 col5\" >-0.030954</td>\n",
       "    </tr>\n",
       "    <tr>\n",
       "      <th id=\"T_6f785_level0_row7\" class=\"row_heading level0 row7\" >beds</th>\n",
       "      <td id=\"T_6f785_row7_col0\" class=\"data row7 col0\" >-0.089017</td>\n",
       "      <td id=\"T_6f785_row7_col1\" class=\"data row7 col1\" >0.051391</td>\n",
       "      <td id=\"T_6f785_row7_col2\" class=\"data row7 col2\" >-1.732154</td>\n",
       "      <td id=\"T_6f785_row7_col3\" class=\"data row7 col3\" >0.083391</td>\n",
       "      <td id=\"T_6f785_row7_col4\" class=\"data row7 col4\" >-0.189798</td>\n",
       "      <td id=\"T_6f785_row7_col5\" class=\"data row7 col5\" >0.011765</td>\n",
       "    </tr>\n",
       "    <tr>\n",
       "      <th id=\"T_6f785_level0_row8\" class=\"row_heading level0 row8\" >number_of_reviews_ltm</th>\n",
       "      <td id=\"T_6f785_row8_col0\" class=\"data row8 col0\" >0.079641</td>\n",
       "      <td id=\"T_6f785_row8_col1\" class=\"data row8 col1\" >0.032530</td>\n",
       "      <td id=\"T_6f785_row8_col2\" class=\"data row8 col2\" >2.448267</td>\n",
       "      <td id=\"T_6f785_row8_col3\" class=\"data row8 col3\" >0.014435</td>\n",
       "      <td id=\"T_6f785_row8_col4\" class=\"data row8 col4\" >0.015848</td>\n",
       "      <td id=\"T_6f785_row8_col5\" class=\"data row8 col5\" >0.143434</td>\n",
       "    </tr>\n",
       "    <tr>\n",
       "      <th id=\"T_6f785_level0_row9\" class=\"row_heading level0 row9\" >neighbourhood_Hardwicke</th>\n",
       "      <td id=\"T_6f785_row9_col0\" class=\"data row9 col0\" >0.076747</td>\n",
       "      <td id=\"T_6f785_row9_col1\" class=\"data row9 col1\" >0.032097</td>\n",
       "      <td id=\"T_6f785_row9_col2\" class=\"data row9 col2\" >2.391069</td>\n",
       "      <td id=\"T_6f785_row9_col3\" class=\"data row9 col3\" >0.016886</td>\n",
       "      <td id=\"T_6f785_row9_col4\" class=\"data row9 col4\" >0.013801</td>\n",
       "      <td id=\"T_6f785_row9_col5\" class=\"data row9 col5\" >0.139692</td>\n",
       "    </tr>\n",
       "    <tr>\n",
       "      <th id=\"T_6f785_level0_row10\" class=\"row_heading level0 row10\" >minimum_nights</th>\n",
       "      <td id=\"T_6f785_row10_col0\" class=\"data row10 col0\" >-0.076100</td>\n",
       "      <td id=\"T_6f785_row10_col1\" class=\"data row10 col1\" >0.066528</td>\n",
       "      <td id=\"T_6f785_row10_col2\" class=\"data row10 col2\" >-1.143871</td>\n",
       "      <td id=\"T_6f785_row10_col3\" class=\"data row10 col3\" >0.252806</td>\n",
       "      <td id=\"T_6f785_row10_col4\" class=\"data row10 col4\" >-0.206566</td>\n",
       "      <td id=\"T_6f785_row10_col5\" class=\"data row10 col5\" >0.054367</td>\n",
       "    </tr>\n",
       "    <tr>\n",
       "      <th id=\"T_6f785_level0_row11\" class=\"row_heading level0 row11\" >neighbourhood_Dalhousie</th>\n",
       "      <td id=\"T_6f785_row11_col0\" class=\"data row11 col0\" >-0.074625</td>\n",
       "      <td id=\"T_6f785_row11_col1\" class=\"data row11 col1\" >0.030883</td>\n",
       "      <td id=\"T_6f785_row11_col2\" class=\"data row11 col2\" >-2.416397</td>\n",
       "      <td id=\"T_6f785_row11_col3\" class=\"data row11 col3\" >0.015758</td>\n",
       "      <td id=\"T_6f785_row11_col4\" class=\"data row11 col4\" >-0.135189</td>\n",
       "      <td id=\"T_6f785_row11_col5\" class=\"data row11 col5\" >-0.014062</td>\n",
       "    </tr>\n",
       "    <tr>\n",
       "      <th id=\"T_6f785_level0_row12\" class=\"row_heading level0 row12\" >neighbourhood_Saint Croix</th>\n",
       "      <td id=\"T_6f785_row12_col0\" class=\"data row12 col0\" >0.070349</td>\n",
       "      <td id=\"T_6f785_row12_col1\" class=\"data row12 col1\" >0.020413</td>\n",
       "      <td id=\"T_6f785_row12_col2\" class=\"data row12 col2\" >3.446348</td>\n",
       "      <td id=\"T_6f785_row12_col3\" class=\"data row12 col3\" >0.000579</td>\n",
       "      <td id=\"T_6f785_row12_col4\" class=\"data row12 col4\" >0.030318</td>\n",
       "      <td id=\"T_6f785_row12_col5\" class=\"data row12 col5\" >0.110380</td>\n",
       "    </tr>\n",
       "    <tr>\n",
       "      <th id=\"T_6f785_level0_row13\" class=\"row_heading level0 row13\" >neighbourhood_Lincoln</th>\n",
       "      <td id=\"T_6f785_row13_col0\" class=\"data row13 col0\" >-0.065720</td>\n",
       "      <td id=\"T_6f785_row13_col1\" class=\"data row13 col1\" >0.033918</td>\n",
       "      <td id=\"T_6f785_row13_col2\" class=\"data row13 col2\" >-1.937592</td>\n",
       "      <td id=\"T_6f785_row13_col3\" class=\"data row13 col3\" >0.052805</td>\n",
       "      <td id=\"T_6f785_row13_col4\" class=\"data row13 col4\" >-0.132237</td>\n",
       "      <td id=\"T_6f785_row13_col5\" class=\"data row13 col5\" >0.000797</td>\n",
       "    </tr>\n",
       "    <tr>\n",
       "      <th id=\"T_6f785_level0_row14\" class=\"row_heading level0 row14\" >neighbourhood_Gagetown</th>\n",
       "      <td id=\"T_6f785_row14_col0\" class=\"data row14 col0\" >0.057270</td>\n",
       "      <td id=\"T_6f785_row14_col1\" class=\"data row14 col1\" >0.033839</td>\n",
       "      <td id=\"T_6f785_row14_col2\" class=\"data row14 col2\" >1.692412</td>\n",
       "      <td id=\"T_6f785_row14_col3\" class=\"data row14 col3\" >0.090714</td>\n",
       "      <td id=\"T_6f785_row14_col4\" class=\"data row14 col4\" >-0.009091</td>\n",
       "      <td id=\"T_6f785_row14_col5\" class=\"data row14 col5\" >0.123630</td>\n",
       "    </tr>\n",
       "    <tr>\n",
       "      <th id=\"T_6f785_level0_row15\" class=\"row_heading level0 row15\" >availability_60</th>\n",
       "      <td id=\"T_6f785_row15_col0\" class=\"data row15 col0\" >-0.055012</td>\n",
       "      <td id=\"T_6f785_row15_col1\" class=\"data row15 col1\" >0.033238</td>\n",
       "      <td id=\"T_6f785_row15_col2\" class=\"data row15 col2\" >-1.655069</td>\n",
       "      <td id=\"T_6f785_row15_col3\" class=\"data row15 col3\" >0.098058</td>\n",
       "      <td id=\"T_6f785_row15_col4\" class=\"data row15 col4\" >-0.120195</td>\n",
       "      <td id=\"T_6f785_row15_col5\" class=\"data row15 col5\" >0.010171</td>\n",
       "    </tr>\n",
       "    <tr>\n",
       "      <th id=\"T_6f785_level0_row16\" class=\"row_heading level0 row16\" >neighbourhood_Saint Martins</th>\n",
       "      <td id=\"T_6f785_row16_col0\" class=\"data row16 col0\" >0.054587</td>\n",
       "      <td id=\"T_6f785_row16_col1\" class=\"data row16 col1\" >0.011869</td>\n",
       "      <td id=\"T_6f785_row16_col2\" class=\"data row16 col2\" >4.599308</td>\n",
       "      <td id=\"T_6f785_row16_col3\" class=\"data row16 col3\" >0.000004</td>\n",
       "      <td id=\"T_6f785_row16_col4\" class=\"data row16 col4\" >0.031312</td>\n",
       "      <td id=\"T_6f785_row16_col5\" class=\"data row16 col5\" >0.077862</td>\n",
       "    </tr>\n",
       "    <tr>\n",
       "      <th id=\"T_6f785_level0_row17\" class=\"row_heading level0 row17\" >neighbourhood_City of Saint John</th>\n",
       "      <td id=\"T_6f785_row17_col0\" class=\"data row17 col0\" >-0.052040</td>\n",
       "      <td id=\"T_6f785_row17_col1\" class=\"data row17 col1\" >0.006047</td>\n",
       "      <td id=\"T_6f785_row17_col2\" class=\"data row17 col2\" >-8.606580</td>\n",
       "      <td id=\"T_6f785_row17_col3\" class=\"data row17 col3\" >0.000000</td>\n",
       "      <td id=\"T_6f785_row17_col4\" class=\"data row17 col4\" >-0.063897</td>\n",
       "      <td id=\"T_6f785_row17_col5\" class=\"data row17 col5\" >-0.040182</td>\n",
       "    </tr>\n",
       "    <tr>\n",
       "      <th id=\"T_6f785_level0_row18\" class=\"row_heading level0 row18\" >availability_30</th>\n",
       "      <td id=\"T_6f785_row18_col0\" class=\"data row18 col0\" >0.051765</td>\n",
       "      <td id=\"T_6f785_row18_col1\" class=\"data row18 col1\" >0.016155</td>\n",
       "      <td id=\"T_6f785_row18_col2\" class=\"data row18 col2\" >3.204265</td>\n",
       "      <td id=\"T_6f785_row18_col3\" class=\"data row18 col3\" >0.001374</td>\n",
       "      <td id=\"T_6f785_row18_col4\" class=\"data row18 col4\" >0.020084</td>\n",
       "      <td id=\"T_6f785_row18_col5\" class=\"data row18 col5\" >0.083446</td>\n",
       "    </tr>\n",
       "    <tr>\n",
       "      <th id=\"T_6f785_level0_row19\" class=\"row_heading level0 row19\" >neighbourhood_Saint Marys</th>\n",
       "      <td id=\"T_6f785_row19_col0\" class=\"data row19 col0\" >-0.051510</td>\n",
       "      <td id=\"T_6f785_row19_col1\" class=\"data row19 col1\" >0.021238</td>\n",
       "      <td id=\"T_6f785_row19_col2\" class=\"data row19 col2\" >-2.425404</td>\n",
       "      <td id=\"T_6f785_row19_col3\" class=\"data row19 col3\" >0.015374</td>\n",
       "      <td id=\"T_6f785_row19_col4\" class=\"data row19 col4\" >-0.093159</td>\n",
       "      <td id=\"T_6f785_row19_col5\" class=\"data row19 col5\" >-0.009861</td>\n",
       "    </tr>\n",
       "    <tr>\n",
       "      <th id=\"T_6f785_level0_row20\" class=\"row_heading level0 row20\" >neighbourhood_Dorchester</th>\n",
       "      <td id=\"T_6f785_row20_col0\" class=\"data row20 col0\" >0.048201</td>\n",
       "      <td id=\"T_6f785_row20_col1\" class=\"data row20 col1\" >0.018210</td>\n",
       "      <td id=\"T_6f785_row20_col2\" class=\"data row20 col2\" >2.646961</td>\n",
       "      <td id=\"T_6f785_row20_col3\" class=\"data row20 col3\" >0.008182</td>\n",
       "      <td id=\"T_6f785_row20_col4\" class=\"data row20 col4\" >0.012490</td>\n",
       "      <td id=\"T_6f785_row20_col5\" class=\"data row20 col5\" >0.083912</td>\n",
       "    </tr>\n",
       "    <tr>\n",
       "      <th id=\"T_6f785_level0_row21\" class=\"row_heading level0 row21\" >neighbourhood_Springfield</th>\n",
       "      <td id=\"T_6f785_row21_col0\" class=\"data row21 col0\" >-0.048038</td>\n",
       "      <td id=\"T_6f785_row21_col1\" class=\"data row21 col1\" >0.024672</td>\n",
       "      <td id=\"T_6f785_row21_col2\" class=\"data row21 col2\" >-1.947098</td>\n",
       "      <td id=\"T_6f785_row21_col3\" class=\"data row21 col3\" >0.051654</td>\n",
       "      <td id=\"T_6f785_row21_col4\" class=\"data row21 col4\" >-0.096422</td>\n",
       "      <td id=\"T_6f785_row21_col5\" class=\"data row21 col5\" >0.000345</td>\n",
       "    </tr>\n",
       "    <tr>\n",
       "      <th id=\"T_6f785_level0_row22\" class=\"row_heading level0 row22\" >neighbourhood_Canning</th>\n",
       "      <td id=\"T_6f785_row22_col0\" class=\"data row22 col0\" >0.044570</td>\n",
       "      <td id=\"T_6f785_row22_col1\" class=\"data row22 col1\" >0.019717</td>\n",
       "      <td id=\"T_6f785_row22_col2\" class=\"data row22 col2\" >2.260443</td>\n",
       "      <td id=\"T_6f785_row22_col3\" class=\"data row22 col3\" >0.023894</td>\n",
       "      <td id=\"T_6f785_row22_col4\" class=\"data row22 col4\" >0.005903</td>\n",
       "      <td id=\"T_6f785_row22_col5\" class=\"data row22 col5\" >0.083238</td>\n",
       "    </tr>\n",
       "    <tr>\n",
       "      <th id=\"T_6f785_level0_row23\" class=\"row_heading level0 row23\" >neighbourhood_Wickham</th>\n",
       "      <td id=\"T_6f785_row23_col0\" class=\"data row23 col0\" >-0.043145</td>\n",
       "      <td id=\"T_6f785_row23_col1\" class=\"data row23 col1\" >0.028744</td>\n",
       "      <td id=\"T_6f785_row23_col2\" class=\"data row23 col2\" >-1.500994</td>\n",
       "      <td id=\"T_6f785_row23_col3\" class=\"data row23 col3\" >0.133505</td>\n",
       "      <td id=\"T_6f785_row23_col4\" class=\"data row23 col4\" >-0.099514</td>\n",
       "      <td id=\"T_6f785_row23_col5\" class=\"data row23 col5\" >0.013225</td>\n",
       "    </tr>\n",
       "    <tr>\n",
       "      <th id=\"T_6f785_level0_row24\" class=\"row_heading level0 row24\" >neighbourhood_Johnston</th>\n",
       "      <td id=\"T_6f785_row24_col0\" class=\"data row24 col0\" >0.042538</td>\n",
       "      <td id=\"T_6f785_row24_col1\" class=\"data row24 col1\" >0.031008</td>\n",
       "      <td id=\"T_6f785_row24_col2\" class=\"data row24 col2\" >1.371844</td>\n",
       "      <td id=\"T_6f785_row24_col3\" class=\"data row24 col3\" >0.170256</td>\n",
       "      <td id=\"T_6f785_row24_col4\" class=\"data row24 col4\" >-0.018271</td>\n",
       "      <td id=\"T_6f785_row24_col5\" class=\"data row24 col5\" >0.103347</td>\n",
       "    </tr>\n",
       "    <tr>\n",
       "      <th id=\"T_6f785_level0_row25\" class=\"row_heading level0 row25\" >neighbourhood_Harvey</th>\n",
       "      <td id=\"T_6f785_row25_col0\" class=\"data row25 col0\" >0.042369</td>\n",
       "      <td id=\"T_6f785_row25_col1\" class=\"data row25 col1\" >0.020452</td>\n",
       "      <td id=\"T_6f785_row25_col2\" class=\"data row25 col2\" >2.071593</td>\n",
       "      <td id=\"T_6f785_row25_col3\" class=\"data row25 col3\" >0.038423</td>\n",
       "      <td id=\"T_6f785_row25_col4\" class=\"data row25 col4\" >0.002260</td>\n",
       "      <td id=\"T_6f785_row25_col5\" class=\"data row25 col5\" >0.082478</td>\n",
       "    </tr>\n",
       "    <tr>\n",
       "      <th id=\"T_6f785_level0_row26\" class=\"row_heading level0 row26\" >neighbourhood_Coverdale</th>\n",
       "      <td id=\"T_6f785_row26_col0\" class=\"data row26 col0\" >-0.041659</td>\n",
       "      <td id=\"T_6f785_row26_col1\" class=\"data row26 col1\" >0.013342</td>\n",
       "      <td id=\"T_6f785_row26_col2\" class=\"data row26 col2\" >-3.122337</td>\n",
       "      <td id=\"T_6f785_row26_col3\" class=\"data row26 col3\" >0.001818</td>\n",
       "      <td id=\"T_6f785_row26_col4\" class=\"data row26 col4\" >-0.067825</td>\n",
       "      <td id=\"T_6f785_row26_col5\" class=\"data row26 col5\" >-0.015494</td>\n",
       "    </tr>\n",
       "    <tr>\n",
       "      <th id=\"T_6f785_level0_row27\" class=\"row_heading level0 row27\" >neighbourhood_Waterford</th>\n",
       "      <td id=\"T_6f785_row27_col0\" class=\"data row27 col0\" >0.040754</td>\n",
       "      <td id=\"T_6f785_row27_col1\" class=\"data row27 col1\" >0.022113</td>\n",
       "      <td id=\"T_6f785_row27_col2\" class=\"data row27 col2\" >1.842960</td>\n",
       "      <td id=\"T_6f785_row27_col3\" class=\"data row27 col3\" >0.065474</td>\n",
       "      <td id=\"T_6f785_row27_col4\" class=\"data row27 col4\" >-0.002612</td>\n",
       "      <td id=\"T_6f785_row27_col5\" class=\"data row27 col5\" >0.084120</td>\n",
       "    </tr>\n",
       "    <tr>\n",
       "      <th id=\"T_6f785_level0_row28\" class=\"row_heading level0 row28\" >neighbourhood_Sussex</th>\n",
       "      <td id=\"T_6f785_row28_col0\" class=\"data row28 col0\" >0.040609</td>\n",
       "      <td id=\"T_6f785_row28_col1\" class=\"data row28 col1\" >0.025485</td>\n",
       "      <td id=\"T_6f785_row28_col2\" class=\"data row28 col2\" >1.593448</td>\n",
       "      <td id=\"T_6f785_row28_col3\" class=\"data row28 col3\" >0.111208</td>\n",
       "      <td id=\"T_6f785_row28_col4\" class=\"data row28 col4\" >-0.009369</td>\n",
       "      <td id=\"T_6f785_row28_col5\" class=\"data row28 col5\" >0.090588</td>\n",
       "    </tr>\n",
       "    <tr>\n",
       "      <th id=\"T_6f785_level0_row29\" class=\"row_heading level0 row29\" >neighbourhood_Kent</th>\n",
       "      <td id=\"T_6f785_row29_col0\" class=\"data row29 col0\" >0.040234</td>\n",
       "      <td id=\"T_6f785_row29_col1\" class=\"data row29 col1\" >0.021358</td>\n",
       "      <td id=\"T_6f785_row29_col2\" class=\"data row29 col2\" >1.883822</td>\n",
       "      <td id=\"T_6f785_row29_col3\" class=\"data row29 col3\" >0.059725</td>\n",
       "      <td id=\"T_6f785_row29_col4\" class=\"data row29 col4\" >-0.001650</td>\n",
       "      <td id=\"T_6f785_row29_col5\" class=\"data row29 col5\" >0.082118</td>\n",
       "    </tr>\n",
       "    <tr>\n",
       "      <th id=\"T_6f785_level0_row30\" class=\"row_heading level0 row30\" >neighbourhood_Kingsclear</th>\n",
       "      <td id=\"T_6f785_row30_col0\" class=\"data row30 col0\" >0.037883</td>\n",
       "      <td id=\"T_6f785_row30_col1\" class=\"data row30 col1\" >0.020319</td>\n",
       "      <td id=\"T_6f785_row30_col2\" class=\"data row30 col2\" >1.864443</td>\n",
       "      <td id=\"T_6f785_row30_col3\" class=\"data row30 col3\" >0.062397</td>\n",
       "      <td id=\"T_6f785_row30_col4\" class=\"data row30 col4\" >-0.001963</td>\n",
       "      <td id=\"T_6f785_row30_col5\" class=\"data row30 col5\" >0.077729</td>\n",
       "    </tr>\n",
       "    <tr>\n",
       "      <th id=\"T_6f785_level0_row31\" class=\"row_heading level0 row31\" >neighbourhood_Saint Andrews</th>\n",
       "      <td id=\"T_6f785_row31_col0\" class=\"data row31 col0\" >0.036981</td>\n",
       "      <td id=\"T_6f785_row31_col1\" class=\"data row31 col1\" >0.011568</td>\n",
       "      <td id=\"T_6f785_row31_col2\" class=\"data row31 col2\" >3.196708</td>\n",
       "      <td id=\"T_6f785_row31_col3\" class=\"data row31 col3\" >0.001410</td>\n",
       "      <td id=\"T_6f785_row31_col4\" class=\"data row31 col4\" >0.014294</td>\n",
       "      <td id=\"T_6f785_row31_col5\" class=\"data row31 col5\" >0.059667</td>\n",
       "    </tr>\n",
       "    <tr>\n",
       "      <th id=\"T_6f785_level0_row32\" class=\"row_heading level0 row32\" >neighbourhood_Elgin</th>\n",
       "      <td id=\"T_6f785_row32_col0\" class=\"data row32 col0\" >-0.036737</td>\n",
       "      <td id=\"T_6f785_row32_col1\" class=\"data row32 col1\" >0.033956</td>\n",
       "      <td id=\"T_6f785_row32_col2\" class=\"data row32 col2\" >-1.081908</td>\n",
       "      <td id=\"T_6f785_row32_col3\" class=\"data row32 col3\" >0.279416</td>\n",
       "      <td id=\"T_6f785_row32_col4\" class=\"data row32 col4\" >-0.103327</td>\n",
       "      <td id=\"T_6f785_row32_col5\" class=\"data row32 col5\" >0.029853</td>\n",
       "    </tr>\n",
       "    <tr>\n",
       "      <th id=\"T_6f785_level0_row33\" class=\"row_heading level0 row33\" >neighbourhood_Shediac</th>\n",
       "      <td id=\"T_6f785_row33_col0\" class=\"data row33 col0\" >0.036069</td>\n",
       "      <td id=\"T_6f785_row33_col1\" class=\"data row33 col1\" >0.005787</td>\n",
       "      <td id=\"T_6f785_row33_col2\" class=\"data row33 col2\" >6.232441</td>\n",
       "      <td id=\"T_6f785_row33_col3\" class=\"data row33 col3\" >0.000000</td>\n",
       "      <td id=\"T_6f785_row33_col4\" class=\"data row33 col4\" >0.024720</td>\n",
       "      <td id=\"T_6f785_row33_col5\" class=\"data row33 col5\" >0.047419</td>\n",
       "    </tr>\n",
       "    <tr>\n",
       "      <th id=\"T_6f785_level0_row34\" class=\"row_heading level0 row34\" >neighbourhood_Campobello</th>\n",
       "      <td id=\"T_6f785_row34_col0\" class=\"data row34 col0\" >0.035955</td>\n",
       "      <td id=\"T_6f785_row34_col1\" class=\"data row34 col1\" >0.025310</td>\n",
       "      <td id=\"T_6f785_row34_col2\" class=\"data row34 col2\" >1.420577</td>\n",
       "      <td id=\"T_6f785_row34_col3\" class=\"data row34 col3\" >0.155586</td>\n",
       "      <td id=\"T_6f785_row34_col4\" class=\"data row34 col4\" >-0.013680</td>\n",
       "      <td id=\"T_6f785_row34_col5\" class=\"data row34 col5\" >0.085591</td>\n",
       "    </tr>\n",
       "    <tr>\n",
       "      <th id=\"T_6f785_level0_row35\" class=\"row_heading level0 row35\" >neighbourhood_Saint Patrick</th>\n",
       "      <td id=\"T_6f785_row35_col0\" class=\"data row35 col0\" >0.035653</td>\n",
       "      <td id=\"T_6f785_row35_col1\" class=\"data row35 col1\" >0.019165</td>\n",
       "      <td id=\"T_6f785_row35_col2\" class=\"data row35 col2\" >1.860304</td>\n",
       "      <td id=\"T_6f785_row35_col3\" class=\"data row35 col3\" >0.062980</td>\n",
       "      <td id=\"T_6f785_row35_col4\" class=\"data row35 col4\" >-0.001931</td>\n",
       "      <td id=\"T_6f785_row35_col5\" class=\"data row35 col5\" >0.073238</td>\n",
       "    </tr>\n",
       "    <tr>\n",
       "      <th id=\"T_6f785_level0_row36\" class=\"row_heading level0 row36\" >neighbourhood_Madawaska</th>\n",
       "      <td id=\"T_6f785_row36_col0\" class=\"data row36 col0\" >-0.035641</td>\n",
       "      <td id=\"T_6f785_row36_col1\" class=\"data row36 col1\" >0.015226</td>\n",
       "      <td id=\"T_6f785_row36_col2\" class=\"data row36 col2\" >-2.340790</td>\n",
       "      <td id=\"T_6f785_row36_col3\" class=\"data row36 col3\" >0.019335</td>\n",
       "      <td id=\"T_6f785_row36_col4\" class=\"data row36 col4\" >-0.065500</td>\n",
       "      <td id=\"T_6f785_row36_col5\" class=\"data row36 col5\" >-0.005781</td>\n",
       "    </tr>\n",
       "    <tr>\n",
       "      <th id=\"T_6f785_level0_row37\" class=\"row_heading level0 row37\" >neighbourhood_Aberdeen</th>\n",
       "      <td id=\"T_6f785_row37_col0\" class=\"data row37 col0\" >-0.033538</td>\n",
       "      <td id=\"T_6f785_row37_col1\" class=\"data row37 col1\" >0.022949</td>\n",
       "      <td id=\"T_6f785_row37_col2\" class=\"data row37 col2\" >-1.461415</td>\n",
       "      <td id=\"T_6f785_row37_col3\" class=\"data row37 col3\" >0.144049</td>\n",
       "      <td id=\"T_6f785_row37_col4\" class=\"data row37 col4\" >-0.078542</td>\n",
       "      <td id=\"T_6f785_row37_col5\" class=\"data row37 col5\" >0.011467</td>\n",
       "    </tr>\n",
       "    <tr>\n",
       "      <th id=\"T_6f785_level0_row38\" class=\"row_heading level0 row38\" >neighbourhood_Moncton</th>\n",
       "      <td id=\"T_6f785_row38_col0\" class=\"data row38 col0\" >-0.032761</td>\n",
       "      <td id=\"T_6f785_row38_col1\" class=\"data row38 col1\" >0.005012</td>\n",
       "      <td id=\"T_6f785_row38_col2\" class=\"data row38 col2\" >-6.535814</td>\n",
       "      <td id=\"T_6f785_row38_col3\" class=\"data row38 col3\" >0.000000</td>\n",
       "      <td id=\"T_6f785_row38_col4\" class=\"data row38 col4\" >-0.042590</td>\n",
       "      <td id=\"T_6f785_row38_col5\" class=\"data row38 col5\" >-0.022931</td>\n",
       "    </tr>\n",
       "    <tr>\n",
       "      <th id=\"T_6f785_level0_row39\" class=\"row_heading level0 row39\" >neighbourhood_Saint David</th>\n",
       "      <td id=\"T_6f785_row39_col0\" class=\"data row39 col0\" >0.032114</td>\n",
       "      <td id=\"T_6f785_row39_col1\" class=\"data row39 col1\" >0.021940</td>\n",
       "      <td id=\"T_6f785_row39_col2\" class=\"data row39 col2\" >1.463760</td>\n",
       "      <td id=\"T_6f785_row39_col3\" class=\"data row39 col3\" >0.143407</td>\n",
       "      <td id=\"T_6f785_row39_col4\" class=\"data row39 col4\" >-0.010911</td>\n",
       "      <td id=\"T_6f785_row39_col5\" class=\"data row39 col5\" >0.075140</td>\n",
       "    </tr>\n",
       "    <tr>\n",
       "      <th id=\"T_6f785_level0_row40\" class=\"row_heading level0 row40\" >neighbourhood_Saint-Francois</th>\n",
       "      <td id=\"T_6f785_row40_col0\" class=\"data row40 col0\" >0.032002</td>\n",
       "      <td id=\"T_6f785_row40_col1\" class=\"data row40 col1\" >0.036253</td>\n",
       "      <td id=\"T_6f785_row40_col2\" class=\"data row40 col2\" >0.882751</td>\n",
       "      <td id=\"T_6f785_row40_col3\" class=\"data row40 col3\" >0.377470</td>\n",
       "      <td id=\"T_6f785_row40_col4\" class=\"data row40 col4\" >-0.039093</td>\n",
       "      <td id=\"T_6f785_row40_col5\" class=\"data row40 col5\" >0.103098</td>\n",
       "    </tr>\n",
       "    <tr>\n",
       "      <th id=\"T_6f785_level0_row41\" class=\"row_heading level0 row41\" >neighbourhood_Saumarez</th>\n",
       "      <td id=\"T_6f785_row41_col0\" class=\"data row41 col0\" >-0.029998</td>\n",
       "      <td id=\"T_6f785_row41_col1\" class=\"data row41 col1\" >0.018042</td>\n",
       "      <td id=\"T_6f785_row41_col2\" class=\"data row41 col2\" >-1.662690</td>\n",
       "      <td id=\"T_6f785_row41_col3\" class=\"data row41 col3\" >0.096522</td>\n",
       "      <td id=\"T_6f785_row41_col4\" class=\"data row41 col4\" >-0.065380</td>\n",
       "      <td id=\"T_6f785_row41_col5\" class=\"data row41 col5\" >0.005383</td>\n",
       "    </tr>\n",
       "    <tr>\n",
       "      <th id=\"T_6f785_level0_row42\" class=\"row_heading level0 row42\" >neighbourhood_Weldford</th>\n",
       "      <td id=\"T_6f785_row42_col0\" class=\"data row42 col0\" >0.029889</td>\n",
       "      <td id=\"T_6f785_row42_col1\" class=\"data row42 col1\" >0.024064</td>\n",
       "      <td id=\"T_6f785_row42_col2\" class=\"data row42 col2\" >1.242079</td>\n",
       "      <td id=\"T_6f785_row42_col3\" class=\"data row42 col3\" >0.214344</td>\n",
       "      <td id=\"T_6f785_row42_col4\" class=\"data row42 col4\" >-0.017302</td>\n",
       "      <td id=\"T_6f785_row42_col5\" class=\"data row42 col5\" >0.077081</td>\n",
       "    </tr>\n",
       "    <tr>\n",
       "      <th id=\"T_6f785_level0_row43\" class=\"row_heading level0 row43\" >neighbourhood_Bright</th>\n",
       "      <td id=\"T_6f785_row43_col0\" class=\"data row43 col0\" >0.029372</td>\n",
       "      <td id=\"T_6f785_row43_col1\" class=\"data row43 col1\" >0.024062</td>\n",
       "      <td id=\"T_6f785_row43_col2\" class=\"data row43 col2\" >1.220676</td>\n",
       "      <td id=\"T_6f785_row43_col3\" class=\"data row43 col3\" >0.222344</td>\n",
       "      <td id=\"T_6f785_row43_col4\" class=\"data row43 col4\" >-0.017816</td>\n",
       "      <td id=\"T_6f785_row43_col5\" class=\"data row43 col5\" >0.076560</td>\n",
       "    </tr>\n",
       "    <tr>\n",
       "      <th id=\"T_6f785_level0_row44\" class=\"row_heading level0 row44\" >neighbourhood_Rothesay</th>\n",
       "      <td id=\"T_6f785_row44_col0\" class=\"data row44 col0\" >-0.029297</td>\n",
       "      <td id=\"T_6f785_row44_col1\" class=\"data row44 col1\" >0.014909</td>\n",
       "      <td id=\"T_6f785_row44_col2\" class=\"data row44 col2\" >-1.965002</td>\n",
       "      <td id=\"T_6f785_row44_col3\" class=\"data row44 col3\" >0.049544</td>\n",
       "      <td id=\"T_6f785_row44_col4\" class=\"data row44 col4\" >-0.058535</td>\n",
       "      <td id=\"T_6f785_row44_col5\" class=\"data row44 col5\" >-0.000059</td>\n",
       "    </tr>\n",
       "    <tr>\n",
       "      <th id=\"T_6f785_level0_row45\" class=\"row_heading level0 row45\" >neighbourhood_Alma</th>\n",
       "      <td id=\"T_6f785_row45_col0\" class=\"data row45 col0\" >0.026179</td>\n",
       "      <td id=\"T_6f785_row45_col1\" class=\"data row45 col1\" >0.015190</td>\n",
       "      <td id=\"T_6f785_row45_col2\" class=\"data row45 col2\" >1.723459</td>\n",
       "      <td id=\"T_6f785_row45_col3\" class=\"data row45 col3\" >0.084951</td>\n",
       "      <td id=\"T_6f785_row45_col4\" class=\"data row45 col4\" >-0.003609</td>\n",
       "      <td id=\"T_6f785_row45_col5\" class=\"data row45 col5\" >0.055967</td>\n",
       "    </tr>\n",
       "    <tr>\n",
       "      <th id=\"T_6f785_level0_row46\" class=\"row_heading level0 row46\" >neighbourhood_Waterborough</th>\n",
       "      <td id=\"T_6f785_row46_col0\" class=\"data row46 col0\" >0.026030</td>\n",
       "      <td id=\"T_6f785_row46_col1\" class=\"data row46 col1\" >0.030927</td>\n",
       "      <td id=\"T_6f785_row46_col2\" class=\"data row46 col2\" >0.841654</td>\n",
       "      <td id=\"T_6f785_row46_col3\" class=\"data row46 col3\" >0.400076</td>\n",
       "      <td id=\"T_6f785_row46_col4\" class=\"data row46 col4\" >-0.034620</td>\n",
       "      <td id=\"T_6f785_row46_col5\" class=\"data row46 col5\" >0.086680</td>\n",
       "    </tr>\n",
       "    <tr>\n",
       "      <th id=\"T_6f785_level0_row47\" class=\"row_heading level0 row47\" >neighbourhood_Sheffield</th>\n",
       "      <td id=\"T_6f785_row47_col0\" class=\"data row47 col0\" >0.024912</td>\n",
       "      <td id=\"T_6f785_row47_col1\" class=\"data row47 col1\" >0.033883</td>\n",
       "      <td id=\"T_6f785_row47_col2\" class=\"data row47 col2\" >0.735225</td>\n",
       "      <td id=\"T_6f785_row47_col3\" class=\"data row47 col3\" >0.462283</td>\n",
       "      <td id=\"T_6f785_row47_col4\" class=\"data row47 col4\" >-0.041536</td>\n",
       "      <td id=\"T_6f785_row47_col5\" class=\"data row47 col5\" >0.091359</td>\n",
       "    </tr>\n",
       "    <tr>\n",
       "      <th id=\"T_6f785_level0_row48\" class=\"row_heading level0 row48\" >neighbourhood_Woodstock</th>\n",
       "      <td id=\"T_6f785_row48_col0\" class=\"data row48 col0\" >-0.023372</td>\n",
       "      <td id=\"T_6f785_row48_col1\" class=\"data row48 col1\" >0.024122</td>\n",
       "      <td id=\"T_6f785_row48_col2\" class=\"data row48 col2\" >-0.968909</td>\n",
       "      <td id=\"T_6f785_row48_col3\" class=\"data row48 col3\" >0.332701</td>\n",
       "      <td id=\"T_6f785_row48_col4\" class=\"data row48 col4\" >-0.070676</td>\n",
       "      <td id=\"T_6f785_row48_col5\" class=\"data row48 col5\" >0.023933</td>\n",
       "    </tr>\n",
       "    <tr>\n",
       "      <th id=\"T_6f785_level0_row49\" class=\"row_heading level0 row49\" >neighbourhood_Saint George</th>\n",
       "      <td id=\"T_6f785_row49_col0\" class=\"data row49 col0\" >0.022548</td>\n",
       "      <td id=\"T_6f785_row49_col1\" class=\"data row49 col1\" >0.014852</td>\n",
       "      <td id=\"T_6f785_row49_col2\" class=\"data row49 col2\" >1.518172</td>\n",
       "      <td id=\"T_6f785_row49_col3\" class=\"data row49 col3\" >0.129119</td>\n",
       "      <td id=\"T_6f785_row49_col4\" class=\"data row49 col4\" >-0.006578</td>\n",
       "      <td id=\"T_6f785_row49_col5\" class=\"data row49 col5\" >0.051675</td>\n",
       "    </tr>\n",
       "    <tr>\n",
       "      <th id=\"T_6f785_level0_row50\" class=\"row_heading level0 row50\" >neighbourhood_Southhampton</th>\n",
       "      <td id=\"T_6f785_row50_col0\" class=\"data row50 col0\" >0.022061</td>\n",
       "      <td id=\"T_6f785_row50_col1\" class=\"data row50 col1\" >0.033942</td>\n",
       "      <td id=\"T_6f785_row50_col2\" class=\"data row50 col2\" >0.649939</td>\n",
       "      <td id=\"T_6f785_row50_col3\" class=\"data row50 col3\" >0.515802</td>\n",
       "      <td id=\"T_6f785_row50_col4\" class=\"data row50 col4\" >-0.044503</td>\n",
       "      <td id=\"T_6f785_row50_col5\" class=\"data row50 col5\" >0.088624</td>\n",
       "    </tr>\n",
       "    <tr>\n",
       "      <th id=\"T_6f785_level0_row51\" class=\"row_heading level0 row51\" >bedrooms</th>\n",
       "      <td id=\"T_6f785_row51_col0\" class=\"data row51 col0\" >-0.021611</td>\n",
       "      <td id=\"T_6f785_row51_col1\" class=\"data row51 col1\" >0.053299</td>\n",
       "      <td id=\"T_6f785_row51_col2\" class=\"data row51 col2\" >-0.405460</td>\n",
       "      <td id=\"T_6f785_row51_col3\" class=\"data row51 col3\" >0.685180</td>\n",
       "      <td id=\"T_6f785_row51_col4\" class=\"data row51 col4\" >-0.126134</td>\n",
       "      <td id=\"T_6f785_row51_col5\" class=\"data row51 col5\" >0.082913</td>\n",
       "    </tr>\n",
       "    <tr>\n",
       "      <th id=\"T_6f785_level0_row52\" class=\"row_heading level0 row52\" >neighbourhood_Hopewell</th>\n",
       "      <td id=\"T_6f785_row52_col0\" class=\"data row52 col0\" >0.021391</td>\n",
       "      <td id=\"T_6f785_row52_col1\" class=\"data row52 col1\" >0.012866</td>\n",
       "      <td id=\"T_6f785_row52_col2\" class=\"data row52 col2\" >1.662552</td>\n",
       "      <td id=\"T_6f785_row52_col3\" class=\"data row52 col3\" >0.096549</td>\n",
       "      <td id=\"T_6f785_row52_col4\" class=\"data row52 col4\" >-0.003841</td>\n",
       "      <td id=\"T_6f785_row52_col5\" class=\"data row52 col5\" >0.046623</td>\n",
       "    </tr>\n",
       "    <tr>\n",
       "      <th id=\"T_6f785_level0_row53\" class=\"row_heading level0 row53\" >neighbourhood_Douglas</th>\n",
       "      <td id=\"T_6f785_row53_col0\" class=\"data row53 col0\" >-0.020707</td>\n",
       "      <td id=\"T_6f785_row53_col1\" class=\"data row53 col1\" >0.025425</td>\n",
       "      <td id=\"T_6f785_row53_col2\" class=\"data row53 col2\" >-0.814440</td>\n",
       "      <td id=\"T_6f785_row53_col3\" class=\"data row53 col3\" >0.415484</td>\n",
       "      <td id=\"T_6f785_row53_col4\" class=\"data row53 col4\" >-0.070567</td>\n",
       "      <td id=\"T_6f785_row53_col5\" class=\"data row53 col5\" >0.029153</td>\n",
       "    </tr>\n",
       "    <tr>\n",
       "      <th id=\"T_6f785_level0_row54\" class=\"row_heading level0 row54\" >neighbourhood_Dundas</th>\n",
       "      <td id=\"T_6f785_row54_col0\" class=\"data row54 col0\" >0.019823</td>\n",
       "      <td id=\"T_6f785_row54_col1\" class=\"data row54 col1\" >0.008907</td>\n",
       "      <td id=\"T_6f785_row54_col2\" class=\"data row54 col2\" >2.225664</td>\n",
       "      <td id=\"T_6f785_row54_col3\" class=\"data row54 col3\" >0.026141</td>\n",
       "      <td id=\"T_6f785_row54_col4\" class=\"data row54 col4\" >0.002357</td>\n",
       "      <td id=\"T_6f785_row54_col5\" class=\"data row54 col5\" >0.037290</td>\n",
       "    </tr>\n",
       "    <tr>\n",
       "      <th id=\"T_6f785_level0_row55\" class=\"row_heading level0 row55\" >neighbourhood_Blackville</th>\n",
       "      <td id=\"T_6f785_row55_col0\" class=\"data row55 col0\" >0.019076</td>\n",
       "      <td id=\"T_6f785_row55_col1\" class=\"data row55 col1\" >0.018063</td>\n",
       "      <td id=\"T_6f785_row55_col2\" class=\"data row55 col2\" >1.056078</td>\n",
       "      <td id=\"T_6f785_row55_col3\" class=\"data row55 col3\" >0.291052</td>\n",
       "      <td id=\"T_6f785_row55_col4\" class=\"data row55 col4\" >-0.016347</td>\n",
       "      <td id=\"T_6f785_row55_col5\" class=\"data row55 col5\" >0.054499</td>\n",
       "    </tr>\n",
       "    <tr>\n",
       "      <th id=\"T_6f785_level0_row56\" class=\"row_heading level0 row56\" >neighbourhood_Manners Sutton</th>\n",
       "      <td id=\"T_6f785_row56_col0\" class=\"data row56 col0\" >0.018973</td>\n",
       "      <td id=\"T_6f785_row56_col1\" class=\"data row56 col1\" >0.021919</td>\n",
       "      <td id=\"T_6f785_row56_col2\" class=\"data row56 col2\" >0.865573</td>\n",
       "      <td id=\"T_6f785_row56_col3\" class=\"data row56 col3\" >0.386822</td>\n",
       "      <td id=\"T_6f785_row56_col4\" class=\"data row56 col4\" >-0.024013</td>\n",
       "      <td id=\"T_6f785_row56_col5\" class=\"data row56 col5\" >0.061958</td>\n",
       "    </tr>\n",
       "    <tr>\n",
       "      <th id=\"T_6f785_level0_row57\" class=\"row_heading level0 row57\" >neighbourhood_Sackville</th>\n",
       "      <td id=\"T_6f785_row57_col0\" class=\"data row57 col0\" >-0.018656</td>\n",
       "      <td id=\"T_6f785_row57_col1\" class=\"data row57 col1\" >0.019121</td>\n",
       "      <td id=\"T_6f785_row57_col2\" class=\"data row57 col2\" >-0.975683</td>\n",
       "      <td id=\"T_6f785_row57_col3\" class=\"data row57 col3\" >0.329332</td>\n",
       "      <td id=\"T_6f785_row57_col4\" class=\"data row57 col4\" >-0.056154</td>\n",
       "      <td id=\"T_6f785_row57_col5\" class=\"data row57 col5\" >0.018842</td>\n",
       "    </tr>\n",
       "    <tr>\n",
       "      <th id=\"T_6f785_level0_row58\" class=\"row_heading level0 row58\" >neighbourhood_Addington</th>\n",
       "      <td id=\"T_6f785_row58_col0\" class=\"data row58 col0\" >-0.018470</td>\n",
       "      <td id=\"T_6f785_row58_col1\" class=\"data row58 col1\" >0.021963</td>\n",
       "      <td id=\"T_6f785_row58_col2\" class=\"data row58 col2\" >-0.840943</td>\n",
       "      <td id=\"T_6f785_row58_col3\" class=\"data row58 col3\" >0.400474</td>\n",
       "      <td id=\"T_6f785_row58_col4\" class=\"data row58 col4\" >-0.061540</td>\n",
       "      <td id=\"T_6f785_row58_col5\" class=\"data row58 col5\" >0.024601</td>\n",
       "    </tr>\n",
       "    <tr>\n",
       "      <th id=\"T_6f785_level0_row59\" class=\"row_heading level0 row59\" >availability_90</th>\n",
       "      <td id=\"T_6f785_row59_col0\" class=\"data row59 col0\" >0.017806</td>\n",
       "      <td id=\"T_6f785_row59_col1\" class=\"data row59 col1\" >0.024053</td>\n",
       "      <td id=\"T_6f785_row59_col2\" class=\"data row59 col2\" >0.740287</td>\n",
       "      <td id=\"T_6f785_row59_col3\" class=\"data row59 col3\" >0.459208</td>\n",
       "      <td id=\"T_6f785_row59_col4\" class=\"data row59 col4\" >-0.029364</td>\n",
       "      <td id=\"T_6f785_row59_col5\" class=\"data row59 col5\" >0.064977</td>\n",
       "    </tr>\n",
       "    <tr>\n",
       "      <th id=\"T_6f785_level0_row60\" class=\"row_heading level0 row60\" >neighbourhood_Bathurst</th>\n",
       "      <td id=\"T_6f785_row60_col0\" class=\"data row60 col0\" >0.017437</td>\n",
       "      <td id=\"T_6f785_row60_col1\" class=\"data row60 col1\" >0.011536</td>\n",
       "      <td id=\"T_6f785_row60_col2\" class=\"data row60 col2\" >1.511534</td>\n",
       "      <td id=\"T_6f785_row60_col3\" class=\"data row60 col3\" >0.130801</td>\n",
       "      <td id=\"T_6f785_row60_col4\" class=\"data row60 col4\" >-0.005186</td>\n",
       "      <td id=\"T_6f785_row60_col5\" class=\"data row60 col5\" >0.040059</td>\n",
       "    </tr>\n",
       "    <tr>\n",
       "      <th id=\"T_6f785_level0_row61\" class=\"row_heading level0 row61\" >neighbourhood_Beresford</th>\n",
       "      <td id=\"T_6f785_row61_col0\" class=\"data row61 col0\" >-0.016920</td>\n",
       "      <td id=\"T_6f785_row61_col1\" class=\"data row61 col1\" >0.017107</td>\n",
       "      <td id=\"T_6f785_row61_col2\" class=\"data row61 col2\" >-0.989090</td>\n",
       "      <td id=\"T_6f785_row61_col3\" class=\"data row61 col3\" >0.322731</td>\n",
       "      <td id=\"T_6f785_row61_col4\" class=\"data row61 col4\" >-0.050467</td>\n",
       "      <td id=\"T_6f785_row61_col5\" class=\"data row61 col5\" >0.016627</td>\n",
       "    </tr>\n",
       "    <tr>\n",
       "      <th id=\"T_6f785_level0_row62\" class=\"row_heading level0 row62\" >neighbourhood_Kingston</th>\n",
       "      <td id=\"T_6f785_row62_col0\" class=\"data row62 col0\" >-0.016520</td>\n",
       "      <td id=\"T_6f785_row62_col1\" class=\"data row62 col1\" >0.028774</td>\n",
       "      <td id=\"T_6f785_row62_col2\" class=\"data row62 col2\" >-0.574128</td>\n",
       "      <td id=\"T_6f785_row62_col3\" class=\"data row62 col3\" >0.565941</td>\n",
       "      <td id=\"T_6f785_row62_col4\" class=\"data row62 col4\" >-0.072947</td>\n",
       "      <td id=\"T_6f785_row62_col5\" class=\"data row62 col5\" >0.039908</td>\n",
       "    </tr>\n",
       "    <tr>\n",
       "      <th id=\"T_6f785_level0_row63\" class=\"row_heading level0 row63\" >neighbourhood_Cardwell</th>\n",
       "      <td id=\"T_6f785_row63_col0\" class=\"data row63 col0\" >0.016510</td>\n",
       "      <td id=\"T_6f785_row63_col1\" class=\"data row63 col1\" >0.026814</td>\n",
       "      <td id=\"T_6f785_row63_col2\" class=\"data row63 col2\" >0.615728</td>\n",
       "      <td id=\"T_6f785_row63_col3\" class=\"data row63 col3\" >0.538140</td>\n",
       "      <td id=\"T_6f785_row63_col4\" class=\"data row63 col4\" >-0.036074</td>\n",
       "      <td id=\"T_6f785_row63_col5\" class=\"data row63 col5\" >0.069095</td>\n",
       "    </tr>\n",
       "    <tr>\n",
       "      <th id=\"T_6f785_level0_row64\" class=\"row_heading level0 row64\" >neighbourhood_Grand Manan</th>\n",
       "      <td id=\"T_6f785_row64_col0\" class=\"data row64 col0\" >0.016499</td>\n",
       "      <td id=\"T_6f785_row64_col1\" class=\"data row64 col1\" >0.011852</td>\n",
       "      <td id=\"T_6f785_row64_col2\" class=\"data row64 col2\" >1.392158</td>\n",
       "      <td id=\"T_6f785_row64_col3\" class=\"data row64 col3\" >0.164020</td>\n",
       "      <td id=\"T_6f785_row64_col4\" class=\"data row64 col4\" >-0.006743</td>\n",
       "      <td id=\"T_6f785_row64_col5\" class=\"data row64 col5\" >0.039741</td>\n",
       "    </tr>\n",
       "    <tr>\n",
       "      <th id=\"T_6f785_level0_row65\" class=\"row_heading level0 row65\" >neighbourhood_Alnwick</th>\n",
       "      <td id=\"T_6f785_row65_col0\" class=\"data row65 col0\" >-0.016394</td>\n",
       "      <td id=\"T_6f785_row65_col1\" class=\"data row65 col1\" >0.019036</td>\n",
       "      <td id=\"T_6f785_row65_col2\" class=\"data row65 col2\" >-0.861214</td>\n",
       "      <td id=\"T_6f785_row65_col3\" class=\"data row65 col3\" >0.389217</td>\n",
       "      <td id=\"T_6f785_row65_col4\" class=\"data row65 col4\" >-0.053726</td>\n",
       "      <td id=\"T_6f785_row65_col5\" class=\"data row65 col5\" >0.020937</td>\n",
       "    </tr>\n",
       "    <tr>\n",
       "      <th id=\"T_6f785_level0_row66\" class=\"row_heading level0 row66\" >has_availability_t</th>\n",
       "      <td id=\"T_6f785_row66_col0\" class=\"data row66 col0\" >0.015840</td>\n",
       "      <td id=\"T_6f785_row66_col1\" class=\"data row66 col1\" >0.056669</td>\n",
       "      <td id=\"T_6f785_row66_col2\" class=\"data row66 col2\" >0.279519</td>\n",
       "      <td id=\"T_6f785_row66_col3\" class=\"data row66 col3\" >0.779874</td>\n",
       "      <td id=\"T_6f785_row66_col4\" class=\"data row66 col4\" >-0.095292</td>\n",
       "      <td id=\"T_6f785_row66_col5\" class=\"data row66 col5\" >0.126972</td>\n",
       "    </tr>\n",
       "    <tr>\n",
       "      <th id=\"T_6f785_level0_row67\" class=\"row_heading level0 row67\" >availability_365</th>\n",
       "      <td id=\"T_6f785_row67_col0\" class=\"data row67 col0\" >0.015699</td>\n",
       "      <td id=\"T_6f785_row67_col1\" class=\"data row67 col1\" >0.006290</td>\n",
       "      <td id=\"T_6f785_row67_col2\" class=\"data row67 col2\" >2.495691</td>\n",
       "      <td id=\"T_6f785_row67_col3\" class=\"data row67 col3\" >0.012646</td>\n",
       "      <td id=\"T_6f785_row67_col4\" class=\"data row67 col4\" >0.003363</td>\n",
       "      <td id=\"T_6f785_row67_col5\" class=\"data row67 col5\" >0.028035</td>\n",
       "    </tr>\n",
       "    <tr>\n",
       "      <th id=\"T_6f785_level0_row68\" class=\"row_heading level0 row68\" >neighbourhood_Saint-Quentin</th>\n",
       "      <td id=\"T_6f785_row68_col0\" class=\"data row68 col0\" >0.015367</td>\n",
       "      <td id=\"T_6f785_row68_col1\" class=\"data row68 col1\" >0.023115</td>\n",
       "      <td id=\"T_6f785_row68_col2\" class=\"data row68 col2\" >0.664797</td>\n",
       "      <td id=\"T_6f785_row68_col3\" class=\"data row68 col3\" >0.506252</td>\n",
       "      <td id=\"T_6f785_row68_col4\" class=\"data row68 col4\" >-0.029964</td>\n",
       "      <td id=\"T_6f785_row68_col5\" class=\"data row68 col5\" >0.060698</td>\n",
       "    </tr>\n",
       "    <tr>\n",
       "      <th id=\"T_6f785_level0_row69\" class=\"row_heading level0 row69\" >neighbourhood_Saint-Louis</th>\n",
       "      <td id=\"T_6f785_row69_col0\" class=\"data row69 col0\" >0.015209</td>\n",
       "      <td id=\"T_6f785_row69_col1\" class=\"data row69 col1\" >0.023053</td>\n",
       "      <td id=\"T_6f785_row69_col2\" class=\"data row69 col2\" >0.659745</td>\n",
       "      <td id=\"T_6f785_row69_col3\" class=\"data row69 col3\" >0.509489</td>\n",
       "      <td id=\"T_6f785_row69_col4\" class=\"data row69 col4\" >-0.029999</td>\n",
       "      <td id=\"T_6f785_row69_col5\" class=\"data row69 col5\" >0.060417</td>\n",
       "    </tr>\n",
       "    <tr>\n",
       "      <th id=\"T_6f785_level0_row70\" class=\"row_heading level0 row70\" >neighbourhood_Westfield</th>\n",
       "      <td id=\"T_6f785_row70_col0\" class=\"data row70 col0\" >0.015143</td>\n",
       "      <td id=\"T_6f785_row70_col1\" class=\"data row70 col1\" >0.016377</td>\n",
       "      <td id=\"T_6f785_row70_col2\" class=\"data row70 col2\" >0.924604</td>\n",
       "      <td id=\"T_6f785_row70_col3\" class=\"data row70 col3\" >0.355277</td>\n",
       "      <td id=\"T_6f785_row70_col4\" class=\"data row70 col4\" >-0.016975</td>\n",
       "      <td id=\"T_6f785_row70_col5\" class=\"data row70 col5\" >0.047260</td>\n",
       "    </tr>\n",
       "    <tr>\n",
       "      <th id=\"T_6f785_level0_row71\" class=\"row_heading level0 row71\" >room_type_pca</th>\n",
       "      <td id=\"T_6f785_row71_col0\" class=\"data row71 col0\" >-0.014932</td>\n",
       "      <td id=\"T_6f785_row71_col1\" class=\"data row71 col1\" >0.005669</td>\n",
       "      <td id=\"T_6f785_row71_col2\" class=\"data row71 col2\" >-2.633793</td>\n",
       "      <td id=\"T_6f785_row71_col3\" class=\"data row71 col3\" >0.008505</td>\n",
       "      <td id=\"T_6f785_row71_col4\" class=\"data row71 col4\" >-0.026049</td>\n",
       "      <td id=\"T_6f785_row71_col5\" class=\"data row71 col5\" >-0.003814</td>\n",
       "    </tr>\n",
       "    <tr>\n",
       "      <th id=\"T_6f785_level0_row72\" class=\"row_heading level0 row72\" >neighbourhood_Lepreau</th>\n",
       "      <td id=\"T_6f785_row72_col0\" class=\"data row72 col0\" >-0.013373</td>\n",
       "      <td id=\"T_6f785_row72_col1\" class=\"data row72 col1\" >0.031074</td>\n",
       "      <td id=\"T_6f785_row72_col2\" class=\"data row72 col2\" >-0.430365</td>\n",
       "      <td id=\"T_6f785_row72_col3\" class=\"data row72 col3\" >0.666973</td>\n",
       "      <td id=\"T_6f785_row72_col4\" class=\"data row72 col4\" >-0.074312</td>\n",
       "      <td id=\"T_6f785_row72_col5\" class=\"data row72 col5\" >0.047566</td>\n",
       "    </tr>\n",
       "    <tr>\n",
       "      <th id=\"T_6f785_level0_row73\" class=\"row_heading level0 row73\" >neighbourhood_Westmorland</th>\n",
       "      <td id=\"T_6f785_row73_col0\" class=\"data row73 col0\" >-0.012866</td>\n",
       "      <td id=\"T_6f785_row73_col1\" class=\"data row73 col1\" >0.025341</td>\n",
       "      <td id=\"T_6f785_row73_col2\" class=\"data row73 col2\" >-0.507736</td>\n",
       "      <td id=\"T_6f785_row73_col3\" class=\"data row73 col3\" >0.611691</td>\n",
       "      <td id=\"T_6f785_row73_col4\" class=\"data row73 col4\" >-0.062561</td>\n",
       "      <td id=\"T_6f785_row73_col5\" class=\"data row73 col5\" >0.036828</td>\n",
       "    </tr>\n",
       "    <tr>\n",
       "      <th id=\"T_6f785_level0_row74\" class=\"row_heading level0 row74\" >neighbourhood_Saint Stephen</th>\n",
       "      <td id=\"T_6f785_row74_col0\" class=\"data row74 col0\" >0.012765</td>\n",
       "      <td id=\"T_6f785_row74_col1\" class=\"data row74 col1\" >0.019713</td>\n",
       "      <td id=\"T_6f785_row74_col2\" class=\"data row74 col2\" >0.647574</td>\n",
       "      <td id=\"T_6f785_row74_col3\" class=\"data row74 col3\" >0.517330</td>\n",
       "      <td id=\"T_6f785_row74_col4\" class=\"data row74 col4\" >-0.025893</td>\n",
       "      <td id=\"T_6f785_row74_col5\" class=\"data row74 col5\" >0.051424</td>\n",
       "    </tr>\n",
       "    <tr>\n",
       "      <th id=\"T_6f785_level0_row75\" class=\"row_heading level0 row75\" >neighbourhood_West Isles</th>\n",
       "      <td id=\"T_6f785_row75_col0\" class=\"data row75 col0\" >0.012372</td>\n",
       "      <td id=\"T_6f785_row75_col1\" class=\"data row75 col1\" >0.030972</td>\n",
       "      <td id=\"T_6f785_row75_col2\" class=\"data row75 col2\" >0.399458</td>\n",
       "      <td id=\"T_6f785_row75_col3\" class=\"data row75 col3\" >0.689596</td>\n",
       "      <td id=\"T_6f785_row75_col4\" class=\"data row75 col4\" >-0.048366</td>\n",
       "      <td id=\"T_6f785_row75_col5\" class=\"data row75 col5\" >0.073110</td>\n",
       "    </tr>\n",
       "    <tr>\n",
       "      <th id=\"T_6f785_level0_row76\" class=\"row_heading level0 row76\" >reviews_per_month</th>\n",
       "      <td id=\"T_6f785_row76_col0\" class=\"data row76 col0\" >-0.012076</td>\n",
       "      <td id=\"T_6f785_row76_col1\" class=\"data row76 col1\" >0.033222</td>\n",
       "      <td id=\"T_6f785_row76_col2\" class=\"data row76 col2\" >-0.363505</td>\n",
       "      <td id=\"T_6f785_row76_col3\" class=\"data row76 col3\" >0.716264</td>\n",
       "      <td id=\"T_6f785_row76_col4\" class=\"data row76 col4\" >-0.077228</td>\n",
       "      <td id=\"T_6f785_row76_col5\" class=\"data row76 col5\" >0.053075</td>\n",
       "    </tr>\n",
       "    <tr>\n",
       "      <th id=\"T_6f785_level0_row77\" class=\"row_heading level0 row77\" >number_of_reviews_l30d</th>\n",
       "      <td id=\"T_6f785_row77_col0\" class=\"data row77 col0\" >-0.011158</td>\n",
       "      <td id=\"T_6f785_row77_col1\" class=\"data row77 col1\" >0.027270</td>\n",
       "      <td id=\"T_6f785_row77_col2\" class=\"data row77 col2\" >-0.409181</td>\n",
       "      <td id=\"T_6f785_row77_col3\" class=\"data row77 col3\" >0.682448</td>\n",
       "      <td id=\"T_6f785_row77_col4\" class=\"data row77 col4\" >-0.064638</td>\n",
       "      <td id=\"T_6f785_row77_col5\" class=\"data row77 col5\" >0.042321</td>\n",
       "    </tr>\n",
       "    <tr>\n",
       "      <th id=\"T_6f785_level0_row78\" class=\"row_heading level0 row78\" >neighbourhood_Caraquet</th>\n",
       "      <td id=\"T_6f785_row78_col0\" class=\"data row78 col0\" >0.010972</td>\n",
       "      <td id=\"T_6f785_row78_col1\" class=\"data row78 col1\" >0.011368</td>\n",
       "      <td id=\"T_6f785_row78_col2\" class=\"data row78 col2\" >0.965189</td>\n",
       "      <td id=\"T_6f785_row78_col3\" class=\"data row78 col3\" >0.334560</td>\n",
       "      <td id=\"T_6f785_row78_col4\" class=\"data row78 col4\" >-0.011321</td>\n",
       "      <td id=\"T_6f785_row78_col5\" class=\"data row78 col5\" >0.033265</td>\n",
       "    </tr>\n",
       "    <tr>\n",
       "      <th id=\"T_6f785_level0_row79\" class=\"row_heading level0 row79\" >neighbourhood_Botsford</th>\n",
       "      <td id=\"T_6f785_row79_col0\" class=\"data row79 col0\" >0.010692</td>\n",
       "      <td id=\"T_6f785_row79_col1\" class=\"data row79 col1\" >0.011024</td>\n",
       "      <td id=\"T_6f785_row79_col2\" class=\"data row79 col2\" >0.969895</td>\n",
       "      <td id=\"T_6f785_row79_col3\" class=\"data row79 col3\" >0.332209</td>\n",
       "      <td id=\"T_6f785_row79_col4\" class=\"data row79 col4\" >-0.010926</td>\n",
       "      <td id=\"T_6f785_row79_col5\" class=\"data row79 col5\" >0.032310</td>\n",
       "    </tr>\n",
       "    <tr>\n",
       "      <th id=\"T_6f785_level0_row80\" class=\"row_heading level0 row80\" >neighbourhood_Northampton</th>\n",
       "      <td id=\"T_6f785_row80_col0\" class=\"data row80 col0\" >-0.009575</td>\n",
       "      <td id=\"T_6f785_row80_col1\" class=\"data row80 col1\" >0.029116</td>\n",
       "      <td id=\"T_6f785_row80_col2\" class=\"data row80 col2\" >-0.328871</td>\n",
       "      <td id=\"T_6f785_row80_col3\" class=\"data row80 col3\" >0.742285</td>\n",
       "      <td id=\"T_6f785_row80_col4\" class=\"data row80 col4\" >-0.066674</td>\n",
       "      <td id=\"T_6f785_row80_col5\" class=\"data row80 col5\" >0.047523</td>\n",
       "    </tr>\n",
       "    <tr>\n",
       "      <th id=\"T_6f785_level0_row81\" class=\"row_heading level0 row81\" >neighbourhood_Shippagan</th>\n",
       "      <td id=\"T_6f785_row81_col0\" class=\"data row81 col0\" >-0.009056</td>\n",
       "      <td id=\"T_6f785_row81_col1\" class=\"data row81 col1\" >0.011903</td>\n",
       "      <td id=\"T_6f785_row81_col2\" class=\"data row81 col2\" >-0.760811</td>\n",
       "      <td id=\"T_6f785_row81_col3\" class=\"data row81 col3\" >0.446854</td>\n",
       "      <td id=\"T_6f785_row81_col4\" class=\"data row81 col4\" >-0.032398</td>\n",
       "      <td id=\"T_6f785_row81_col5\" class=\"data row81 col5\" >0.014286</td>\n",
       "    </tr>\n",
       "    <tr>\n",
       "      <th id=\"T_6f785_level0_row82\" class=\"row_heading level0 row82\" >neighbourhood_Colborne</th>\n",
       "      <td id=\"T_6f785_row82_col0\" class=\"data row82 col0\" >-0.008736</td>\n",
       "      <td id=\"T_6f785_row82_col1\" class=\"data row82 col1\" >0.026810</td>\n",
       "      <td id=\"T_6f785_row82_col2\" class=\"data row82 col2\" >-0.325843</td>\n",
       "      <td id=\"T_6f785_row82_col3\" class=\"data row82 col3\" >0.744575</td>\n",
       "      <td id=\"T_6f785_row82_col4\" class=\"data row82 col4\" >-0.061312</td>\n",
       "      <td id=\"T_6f785_row82_col5\" class=\"data row82 col5\" >0.043840</td>\n",
       "    </tr>\n",
       "    <tr>\n",
       "      <th id=\"T_6f785_level0_row83\" class=\"row_heading level0 row83\" >neighbourhood_Wellington</th>\n",
       "      <td id=\"T_6f785_row83_col0\" class=\"data row83 col0\" >-0.008149</td>\n",
       "      <td id=\"T_6f785_row83_col1\" class=\"data row83 col1\" >0.011084</td>\n",
       "      <td id=\"T_6f785_row83_col2\" class=\"data row83 col2\" >-0.735233</td>\n",
       "      <td id=\"T_6f785_row83_col3\" class=\"data row83 col3\" >0.462278</td>\n",
       "      <td id=\"T_6f785_row83_col4\" class=\"data row83 col4\" >-0.029886</td>\n",
       "      <td id=\"T_6f785_row83_col5\" class=\"data row83 col5\" >0.013587</td>\n",
       "    </tr>\n",
       "    <tr>\n",
       "      <th id=\"T_6f785_level0_row84\" class=\"row_heading level0 row84\" >neighbourhood_Pennfield</th>\n",
       "      <td id=\"T_6f785_row84_col0\" class=\"data row84 col0\" >-0.007823</td>\n",
       "      <td id=\"T_6f785_row84_col1\" class=\"data row84 col1\" >0.030868</td>\n",
       "      <td id=\"T_6f785_row84_col2\" class=\"data row84 col2\" >-0.253418</td>\n",
       "      <td id=\"T_6f785_row84_col3\" class=\"data row84 col3\" >0.799970</td>\n",
       "      <td id=\"T_6f785_row84_col4\" class=\"data row84 col4\" >-0.068358</td>\n",
       "      <td id=\"T_6f785_row84_col5\" class=\"data row84 col5\" >0.052713</td>\n",
       "    </tr>\n",
       "    <tr>\n",
       "      <th id=\"T_6f785_level0_row85\" class=\"row_heading level0 row85\" >neighbourhood_Hampton</th>\n",
       "      <td id=\"T_6f785_row85_col0\" class=\"data row85 col0\" >-0.007666</td>\n",
       "      <td id=\"T_6f785_row85_col1\" class=\"data row85 col1\" >0.026823</td>\n",
       "      <td id=\"T_6f785_row85_col2\" class=\"data row85 col2\" >-0.285778</td>\n",
       "      <td id=\"T_6f785_row85_col3\" class=\"data row85 col3\" >0.775076</td>\n",
       "      <td id=\"T_6f785_row85_col4\" class=\"data row85 col4\" >-0.060268</td>\n",
       "      <td id=\"T_6f785_row85_col5\" class=\"data row85 col5\" >0.044937</td>\n",
       "    </tr>\n",
       "    <tr>\n",
       "      <th id=\"T_6f785_level0_row86\" class=\"row_heading level0 row86\" >neighbourhood_Northesk</th>\n",
       "      <td id=\"T_6f785_row86_col0\" class=\"data row86 col0\" >0.006666</td>\n",
       "      <td id=\"T_6f785_row86_col1\" class=\"data row86 col1\" >0.030890</td>\n",
       "      <td id=\"T_6f785_row86_col2\" class=\"data row86 col2\" >0.215803</td>\n",
       "      <td id=\"T_6f785_row86_col3\" class=\"data row86 col3\" >0.829162</td>\n",
       "      <td id=\"T_6f785_row86_col4\" class=\"data row86 col4\" >-0.053912</td>\n",
       "      <td id=\"T_6f785_row86_col5\" class=\"data row86 col5\" >0.067244</td>\n",
       "    </tr>\n",
       "    <tr>\n",
       "      <th id=\"T_6f785_level0_row87\" class=\"row_heading level0 row87\" >neighbourhood_Richibucto</th>\n",
       "      <td id=\"T_6f785_row87_col0\" class=\"data row87 col0\" >0.006615</td>\n",
       "      <td id=\"T_6f785_row87_col1\" class=\"data row87 col1\" >0.015133</td>\n",
       "      <td id=\"T_6f785_row87_col2\" class=\"data row87 col2\" >0.437123</td>\n",
       "      <td id=\"T_6f785_row87_col3\" class=\"data row87 col3\" >0.662067</td>\n",
       "      <td id=\"T_6f785_row87_col4\" class=\"data row87 col4\" >-0.023062</td>\n",
       "      <td id=\"T_6f785_row87_col5\" class=\"data row87 col5\" >0.036292</td>\n",
       "    </tr>\n",
       "    <tr>\n",
       "      <th id=\"T_6f785_level0_row88\" class=\"row_heading level0 row88\" >neighbourhood_Hillsborough</th>\n",
       "      <td id=\"T_6f785_row88_col0\" class=\"data row88 col0\" >0.006140</td>\n",
       "      <td id=\"T_6f785_row88_col1\" class=\"data row88 col1\" >0.017754</td>\n",
       "      <td id=\"T_6f785_row88_col2\" class=\"data row88 col2\" >0.345840</td>\n",
       "      <td id=\"T_6f785_row88_col3\" class=\"data row88 col3\" >0.729497</td>\n",
       "      <td id=\"T_6f785_row88_col4\" class=\"data row88 col4\" >-0.028678</td>\n",
       "      <td id=\"T_6f785_row88_col5\" class=\"data row88 col5\" >0.040958</td>\n",
       "    </tr>\n",
       "    <tr>\n",
       "      <th id=\"T_6f785_level0_row89\" class=\"row_heading level0 row89\" >review_pca</th>\n",
       "      <td id=\"T_6f785_row89_col0\" class=\"data row89 col0\" >0.005451</td>\n",
       "      <td id=\"T_6f785_row89_col1\" class=\"data row89 col1\" >0.006115</td>\n",
       "      <td id=\"T_6f785_row89_col2\" class=\"data row89 col2\" >0.891430</td>\n",
       "      <td id=\"T_6f785_row89_col3\" class=\"data row89 col3\" >0.372799</td>\n",
       "      <td id=\"T_6f785_row89_col4\" class=\"data row89 col4\" >-0.006541</td>\n",
       "      <td id=\"T_6f785_row89_col5\" class=\"data row89 col5\" >0.017443</td>\n",
       "    </tr>\n",
       "    <tr>\n",
       "      <th id=\"T_6f785_level0_row90\" class=\"row_heading level0 row90\" >bookable_t</th>\n",
       "      <td id=\"T_6f785_row90_col0\" class=\"data row90 col0\" >-0.004962</td>\n",
       "      <td id=\"T_6f785_row90_col1\" class=\"data row90 col1\" >0.003496</td>\n",
       "      <td id=\"T_6f785_row90_col2\" class=\"data row90 col2\" >-1.419498</td>\n",
       "      <td id=\"T_6f785_row90_col3\" class=\"data row90 col3\" >0.155900</td>\n",
       "      <td id=\"T_6f785_row90_col4\" class=\"data row90 col4\" >-0.011818</td>\n",
       "      <td id=\"T_6f785_row90_col5\" class=\"data row90 col5\" >0.001893</td>\n",
       "    </tr>\n",
       "    <tr>\n",
       "      <th id=\"T_6f785_level0_row91\" class=\"row_heading level0 row91\" >neighbourhood_Newcastle</th>\n",
       "      <td id=\"T_6f785_row91_col0\" class=\"data row91 col0\" >-0.004630</td>\n",
       "      <td id=\"T_6f785_row91_col1\" class=\"data row91 col1\" >0.021043</td>\n",
       "      <td id=\"T_6f785_row91_col2\" class=\"data row91 col2\" >-0.220041</td>\n",
       "      <td id=\"T_6f785_row91_col3\" class=\"data row91 col3\" >0.825860</td>\n",
       "      <td id=\"T_6f785_row91_col4\" class=\"data row91 col4\" >-0.045897</td>\n",
       "      <td id=\"T_6f785_row91_col5\" class=\"data row91 col5\" >0.036636</td>\n",
       "    </tr>\n",
       "    <tr>\n",
       "      <th id=\"T_6f785_level0_row92\" class=\"row_heading level0 row92\" >neighbourhood_Fredericton</th>\n",
       "      <td id=\"T_6f785_row92_col0\" class=\"data row92 col0\" >-0.003998</td>\n",
       "      <td id=\"T_6f785_row92_col1\" class=\"data row92 col1\" >0.006684</td>\n",
       "      <td id=\"T_6f785_row92_col2\" class=\"data row92 col2\" >-0.598145</td>\n",
       "      <td id=\"T_6f785_row92_col3\" class=\"data row92 col3\" >0.549807</td>\n",
       "      <td id=\"T_6f785_row92_col4\" class=\"data row92 col4\" >-0.017105</td>\n",
       "      <td id=\"T_6f785_row92_col5\" class=\"data row92 col5\" >0.009109</td>\n",
       "    </tr>\n",
       "    <tr>\n",
       "      <th id=\"T_6f785_level0_row93\" class=\"row_heading level0 row93\" >neighbourhood_Nelson</th>\n",
       "      <td id=\"T_6f785_row93_col0\" class=\"data row93 col0\" >0.003542</td>\n",
       "      <td id=\"T_6f785_row93_col1\" class=\"data row93 col1\" >0.021969</td>\n",
       "      <td id=\"T_6f785_row93_col2\" class=\"data row93 col2\" >0.161240</td>\n",
       "      <td id=\"T_6f785_row93_col3\" class=\"data row93 col3\" >0.871920</td>\n",
       "      <td id=\"T_6f785_row93_col4\" class=\"data row93 col4\" >-0.039540</td>\n",
       "      <td id=\"T_6f785_row93_col5\" class=\"data row93 col5\" >0.046625</td>\n",
       "    </tr>\n",
       "    <tr>\n",
       "      <th id=\"T_6f785_level0_row94\" class=\"row_heading level0 row94\" >neighbourhood_Chatham</th>\n",
       "      <td id=\"T_6f785_row94_col0\" class=\"data row94 col0\" >-0.003083</td>\n",
       "      <td id=\"T_6f785_row94_col1\" class=\"data row94 col1\" >0.028698</td>\n",
       "      <td id=\"T_6f785_row94_col2\" class=\"data row94 col2\" >-0.107418</td>\n",
       "      <td id=\"T_6f785_row94_col3\" class=\"data row94 col3\" >0.914467</td>\n",
       "      <td id=\"T_6f785_row94_col4\" class=\"data row94 col4\" >-0.059362</td>\n",
       "      <td id=\"T_6f785_row94_col5\" class=\"data row94 col5\" >0.053197</td>\n",
       "    </tr>\n",
       "    <tr>\n",
       "      <th id=\"T_6f785_level0_row95\" class=\"row_heading level0 row95\" >neighbourhood_Southesk</th>\n",
       "      <td id=\"T_6f785_row95_col0\" class=\"data row95 col0\" >0.002913</td>\n",
       "      <td id=\"T_6f785_row95_col1\" class=\"data row95 col1\" >0.026769</td>\n",
       "      <td id=\"T_6f785_row95_col2\" class=\"data row95 col2\" >0.108821</td>\n",
       "      <td id=\"T_6f785_row95_col3\" class=\"data row95 col3\" >0.913355</td>\n",
       "      <td id=\"T_6f785_row95_col4\" class=\"data row95 col4\" >-0.049583</td>\n",
       "      <td id=\"T_6f785_row95_col5\" class=\"data row95 col5\" >0.055409</td>\n",
       "    </tr>\n",
       "    <tr>\n",
       "      <th id=\"T_6f785_level0_row96\" class=\"row_heading level0 row96\" >maximum_nights</th>\n",
       "      <td id=\"T_6f785_row96_col0\" class=\"data row96 col0\" >-0.002058</td>\n",
       "      <td id=\"T_6f785_row96_col1\" class=\"data row96 col1\" >0.003796</td>\n",
       "      <td id=\"T_6f785_row96_col2\" class=\"data row96 col2\" >-0.542129</td>\n",
       "      <td id=\"T_6f785_row96_col3\" class=\"data row96 col3\" >0.587786</td>\n",
       "      <td id=\"T_6f785_row96_col4\" class=\"data row96 col4\" >-0.009501</td>\n",
       "      <td id=\"T_6f785_row96_col5\" class=\"data row96 col5\" >0.005386</td>\n",
       "    </tr>\n",
       "    <tr>\n",
       "      <th id=\"T_6f785_level0_row97\" class=\"row_heading level0 row97\" >neighbourhood_New Bandon</th>\n",
       "      <td id=\"T_6f785_row97_col0\" class=\"data row97 col0\" >0.000427</td>\n",
       "      <td id=\"T_6f785_row97_col1\" class=\"data row97 col1\" >0.028642</td>\n",
       "      <td id=\"T_6f785_row97_col2\" class=\"data row97 col2\" >0.014902</td>\n",
       "      <td id=\"T_6f785_row97_col3\" class=\"data row97 col3\" >0.988112</td>\n",
       "      <td id=\"T_6f785_row97_col4\" class=\"data row97 col4\" >-0.055743</td>\n",
       "      <td id=\"T_6f785_row97_col5\" class=\"data row97 col5\" >0.056597</td>\n",
       "    </tr>\n",
       "  </tbody>\n",
       "</table>\n"
      ],
      "text/plain": [
       "<pandas.io.formats.style.Styler at 0x1edb0cae5e0>"
      ]
     },
     "execution_count": 55,
     "metadata": {},
     "output_type": "execute_result"
    }
   ],
   "source": [
    "results_df.sort_values(by=['coef'], key=abs, ascending=False, inplace=True)\n",
    "results_df.style.highlight_between(subset=['p_value'], left=0, right=0.05, color='#5fba7d')\\\n",
    "                .highlight_between(subset=['p_value'], left=0.05, right=1, color='#d65f5f')\\\n",
    "                .bar(subset=['coef'], align='zero', color=['#d65f5f', '#5fba7d'])"
   ]
  },
  {
   "cell_type": "markdown",
   "id": "6d1c9f47",
   "metadata": {},
   "source": [
    "## Results - Statistically Significant Features"
   ]
  },
  {
   "cell_type": "markdown",
   "id": "27fb6172",
   "metadata": {},
   "source": [
    "<br> Extracting the list of significant features\n",
    "<br> Note that <i>Neighbourhood</i> is always a significant factor in estimating the price"
   ]
  },
  {
   "cell_type": "code",
   "execution_count": 56,
   "id": "4188f7af",
   "metadata": {},
   "outputs": [
    {
     "name": "stdout",
     "output_type": "stream",
     "text": [
      "['bathroom_numbers', 'accommodates', 'number_of_reviews', 'bath_is_shared', 'number_of_reviews_ltm', 'availability_30', 'availability_365', 'room_type_pca']\n"
     ]
    }
   ],
   "source": [
    "# List of significant features\n",
    "sign_feat = list(results_df[results_df['p_value']<0.05].index)\n",
    "\n",
    "# In addition to the neighbourhood, sign_feat is a list of features that \n",
    "# are statistically significant for describing the price\n",
    "sign_feat = [x for x in sign_feat if not x.startswith('neighbourhood')]\n",
    "print(sign_feat)\n",
    "\n",
    "# saving the list of significant features in a list (excluding neighbourhood)\n",
    "# this list/text_file will be used to compare the significant features in different cities\n",
    "textfile = open(f\"{city}_feat.txt\", \"w\")\n",
    "for element in sign_feat:\n",
    "    textfile.write(element + \"\\n\")\n",
    "textfile.close()"
   ]
  },
  {
   "cell_type": "markdown",
   "id": "7bb166f4",
   "metadata": {},
   "source": [
    "<br> List of <i>Neighbourhood</i> columns"
   ]
  },
  {
   "cell_type": "code",
   "execution_count": 57,
   "id": "e9655e4e",
   "metadata": {},
   "outputs": [],
   "source": [
    "neighbourhood_cols = [col for col in df_feat if col.startswith('neighbourhood')]"
   ]
  },
  {
   "cell_type": "markdown",
   "id": "2d89396b",
   "metadata": {},
   "source": [
    "## Model - Estimating Price"
   ]
  },
  {
   "cell_type": "code",
   "execution_count": 58,
   "id": "36e02b68",
   "metadata": {},
   "outputs": [],
   "source": [
    "X = df_feat[sign_feat + neighbourhood_cols] # Significant features and Neighbourhood\n",
    "# X = df_feat[sign_feat]\n",
    "y = df_target # log10_price"
   ]
  },
  {
   "cell_type": "code",
   "execution_count": 59,
   "id": "5efee160",
   "metadata": {},
   "outputs": [],
   "source": [
    "# using sklearn train_test_split and splitting the data into train and test sets\n",
    "from sklearn.model_selection import train_test_split\n",
    "\n",
    "X_train, X_test, y_train, y_test = train_test_split(X, y, test_size=0.33, random_state=42)"
   ]
  },
  {
   "cell_type": "code",
   "execution_count": 60,
   "id": "dfc0c598",
   "metadata": {},
   "outputs": [],
   "source": [
    "# using sklearn LinearRegression as the model\n",
    "from sklearn.linear_model import LinearRegression\n",
    "\n",
    "lm = LinearRegression()\n",
    "lm.fit(X_train,y_train)\n",
    "predictions = lm.predict(X_test)"
   ]
  },
  {
   "cell_type": "code",
   "execution_count": 64,
   "id": "8e750279",
   "metadata": {},
   "outputs": [
    {
     "data": {
      "image/png": "[encoded data removed]",
      "text/plain": [
       "<Figure size 720x504 with 1 Axes>"
      ]
     },
     "metadata": {
      "needs_background": "light"
     },
     "output_type": "display_data"
    }
   ],
   "source": [
    "# plotting the results\n",
    "# comparing price predictions with the test values\n",
    "x_values = scaler_target.inverse_transform(y_test)\n",
    "y_values = scaler_target.inverse_transform(predictions)\n",
    "min_value = min(min(x_values), min(y_values))\n",
    "max_value = max(max(x_values), max(y_values))\n",
    "\n",
    "fig, ax = plt.subplots(figsize=(10, 7))\n",
    "\n",
    "plt.plot([min_value,max_value],[min_value,max_value], color='black')\n",
    "sns.scatterplot(x=x_values[:,0], y=y_values[:,0], alpha=1)\n",
    "ax.set(xlabel='Actual Price', ylabel='Predicted Price', xlim=(1,4), ylim=(1,4));\n",
    "xy_range=np.arange(1, 5, step=1)\n",
    "ax.set_xticks(xy_range)\n",
    "ax.set_xticklabels(10**xy_range)\n",
    "ax.set_yticks(xy_range)\n",
    "ax.set_yticklabels(10**xy_range)\n",
    "ax.grid(True)"
   ]
  },
  {
   "cell_type": "markdown",
   "id": "2c68d9ea",
   "metadata": {},
   "source": [
    "<br> saving prediction results (predictions and y_test) to csv file"
   ]
  },
  {
   "cell_type": "code",
   "execution_count": 62,
   "id": "1a05fc30",
   "metadata": {},
   "outputs": [],
   "source": [
    "prediction_results = pd.DataFrame(data=(scaler_target.inverse_transform(predictions)[:,0]), columns=['predictions'])\n",
    "prediction_results['y_test'] = np.array(scaler_target.inverse_transform(y_test))\n",
    "\n",
    "prediction_results.to_csv(f'{city}_pred.csv', index=False);"
   ]
  },
  {
   "cell_type": "markdown",
   "id": "e6180993",
   "metadata": {},
   "source": [
    "### Evaluating the Model\n",
    "<br> using sklearn metrics\n",
    "<br> calculating r2_score, Mean Absolute Error, Mean Square Error, and Root Mean Square Error"
   ]
  },
  {
   "cell_type": "code",
   "execution_count": 63,
   "id": "cddf4983",
   "metadata": {},
   "outputs": [
    {
     "name": "stdout",
     "output_type": "stream",
     "text": [
      "r2_score: 0.341887319754824\n",
      "MAE: 0.06045556834761115\n",
      "MSE: 0.00819167468694154\n",
      "RMSE: 0.09050787085630475\n"
     ]
    }
   ],
   "source": [
    "from sklearn import metrics\n",
    "\n",
    "print('r2_score:', metrics.r2_score(y_test, predictions))\n",
    "print('MAE:', metrics.mean_absolute_error(y_test, predictions))\n",
    "print('MSE:', metrics.mean_squared_error(y_test, predictions))\n",
    "print('RMSE:', np.sqrt(metrics.mean_squared_error(y_test, predictions)))"
   ]
  }
 ],
 "metadata": {
  "kernelspec": {
   "display_name": "Python 3 (ipykernel)",
   "language": "python",
   "name": "python3"
  },
  "language_info": {
   "codemirror_mode": {
    "name": "ipython",
    "version": 3
   },
   "file_extension": ".py",
   "mimetype": "text/x-python",
   "name": "python",
   "nbconvert_exporter": "python",
   "pygments_lexer": "ipython3",
   "version": "3.9.7"
  }
 },
 "nbformat": 4,
 "nbformat_minor": 5
}
